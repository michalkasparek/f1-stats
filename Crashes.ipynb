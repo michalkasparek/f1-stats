{
 "cells": [
  {
   "cell_type": "code",
   "execution_count": 1,
   "id": "98dfdbe2",
   "metadata": {
    "scrolled": false
   },
   "outputs": [
    {
     "name": "stdout",
     "output_type": "stream",
     "text": [
      "Last GP in the database: the 2022 Brazilian Grand Prix\n"
     ]
    }
   ],
   "source": [
    "%run prepareStats.py"
   ]
  },
  {
   "cell_type": "code",
   "execution_count": 2,
   "id": "bb6b4bad",
   "metadata": {},
   "outputs": [],
   "source": [
    "totalLaps = pd.Series(results.groupby([\"raceId\"])[\"laps\"].max(), name=\"totalLaps\")\n",
    "results = results.merge(totalLaps, on = [\"raceId\"], how = \"right\")"
   ]
  },
  {
   "cell_type": "code",
   "execution_count": 3,
   "id": "4a760431",
   "metadata": {},
   "outputs": [],
   "source": [
    "crashDNF = results[(results.status.isin(crashes))]"
   ]
  },
  {
   "cell_type": "code",
   "execution_count": 4,
   "id": "dbd0d4b3",
   "metadata": {},
   "outputs": [
    {
     "name": "stderr",
     "output_type": "stream",
     "text": [
      "C:\\Users\\micha\\AppData\\Local\\Temp\\ipykernel_3016\\1527855837.py:1: SettingWithCopyWarning: \n",
      "A value is trying to be set on a copy of a slice from a DataFrame.\n",
      "Try using .loc[row_indexer,col_indexer] = value instead\n",
      "\n",
      "See the caveats in the documentation: https://pandas.pydata.org/pandas-docs/stable/user_guide/indexing.html#returning-a-view-versus-a-copy\n",
      "  crashDNF[\"progress\"] =  crashDNF[\"laps\"] / crashDNF[\"totalLaps\"]\n"
     ]
    }
   ],
   "source": [
    "crashDNF[\"progress\"] =  crashDNF[\"laps\"] / crashDNF[\"totalLaps\"]"
   ]
  },
  {
   "cell_type": "markdown",
   "id": "28e709c9",
   "metadata": {},
   "source": [
    "## Outlying races"
   ]
  },
  {
   "cell_type": "code",
   "execution_count": 5,
   "id": "4dd1d326",
   "metadata": {},
   "outputs": [
    {
     "data": {
      "text/plain": [
       "date        location   \n",
       "1975-07-19  Silverstone    16\n",
       "1982-04-04  California     13\n",
       "1984-07-08  Dallas         13\n",
       "1989-11-05  Adelaide       13\n",
       "1996-05-19  Monte-Carlo    13\n",
       "dtype: int64"
      ]
     },
     "execution_count": 5,
     "metadata": {},
     "output_type": "execute_result"
    }
   ],
   "source": [
    "crashDNF.groupby([\"date\", \"location\"]).size().nlargest(5)"
   ]
  },
  {
   "cell_type": "code",
   "execution_count": 6,
   "id": "78317ce4",
   "metadata": {},
   "outputs": [
    {
     "data": {
      "text/plain": [
       "date        location    \n",
       "2006-07-02  Indianapolis    10\n",
       "2002-03-03  Melbourne        9\n",
       "2003-04-06  São Paulo        8\n",
       "2008-03-16  Melbourne        8\n",
       "2002-05-26  Monte-Carlo      7\n",
       "dtype: int64"
      ]
     },
     "execution_count": 6,
     "metadata": {},
     "output_type": "execute_result"
    }
   ],
   "source": [
    "crashDNF[crashDNF[\"year\"] > 2000].groupby([\"date\", \"location\"]).size().nlargest(5)"
   ]
  },
  {
   "cell_type": "code",
   "execution_count": 7,
   "id": "5a262ff3",
   "metadata": {},
   "outputs": [
    {
     "data": {
      "text/plain": [
       "date        location      \n",
       "2010-10-24  Yeongam County    7\n",
       "2012-09-02  Spa               6\n",
       "2012-11-25  São Paulo         6\n",
       "2017-09-17  Marina Bay        6\n",
       "2018-04-29  Baku              6\n",
       "dtype: int64"
      ]
     },
     "execution_count": 7,
     "metadata": {},
     "output_type": "execute_result"
    }
   ],
   "source": [
    "crashDNF[crashDNF[\"year\"] > 2009].groupby([\"date\", \"location\"]).size().nlargest(5)"
   ]
  },
  {
   "cell_type": "code",
   "execution_count": 8,
   "id": "46016f68",
   "metadata": {},
   "outputs": [
    {
     "data": {
      "text/plain": [
       "date        location    \n",
       "1950-05-21  Monte-Carlo     11\n",
       "1973-07-14  Silverstone     10\n",
       "1994-07-31  Hockenheim      10\n",
       "1958-05-30  Indianapolis     8\n",
       "2002-03-03  Melbourne        8\n",
       "dtype: int64"
      ]
     },
     "execution_count": 8,
     "metadata": {},
     "output_type": "execute_result"
    }
   ],
   "source": [
    "crashDNF[crashDNF[\"progress\"] < 0.03].groupby([\"date\", \"location\"]).size().nlargest(5)"
   ]
  },
  {
   "cell_type": "code",
   "execution_count": 9,
   "id": "18a84e0e",
   "metadata": {},
   "outputs": [
    {
     "data": {
      "text/plain": [
       "date        location    \n",
       "1975-07-19  Silverstone     7\n",
       "1953-05-30  Indianapolis    3\n",
       "1953-06-21  Spa             2\n",
       "2009-04-05  Kuala Lumpur    2\n",
       "2014-06-08  Montreal        2\n",
       "dtype: int64"
      ]
     },
     "execution_count": 9,
     "metadata": {},
     "output_type": "execute_result"
    }
   ],
   "source": [
    "crashDNF[crashDNF[\"progress\"] > 0.96].groupby([\"date\", \"location\"]).size().nlargest(5)"
   ]
  },
  {
   "cell_type": "markdown",
   "id": "9602af04",
   "metadata": {},
   "source": [
    "## Outlying drivers"
   ]
  },
  {
   "cell_type": "code",
   "execution_count": 10,
   "id": "ae9e2e5c",
   "metadata": {},
   "outputs": [],
   "source": [
    "crashers = crashDNF[\"name\"].drop_duplicates().tolist()"
   ]
  },
  {
   "cell_type": "code",
   "execution_count": 11,
   "id": "509e909b",
   "metadata": {},
   "outputs": [],
   "source": [
    "winners = wins[\"name\"].drop_duplicates().tolist()"
   ]
  },
  {
   "cell_type": "code",
   "execution_count": 12,
   "id": "193e6db7",
   "metadata": {},
   "outputs": [
    {
     "data": {
      "text/plain": [
       "name\n",
       "Masten Gregory           46\n",
       "Charles Pic              39\n",
       "Bob Anderson             26\n",
       "Ian Burgess              26\n",
       "Oscar Larrauri           21\n",
       "Alex Ribeiro             20\n",
       "Will Stevens             19\n",
       "Felice Bonetto           17\n",
       "Louis Chiron             17\n",
       "Pierre-Henri Raphanel    17\n",
       "Name: entries, dtype: int64"
      ]
     },
     "execution_count": 12,
     "metadata": {},
     "output_type": "execute_result"
    }
   ],
   "source": [
    "results[~results.name.isin(crashers)].groupby(\"name\")[\"entries\"].max().nlargest(10)"
   ]
  },
  {
   "cell_type": "markdown",
   "id": "38137e3f",
   "metadata": {},
   "source": [
    "Masten Gregory has entered 46 championship races and never dropped out of a single one due to a crash or a collision, which is ironic: \n",
    "\n",
    "\"Gregory's early years of competition were marked by many crashes, often the result of pushing sub-par machinery past its ability. He flipped a thankfully rollbar-equipped Maserati at the Venezuelan Grand Prix in 1957, totalled two sports cars in 1958, and another two in 1959 (a Lister-Jaguar and a Tojeiro-Jaguar). In the latter of these incidents he broke his leg and shoulder, keeping him away from his Formula 1 commitments.\" ([Wikipedia](https://en.wikipedia.org/wiki/Masten_Gregory))"
   ]
  },
  {
   "cell_type": "code",
   "execution_count": 13,
   "id": "c069c82e",
   "metadata": {},
   "outputs": [
    {
     "data": {
      "text/plain": [
       "name\n",
       "Bob Sweikert           1\n",
       "Jimmy Bryan            1\n",
       "Johnnie Parsons        1\n",
       "Lee Wallard            1\n",
       "Ludovico Scarfiotti    1\n",
       "Name: raceId, dtype: int64"
      ]
     },
     "execution_count": 13,
     "metadata": {},
     "output_type": "execute_result"
    }
   ],
   "source": [
    "wins[(~wins.name.isin(crashers))].groupby(\"name\")[\"raceId\"].nunique().nlargest(5)"
   ]
  },
  {
   "cell_type": "markdown",
   "id": "b3a6b8b1",
   "metadata": {},
   "source": [
    "Every single driver who has won more than 1 race has also dropped out of at least one race due to a crash or a collision."
   ]
  },
  {
   "cell_type": "code",
   "execution_count": 14,
   "id": "812161cf",
   "metadata": {},
   "outputs": [
    {
     "data": {
      "text/plain": [
       "name\n",
       "Nyck de Vries       2022-09-11\n",
       "Pietro Fittipaldi   2020-12-13\n",
       "Jack Aitken         2020-12-06\n",
       "Roberto Merhi       2015-11-29\n",
       "Will Stevens        2015-11-29\n",
       "Name: date, dtype: datetime64[ns]"
      ]
     },
     "execution_count": 14,
     "metadata": {},
     "output_type": "execute_result"
    }
   ],
   "source": [
    "results[(~results.name.isin(crashers))].groupby(\"name\")[\"date\"].max().nlargest(5)"
   ]
  },
  {
   "cell_type": "code",
   "execution_count": 15,
   "id": "724e2cdb",
   "metadata": {},
   "outputs": [
    {
     "data": {
      "text/plain": [
       "name\n",
       "Andrea de Cesaris       37\n",
       "Riccardo Patrese        36\n",
       "David Coulthard         32\n",
       "Rubens Barrichello      32\n",
       "Giancarlo Fisichella    30\n",
       "Jean Alesi              30\n",
       "Johnny Herbert          30\n",
       "Michael Schumacher      30\n",
       "Ukyo Katayama           30\n",
       "Jarno Trulli            29\n",
       "dtype: int64"
      ]
     },
     "execution_count": 15,
     "metadata": {},
     "output_type": "execute_result"
    }
   ],
   "source": [
    "crashDNF.groupby(\"name\").size().nlargest(10)"
   ]
  },
  {
   "cell_type": "code",
   "execution_count": 16,
   "id": "bce29e59",
   "metadata": {},
   "outputs": [
    {
     "data": {
      "text/plain": [
       "surname    forename\n",
       "Andretti   Michael     0.461538\n",
       "Brise      Tony        0.400000\n",
       "Inoue      Taki        0.333333\n",
       "Tuero      Esteban     0.312500\n",
       "Katayama   Ukyo        0.309278\n",
       "Chiesa     Andrea      0.300000\n",
       "Lavaggi    Giovanni    0.300000\n",
       "Scheckter  Ian         0.300000\n",
       "Blundell   Mark        0.285714\n",
       "Pantano    Giorgio     0.285714\n",
       "dtype: float64"
      ]
     },
     "execution_count": 16,
     "metadata": {},
     "output_type": "execute_result"
    }
   ],
   "source": [
    "carnageExperts = results[(results.status.isin(crashes)) & (results.entries >= 10)].groupby([\"surname\", \"forename\"]).size() / results.groupby([\"surname\", \"forename\"]).size()\n",
    "carnageExperts.nlargest(10)"
   ]
  },
  {
   "cell_type": "markdown",
   "id": "1c51baa5",
   "metadata": {},
   "source": [
    "Andrea de Cesaris has dropped out of 37 races due to a crash or a collision. It's more meaningful to compare crashes-to-starts ratio: Michael Andretti is the true king, fired from McLaren in a middle of a debut season for crashing way too often."
   ]
  },
  {
   "cell_type": "code",
   "execution_count": 17,
   "id": "46ec8e5e",
   "metadata": {},
   "outputs": [
    {
     "data": {
      "text/plain": [
       "surname     forename\n",
       "Latifi      Nicholas    0.133333\n",
       "Leclerc     Charles     0.107843\n",
       "Hülkenberg  Nico        0.097826\n",
       "Zhou        Guanyu      0.095238\n",
       "Tsunoda     Yuki        0.093023\n",
       "dtype: float64"
      ]
     },
     "execution_count": 17,
     "metadata": {},
     "output_type": "execute_result"
    }
   ],
   "source": [
    "currentExperts = results[(results.status.isin(crashes)) & (results.name.isin(currentDrivers))].groupby([\"surname\", \"forename\"]).size() / results.groupby([\"surname\", \"forename\"]).size()\n",
    "currentExperts.nlargest(5)"
   ]
  },
  {
   "cell_type": "code",
   "execution_count": 18,
   "id": "085977d5",
   "metadata": {},
   "outputs": [
    {
     "data": {
      "text/plain": [
       "surname    forename\n",
       "Ricciardo  Daniel      0.030303\n",
       "Bottas     Valtteri    0.035000\n",
       "Hamilton   Lewis       0.045307\n",
       "Ocon       Esteban     0.045455\n",
       "Norris     Lando       0.049383\n",
       "dtype: float64"
      ]
     },
     "execution_count": 18,
     "metadata": {},
     "output_type": "execute_result"
    }
   ],
   "source": [
    "currentExperts.nsmallest(5)"
   ]
  },
  {
   "cell_type": "markdown",
   "id": "3bf0fdb2",
   "metadata": {},
   "source": [
    "## The most challenging circuits in the Lewis Hamilton era"
   ]
  },
  {
   "cell_type": "code",
   "execution_count": 19,
   "id": "a31eb30b",
   "metadata": {},
   "outputs": [],
   "source": [
    "pd.options.display.float_format = '{:.2%}'.format"
   ]
  },
  {
   "cell_type": "code",
   "execution_count": 20,
   "id": "c241dd0e",
   "metadata": {},
   "outputs": [],
   "source": [
    "resultsLHera = results[results[\"year\"] > 2006]\n",
    "\n",
    "circuitsLHEResults = resultsLHera.groupby([\"location\"]).size()"
   ]
  },
  {
   "cell_type": "code",
   "execution_count": 21,
   "id": "f40ebaaa",
   "metadata": {},
   "outputs": [],
   "source": [
    "crashDNFLHera = crashDNF[crashDNF[\"year\"] > 2006]\n",
    "\n",
    "circuitsDNFLHera = crashDNFLHera.groupby([\"location\"]).size()"
   ]
  },
  {
   "cell_type": "code",
   "execution_count": 22,
   "id": "56de0958",
   "metadata": {},
   "outputs": [],
   "source": [
    "circuitsLHeraGPs = resultsLHera.groupby([\"location\"])[\"raceId\"].nunique()"
   ]
  },
  {
   "cell_type": "code",
   "execution_count": 23,
   "id": "b80db815",
   "metadata": {},
   "outputs": [],
   "source": [
    "mergedCircuitStats = pd.concat([circuitsLHeraGPs, circuitsLHEResults, circuitsDNFLHera], axis=1, keys=[\"circuitsLHeraGPs\", \"circuitsLHEResults\", \"circuitsDNFLHera\"])"
   ]
  },
  {
   "cell_type": "code",
   "execution_count": 24,
   "id": "aa9371fb",
   "metadata": {},
   "outputs": [],
   "source": [
    "mergedCircuitStats[\"ratio\"] =  mergedCircuitStats[\"circuitsDNFLHera\"] / mergedCircuitStats[\"circuitsLHEResults\"]"
   ]
  },
  {
   "cell_type": "code",
   "execution_count": 25,
   "id": "fc45bdb8",
   "metadata": {
    "scrolled": true
   },
   "outputs": [
    {
     "data": {
      "text/plain": [
       "location\n",
       "Mugello          30.00%\n",
       "Indianapolis     18.18%\n",
       "Jeddah           17.50%\n",
       "Yeongam County   15.96%\n",
       "Oyama            14.29%\n",
       "Name: ratio, dtype: float64"
      ]
     },
     "execution_count": 25,
     "metadata": {},
     "output_type": "execute_result"
    }
   ],
   "source": [
    "mergedCircuitStats[\"ratio\"].sort_values(ascending=False).head(5)"
   ]
  },
  {
   "cell_type": "code",
   "execution_count": 26,
   "id": "403f6469",
   "metadata": {},
   "outputs": [],
   "source": [
    "frequentCircuitStats = mergedCircuitStats[mergedCircuitStats[\"circuitsLHeraGPs\"] > 2]"
   ]
  },
  {
   "cell_type": "code",
   "execution_count": 27,
   "id": "864d2f70",
   "metadata": {},
   "outputs": [
    {
     "data": {
      "text/plain": [
       "location\n",
       "Yeongam County   15.96%\n",
       "Monte-Carlo      14.06%\n",
       "Marina Bay       11.87%\n",
       "Melbourne        11.67%\n",
       "Montreal         10.36%\n",
       "Silverstone      10.28%\n",
       "Imola            10.00%\n",
       "São Paulo         9.49%\n",
       "Baku              9.02%\n",
       "Spa               8.82%\n",
       "Name: ratio, dtype: float64"
      ]
     },
     "execution_count": 27,
     "metadata": {},
     "output_type": "execute_result"
    }
   ],
   "source": [
    "frequentCircuitStats[\"ratio\"].sort_values(ascending=False).nlargest(10)"
   ]
  },
  {
   "cell_type": "markdown",
   "id": "4ef1d5cc",
   "metadata": {},
   "source": [
    "## What's the most dangerous part of a race?"
   ]
  },
  {
   "cell_type": "code",
   "execution_count": 28,
   "id": "80c3b952",
   "metadata": {},
   "outputs": [],
   "source": [
    "crashDNFLHera = crashDNF[crashDNF[\"year\"] > 2006]"
   ]
  },
  {
   "cell_type": "code",
   "execution_count": 29,
   "id": "b93e69c4",
   "metadata": {},
   "outputs": [],
   "source": [
    "whatLap = crashDNFLHera[[\"progress\"]]"
   ]
  },
  {
   "cell_type": "code",
   "execution_count": 30,
   "id": "208ebc59",
   "metadata": {
    "scrolled": false
   },
   "outputs": [
    {
     "data": {
      "text/plain": [
       "array([[<AxesSubplot:title={'center':'progress'}>]], dtype=object)"
      ]
     },
     "execution_count": 30,
     "metadata": {},
     "output_type": "execute_result"
    },
    {
     "data": {
      "image/png": "[encoded data removed]",
      "text/plain": [
       "<Figure size 1440x216 with 1 Axes>"
      ]
     },
     "metadata": {
      "needs_background": "light"
     },
     "output_type": "display_data"
    }
   ],
   "source": [
    "whatLap.hist(bins = 60)"
   ]
  },
  {
   "cell_type": "code",
   "execution_count": 31,
   "id": "61b22c64",
   "metadata": {},
   "outputs": [
    {
     "data": {
      "text/plain": [
       "0.30518234165067176"
      ]
     },
     "execution_count": 31,
     "metadata": {},
     "output_type": "execute_result"
    }
   ],
   "source": [
    "crashDNFLHera[crashDNFLHera[\"laps\"] == 0][\"resultId\"].count() / crashDNFLHera[\"resultId\"].count()"
   ]
  },
  {
   "cell_type": "markdown",
   "id": "6a3541b5",
   "metadata": {},
   "source": [
    "30 % of collisions take place in the first lap."
   ]
  },
  {
   "cell_type": "code",
   "execution_count": 32,
   "id": "3c8b35de",
   "metadata": {},
   "outputs": [
    {
     "data": {
      "text/plain": [
       "progress   17.24%\n",
       "dtype: float64"
      ]
     },
     "execution_count": 32,
     "metadata": {},
     "output_type": "execute_result"
    }
   ],
   "source": [
    "whatLap.median()"
   ]
  },
  {
   "cell_type": "markdown",
   "id": "a73735a3",
   "metadata": {},
   "source": [
    "50 % of collisions and crashes occur in the first 1/5 of laps."
   ]
  }
 ],
 "metadata": {
  "kernelspec": {
   "display_name": "Python 3 (ipykernel)",
   "language": "python",
   "name": "python3"
  },
  "language_info": {
   "codemirror_mode": {
    "name": "ipython",
    "version": 3
   },
   "file_extension": ".py",
   "mimetype": "text/x-python",
   "name": "python",
   "nbconvert_exporter": "python",
   "pygments_lexer": "ipython3",
   "version": "3.10.8"
  }
 },
 "nbformat": 4,
 "nbformat_minor": 5
}
