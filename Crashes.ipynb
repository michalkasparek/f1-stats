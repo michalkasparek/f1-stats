{
 "cells": [
  {
   "cell_type": "code",
   "execution_count": 1,
   "id": "98dfdbe2",
   "metadata": {
    "scrolled": true
   },
   "outputs": [
    {
     "name": "stderr",
     "output_type": "stream",
     "text": [
      "C:\\Users\\micha\\AppData\\Local\\Temp\\ipykernel_22576\\4101919612.py:32: FutureWarning: Passing 'suffixes' which cause duplicate columns {'url_x'} in the result is deprecated and will raise a MergeError in a future version.\n",
      "  results = results.merge(constructors, on=\"constructorId\", how=\"right\")\n"
     ]
    }
   ],
   "source": [
    "import pandas as pd\n",
    "import matplotlib\n",
    "import os\n",
    "\n",
    "# Let's define some useful lists first\n",
    "\n",
    "unknownResult = [\"nan0n\", \"NaN\", \"NA\", \"inf\"]\n",
    "crashes = [\"Accident\", \"Collision\", \"Fatal accident\", \"Collision damage\", \"Spun off\"]\n",
    "Europe = [\"Austrian\", \"Belgian\", \"British\", \"Czech\", \"Danish\", \"Dutch\", \"East German\", \"Finnish\", \"French\", \"German\", \"Hungarian\", \"Irish\", \"Italian\", \"Liechtensteiner\", \"Monegasque\", \"Polish\", \"Portuguese\", \"Russian\", \"Spanish\", \"Swedish\", \"Swiss\"]\n",
    "NAmerica = [\"American\", \"Canadian\", \"Mexican\"]\n",
    "SAmerica = [\"Argentine\", \"Brazilian\", \"Chilean\", \"Colombian\", \"Uruguayan\", \"Venezuelan\"]\n",
    "Asia = [\"Chinese\", \"Indian\", \"Indonesian\", \"Japanese\", \"Malaysian\", \"Thai\", \"Hong Kong\"]\n",
    "Africa = [\"Rhodesian\", \"South African\"]\n",
    "Oceania = [\"Australian\", \"New Zealander\"]\n",
    "multiple = [\"American-Italian\", \"Argentine-Italian\"]\n",
    "\n",
    "# Now let's load the stats. Source: https://www.kaggle.com/datasets/rohanrao/formula-1-world-championship-1950-2020\n",
    "\n",
    "drivers = pd.read_csv(os.path.join(\"data\", \"drivers.csv\"))\n",
    "results = pd.read_csv(os.path.join(\"data\", \"results.csv\"))\n",
    "races = pd.read_csv(os.path.join(\"data\", \"races.csv\"))\n",
    "circuits = pd.read_csv(os.path.join(\"data\", \"circuits.csv\"))\n",
    "status = pd.read_csv(os.path.join(\"data\", \"status.csv\"))\n",
    "constructors = pd.read_csv(os.path.join(\"data\", \"constructors.csv\"))\n",
    "\n",
    "# Merge all the tables into a single dataframe\n",
    "\n",
    "results = results.merge(drivers, on=\"driverId\", how=\"right\")\n",
    "races = races.merge(circuits, on=\"circuitId\", how=\"right\")\n",
    "results = results.merge(races, on=\"raceId\", how=\"right\")\n",
    "results = results.merge(status, on=\"statusId\", how=\"right\")\n",
    "results = results.merge(constructors, on=\"constructorId\", how=\"right\")\n",
    "\n",
    "# Make the columns more useful \n",
    "\n",
    "results[\"fullname\"] = results[\"forename\"] + \" \" + results[\"surname\"]\n",
    "results[\"date\"] = results[\"date\"].str.slice(0,6) + results[\"year\"].astype(str).str.slice(0,4)\n",
    "results[\"date\"] = pd.to_datetime(results[\"date\"], format=\"%d/%m/%Y\")\n",
    "results[\"year\"] = results[\"year\"].astype(float)\n",
    "results[\"round\"] = results[\"round\"].astype(float)\n",
    "results[\"position\"] = results[\"position\"].apply(pd.to_numeric, errors = \"coerce\").astype(int, errors=\"ignore\")\n",
    "\n",
    "# Make some new columns\n",
    "\n",
    "results[\"year_round\"] = results[\"year\"].astype(str).str.slice(0,4) + results[\"round\"].astype(str).str.slice(0,-2).str.zfill(2)\n",
    "results = results[~results.year_round.isin(unknownResult)]\n",
    "results[\"year_round\"] = results[\"year_round\"].apply(pd.to_numeric, errors = \"coerce\").astype(int)\n",
    "\n",
    "results.loc[results.nationality_x.isin(Europe),\"driverContinent\"]=\"Europe\"\n",
    "results.loc[results.nationality_x.isin(NAmerica),\"driverContinent\"]=\"NAmerica\"\n",
    "results.loc[results.nationality_x.isin(SAmerica),\"driverContinent\"]=\"SAmerica\"\n",
    "results.loc[results.nationality_x.isin(Asia),\"driverContinent\"]=\"Asia\"\n",
    "results.loc[results.nationality_x.isin(Africa),\"driverContinent\"]=\"Africa\"\n",
    "results.loc[results.nationality_x.isin(Oceania),\"driverContinent\"]=\"Oceania\"\n",
    "results.loc[results.nationality_x.isin(multiple),\"driverContinent\"]=\"multiple\"\n",
    "\n",
    "entries = pd.Series(results.groupby([\"driverId\"]).size(), name=\"entries\")\n",
    "results = results.merge(entries, on = [\"driverId\"], how = \"right\")\n",
    "\n",
    "# Split the main dataframe for wins, podiums and top 6 finishes only \n",
    "\n",
    "wins = results[results[\"position\"] == 1]\n",
    "podiums = results[results[\"position\"] < 4]\n",
    "top6 = results[results[\"position\"] < 7]"
   ]
  },
  {
   "cell_type": "markdown",
   "id": "9602af04",
   "metadata": {},
   "source": [
    "## Drivers with the most race-ending crashes and the highest race-ending crash ratios "
   ]
  },
  {
   "cell_type": "code",
   "execution_count": 2,
   "id": "23836d5c",
   "metadata": {},
   "outputs": [],
   "source": [
    "crashDNF = results[(results.status.isin(crashes))]"
   ]
  },
  {
   "cell_type": "code",
   "execution_count": 3,
   "id": "724e2cdb",
   "metadata": {},
   "outputs": [],
   "source": [
    "driversMostCrashes = crashDNF.groupby(\"fullname\").size()"
   ]
  },
  {
   "cell_type": "code",
   "execution_count": 4,
   "id": "1ca9d502",
   "metadata": {},
   "outputs": [
    {
     "data": {
      "text/plain": [
       "fullname\n",
       "Andrea de Cesaris       37\n",
       "Riccardo Patrese        36\n",
       "David Coulthard         32\n",
       "Rubens Barrichello      32\n",
       "Giancarlo Fisichella    30\n",
       "Jean Alesi              30\n",
       "Johnny Herbert          30\n",
       "Michael Schumacher      30\n",
       "Ukyo Katayama           30\n",
       "Jarno Trulli            29\n",
       "dtype: int64"
      ]
     },
     "execution_count": 4,
     "metadata": {},
     "output_type": "execute_result"
    }
   ],
   "source": [
    "driversMostCrashes.nlargest(10)"
   ]
  },
  {
   "cell_type": "code",
   "execution_count": 5,
   "id": "bce29e59",
   "metadata": {},
   "outputs": [],
   "source": [
    "carnageExperts = results[(results.status.isin(crashes)) & (results.entries >= 10)].groupby([\"surname\", \"forename\"]).size() / results.groupby([\"surname\", \"forename\"]).size()"
   ]
  },
  {
   "cell_type": "code",
   "execution_count": 6,
   "id": "8db01fb9",
   "metadata": {
    "scrolled": true
   },
   "outputs": [
    {
     "data": {
      "text/plain": [
       "surname    forename\n",
       "Andretti   Michael     0.461538\n",
       "Brise      Tony        0.400000\n",
       "Inoue      Taki        0.333333\n",
       "Tuero      Esteban     0.312500\n",
       "Katayama   Ukyo        0.309278\n",
       "Chiesa     Andrea      0.300000\n",
       "Lavaggi    Giovanni    0.300000\n",
       "Scheckter  Ian         0.300000\n",
       "Blundell   Mark        0.285714\n",
       "Pantano    Giorgio     0.285714\n",
       "dtype: float64"
      ]
     },
     "execution_count": 6,
     "metadata": {},
     "output_type": "execute_result"
    }
   ],
   "source": [
    "carnageExperts.nlargest(10)"
   ]
  },
  {
   "cell_type": "markdown",
   "id": "3bf0fdb2",
   "metadata": {},
   "source": [
    "## The most challenging circuits in the last 20 years"
   ]
  },
  {
   "cell_type": "code",
   "execution_count": 7,
   "id": "c241dd0e",
   "metadata": {},
   "outputs": [],
   "source": [
    "results20years = results[results[\"year\"] > 2001]\n",
    "\n",
    "circuits20yearsResults = results20years.groupby([\"location\"]).size()"
   ]
  },
  {
   "cell_type": "code",
   "execution_count": 8,
   "id": "f40ebaaa",
   "metadata": {},
   "outputs": [],
   "source": [
    "crashDNF20years = crashDNF[crashDNF[\"year\"] > 2001]\n",
    "\n",
    "circuitsDNF20years = crashDNF20years.groupby([\"location\"]).size()"
   ]
  },
  {
   "cell_type": "code",
   "execution_count": 9,
   "id": "56de0958",
   "metadata": {},
   "outputs": [],
   "source": [
    "circuits20yearsGPs = results20years.groupby([\"location\"])[\"year_round\"].nunique()"
   ]
  },
  {
   "cell_type": "code",
   "execution_count": 10,
   "id": "b80db815",
   "metadata": {},
   "outputs": [],
   "source": [
    "mergedCircuitStats = pd.concat([circuits20yearsGPs, circuits20yearsResults, circuitsDNF20years], axis=1, keys=[\"circuits20yearsGPs\", \"circuits20yearsResults\", \"circuitsDNF20years\"])"
   ]
  },
  {
   "cell_type": "code",
   "execution_count": 11,
   "id": "aa9371fb",
   "metadata": {},
   "outputs": [],
   "source": [
    "mergedCircuitStats[\"ratio\"] = mergedCircuitStats[\"circuitsDNF20years\"] / mergedCircuitStats[\"circuits20yearsResults\"]"
   ]
  },
  {
   "cell_type": "code",
   "execution_count": 12,
   "id": "fc45bdb8",
   "metadata": {
    "scrolled": true
   },
   "outputs": [
    {
     "data": {
      "text/plain": [
       "location\n",
       "Mugello           0.300000\n",
       "Indianapolis      0.185484\n",
       "Jeddah            0.175000\n",
       "Yeongam County    0.159574\n",
       "Monte-Carlo       0.151741\n",
       "Name: ratio, dtype: float64"
      ]
     },
     "execution_count": 12,
     "metadata": {},
     "output_type": "execute_result"
    }
   ],
   "source": [
    "mergedCircuitStats[\"ratio\"].sort_values(ascending=False).head(5)"
   ]
  },
  {
   "cell_type": "code",
   "execution_count": 13,
   "id": "403f6469",
   "metadata": {},
   "outputs": [],
   "source": [
    "frequentCircuitStats = mergedCircuitStats[mergedCircuitStats[\"circuits20yearsGPs\"] > 9]"
   ]
  },
  {
   "cell_type": "code",
   "execution_count": 14,
   "id": "864d2f70",
   "metadata": {},
   "outputs": [
    {
     "data": {
      "text/plain": [
       "location\n",
       "Monte-Carlo     0.151741\n",
       "Melbourne       0.136139\n",
       "Marina Bay      0.112403\n",
       "São Paulo       0.110000\n",
       "Spa             0.107895\n",
       "Montreal        0.101648\n",
       "Nürburg         0.094340\n",
       "Silverstone     0.090293\n",
       "Montmeló        0.089623\n",
       "Hockenheim      0.078431\n",
       "Suzuka          0.070588\n",
       "Kuala Lumpur    0.066474\n",
       "Shanghai        0.064327\n",
       "Monza           0.054502\n",
       "Budapest        0.054502\n",
       "Spielberg       0.052846\n",
       "Abu Dhabi       0.043478\n",
       "Sakhir          0.035000\n",
       "Name: ratio, dtype: float64"
      ]
     },
     "execution_count": 14,
     "metadata": {},
     "output_type": "execute_result"
    }
   ],
   "source": [
    "frequentCircuitStats[\"ratio\"].sort_values(ascending=False)"
   ]
  },
  {
   "cell_type": "markdown",
   "id": "4ef1d5cc",
   "metadata": {},
   "source": [
    "## On what lap do the crashes occur?"
   ]
  },
  {
   "cell_type": "markdown",
   "id": "8dfe4cd3",
   "metadata": {},
   "source": [
    "Todo: calculate a race progress percentage and work with it rather than with a lap count."
   ]
  },
  {
   "cell_type": "code",
   "execution_count": 15,
   "id": "80c3b952",
   "metadata": {},
   "outputs": [],
   "source": [
    "crashDNF20years = crashDNF[crashDNF[\"year\"] > 2001]"
   ]
  },
  {
   "cell_type": "code",
   "execution_count": 16,
   "id": "b93e69c4",
   "metadata": {},
   "outputs": [],
   "source": [
    "whatLap = crashDNF20years[[\"laps\"]]"
   ]
  },
  {
   "cell_type": "code",
   "execution_count": 17,
   "id": "7b04efe6",
   "metadata": {},
   "outputs": [],
   "source": [
    "howManyBins = crashDNF20years[[\"laps\"]].max()"
   ]
  },
  {
   "cell_type": "code",
   "execution_count": 18,
   "id": "208ebc59",
   "metadata": {},
   "outputs": [
    {
     "data": {
      "text/plain": [
       "array([[<AxesSubplot:title={'center':'laps'}>]], dtype=object)"
      ]
     },
     "execution_count": 18,
     "metadata": {},
     "output_type": "execute_result"
    },
    {
     "data": {
      "image/png": "[encoded data removed]",
      "text/plain": [
       "<Figure size 432x288 with 1 Axes>"
      ]
     },
     "metadata": {
      "needs_background": "light"
     },
     "output_type": "display_data"
    }
   ],
   "source": [
    "whatLap.hist(bins = 76)"
   ]
  }
 ],
 "metadata": {
  "kernelspec": {
   "display_name": "Python 3 (ipykernel)",
   "language": "python",
   "name": "python3"
  },
  "language_info": {
   "codemirror_mode": {
    "name": "ipython",
    "version": 3
   },
   "file_extension": ".py",
   "mimetype": "text/x-python",
   "name": "python",
   "nbconvert_exporter": "python",
   "pygments_lexer": "ipython3",
   "version": "3.10.4"
  }
 },
 "nbformat": 4,
 "nbformat_minor": 5
}
