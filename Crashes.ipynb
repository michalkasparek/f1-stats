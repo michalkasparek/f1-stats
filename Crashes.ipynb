{
 "cells": [
  {
   "cell_type": "code",
   "execution_count": 1,
   "id": "98dfdbe2",
   "metadata": {
    "scrolled": true
   },
   "outputs": [
    {
     "name": "stderr",
     "output_type": "stream",
     "text": [
      "C:\\Users\\micha\\AppData\\Local\\Temp\\ipykernel_17908\\1151300188.py:46: FutureWarning: Passing 'suffixes' which cause duplicate columns {'url_x'} in the result is deprecated and will raise a MergeError in a future version.\n",
      "  results = results.merge(constructors, on=\"constructorId\", how=\"right\")\n",
      "C:\\Users\\micha\\AppData\\Local\\Temp\\ipykernel_17908\\1151300188.py:61: SettingWithCopyWarning: \n",
      "A value is trying to be set on a copy of a slice from a DataFrame.\n",
      "Try using .loc[row_indexer,col_indexer] = value instead\n",
      "\n",
      "See the caveats in the documentation: https://pandas.pydata.org/pandas-docs/stable/user_guide/indexing.html#returning-a-view-versus-a-copy\n",
      "  results[\"year_round\"] = results[\"year_round\"].apply(pd.to_numeric, errors = \"coerce\").astype(int)\n",
      "C:\\Users\\micha\\AppData\\Local\\Temp\\ipykernel_17908\\1151300188.py:63: SettingWithCopyWarning: \n",
      "A value is trying to be set on a copy of a slice from a DataFrame.\n",
      "Try using .loc[row_indexer,col_indexer] = value instead\n",
      "\n",
      "See the caveats in the documentation: https://pandas.pydata.org/pandas-docs/stable/user_guide/indexing.html#returning-a-view-versus-a-copy\n",
      "  results.loc[results.nationality_x.isin(Europe),\"driverContinent\"]=\"Europe\"\n",
      "C:\\Users\\micha\\AppData\\Local\\Temp\\ipykernel_17908\\1151300188.py:71: SettingWithCopyWarning: \n",
      "A value is trying to be set on a copy of a slice from a DataFrame.\n",
      "Try using .loc[row_indexer,col_indexer] = value instead\n",
      "\n",
      "See the caveats in the documentation: https://pandas.pydata.org/pandas-docs/stable/user_guide/indexing.html#returning-a-view-versus-a-copy\n",
      "  results.loc[results.location.isin(streetCircuits),\"street\"]=True\n"
     ]
    }
   ],
   "source": [
    "# %load prepareStats.py\n",
    "#!/usr/bin/env python\n",
    "\n",
    "\"\"\"\n",
    "Don't repeat yourself, they say. So this is the stuff that goes in the beginning of all my \n",
    "Jupyter Notebooks exploring various F1 statistics. https://github.com/michalkasparek/f1-stats/\n",
    "\"\"\"\n",
    "\n",
    "import os\n",
    "import pandas as pd\n",
    "import matplotlib.pyplot as plt\n",
    "import numpy as np\n",
    "\n",
    "# Let's define some useful lists first\n",
    "\n",
    "unknownResult = [\"nan0n\", \"NaN\", \"NA\", \"inf\"]\n",
    "crashes = [\"Accident\", \"Collision\", \"Fatal accident\", \"Collision damage\", \"Spun off\"]\n",
    "dnqs = [\"Did not qualify\", \"Did not prequalify\", \"107% Rule\"]\n",
    "\n",
    "Europe = [\"Austria\", \"Austrian\", \"Azerbaijan\", \"Belgian\", \"Belgium\", \"British\", \"Czech\", \"Danish\", \"Dutch\", \"East German\", \"Finnish\", \"France\", \"French\", \"German\", \"Germany\", \"Hungarian\", \"Hungary\", \"Irish\", \"Italian\", \"Italy\", \"Liechtensteiner\", \"Monaco\", \"Monegasque\", \"Netherlands\", \"Polish\", \"Portugal\", \"Portuguese\", \"Russia\", \"Russian\", \"Spanish\", \"Spain\", \"Sweden\", \"Swedish\", \"Swiss\", \"Switzerland\", \"Turkey\", \"UK\"]\n",
    "NAmerica = [\"American\", \"Canada\", \"Canadian\", \"Mexican\", \"Mexico\", \"USA\"]\n",
    "SAmerica = [\"Argentina\", \"Argentine\", \"Brazil\", \"Brazilian\", \"Chilean\", \"Colombian\", \"Uruguayan\", \"Venezuelan\"]\n",
    "Asia = [\"Bahrain\", \"Chinese\", \"China\", \"Hong Kong\", \"India\", \"Indian\", \"Indonesian\", \"Japan\", \"Japanese\", \"Korea\", \"Malaysia\", \"Malaysian\", \"Qatar\", \"Saudi Arabia\", \"Singapore\", \"Thai\", \"UAE\"]\n",
    "Africa = [\"Morocco\", \"Rhodesian\", \"South Africa\", \"South African\"]\n",
    "Oceania = [\"Australia\", \"Australian\", \"New Zealander\"]\n",
    "multiple = [\"American-Italian\", \"Argentine-Italian\"]\n",
    "westernEurope = [\"Austria\", \"Belgium\", \"Germany\", \"France\", \"Italy\", \"Monaco\", \"Netherlands\", \"Portugal\", \"Spain\", \"Sweden\", \"Switzerland\", \"UK\"]\n",
    "\n",
    "streetCircuits = [\"Melbourne\", \"Monte-Carlo\", \"Montreal\", \"Valencia\", \"Marina Bay\", \"Sochi\", \"Baku\", \"Jeddah\", \"Adelaide\", \"Phoenix\", \"Detroit\", \"Dallas\", \"Nevada\", \"California\", \"Oporto\", \"Lisbon\"]\n",
    "\n",
    "# Now we're gonna load the stats… (source: http://ergast.com/mrd/db/#csv)\n",
    "\n",
    "drivers = pd.read_csv(os.path.join(\"data\", \"drivers.csv\"))\n",
    "results = pd.read_csv(os.path.join(\"data\", \"results.csv\"))\n",
    "races = pd.read_csv(os.path.join(\"data\", \"races.csv\"))\n",
    "circuits = pd.read_csv(os.path.join(\"data\", \"circuits.csv\"))\n",
    "status = pd.read_csv(os.path.join(\"data\", \"status.csv\"))\n",
    "constructors = pd.read_csv(os.path.join(\"data\", \"constructors.csv\"))\n",
    "\n",
    "# …merge all the tables into a single dataframe…\n",
    "\n",
    "results = results.merge(drivers, on=\"driverId\", how=\"right\")\n",
    "races = races.merge(circuits, on=\"circuitId\", how=\"right\")\n",
    "results = results.merge(races, on=\"raceId\", how=\"right\")\n",
    "results = results.merge(status, on=\"statusId\", how=\"right\")\n",
    "results = results.merge(constructors, on=\"constructorId\", how=\"right\")\n",
    "\n",
    "# …make the columns more useful…\n",
    "\n",
    "results[\"fullname\"] = results[\"forename\"] + \" \" + results[\"surname\"]\n",
    "results[\"date\"] = pd.to_datetime(results[\"date\"], format=\"%Y-%m-%d\")\n",
    "results[\"year\"] = results[\"year\"].apply(pd.to_numeric, errors = \"coerce\").astype(np.int64, errors=\"ignore\")\n",
    "results[\"round\"] = results[\"round\"].apply(pd.to_numeric, errors = \"coerce\").astype(np.int64, errors=\"ignore\")\n",
    "results[\"position\"] = results[\"position\"].apply(pd.to_numeric, errors = \"coerce\").astype(np.int64, errors=\"ignore\")\n",
    "results[\"fastestLapSpeed\"] = results[\"fastestLapSpeed\"].apply(pd.to_numeric, errors = \"coerce\").astype(np.int64, errors=\"ignore\")\n",
    "\n",
    "# …and create some new columns.\n",
    "\n",
    "results[\"year_round\"] = results[\"year\"].astype(str).str.slice(0,4) + results[\"round\"].astype(str).str.slice(0,-2).str.zfill(2)\n",
    "results = results[~results.year_round.isin(unknownResult)]\n",
    "results[\"year_round\"] = results[\"year_round\"].apply(pd.to_numeric, errors = \"coerce\").astype(int)\n",
    "\n",
    "results.loc[results.nationality_x.isin(Europe),\"driverContinent\"]=\"Europe\"\n",
    "results.loc[results.nationality_x.isin(NAmerica),\"driverContinent\"]=\"NAmerica\"\n",
    "results.loc[results.nationality_x.isin(SAmerica),\"driverContinent\"]=\"SAmerica\"\n",
    "results.loc[results.nationality_x.isin(Asia),\"driverContinent\"]=\"Asia\"\n",
    "results.loc[results.nationality_x.isin(Africa),\"driverContinent\"]=\"Africa\"\n",
    "results.loc[results.nationality_x.isin(Oceania),\"driverContinent\"]=\"Oceania\"\n",
    "results.loc[results.nationality_x.isin(multiple),\"driverContinent\"]=\"multiple\"\n",
    "\n",
    "results.loc[results.location.isin(streetCircuits),\"street\"]=True\n",
    "\n",
    "entries = pd.Series(results.groupby([\"driverId\"]).size(), name=\"entries\")\n",
    "results = results.merge(entries, on = [\"driverId\"], how = \"right\")\n",
    "\n",
    "# Now split the main dataframe for wins, podiums and top 6 finishes only \n",
    "\n",
    "wins = results[results[\"position\"] == 1]\n",
    "podiums = results[results[\"position\"] < 4]\n",
    "top6 = results[results[\"position\"] < 7]\n",
    "\n",
    "# Finally let's give the plots some swag\n",
    "\n",
    "plt.style.use(\"_mpl-gallery\")\n",
    "plt.rcParams[\"figure.figsize\"] = (20,3)"
   ]
  },
  {
   "cell_type": "markdown",
   "id": "9602af04",
   "metadata": {},
   "source": [
    "## Drivers with the most race-ending crashes and the highest race-ending crash ratios "
   ]
  },
  {
   "cell_type": "code",
   "execution_count": 2,
   "id": "23836d5c",
   "metadata": {},
   "outputs": [],
   "source": [
    "crashDNF = results[(results.status.isin(crashes))]"
   ]
  },
  {
   "cell_type": "code",
   "execution_count": 3,
   "id": "724e2cdb",
   "metadata": {},
   "outputs": [],
   "source": [
    "driversMostCrashes = crashDNF.groupby(\"fullname\").size()"
   ]
  },
  {
   "cell_type": "code",
   "execution_count": 4,
   "id": "1ca9d502",
   "metadata": {},
   "outputs": [
    {
     "data": {
      "text/plain": [
       "fullname\n",
       "Andrea de Cesaris       37\n",
       "Riccardo Patrese        36\n",
       "David Coulthard         32\n",
       "Rubens Barrichello      32\n",
       "Giancarlo Fisichella    30\n",
       "Jean Alesi              30\n",
       "Johnny Herbert          30\n",
       "Michael Schumacher      30\n",
       "Ukyo Katayama           30\n",
       "Jarno Trulli            29\n",
       "dtype: int64"
      ]
     },
     "execution_count": 4,
     "metadata": {},
     "output_type": "execute_result"
    }
   ],
   "source": [
    "driversMostCrashes.nlargest(10)"
   ]
  },
  {
   "cell_type": "code",
   "execution_count": 5,
   "id": "bce29e59",
   "metadata": {},
   "outputs": [],
   "source": [
    "carnageExperts = results[(results.status.isin(crashes)) & (results.entries >= 10)].groupby([\"surname\", \"forename\"]).size() / results.groupby([\"surname\", \"forename\"]).size()"
   ]
  },
  {
   "cell_type": "code",
   "execution_count": 6,
   "id": "8db01fb9",
   "metadata": {
    "scrolled": true
   },
   "outputs": [
    {
     "data": {
      "text/plain": [
       "surname    forename\n",
       "Andretti   Michael     0.461538\n",
       "Brise      Tony        0.400000\n",
       "Inoue      Taki        0.333333\n",
       "Tuero      Esteban     0.312500\n",
       "Katayama   Ukyo        0.309278\n",
       "Chiesa     Andrea      0.300000\n",
       "Lavaggi    Giovanni    0.300000\n",
       "Scheckter  Ian         0.300000\n",
       "Blundell   Mark        0.285714\n",
       "Pantano    Giorgio     0.285714\n",
       "dtype: float64"
      ]
     },
     "execution_count": 6,
     "metadata": {},
     "output_type": "execute_result"
    }
   ],
   "source": [
    "carnageExperts.nlargest(10)"
   ]
  },
  {
   "cell_type": "markdown",
   "id": "3bf0fdb2",
   "metadata": {},
   "source": [
    "## The most challenging circuits in the Lewis Hamilton era"
   ]
  },
  {
   "cell_type": "code",
   "execution_count": 7,
   "id": "a31eb30b",
   "metadata": {},
   "outputs": [],
   "source": [
    "pd.options.display.float_format = '{:.2%}'.format"
   ]
  },
  {
   "cell_type": "code",
   "execution_count": 8,
   "id": "c241dd0e",
   "metadata": {},
   "outputs": [],
   "source": [
    "resultsLHera = results[results[\"year\"] > 2006]\n",
    "\n",
    "circuitsLHEResults = resultsLHera.groupby([\"location\"]).size()"
   ]
  },
  {
   "cell_type": "code",
   "execution_count": 9,
   "id": "f40ebaaa",
   "metadata": {},
   "outputs": [],
   "source": [
    "crashDNFLHera = crashDNF[crashDNF[\"year\"] > 2006]\n",
    "\n",
    "circuitsDNFLHera = crashDNFLHera.groupby([\"location\"]).size()"
   ]
  },
  {
   "cell_type": "code",
   "execution_count": 10,
   "id": "56de0958",
   "metadata": {},
   "outputs": [],
   "source": [
    "circuitsLHeraGPs = resultsLHera.groupby([\"location\"])[\"year_round\"].nunique()"
   ]
  },
  {
   "cell_type": "code",
   "execution_count": 11,
   "id": "b80db815",
   "metadata": {},
   "outputs": [],
   "source": [
    "mergedCircuitStats = pd.concat([circuitsLHeraGPs, circuitsLHEResults, circuitsDNFLHera], axis=1, keys=[\"circuitsLHeraGPs\", \"circuitsLHEResults\", \"circuitsDNFLHera\"])"
   ]
  },
  {
   "cell_type": "code",
   "execution_count": 12,
   "id": "aa9371fb",
   "metadata": {},
   "outputs": [],
   "source": [
    "mergedCircuitStats[\"ratio\"] =  mergedCircuitStats[\"circuitsDNFLHera\"] / mergedCircuitStats[\"circuitsLHEResults\"]"
   ]
  },
  {
   "cell_type": "code",
   "execution_count": 13,
   "id": "fc45bdb8",
   "metadata": {
    "scrolled": true
   },
   "outputs": [
    {
     "data": {
      "text/plain": [
       "location\n",
       "Mugello          30.00%\n",
       "Indianapolis     18.18%\n",
       "Jeddah           17.50%\n",
       "Yeongam County   15.96%\n",
       "Oyama            14.29%\n",
       "Name: ratio, dtype: float64"
      ]
     },
     "execution_count": 13,
     "metadata": {},
     "output_type": "execute_result"
    }
   ],
   "source": [
    "mergedCircuitStats[\"ratio\"].sort_values(ascending=False).head(5)"
   ]
  },
  {
   "cell_type": "code",
   "execution_count": 14,
   "id": "403f6469",
   "metadata": {},
   "outputs": [],
   "source": [
    "frequentCircuitStats = mergedCircuitStats[mergedCircuitStats[\"circuitsLHeraGPs\"] > 2]"
   ]
  },
  {
   "cell_type": "code",
   "execution_count": 15,
   "id": "864d2f70",
   "metadata": {},
   "outputs": [
    {
     "data": {
      "text/plain": [
       "location\n",
       "Yeongam County   15.96%\n",
       "Monte-Carlo      14.06%\n",
       "Melbourne        11.67%\n",
       "Marina Bay       11.24%\n",
       "Baku             10.78%\n",
       "Montreal         10.77%\n",
       "Silverstone       9.71%\n",
       "São Paulo         9.46%\n",
       "Spa               8.75%\n",
       "Sochi             8.59%\n",
       "Name: ratio, dtype: float64"
      ]
     },
     "execution_count": 15,
     "metadata": {},
     "output_type": "execute_result"
    }
   ],
   "source": [
    "frequentCircuitStats[\"ratio\"].sort_values(ascending=False).nlargest(10)"
   ]
  },
  {
   "cell_type": "markdown",
   "id": "4ef1d5cc",
   "metadata": {},
   "source": [
    "## On what lap do the crashes occur?"
   ]
  },
  {
   "cell_type": "markdown",
   "id": "8dfe4cd3",
   "metadata": {},
   "source": [
    "Todo: calculate a race progress percentage and work with it rather than with a lap count."
   ]
  },
  {
   "cell_type": "code",
   "execution_count": 16,
   "id": "80c3b952",
   "metadata": {},
   "outputs": [],
   "source": [
    "crashDNFLHera = crashDNF[crashDNF[\"year\"] > 2001]"
   ]
  },
  {
   "cell_type": "code",
   "execution_count": 17,
   "id": "b93e69c4",
   "metadata": {},
   "outputs": [],
   "source": [
    "whatLap = crashDNFLHera[[\"laps\"]]"
   ]
  },
  {
   "cell_type": "code",
   "execution_count": 18,
   "id": "7b04efe6",
   "metadata": {},
   "outputs": [],
   "source": [
    "howManyBins = crashDNFLHera[[\"laps\"]].max()"
   ]
  },
  {
   "cell_type": "code",
   "execution_count": 19,
   "id": "208ebc59",
   "metadata": {
    "scrolled": true
   },
   "outputs": [
    {
     "data": {
      "text/plain": [
       "array([[<AxesSubplot:title={'center':'laps'}>]], dtype=object)"
      ]
     },
     "execution_count": 19,
     "metadata": {},
     "output_type": "execute_result"
    },
    {
     "data": {
      "image/png": "[encoded data removed]",
      "text/plain": [
       "<Figure size 1440x216 with 1 Axes>"
      ]
     },
     "metadata": {
      "needs_background": "light"
     },
     "output_type": "display_data"
    }
   ],
   "source": [
    "whatLap.hist(bins = 76)"
   ]
  }
 ],
 "metadata": {
  "kernelspec": {
   "display_name": "Python 3 (ipykernel)",
   "language": "python",
   "name": "python3"
  },
  "language_info": {
   "codemirror_mode": {
    "name": "ipython",
    "version": 3
   },
   "file_extension": ".py",
   "mimetype": "text/x-python",
   "name": "python",
   "nbconvert_exporter": "python",
   "pygments_lexer": "ipython3",
   "version": "3.10.4"
  }
 },
 "nbformat": 4,
 "nbformat_minor": 5
}
