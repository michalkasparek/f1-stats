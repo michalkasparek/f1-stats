{
 "cells": [
  {
   "cell_type": "code",
   "execution_count": 1,
   "id": "98dfdbe2",
   "metadata": {
    "scrolled": true
   },
   "outputs": [
    {
     "name": "stdout",
     "output_type": "stream",
     "text": [
      "Last GP in the database: 2022 French Grand Prix\n"
     ]
    }
   ],
   "source": [
    "%run prepareStats.py"
   ]
  },
  {
   "cell_type": "markdown",
   "id": "9602af04",
   "metadata": {},
   "source": [
    "## Drivers with the most race-ending crashes and the highest race-ending crash ratios "
   ]
  },
  {
   "cell_type": "code",
   "execution_count": 2,
   "id": "23836d5c",
   "metadata": {},
   "outputs": [],
   "source": [
    "crashDNF = results[(results.status.isin(crashes))]"
   ]
  },
  {
   "cell_type": "code",
   "execution_count": 3,
   "id": "724e2cdb",
   "metadata": {},
   "outputs": [
    {
     "data": {
      "text/plain": [
       "name\n",
       "Andrea de Cesaris       37\n",
       "Riccardo Patrese        36\n",
       "David Coulthard         32\n",
       "Rubens Barrichello      32\n",
       "Giancarlo Fisichella    30\n",
       "Jean Alesi              30\n",
       "Johnny Herbert          30\n",
       "Michael Schumacher      30\n",
       "Ukyo Katayama           30\n",
       "Jarno Trulli            29\n",
       "dtype: int64"
      ]
     },
     "execution_count": 3,
     "metadata": {},
     "output_type": "execute_result"
    }
   ],
   "source": [
    "crashDNF.groupby(\"name\").size().nlargest(10)"
   ]
  },
  {
   "cell_type": "code",
   "execution_count": 4,
   "id": "bce29e59",
   "metadata": {},
   "outputs": [
    {
     "data": {
      "text/plain": [
       "surname    forename\n",
       "Andretti   Michael     0.461538\n",
       "Brise      Tony        0.400000\n",
       "Inoue      Taki        0.333333\n",
       "Tuero      Esteban     0.312500\n",
       "Katayama   Ukyo        0.309278\n",
       "Chiesa     Andrea      0.300000\n",
       "Lavaggi    Giovanni    0.300000\n",
       "Scheckter  Ian         0.300000\n",
       "Blundell   Mark        0.285714\n",
       "Pantano    Giorgio     0.285714\n",
       "dtype: float64"
      ]
     },
     "execution_count": 4,
     "metadata": {},
     "output_type": "execute_result"
    }
   ],
   "source": [
    "carnageExperts = results[(results.status.isin(crashes)) & (results.entries >= 10)].groupby([\"surname\", \"forename\"]).size() / results.groupby([\"surname\", \"forename\"]).size()\n",
    "carnageExperts.nlargest(10)"
   ]
  },
  {
   "cell_type": "markdown",
   "id": "3bf0fdb2",
   "metadata": {},
   "source": [
    "## The most challenging circuits in the Lewis Hamilton era"
   ]
  },
  {
   "cell_type": "code",
   "execution_count": 5,
   "id": "a31eb30b",
   "metadata": {},
   "outputs": [],
   "source": [
    "pd.options.display.float_format = '{:.2%}'.format"
   ]
  },
  {
   "cell_type": "code",
   "execution_count": 6,
   "id": "c241dd0e",
   "metadata": {},
   "outputs": [],
   "source": [
    "resultsLHera = results[results[\"year\"] > 2006]\n",
    "\n",
    "circuitsLHEResults = resultsLHera.groupby([\"location\"]).size()"
   ]
  },
  {
   "cell_type": "code",
   "execution_count": 7,
   "id": "f40ebaaa",
   "metadata": {},
   "outputs": [],
   "source": [
    "crashDNFLHera = crashDNF[crashDNF[\"year\"] > 2006]\n",
    "\n",
    "circuitsDNFLHera = crashDNFLHera.groupby([\"location\"]).size()"
   ]
  },
  {
   "cell_type": "code",
   "execution_count": 8,
   "id": "56de0958",
   "metadata": {},
   "outputs": [],
   "source": [
    "circuitsLHeraGPs = resultsLHera.groupby([\"location\"])[\"raceId\"].nunique()"
   ]
  },
  {
   "cell_type": "code",
   "execution_count": 9,
   "id": "b80db815",
   "metadata": {},
   "outputs": [],
   "source": [
    "mergedCircuitStats = pd.concat([circuitsLHeraGPs, circuitsLHEResults, circuitsDNFLHera], axis=1, keys=[\"circuitsLHeraGPs\", \"circuitsLHEResults\", \"circuitsDNFLHera\"])"
   ]
  },
  {
   "cell_type": "code",
   "execution_count": 10,
   "id": "aa9371fb",
   "metadata": {},
   "outputs": [],
   "source": [
    "mergedCircuitStats[\"ratio\"] =  mergedCircuitStats[\"circuitsDNFLHera\"] / mergedCircuitStats[\"circuitsLHEResults\"]"
   ]
  },
  {
   "cell_type": "code",
   "execution_count": 11,
   "id": "fc45bdb8",
   "metadata": {
    "scrolled": true
   },
   "outputs": [
    {
     "data": {
      "text/plain": [
       "location\n",
       "Mugello          30.00%\n",
       "Indianapolis     18.18%\n",
       "Jeddah           17.50%\n",
       "Yeongam County   15.96%\n",
       "Oyama            14.29%\n",
       "Name: ratio, dtype: float64"
      ]
     },
     "execution_count": 11,
     "metadata": {},
     "output_type": "execute_result"
    }
   ],
   "source": [
    "mergedCircuitStats[\"ratio\"].sort_values(ascending=False).head(5)"
   ]
  },
  {
   "cell_type": "code",
   "execution_count": 12,
   "id": "403f6469",
   "metadata": {},
   "outputs": [],
   "source": [
    "frequentCircuitStats = mergedCircuitStats[mergedCircuitStats[\"circuitsLHeraGPs\"] > 2]"
   ]
  },
  {
   "cell_type": "code",
   "execution_count": 13,
   "id": "864d2f70",
   "metadata": {},
   "outputs": [
    {
     "data": {
      "text/plain": [
       "location\n",
       "Yeongam County   15.96%\n",
       "Monte-Carlo      14.06%\n",
       "Melbourne        11.67%\n",
       "Marina Bay       11.24%\n",
       "Montreal         10.36%\n",
       "Silverstone      10.28%\n",
       "Imola            10.00%\n",
       "São Paulo         9.46%\n",
       "Baku              9.02%\n",
       "Spa               8.75%\n",
       "Name: ratio, dtype: float64"
      ]
     },
     "execution_count": 13,
     "metadata": {},
     "output_type": "execute_result"
    }
   ],
   "source": [
    "frequentCircuitStats[\"ratio\"].sort_values(ascending=False).nlargest(10)"
   ]
  },
  {
   "cell_type": "markdown",
   "id": "4ef1d5cc",
   "metadata": {},
   "source": [
    "## On what lap do the crashes occur?"
   ]
  },
  {
   "cell_type": "markdown",
   "id": "8dfe4cd3",
   "metadata": {},
   "source": [
    "Todo: calculate a race progress percentage and work with it rather than with a lap count."
   ]
  },
  {
   "cell_type": "code",
   "execution_count": 14,
   "id": "80c3b952",
   "metadata": {},
   "outputs": [],
   "source": [
    "crashDNFLHera = crashDNF[crashDNF[\"year\"] > 2001]"
   ]
  },
  {
   "cell_type": "code",
   "execution_count": 15,
   "id": "b93e69c4",
   "metadata": {},
   "outputs": [],
   "source": [
    "whatLap = crashDNFLHera[[\"laps\"]]"
   ]
  },
  {
   "cell_type": "code",
   "execution_count": 16,
   "id": "7b04efe6",
   "metadata": {},
   "outputs": [],
   "source": [
    "howManyBins = crashDNFLHera[[\"laps\"]].max()"
   ]
  },
  {
   "cell_type": "code",
   "execution_count": 17,
   "id": "208ebc59",
   "metadata": {
    "scrolled": true
   },
   "outputs": [
    {
     "data": {
      "text/plain": [
       "array([[<AxesSubplot:title={'center':'laps'}>]], dtype=object)"
      ]
     },
     "execution_count": 17,
     "metadata": {},
     "output_type": "execute_result"
    },
    {
     "data": {
      "image/png": "[encoded data removed]",
      "text/plain": [
       "<Figure size 1440x216 with 1 Axes>"
      ]
     },
     "metadata": {
      "needs_background": "light"
     },
     "output_type": "display_data"
    }
   ],
   "source": [
    "whatLap.hist(bins = 76)"
   ]
  }
 ],
 "metadata": {
  "kernelspec": {
   "display_name": "Python 3 (ipykernel)",
   "language": "python",
   "name": "python3"
  },
  "language_info": {
   "codemirror_mode": {
    "name": "ipython",
    "version": 3
   },
   "file_extension": ".py",
   "mimetype": "text/x-python",
   "name": "python",
   "nbconvert_exporter": "python",
   "pygments_lexer": "ipython3",
   "version": "3.10.5"
  }
 },
 "nbformat": 4,
 "nbformat_minor": 5
}
