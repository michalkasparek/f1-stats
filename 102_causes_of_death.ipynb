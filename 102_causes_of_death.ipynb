{
 "cells": [
  {
   "cell_type": "code",
   "execution_count": 392,
   "id": "00eba36c",
   "metadata": {},
   "outputs": [],
   "source": [
    "import os\n",
    "import pandas as pd"
   ]
  },
  {
   "cell_type": "code",
   "execution_count": 393,
   "id": "6d416bbd",
   "metadata": {},
   "outputs": [],
   "source": [
    "results = pd.read_json(os.path.join('data','ergast-results.json'))\n",
    "wikidata_ids = pd.read_csv(os.path.join('data','wikidata_ids.csv'))\n",
    "wikid = pd.read_json(os.path.join('data','wikidata.json'))"
   ]
  },
  {
   "cell_type": "code",
   "execution_count": 394,
   "id": "a5d5e1a2",
   "metadata": {},
   "outputs": [],
   "source": [
    "results = results.merge(wikidata_ids, left_on=\"driverUrl\", right_on=\"driverUrl\", how=\"outer\")"
   ]
  },
  {
   "cell_type": "code",
   "execution_count": 395,
   "id": "c80591b5",
   "metadata": {},
   "outputs": [],
   "source": [
    "results = results.merge(wikid, left_on=\"wikidata_id\", right_on=\"wikidata_id\", how=\"outer\")"
   ]
  },
  {
   "cell_type": "code",
   "execution_count": 396,
   "id": "d4692cef",
   "metadata": {},
   "outputs": [],
   "source": [
    "results['date_of_birth'] = pd.to_datetime(results['date_of_birth'])\n",
    "results['date_of_death'] = pd.to_datetime(results['date_of_death'])"
   ]
  },
  {
   "cell_type": "code",
   "execution_count": 397,
   "id": "cf693db5",
   "metadata": {},
   "outputs": [],
   "source": [
    "results['date'] = pd.to_datetime(results['date'])"
   ]
  },
  {
   "cell_type": "code",
   "execution_count": 398,
   "id": "9b4e379a",
   "metadata": {},
   "outputs": [
    {
     "data": {
      "text/plain": [
       "350"
      ]
     },
     "execution_count": 398,
     "metadata": {},
     "output_type": "execute_result"
    }
   ],
   "source": [
    "living = results[results['date_of_death'].apply(lambda x: \"-\" not in str(x))]['full_name'].drop_duplicates().to_list()\n",
    "len(living)"
   ]
  },
  {
   "cell_type": "code",
   "execution_count": 399,
   "id": "8ad15166",
   "metadata": {},
   "outputs": [
    {
     "data": {
      "text/html": [
       "<div>\n",
       "<style scoped>\n",
       "    .dataframe tbody tr th:only-of-type {\n",
       "        vertical-align: middle;\n",
       "    }\n",
       "\n",
       "    .dataframe tbody tr th {\n",
       "        vertical-align: top;\n",
       "    }\n",
       "\n",
       "    .dataframe thead th {\n",
       "        text-align: right;\n",
       "    }\n",
       "</style>\n",
       "<table border=\"1\" class=\"dataframe\">\n",
       "  <thead>\n",
       "    <tr style=\"text-align: right;\">\n",
       "      <th></th>\n",
       "      <th>full_name</th>\n",
       "      <th>date_of_birth</th>\n",
       "      <th>date_of_death</th>\n",
       "      <th>cause_of_death</th>\n",
       "      <th>manner_of_death</th>\n",
       "    </tr>\n",
       "  </thead>\n",
       "  <tbody>\n",
       "    <tr>\n",
       "      <th>10877</th>\n",
       "      <td>Paul Goldsmith</td>\n",
       "      <td>1925-10-02</td>\n",
       "      <td>NaT</td>\n",
       "      <td>None</td>\n",
       "      <td>None</td>\n",
       "    </tr>\n",
       "    <tr>\n",
       "      <th>8956</th>\n",
       "      <td>Hermano da Silva Ramos</td>\n",
       "      <td>1925-12-07</td>\n",
       "      <td>NaT</td>\n",
       "      <td>None</td>\n",
       "      <td>None</td>\n",
       "    </tr>\n",
       "    <tr>\n",
       "      <th>18189</th>\n",
       "      <td>John Rhodes</td>\n",
       "      <td>1927-08-18</td>\n",
       "      <td>NaT</td>\n",
       "      <td>None</td>\n",
       "      <td>None</td>\n",
       "    </tr>\n",
       "    <tr>\n",
       "      <th>21621</th>\n",
       "      <td>Hans Herrmann</td>\n",
       "      <td>1928-02-23</td>\n",
       "      <td>NaT</td>\n",
       "      <td>None</td>\n",
       "      <td>None</td>\n",
       "    </tr>\n",
       "    <tr>\n",
       "      <th>12692</th>\n",
       "      <td>André Milhoux</td>\n",
       "      <td>1928-12-09</td>\n",
       "      <td>NaT</td>\n",
       "      <td>None</td>\n",
       "      <td>None</td>\n",
       "    </tr>\n",
       "    <tr>\n",
       "      <th>11273</th>\n",
       "      <td>Bernie Ecclestone</td>\n",
       "      <td>1930-10-28</td>\n",
       "      <td>NaT</td>\n",
       "      <td>None</td>\n",
       "      <td>None</td>\n",
       "    </tr>\n",
       "    <tr>\n",
       "      <th>10514</th>\n",
       "      <td>David Piper</td>\n",
       "      <td>1930-12-02</td>\n",
       "      <td>NaT</td>\n",
       "      <td>None</td>\n",
       "      <td>None</td>\n",
       "    </tr>\n",
       "    <tr>\n",
       "      <th>12673</th>\n",
       "      <td>Fred Gamble</td>\n",
       "      <td>1932-03-17</td>\n",
       "      <td>NaT</td>\n",
       "      <td>None</td>\n",
       "      <td>None</td>\n",
       "    </tr>\n",
       "    <tr>\n",
       "      <th>10341</th>\n",
       "      <td>Alex Soler-Roig</td>\n",
       "      <td>1932-10-29</td>\n",
       "      <td>NaT</td>\n",
       "      <td>None</td>\n",
       "      <td>None</td>\n",
       "    </tr>\n",
       "    <tr>\n",
       "      <th>12704</th>\n",
       "      <td>Gaetano Starrabba</td>\n",
       "      <td>1932-12-03</td>\n",
       "      <td>NaT</td>\n",
       "      <td>None</td>\n",
       "      <td>None</td>\n",
       "    </tr>\n",
       "    <tr>\n",
       "      <th>10568</th>\n",
       "      <td>Giorgio Bassi</td>\n",
       "      <td>1934-01-20</td>\n",
       "      <td>NaT</td>\n",
       "      <td>None</td>\n",
       "      <td>None</td>\n",
       "    </tr>\n",
       "    <tr>\n",
       "      <th>9846</th>\n",
       "      <td>George Follmer</td>\n",
       "      <td>1934-01-27</td>\n",
       "      <td>NaT</td>\n",
       "      <td>None</td>\n",
       "      <td>None</td>\n",
       "    </tr>\n",
       "    <tr>\n",
       "      <th>19337</th>\n",
       "      <td>Brian Gubby</td>\n",
       "      <td>1934-04-17</td>\n",
       "      <td>NaT</td>\n",
       "      <td>None</td>\n",
       "      <td>None</td>\n",
       "    </tr>\n",
       "    <tr>\n",
       "      <th>10790</th>\n",
       "      <td>Paddy Driver</td>\n",
       "      <td>1934-05-13</td>\n",
       "      <td>NaT</td>\n",
       "      <td>None</td>\n",
       "      <td>None</td>\n",
       "    </tr>\n",
       "    <tr>\n",
       "      <th>18187</th>\n",
       "      <td>Michael May</td>\n",
       "      <td>1934-08-18</td>\n",
       "      <td>NaT</td>\n",
       "      <td>None</td>\n",
       "      <td>None</td>\n",
       "    </tr>\n",
       "    <tr>\n",
       "      <th>18016</th>\n",
       "      <td>Peter Ashdown</td>\n",
       "      <td>1934-10-16</td>\n",
       "      <td>NaT</td>\n",
       "      <td>None</td>\n",
       "      <td>None</td>\n",
       "    </tr>\n",
       "    <tr>\n",
       "      <th>16716</th>\n",
       "      <td>A. J. Foyt</td>\n",
       "      <td>1935-01-16</td>\n",
       "      <td>NaT</td>\n",
       "      <td>None</td>\n",
       "      <td>None</td>\n",
       "    </tr>\n",
       "    <tr>\n",
       "      <th>20930</th>\n",
       "      <td>Carlo Facetti</td>\n",
       "      <td>1935-06-26</td>\n",
       "      <td>NaT</td>\n",
       "      <td>None</td>\n",
       "      <td>None</td>\n",
       "    </tr>\n",
       "    <tr>\n",
       "      <th>10831</th>\n",
       "      <td>John Cordts</td>\n",
       "      <td>1935-07-23</td>\n",
       "      <td>NaT</td>\n",
       "      <td>None</td>\n",
       "      <td>None</td>\n",
       "    </tr>\n",
       "    <tr>\n",
       "      <th>10483</th>\n",
       "      <td>Jim Hall</td>\n",
       "      <td>1935-07-23</td>\n",
       "      <td>NaT</td>\n",
       "      <td>None</td>\n",
       "      <td>None</td>\n",
       "    </tr>\n",
       "  </tbody>\n",
       "</table>\n",
       "</div>"
      ],
      "text/plain": [
       "                    full_name date_of_birth date_of_death cause_of_death  \\\n",
       "10877          Paul Goldsmith    1925-10-02           NaT           None   \n",
       "8956   Hermano da Silva Ramos    1925-12-07           NaT           None   \n",
       "18189             John Rhodes    1927-08-18           NaT           None   \n",
       "21621           Hans Herrmann    1928-02-23           NaT           None   \n",
       "12692           André Milhoux    1928-12-09           NaT           None   \n",
       "11273       Bernie Ecclestone    1930-10-28           NaT           None   \n",
       "10514             David Piper    1930-12-02           NaT           None   \n",
       "12673             Fred Gamble    1932-03-17           NaT           None   \n",
       "10341         Alex Soler-Roig    1932-10-29           NaT           None   \n",
       "12704       Gaetano Starrabba    1932-12-03           NaT           None   \n",
       "10568           Giorgio Bassi    1934-01-20           NaT           None   \n",
       "9846           George Follmer    1934-01-27           NaT           None   \n",
       "19337             Brian Gubby    1934-04-17           NaT           None   \n",
       "10790            Paddy Driver    1934-05-13           NaT           None   \n",
       "18187             Michael May    1934-08-18           NaT           None   \n",
       "18016           Peter Ashdown    1934-10-16           NaT           None   \n",
       "16716              A. J. Foyt    1935-01-16           NaT           None   \n",
       "20930           Carlo Facetti    1935-06-26           NaT           None   \n",
       "10831             John Cordts    1935-07-23           NaT           None   \n",
       "10483                Jim Hall    1935-07-23           NaT           None   \n",
       "\n",
       "      manner_of_death  \n",
       "10877            None  \n",
       "8956             None  \n",
       "18189            None  \n",
       "21621            None  \n",
       "12692            None  \n",
       "11273            None  \n",
       "10514            None  \n",
       "12673            None  \n",
       "10341            None  \n",
       "12704            None  \n",
       "10568            None  \n",
       "9846             None  \n",
       "19337            None  \n",
       "10790            None  \n",
       "18187            None  \n",
       "18016            None  \n",
       "16716            None  \n",
       "20930            None  \n",
       "10831            None  \n",
       "10483            None  "
      ]
     },
     "execution_count": 399,
     "metadata": {},
     "output_type": "execute_result"
    }
   ],
   "source": [
    "results[results['full_name'].isin(living)].sort_values(by='date_of_birth')[['full_name','date_of_birth','date_of_death','cause_of_death','manner_of_death']].drop_duplicates().head(20)"
   ]
  },
  {
   "cell_type": "code",
   "execution_count": 400,
   "id": "5da76c07",
   "metadata": {},
   "outputs": [
    {
     "data": {
      "text/plain": [
       "509"
      ]
     },
     "execution_count": 400,
     "metadata": {},
     "output_type": "execute_result"
    }
   ],
   "source": [
    "dead = results[results['date_of_death'].notnull()]['full_name'].drop_duplicates().to_list()\n",
    "len(dead)"
   ]
  },
  {
   "cell_type": "code",
   "execution_count": 401,
   "id": "4b17e742",
   "metadata": {},
   "outputs": [
    {
     "data": {
      "text/html": [
       "<div>\n",
       "<style scoped>\n",
       "    .dataframe tbody tr th:only-of-type {\n",
       "        vertical-align: middle;\n",
       "    }\n",
       "\n",
       "    .dataframe tbody tr th {\n",
       "        vertical-align: top;\n",
       "    }\n",
       "\n",
       "    .dataframe thead th {\n",
       "        text-align: right;\n",
       "    }\n",
       "</style>\n",
       "<table border=\"1\" class=\"dataframe\">\n",
       "  <thead>\n",
       "    <tr style=\"text-align: right;\">\n",
       "      <th></th>\n",
       "      <th>full_name</th>\n",
       "      <th>date_of_birth</th>\n",
       "      <th>date_of_death</th>\n",
       "      <th>cause_of_death</th>\n",
       "      <th>manner_of_death</th>\n",
       "    </tr>\n",
       "  </thead>\n",
       "  <tbody>\n",
       "    <tr>\n",
       "      <th>19366</th>\n",
       "      <td>Jules Bianchi</td>\n",
       "      <td>1989-08-03</td>\n",
       "      <td>2015-07-17</td>\n",
       "      <td>diffuse axonal injury</td>\n",
       "      <td>accidental death</td>\n",
       "    </tr>\n",
       "    <tr>\n",
       "      <th>7849</th>\n",
       "      <td>Justin Wilson</td>\n",
       "      <td>1978-07-31</td>\n",
       "      <td>2015-08-24</td>\n",
       "      <td>None</td>\n",
       "      <td>None</td>\n",
       "    </tr>\n",
       "    <tr>\n",
       "      <th>23010</th>\n",
       "      <td>Roland Ratzenberger</td>\n",
       "      <td>1960-07-04</td>\n",
       "      <td>1994-04-30</td>\n",
       "      <td>basilar skull fracture</td>\n",
       "      <td>accidental death</td>\n",
       "    </tr>\n",
       "    <tr>\n",
       "      <th>5592</th>\n",
       "      <td>Adrián Campos</td>\n",
       "      <td>1960-06-17</td>\n",
       "      <td>2021-01-27</td>\n",
       "      <td>None</td>\n",
       "      <td>None</td>\n",
       "    </tr>\n",
       "    <tr>\n",
       "      <th>2</th>\n",
       "      <td>Ayrton Senna</td>\n",
       "      <td>1960-03-21</td>\n",
       "      <td>1994-05-01</td>\n",
       "      <td>traumatic brain injury</td>\n",
       "      <td>accidental death</td>\n",
       "    </tr>\n",
       "    <tr>\n",
       "      <th>15925</th>\n",
       "      <td>Andrea de Cesaris</td>\n",
       "      <td>1959-05-31</td>\n",
       "      <td>2014-10-05</td>\n",
       "      <td>motorcycle accident</td>\n",
       "      <td>accidental death</td>\n",
       "    </tr>\n",
       "    <tr>\n",
       "      <th>16953</th>\n",
       "      <td>Riccardo Paletti</td>\n",
       "      <td>1958-06-15</td>\n",
       "      <td>1982-06-13</td>\n",
       "      <td>None</td>\n",
       "      <td>None</td>\n",
       "    </tr>\n",
       "    <tr>\n",
       "      <th>8559</th>\n",
       "      <td>John Crichton-Stuart, 7th Marquess of Bute</td>\n",
       "      <td>1958-04-26</td>\n",
       "      <td>2021-03-22</td>\n",
       "      <td>None</td>\n",
       "      <td>None</td>\n",
       "    </tr>\n",
       "    <tr>\n",
       "      <th>15536</th>\n",
       "      <td>Elio de Angelis</td>\n",
       "      <td>1958-03-26</td>\n",
       "      <td>1986-05-15</td>\n",
       "      <td>smoke inhalation injury</td>\n",
       "      <td>None</td>\n",
       "    </tr>\n",
       "    <tr>\n",
       "      <th>20943</th>\n",
       "      <td>Stefan Bellof</td>\n",
       "      <td>1957-11-20</td>\n",
       "      <td>1985-09-01</td>\n",
       "      <td>None</td>\n",
       "      <td>None</td>\n",
       "    </tr>\n",
       "    <tr>\n",
       "      <th>14185</th>\n",
       "      <td>Michele Alboreto</td>\n",
       "      <td>1956-12-23</td>\n",
       "      <td>2001-04-25</td>\n",
       "      <td>traffic collision</td>\n",
       "      <td>None</td>\n",
       "    </tr>\n",
       "    <tr>\n",
       "      <th>15129</th>\n",
       "      <td>Philippe Streiff</td>\n",
       "      <td>1955-06-26</td>\n",
       "      <td>2022-12-23</td>\n",
       "      <td>None</td>\n",
       "      <td>None</td>\n",
       "    </tr>\n",
       "    <tr>\n",
       "      <th>23334</th>\n",
       "      <td>Jo Gartner</td>\n",
       "      <td>1954-01-24</td>\n",
       "      <td>1986-06-01</td>\n",
       "      <td>None</td>\n",
       "      <td>None</td>\n",
       "    </tr>\n",
       "    <tr>\n",
       "      <th>6362</th>\n",
       "      <td>Tony Brise</td>\n",
       "      <td>1952-03-28</td>\n",
       "      <td>1975-11-29</td>\n",
       "      <td>aviation accident</td>\n",
       "      <td>accidental death</td>\n",
       "    </tr>\n",
       "    <tr>\n",
       "      <th>4777</th>\n",
       "      <td>Didier Pironi</td>\n",
       "      <td>1952-03-26</td>\n",
       "      <td>1987-08-23</td>\n",
       "      <td>Fortune de mer</td>\n",
       "      <td>None</td>\n",
       "    </tr>\n",
       "    <tr>\n",
       "      <th>21154</th>\n",
       "      <td>Manfred Winkelhock</td>\n",
       "      <td>1951-10-06</td>\n",
       "      <td>1985-08-12</td>\n",
       "      <td>None</td>\n",
       "      <td>None</td>\n",
       "    </tr>\n",
       "    <tr>\n",
       "      <th>17466</th>\n",
       "      <td>Loris Kessel</td>\n",
       "      <td>1950-04-01</td>\n",
       "      <td>2010-05-15</td>\n",
       "      <td>leukemia</td>\n",
       "      <td>natural causes</td>\n",
       "    </tr>\n",
       "    <tr>\n",
       "      <th>13366</th>\n",
       "      <td>Gilles Villeneuve</td>\n",
       "      <td>1950-01-18</td>\n",
       "      <td>1982-05-08</td>\n",
       "      <td>traffic collision</td>\n",
       "      <td>None</td>\n",
       "    </tr>\n",
       "    <tr>\n",
       "      <th>10036</th>\n",
       "      <td>Patrick Nève</td>\n",
       "      <td>1949-10-13</td>\n",
       "      <td>2017-03-13</td>\n",
       "      <td>None</td>\n",
       "      <td>None</td>\n",
       "    </tr>\n",
       "    <tr>\n",
       "      <th>10727</th>\n",
       "      <td>Ricardo Londoño</td>\n",
       "      <td>1949-08-08</td>\n",
       "      <td>2009-07-18</td>\n",
       "      <td>None</td>\n",
       "      <td>homicide</td>\n",
       "    </tr>\n",
       "    <tr>\n",
       "      <th>14839</th>\n",
       "      <td>Patrick Tambay</td>\n",
       "      <td>1949-06-25</td>\n",
       "      <td>2022-12-04</td>\n",
       "      <td>Parkinson's disease</td>\n",
       "      <td>natural causes</td>\n",
       "    </tr>\n",
       "    <tr>\n",
       "      <th>12966</th>\n",
       "      <td>Tom Pryce</td>\n",
       "      <td>1949-06-11</td>\n",
       "      <td>1977-03-05</td>\n",
       "      <td>traffic collision</td>\n",
       "      <td>None</td>\n",
       "    </tr>\n",
       "    <tr>\n",
       "      <th>22836</th>\n",
       "      <td>Niki Lauda</td>\n",
       "      <td>1949-02-22</td>\n",
       "      <td>2019-05-20</td>\n",
       "      <td>None</td>\n",
       "      <td>natural causes</td>\n",
       "    </tr>\n",
       "    <tr>\n",
       "      <th>10533</th>\n",
       "      <td>Guy Tunmer</td>\n",
       "      <td>1948-12-01</td>\n",
       "      <td>1999-06-22</td>\n",
       "      <td>None</td>\n",
       "      <td>None</td>\n",
       "    </tr>\n",
       "    <tr>\n",
       "      <th>5379</th>\n",
       "      <td>Gunnar Nilsson</td>\n",
       "      <td>1948-11-20</td>\n",
       "      <td>1978-10-20</td>\n",
       "      <td>testicular cancer</td>\n",
       "      <td>natural causes</td>\n",
       "    </tr>\n",
       "    <tr>\n",
       "      <th>23292</th>\n",
       "      <td>Helmuth Koinigg</td>\n",
       "      <td>1948-11-03</td>\n",
       "      <td>1974-10-06</td>\n",
       "      <td>decapitation</td>\n",
       "      <td>None</td>\n",
       "    </tr>\n",
       "    <tr>\n",
       "      <th>23304</th>\n",
       "      <td>Harald Ertl</td>\n",
       "      <td>1948-08-31</td>\n",
       "      <td>1982-04-07</td>\n",
       "      <td>aircraft crash</td>\n",
       "      <td>accidental death</td>\n",
       "    </tr>\n",
       "    <tr>\n",
       "      <th>10583</th>\n",
       "      <td>Jim Crawford</td>\n",
       "      <td>1948-02-13</td>\n",
       "      <td>2002-08-06</td>\n",
       "      <td>liver failure</td>\n",
       "      <td>natural causes</td>\n",
       "    </tr>\n",
       "    <tr>\n",
       "      <th>6408</th>\n",
       "      <td>Roger Williamson</td>\n",
       "      <td>1948-02-02</td>\n",
       "      <td>1973-07-29</td>\n",
       "      <td>asphyxia</td>\n",
       "      <td>None</td>\n",
       "    </tr>\n",
       "    <tr>\n",
       "      <th>2235</th>\n",
       "      <td>James Hunt</td>\n",
       "      <td>1947-08-29</td>\n",
       "      <td>1993-06-15</td>\n",
       "      <td>myocardial infarction</td>\n",
       "      <td>natural causes</td>\n",
       "    </tr>\n",
       "    <tr>\n",
       "      <th>19325</th>\n",
       "      <td>Andy Sutcliffe</td>\n",
       "      <td>1947-05-09</td>\n",
       "      <td>2015-07-13</td>\n",
       "      <td>None</td>\n",
       "      <td>None</td>\n",
       "    </tr>\n",
       "    <tr>\n",
       "      <th>23342</th>\n",
       "      <td>Otto Stuppacher</td>\n",
       "      <td>1947-03-03</td>\n",
       "      <td>2001-08-13</td>\n",
       "      <td>None</td>\n",
       "      <td>None</td>\n",
       "    </tr>\n",
       "    <tr>\n",
       "      <th>10166</th>\n",
       "      <td>Renzo Zorzi</td>\n",
       "      <td>1946-12-12</td>\n",
       "      <td>2015-05-15</td>\n",
       "      <td>None</td>\n",
       "      <td>None</td>\n",
       "    </tr>\n",
       "    <tr>\n",
       "      <th>10435</th>\n",
       "      <td>Slim Borgudd</td>\n",
       "      <td>1946-11-25</td>\n",
       "      <td>2023-02-23</td>\n",
       "      <td>None</td>\n",
       "      <td>None</td>\n",
       "    </tr>\n",
       "    <tr>\n",
       "      <th>20699</th>\n",
       "      <td>Alberto Colombo</td>\n",
       "      <td>1946-02-23</td>\n",
       "      <td>2024-01-07</td>\n",
       "      <td>None</td>\n",
       "      <td>None</td>\n",
       "    </tr>\n",
       "    <tr>\n",
       "      <th>21606</th>\n",
       "      <td>Brian McGuire</td>\n",
       "      <td>1945-12-13</td>\n",
       "      <td>1977-08-29</td>\n",
       "      <td>None</td>\n",
       "      <td>None</td>\n",
       "    </tr>\n",
       "    <tr>\n",
       "      <th>8843</th>\n",
       "      <td>David Purley</td>\n",
       "      <td>1945-01-26</td>\n",
       "      <td>1985-07-02</td>\n",
       "      <td>aviation accident</td>\n",
       "      <td>accidental death</td>\n",
       "    </tr>\n",
       "    <tr>\n",
       "      <th>10195</th>\n",
       "      <td>François Migault</td>\n",
       "      <td>1944-12-04</td>\n",
       "      <td>2012-01-29</td>\n",
       "      <td>None</td>\n",
       "      <td>None</td>\n",
       "    </tr>\n",
       "    <tr>\n",
       "      <th>5304</th>\n",
       "      <td>Carlos Pace</td>\n",
       "      <td>1944-10-06</td>\n",
       "      <td>1977-03-18</td>\n",
       "      <td>None</td>\n",
       "      <td>accidental death</td>\n",
       "    </tr>\n",
       "    <tr>\n",
       "      <th>10564</th>\n",
       "      <td>Eddie Keizan</td>\n",
       "      <td>1944-09-12</td>\n",
       "      <td>2016-05-21</td>\n",
       "      <td>None</td>\n",
       "      <td>None</td>\n",
       "    </tr>\n",
       "    <tr>\n",
       "      <th>8027</th>\n",
       "      <td>Patrick Depailler</td>\n",
       "      <td>1944-08-09</td>\n",
       "      <td>1980-08-01</td>\n",
       "      <td>None</td>\n",
       "      <td>None</td>\n",
       "    </tr>\n",
       "    <tr>\n",
       "      <th>10576</th>\n",
       "      <td>Dave Morgan</td>\n",
       "      <td>1944-08-07</td>\n",
       "      <td>2018-11-06</td>\n",
       "      <td>cerebrovascular disease</td>\n",
       "      <td>None</td>\n",
       "    </tr>\n",
       "    <tr>\n",
       "      <th>20548</th>\n",
       "      <td>Emilio Zapico</td>\n",
       "      <td>1944-05-27</td>\n",
       "      <td>1996-08-06</td>\n",
       "      <td>aviation accident</td>\n",
       "      <td>None</td>\n",
       "    </tr>\n",
       "    <tr>\n",
       "      <th>9744</th>\n",
       "      <td>José Dolhem</td>\n",
       "      <td>1944-04-26</td>\n",
       "      <td>1988-04-16</td>\n",
       "      <td>aviation accident</td>\n",
       "      <td>accidental death</td>\n",
       "    </tr>\n",
       "    <tr>\n",
       "      <th>12243</th>\n",
       "      <td>François Cevert</td>\n",
       "      <td>1944-02-25</td>\n",
       "      <td>1973-10-06</td>\n",
       "      <td>None</td>\n",
       "      <td>None</td>\n",
       "    </tr>\n",
       "    <tr>\n",
       "      <th>17182</th>\n",
       "      <td>Ronnie Peterson</td>\n",
       "      <td>1944-02-14</td>\n",
       "      <td>1978-09-11</td>\n",
       "      <td>embolism</td>\n",
       "      <td>None</td>\n",
       "    </tr>\n",
       "    <tr>\n",
       "      <th>17531</th>\n",
       "      <td>Wilson Fittipaldi Júnior</td>\n",
       "      <td>1943-12-25</td>\n",
       "      <td>2024-02-23</td>\n",
       "      <td>cardiac arrest</td>\n",
       "      <td>natural causes</td>\n",
       "    </tr>\n",
       "    <tr>\n",
       "      <th>10843</th>\n",
       "      <td>Bertil Roos</td>\n",
       "      <td>1943-10-12</td>\n",
       "      <td>2016-03-31</td>\n",
       "      <td>None</td>\n",
       "      <td>None</td>\n",
       "    </tr>\n",
       "    <tr>\n",
       "      <th>17888</th>\n",
       "      <td>Leo Kinnunen</td>\n",
       "      <td>1943-08-05</td>\n",
       "      <td>2017-07-26</td>\n",
       "      <td>pneumonia</td>\n",
       "      <td>None</td>\n",
       "    </tr>\n",
       "    <tr>\n",
       "      <th>5941</th>\n",
       "      <td>Chris Amon</td>\n",
       "      <td>1943-07-20</td>\n",
       "      <td>2016-08-03</td>\n",
       "      <td>cancer</td>\n",
       "      <td>natural causes</td>\n",
       "    </tr>\n",
       "  </tbody>\n",
       "</table>\n",
       "</div>"
      ],
      "text/plain": [
       "                                        full_name date_of_birth date_of_death  \\\n",
       "19366                               Jules Bianchi    1989-08-03    2015-07-17   \n",
       "7849                                Justin Wilson    1978-07-31    2015-08-24   \n",
       "23010                         Roland Ratzenberger    1960-07-04    1994-04-30   \n",
       "5592                                Adrián Campos    1960-06-17    2021-01-27   \n",
       "2                                    Ayrton Senna    1960-03-21    1994-05-01   \n",
       "15925                           Andrea de Cesaris    1959-05-31    2014-10-05   \n",
       "16953                            Riccardo Paletti    1958-06-15    1982-06-13   \n",
       "8559   John Crichton-Stuart, 7th Marquess of Bute    1958-04-26    2021-03-22   \n",
       "15536                             Elio de Angelis    1958-03-26    1986-05-15   \n",
       "20943                               Stefan Bellof    1957-11-20    1985-09-01   \n",
       "14185                            Michele Alboreto    1956-12-23    2001-04-25   \n",
       "15129                            Philippe Streiff    1955-06-26    2022-12-23   \n",
       "23334                                  Jo Gartner    1954-01-24    1986-06-01   \n",
       "6362                                   Tony Brise    1952-03-28    1975-11-29   \n",
       "4777                                Didier Pironi    1952-03-26    1987-08-23   \n",
       "21154                          Manfred Winkelhock    1951-10-06    1985-08-12   \n",
       "17466                                Loris Kessel    1950-04-01    2010-05-15   \n",
       "13366                           Gilles Villeneuve    1950-01-18    1982-05-08   \n",
       "10036                                Patrick Nève    1949-10-13    2017-03-13   \n",
       "10727                             Ricardo Londoño    1949-08-08    2009-07-18   \n",
       "14839                              Patrick Tambay    1949-06-25    2022-12-04   \n",
       "12966                                   Tom Pryce    1949-06-11    1977-03-05   \n",
       "22836                                  Niki Lauda    1949-02-22    2019-05-20   \n",
       "10533                                  Guy Tunmer    1948-12-01    1999-06-22   \n",
       "5379                               Gunnar Nilsson    1948-11-20    1978-10-20   \n",
       "23292                             Helmuth Koinigg    1948-11-03    1974-10-06   \n",
       "23304                                 Harald Ertl    1948-08-31    1982-04-07   \n",
       "10583                                Jim Crawford    1948-02-13    2002-08-06   \n",
       "6408                             Roger Williamson    1948-02-02    1973-07-29   \n",
       "2235                                   James Hunt    1947-08-29    1993-06-15   \n",
       "19325                              Andy Sutcliffe    1947-05-09    2015-07-13   \n",
       "23342                             Otto Stuppacher    1947-03-03    2001-08-13   \n",
       "10166                                 Renzo Zorzi    1946-12-12    2015-05-15   \n",
       "10435                                Slim Borgudd    1946-11-25    2023-02-23   \n",
       "20699                             Alberto Colombo    1946-02-23    2024-01-07   \n",
       "21606                               Brian McGuire    1945-12-13    1977-08-29   \n",
       "8843                                 David Purley    1945-01-26    1985-07-02   \n",
       "10195                            François Migault    1944-12-04    2012-01-29   \n",
       "5304                                  Carlos Pace    1944-10-06    1977-03-18   \n",
       "10564                                Eddie Keizan    1944-09-12    2016-05-21   \n",
       "8027                            Patrick Depailler    1944-08-09    1980-08-01   \n",
       "10576                                 Dave Morgan    1944-08-07    2018-11-06   \n",
       "20548                               Emilio Zapico    1944-05-27    1996-08-06   \n",
       "9744                                  José Dolhem    1944-04-26    1988-04-16   \n",
       "12243                             François Cevert    1944-02-25    1973-10-06   \n",
       "17182                             Ronnie Peterson    1944-02-14    1978-09-11   \n",
       "17531                    Wilson Fittipaldi Júnior    1943-12-25    2024-02-23   \n",
       "10843                                 Bertil Roos    1943-10-12    2016-03-31   \n",
       "17888                                Leo Kinnunen    1943-08-05    2017-07-26   \n",
       "5941                                   Chris Amon    1943-07-20    2016-08-03   \n",
       "\n",
       "                cause_of_death   manner_of_death  \n",
       "19366    diffuse axonal injury  accidental death  \n",
       "7849                      None              None  \n",
       "23010   basilar skull fracture  accidental death  \n",
       "5592                      None              None  \n",
       "2       traumatic brain injury  accidental death  \n",
       "15925      motorcycle accident  accidental death  \n",
       "16953                     None              None  \n",
       "8559                      None              None  \n",
       "15536  smoke inhalation injury              None  \n",
       "20943                     None              None  \n",
       "14185        traffic collision              None  \n",
       "15129                     None              None  \n",
       "23334                     None              None  \n",
       "6362         aviation accident  accidental death  \n",
       "4777            Fortune de mer              None  \n",
       "21154                     None              None  \n",
       "17466                 leukemia    natural causes  \n",
       "13366        traffic collision              None  \n",
       "10036                     None              None  \n",
       "10727                     None          homicide  \n",
       "14839      Parkinson's disease    natural causes  \n",
       "12966        traffic collision              None  \n",
       "22836                     None    natural causes  \n",
       "10533                     None              None  \n",
       "5379         testicular cancer    natural causes  \n",
       "23292             decapitation              None  \n",
       "23304           aircraft crash  accidental death  \n",
       "10583            liver failure    natural causes  \n",
       "6408                  asphyxia              None  \n",
       "2235     myocardial infarction    natural causes  \n",
       "19325                     None              None  \n",
       "23342                     None              None  \n",
       "10166                     None              None  \n",
       "10435                     None              None  \n",
       "20699                     None              None  \n",
       "21606                     None              None  \n",
       "8843         aviation accident  accidental death  \n",
       "10195                     None              None  \n",
       "5304                      None  accidental death  \n",
       "10564                     None              None  \n",
       "8027                      None              None  \n",
       "10576  cerebrovascular disease              None  \n",
       "20548        aviation accident              None  \n",
       "9744         aviation accident  accidental death  \n",
       "12243                     None              None  \n",
       "17182                 embolism              None  \n",
       "17531           cardiac arrest    natural causes  \n",
       "10843                     None              None  \n",
       "17888                pneumonia              None  \n",
       "5941                    cancer    natural causes  "
      ]
     },
     "execution_count": 401,
     "metadata": {},
     "output_type": "execute_result"
    }
   ],
   "source": [
    "results[results['full_name'].isin(dead)][['full_name','date_of_birth','date_of_death','cause_of_death','manner_of_death']].drop_duplicates().sort_values(by='date_of_birth',ascending=False).head(50)"
   ]
  },
  {
   "cell_type": "code",
   "execution_count": 402,
   "id": "00b85c44",
   "metadata": {},
   "outputs": [
    {
     "data": {
      "text/html": [
       "<div>\n",
       "<style scoped>\n",
       "    .dataframe tbody tr th:only-of-type {\n",
       "        vertical-align: middle;\n",
       "    }\n",
       "\n",
       "    .dataframe tbody tr th {\n",
       "        vertical-align: top;\n",
       "    }\n",
       "\n",
       "    .dataframe thead th {\n",
       "        text-align: right;\n",
       "    }\n",
       "</style>\n",
       "<table border=\"1\" class=\"dataframe\">\n",
       "  <thead>\n",
       "    <tr style=\"text-align: right;\">\n",
       "      <th></th>\n",
       "      <th>full_name</th>\n",
       "      <th>date_of_birth</th>\n",
       "      <th>date_of_death</th>\n",
       "      <th>cause_of_death</th>\n",
       "      <th>manner_of_death</th>\n",
       "    </tr>\n",
       "  </thead>\n",
       "  <tbody>\n",
       "    <tr>\n",
       "      <th>17531</th>\n",
       "      <td>Wilson Fittipaldi Júnior</td>\n",
       "      <td>1943-12-25</td>\n",
       "      <td>2024-02-23</td>\n",
       "      <td>cardiac arrest</td>\n",
       "      <td>natural causes</td>\n",
       "    </tr>\n",
       "    <tr>\n",
       "      <th>20699</th>\n",
       "      <td>Alberto Colombo</td>\n",
       "      <td>1946-02-23</td>\n",
       "      <td>2024-01-07</td>\n",
       "      <td>None</td>\n",
       "      <td>None</td>\n",
       "    </tr>\n",
       "    <tr>\n",
       "      <th>12700</th>\n",
       "      <td>Basil van Rooyen</td>\n",
       "      <td>1939-04-19</td>\n",
       "      <td>2023-09-14</td>\n",
       "      <td>None</td>\n",
       "      <td>None</td>\n",
       "    </tr>\n",
       "    <tr>\n",
       "      <th>10405</th>\n",
       "      <td>Kenneth McAlpine</td>\n",
       "      <td>1920-09-21</td>\n",
       "      <td>2023-04-08</td>\n",
       "      <td>None</td>\n",
       "      <td>None</td>\n",
       "    </tr>\n",
       "    <tr>\n",
       "      <th>10435</th>\n",
       "      <td>Slim Borgudd</td>\n",
       "      <td>1946-11-25</td>\n",
       "      <td>2023-02-23</td>\n",
       "      <td>None</td>\n",
       "      <td>None</td>\n",
       "    </tr>\n",
       "    <tr>\n",
       "      <th>...</th>\n",
       "      <td>...</td>\n",
       "      <td>...</td>\n",
       "      <td>...</td>\n",
       "      <td>...</td>\n",
       "      <td>...</td>\n",
       "    </tr>\n",
       "    <tr>\n",
       "      <th>10510</th>\n",
       "      <td>Cecil Green</td>\n",
       "      <td>1919-09-30</td>\n",
       "      <td>1951-07-29</td>\n",
       "      <td>None</td>\n",
       "      <td>None</td>\n",
       "    </tr>\n",
       "    <tr>\n",
       "      <th>18236</th>\n",
       "      <td>Bill Mackey</td>\n",
       "      <td>1927-12-15</td>\n",
       "      <td>1951-07-29</td>\n",
       "      <td>None</td>\n",
       "      <td>None</td>\n",
       "    </tr>\n",
       "    <tr>\n",
       "      <th>10879</th>\n",
       "      <td>Walt Brown</td>\n",
       "      <td>1911-12-30</td>\n",
       "      <td>1951-07-29</td>\n",
       "      <td>None</td>\n",
       "      <td>None</td>\n",
       "    </tr>\n",
       "    <tr>\n",
       "      <th>9062</th>\n",
       "      <td>Raymond Sommer</td>\n",
       "      <td>1906-08-31</td>\n",
       "      <td>1950-09-10</td>\n",
       "      <td>None</td>\n",
       "      <td>None</td>\n",
       "    </tr>\n",
       "    <tr>\n",
       "      <th>10567</th>\n",
       "      <td>Joe Fry</td>\n",
       "      <td>1915-10-26</td>\n",
       "      <td>1950-07-29</td>\n",
       "      <td>None</td>\n",
       "      <td>None</td>\n",
       "    </tr>\n",
       "  </tbody>\n",
       "</table>\n",
       "<p>509 rows × 5 columns</p>\n",
       "</div>"
      ],
      "text/plain": [
       "                      full_name date_of_birth date_of_death  cause_of_death  \\\n",
       "17531  Wilson Fittipaldi Júnior    1943-12-25    2024-02-23  cardiac arrest   \n",
       "20699           Alberto Colombo    1946-02-23    2024-01-07            None   \n",
       "12700          Basil van Rooyen    1939-04-19    2023-09-14            None   \n",
       "10405          Kenneth McAlpine    1920-09-21    2023-04-08            None   \n",
       "10435              Slim Borgudd    1946-11-25    2023-02-23            None   \n",
       "...                         ...           ...           ...             ...   \n",
       "10510               Cecil Green    1919-09-30    1951-07-29            None   \n",
       "18236               Bill Mackey    1927-12-15    1951-07-29            None   \n",
       "10879                Walt Brown    1911-12-30    1951-07-29            None   \n",
       "9062             Raymond Sommer    1906-08-31    1950-09-10            None   \n",
       "10567                   Joe Fry    1915-10-26    1950-07-29            None   \n",
       "\n",
       "      manner_of_death  \n",
       "17531  natural causes  \n",
       "20699            None  \n",
       "12700            None  \n",
       "10405            None  \n",
       "10435            None  \n",
       "...               ...  \n",
       "10510            None  \n",
       "18236            None  \n",
       "10879            None  \n",
       "9062             None  \n",
       "10567            None  \n",
       "\n",
       "[509 rows x 5 columns]"
      ]
     },
     "execution_count": 402,
     "metadata": {},
     "output_type": "execute_result"
    }
   ],
   "source": [
    "results[results['full_name'].isin(dead)][['full_name','date_of_birth','date_of_death','cause_of_death','manner_of_death']].drop_duplicates().dropna(subset=['date_of_death']).sort_values(by='date_of_death',ascending=False)"
   ]
  },
  {
   "cell_type": "code",
   "execution_count": 403,
   "id": "c269c2ad",
   "metadata": {},
   "outputs": [
    {
     "data": {
      "text/plain": [
       "date_of_death\n",
       "1951-07-29    3\n",
       "1960-06-19    3\n",
       "1957-07-14    2\n",
       "1959-08-01    2\n",
       "1966-06-11    2\n",
       "1975-11-29    2\n",
       "1987-02-10    2\n",
       "2014-05-04    2\n",
       "1950-07-29    1\n",
       "1950-09-10    1\n",
       "Name: name, dtype: int64"
      ]
     },
     "execution_count": 403,
     "metadata": {},
     "output_type": "execute_result"
    }
   ],
   "source": [
    "results.groupby('date_of_death')['name'].nunique().nlargest(10)"
   ]
  },
  {
   "cell_type": "code",
   "execution_count": 404,
   "id": "8fb42d0b",
   "metadata": {},
   "outputs": [],
   "source": [
    "results['life_remaining'] = results['date_of_death'] - results['date']"
   ]
  },
  {
   "cell_type": "code",
   "execution_count": 405,
   "id": "2245eb93",
   "metadata": {},
   "outputs": [
    {
     "data": {
      "text/plain": [
       "year\n",
       "2014.0              389 days 12:48:00\n",
       "2013.0    719 days 08:50:31.578947368\n",
       "1994.0             3658 days 08:00:00\n",
       "1993.0   3675 days 18:15:39.130434752\n",
       "1992.0             4000 days 22:00:00\n",
       "Name: life_remaining, dtype: timedelta64[ns]"
      ]
     },
     "execution_count": 405,
     "metadata": {},
     "output_type": "execute_result"
    }
   ],
   "source": [
    "results.groupby('year')['life_remaining'].mean().nsmallest()"
   ]
  },
  {
   "cell_type": "code",
   "execution_count": 406,
   "id": "eb6658f1",
   "metadata": {},
   "outputs": [
    {
     "data": {
      "text/plain": [
       "<Axes: xlabel='year'>"
      ]
     },
     "execution_count": 406,
     "metadata": {},
     "output_type": "execute_result"
    },
    {
     "data": {
      "image/png": "[encoded data removed]",
      "text/plain": [
       "<Figure size 1000x500 with 1 Axes>"
      ]
     },
     "metadata": {},
     "output_type": "display_data"
    }
   ],
   "source": [
    "pd.Series(results[(results['life_remaining'] < pd.Timedelta((365.25*10), unit='d'))].groupby('year')['name'].nunique() / results.groupby('year')['name'].nunique()).head(64).plot.bar(figsize=(10,5))"
   ]
  },
  {
   "cell_type": "code",
   "execution_count": 407,
   "id": "db971326",
   "metadata": {},
   "outputs": [
    {
     "data": {
      "text/plain": [
       "<Axes: xlabel='year'>"
      ]
     },
     "execution_count": 407,
     "metadata": {},
     "output_type": "execute_result"
    },
    {
     "data": {
      "image/png": "[encoded data removed]",
      "text/plain": [
       "<Figure size 2500x500 with 1 Axes>"
      ]
     },
     "metadata": {},
     "output_type": "display_data"
    }
   ],
   "source": [
    "pd.Series(results[(results['life_remaining'] < pd.Timedelta((365.25*10), unit='d'))].groupby('year')['name'].nunique() / results.groupby('year')['name'].nunique()).plot.bar(figsize=(25,5))"
   ]
  },
  {
   "cell_type": "code",
   "execution_count": 408,
   "id": "21b70d73",
   "metadata": {},
   "outputs": [
    {
     "data": {
      "text/plain": [
       "year\n",
       "1964.0    0.463415\n",
       "Name: name, dtype: float64"
      ]
     },
     "execution_count": 408,
     "metadata": {},
     "output_type": "execute_result"
    }
   ],
   "source": [
    "pd.Series(results[(results['life_remaining'] < pd.Timedelta((365.25*10), unit='d'))].groupby('year')['name'].nunique() / results.groupby('year')['name'].nunique()).nlargest(1)"
   ]
  },
  {
   "cell_type": "code",
   "execution_count": 409,
   "id": "f847ee5b",
   "metadata": {
    "scrolled": true
   },
   "outputs": [
    {
     "data": {
      "text/plain": [
       "<Axes: xlabel='year'>"
      ]
     },
     "execution_count": 409,
     "metadata": {},
     "output_type": "execute_result"
    },
    {
     "data": {
      "image/png": "[encoded data removed]",
      "text/plain": [
       "<Figure size 2500x500 with 1 Axes>"
      ]
     },
     "metadata": {},
     "output_type": "display_data"
    }
   ],
   "source": [
    "pd.Series(results[(results['life_remaining'] < pd.Timedelta((365.25*5), unit='d'))].groupby('year')['name'].nunique() / results.groupby('year')['name'].nunique()).plot.bar(figsize=(25,5))"
   ]
  },
  {
   "cell_type": "code",
   "execution_count": 411,
   "id": "36997dcb",
   "metadata": {},
   "outputs": [
    {
     "data": {
      "text/plain": [
       "gp                 year  \n",
       "Monaco Grand Prix  1966.0    0.562500\n",
       "                   1968.0    0.555556\n",
       "French Grand Prix  1957.0    0.533333\n",
       "                   1967.0    0.533333\n",
       "Dutch Grand Prix   1966.0    0.529412\n",
       "Name: name, dtype: float64"
      ]
     },
     "execution_count": 411,
     "metadata": {},
     "output_type": "execute_result"
    }
   ],
   "source": [
    "pd.Series(results[(results['life_remaining'] < pd.Timedelta((365.25*10), unit='d'))].groupby(['gp','year'])['name'].nunique() / results.groupby(['gp','year'])['name'].nunique()).nlargest(5)"
   ]
  },
  {
   "cell_type": "code",
   "execution_count": 412,
   "id": "4e1d92d6",
   "metadata": {},
   "outputs": [
    {
     "data": {
      "text/plain": [
       "gp                    year  \n",
       "French Grand Prix     1957.0    0.533333\n",
       "Argentine Grand Prix  1957.0    0.500000\n",
       "                      1958.0    0.500000\n",
       "Monaco Grand Prix     1967.0    0.473684\n",
       "Dutch Grand Prix      1967.0    0.470588\n",
       "Name: name, dtype: float64"
      ]
     },
     "execution_count": 412,
     "metadata": {},
     "output_type": "execute_result"
    }
   ],
   "source": [
    "pd.Series(results[(results['life_remaining'] < pd.Timedelta((365.25*5), unit='d'))].groupby(['gp','year'])['name'].nunique() / results.groupby(['gp','year'])['name'].nunique()).nlargest(5)"
   ]
  },
  {
   "cell_type": "code",
   "execution_count": 413,
   "id": "336a1905",
   "metadata": {},
   "outputs": [
    {
     "data": {
      "text/plain": [
       "gp                    year  \n",
       "Belgian Grand Prix    1967.0    0.222222\n",
       "Dutch Grand Prix      1958.0    0.222222\n",
       "Belgian Grand Prix    1958.0    0.210526\n",
       "Argentine Grand Prix  1958.0    0.200000\n",
       "French Grand Prix     1967.0    0.200000\n",
       "Name: name, dtype: float64"
      ]
     },
     "execution_count": 413,
     "metadata": {},
     "output_type": "execute_result"
    }
   ],
   "source": [
    "pd.Series(results[(results['life_remaining'] < pd.Timedelta((365.25), unit='d'))].groupby(['gp','year'])['name'].nunique() / results.groupby(['gp','year'])['name'].nunique()).nlargest(5)"
   ]
  },
  {
   "cell_type": "code",
   "execution_count": 414,
   "id": "054e6be4",
   "metadata": {},
   "outputs": [
    {
     "data": {
      "text/plain": [
       "<Axes: xlabel='year'>"
      ]
     },
     "execution_count": 414,
     "metadata": {},
     "output_type": "execute_result"
    },
    {
     "data": {
      "image/png": "[encoded data removed]",
      "text/plain": [
       "<Figure size 2500x500 with 1 Axes>"
      ]
     },
     "metadata": {},
     "output_type": "display_data"
    }
   ],
   "source": [
    "pd.Series(results[(results['life_remaining'] < pd.Timedelta((365.25), unit='d'))].groupby('year')['name'].nunique() / results.groupby('year')['name'].nunique()).plot.bar(figsize=(25,5))"
   ]
  },
  {
   "cell_type": "code",
   "execution_count": 415,
   "id": "b602432f",
   "metadata": {},
   "outputs": [
    {
     "data": {
      "text/plain": [
       "0                           None\n",
       "2               accidental death\n",
       "1771              natural causes\n",
       "9071                     suicide\n",
       "9732                    homicide\n",
       "18073    1967 British Grand Prix\n",
       "19479    Graham Hill plane crash\n",
       "21510           Formula One race\n",
       "26320                        NaN\n",
       "Name: manner_of_death, dtype: object"
      ]
     },
     "execution_count": 415,
     "metadata": {},
     "output_type": "execute_result"
    }
   ],
   "source": [
    "results['manner_of_death'].drop_duplicates()"
   ]
  },
  {
   "cell_type": "code",
   "execution_count": 416,
   "id": "14ade3ef",
   "metadata": {},
   "outputs": [],
   "source": [
    "sad = ['accidental death','Graham Hill plane crash','1967 British Grand Prix','Formula One race']"
   ]
  },
  {
   "cell_type": "code",
   "execution_count": 417,
   "id": "81c90212",
   "metadata": {},
   "outputs": [
    {
     "data": {
      "text/html": [
       "<div>\n",
       "<style scoped>\n",
       "    .dataframe tbody tr th:only-of-type {\n",
       "        vertical-align: middle;\n",
       "    }\n",
       "\n",
       "    .dataframe tbody tr th {\n",
       "        vertical-align: top;\n",
       "    }\n",
       "\n",
       "    .dataframe thead th {\n",
       "        text-align: right;\n",
       "    }\n",
       "</style>\n",
       "<table border=\"1\" class=\"dataframe\">\n",
       "  <thead>\n",
       "    <tr style=\"text-align: right;\">\n",
       "      <th></th>\n",
       "      <th>name</th>\n",
       "      <th>date_of_death</th>\n",
       "    </tr>\n",
       "  </thead>\n",
       "  <tbody>\n",
       "    <tr>\n",
       "      <th>9732</th>\n",
       "      <td>Jackie Pretorius</td>\n",
       "      <td>2009-03-30</td>\n",
       "    </tr>\n",
       "    <tr>\n",
       "      <th>10727</th>\n",
       "      <td>Ricardo Londoño</td>\n",
       "      <td>2009-07-18</td>\n",
       "    </tr>\n",
       "  </tbody>\n",
       "</table>\n",
       "</div>"
      ],
      "text/plain": [
       "                   name date_of_death\n",
       "9732   Jackie Pretorius    2009-03-30\n",
       "10727   Ricardo Londoño    2009-07-18"
      ]
     },
     "execution_count": 417,
     "metadata": {},
     "output_type": "execute_result"
    }
   ],
   "source": [
    "results[results['manner_of_death'] == 'homicide'][['name','date_of_death']].drop_duplicates()"
   ]
  },
  {
   "cell_type": "code",
   "execution_count": 418,
   "id": "0bdd6186",
   "metadata": {},
   "outputs": [
    {
     "data": {
      "text/html": [
       "<div>\n",
       "<style scoped>\n",
       "    .dataframe tbody tr th:only-of-type {\n",
       "        vertical-align: middle;\n",
       "    }\n",
       "\n",
       "    .dataframe tbody tr th {\n",
       "        vertical-align: top;\n",
       "    }\n",
       "\n",
       "    .dataframe thead th {\n",
       "        text-align: right;\n",
       "    }\n",
       "</style>\n",
       "<table border=\"1\" class=\"dataframe\">\n",
       "  <thead>\n",
       "    <tr style=\"text-align: right;\">\n",
       "      <th></th>\n",
       "      <th>name</th>\n",
       "      <th>date_of_death</th>\n",
       "    </tr>\n",
       "  </thead>\n",
       "  <tbody>\n",
       "    <tr>\n",
       "      <th>9071</th>\n",
       "      <td>Willy Mairesse</td>\n",
       "      <td>1969-09-02</td>\n",
       "    </tr>\n",
       "    <tr>\n",
       "      <th>9213</th>\n",
       "      <td>Hap Sharp</td>\n",
       "      <td>1993-05-07</td>\n",
       "    </tr>\n",
       "  </tbody>\n",
       "</table>\n",
       "</div>"
      ],
      "text/plain": [
       "                name date_of_death\n",
       "9071  Willy Mairesse    1969-09-02\n",
       "9213       Hap Sharp    1993-05-07"
      ]
     },
     "execution_count": 418,
     "metadata": {},
     "output_type": "execute_result"
    }
   ],
   "source": [
    "results[results['manner_of_death'] == 'suicide'][['name','date_of_death']].drop_duplicates()"
   ]
  },
  {
   "cell_type": "code",
   "execution_count": 419,
   "id": "6e6127ef",
   "metadata": {},
   "outputs": [],
   "source": [
    "import datetime"
   ]
  },
  {
   "cell_type": "code",
   "execution_count": 420,
   "id": "cab1e16b",
   "metadata": {},
   "outputs": [
    {
     "data": {
      "text/plain": [
       "datetime.date(2024, 3, 19)"
      ]
     },
     "execution_count": 420,
     "metadata": {},
     "output_type": "execute_result"
    }
   ],
   "source": [
    "today = datetime.date.today()\n",
    "today"
   ]
  },
  {
   "cell_type": "code",
   "execution_count": 421,
   "id": "45129a0a",
   "metadata": {},
   "outputs": [],
   "source": [
    "def total_age(dod, dob):\n",
    "    if dob:\n",
    "        if str(dod) != \"NaT\":\n",
    "            return dod - dob\n",
    "        else:\n",
    "            return pd.to_datetime(today) - dob\n",
    "    else:\n",
    "        return None"
   ]
  },
  {
   "cell_type": "code",
   "execution_count": 422,
   "id": "91eba930",
   "metadata": {},
   "outputs": [],
   "source": [
    "results['lived_until'] = results.apply(lambda row: total_age(row['date_of_death'], row['date_of_birth']), axis = 1)"
   ]
  },
  {
   "cell_type": "code",
   "execution_count": 423,
   "id": "248690ee",
   "metadata": {},
   "outputs": [
    {
     "data": {
      "text/html": [
       "<div>\n",
       "<style scoped>\n",
       "    .dataframe tbody tr th:only-of-type {\n",
       "        vertical-align: middle;\n",
       "    }\n",
       "\n",
       "    .dataframe tbody tr th {\n",
       "        vertical-align: top;\n",
       "    }\n",
       "\n",
       "    .dataframe thead th {\n",
       "        text-align: right;\n",
       "    }\n",
       "</style>\n",
       "<table border=\"1\" class=\"dataframe\">\n",
       "  <thead>\n",
       "    <tr style=\"text-align: right;\">\n",
       "      <th></th>\n",
       "      <th>full_name</th>\n",
       "      <th>date_of_birth</th>\n",
       "      <th>date_of_death</th>\n",
       "      <th>lived_until</th>\n",
       "    </tr>\n",
       "  </thead>\n",
       "  <tbody>\n",
       "    <tr>\n",
       "      <th>1371</th>\n",
       "      <td>Oliver Bearman</td>\n",
       "      <td>2005-05-08</td>\n",
       "      <td>NaT</td>\n",
       "      <td>6890 days</td>\n",
       "    </tr>\n",
       "    <tr>\n",
       "      <th>8934</th>\n",
       "      <td>Ricardo Rodríguez de la Vega</td>\n",
       "      <td>1942-02-14</td>\n",
       "      <td>1962-11-01</td>\n",
       "      <td>7565 days</td>\n",
       "    </tr>\n",
       "    <tr>\n",
       "      <th>12685</th>\n",
       "      <td>Peter Ryan</td>\n",
       "      <td>1940-06-10</td>\n",
       "      <td>1962-07-02</td>\n",
       "      <td>8057 days</td>\n",
       "    </tr>\n",
       "    <tr>\n",
       "      <th>21358</th>\n",
       "      <td>Liam Lawson</td>\n",
       "      <td>2002-02-11</td>\n",
       "      <td>NaT</td>\n",
       "      <td>8072 days</td>\n",
       "    </tr>\n",
       "    <tr>\n",
       "      <th>9874</th>\n",
       "      <td>Chris Bristow</td>\n",
       "      <td>1937-12-02</td>\n",
       "      <td>1960-06-19</td>\n",
       "      <td>8235 days</td>\n",
       "    </tr>\n",
       "    <tr>\n",
       "      <th>...</th>\n",
       "      <td>...</td>\n",
       "      <td>...</td>\n",
       "      <td>...</td>\n",
       "      <td>...</td>\n",
       "    </tr>\n",
       "    <tr>\n",
       "      <th>9891</th>\n",
       "      <td>Leslie Marr</td>\n",
       "      <td>1922-08-14</td>\n",
       "      <td>2021-05-04</td>\n",
       "      <td>36058 days</td>\n",
       "    </tr>\n",
       "    <tr>\n",
       "      <th>21451</th>\n",
       "      <td>Paul Pietsch</td>\n",
       "      <td>1911-06-20</td>\n",
       "      <td>2012-05-31</td>\n",
       "      <td>36871 days</td>\n",
       "    </tr>\n",
       "    <tr>\n",
       "      <th>10405</th>\n",
       "      <td>Kenneth McAlpine</td>\n",
       "      <td>1920-09-21</td>\n",
       "      <td>2023-04-08</td>\n",
       "      <td>37454 days</td>\n",
       "    </tr>\n",
       "    <tr>\n",
       "      <th>17305</th>\n",
       "      <td>Clemar Bucci</td>\n",
       "      <td>NaT</td>\n",
       "      <td>2011-01-12</td>\n",
       "      <td>NaT</td>\n",
       "    </tr>\n",
       "    <tr>\n",
       "      <th>26320</th>\n",
       "      <td>NaN</td>\n",
       "      <td>NaT</td>\n",
       "      <td>NaT</td>\n",
       "      <td>NaT</td>\n",
       "    </tr>\n",
       "  </tbody>\n",
       "</table>\n",
       "<p>860 rows × 4 columns</p>\n",
       "</div>"
      ],
      "text/plain": [
       "                          full_name date_of_birth date_of_death lived_until\n",
       "1371                 Oliver Bearman    2005-05-08           NaT   6890 days\n",
       "8934   Ricardo Rodríguez de la Vega    1942-02-14    1962-11-01   7565 days\n",
       "12685                    Peter Ryan    1940-06-10    1962-07-02   8057 days\n",
       "21358                   Liam Lawson    2002-02-11           NaT   8072 days\n",
       "9874                  Chris Bristow    1937-12-02    1960-06-19   8235 days\n",
       "...                             ...           ...           ...         ...\n",
       "9891                    Leslie Marr    1922-08-14    2021-05-04  36058 days\n",
       "21451                  Paul Pietsch    1911-06-20    2012-05-31  36871 days\n",
       "10405              Kenneth McAlpine    1920-09-21    2023-04-08  37454 days\n",
       "17305                  Clemar Bucci           NaT    2011-01-12         NaT\n",
       "26320                           NaN           NaT           NaT         NaT\n",
       "\n",
       "[860 rows x 4 columns]"
      ]
     },
     "execution_count": 423,
     "metadata": {},
     "output_type": "execute_result"
    }
   ],
   "source": [
    "results[['full_name','date_of_birth','date_of_death','lived_until']].drop_duplicates().sort_values(by='lived_until')"
   ]
  },
  {
   "cell_type": "code",
   "execution_count": 424,
   "id": "82407942",
   "metadata": {},
   "outputs": [
    {
     "data": {
      "text/plain": [
       "<Axes: xlabel='year'>"
      ]
     },
     "execution_count": 424,
     "metadata": {},
     "output_type": "execute_result"
    },
    {
     "data": {
      "image/png": "[encoded data removed]",
      "text/plain": [
       "<Figure size 2500x500 with 1 Axes>"
      ]
     },
     "metadata": {},
     "output_type": "display_data"
    }
   ],
   "source": [
    "pd.Series(results[(results['manner_of_death'].isin(sad))].groupby('year')['name'].nunique() / results[~(results['manner_of_death'].isnull())].groupby('year')['name'].nunique()).plot.bar(figsize=(25,5))"
   ]
  },
  {
   "cell_type": "code",
   "execution_count": 425,
   "id": "323a127c",
   "metadata": {},
   "outputs": [
    {
     "data": {
      "text/plain": [
       "<Axes: xlabel='year'>"
      ]
     },
     "execution_count": 425,
     "metadata": {},
     "output_type": "execute_result"
    },
    {
     "data": {
      "image/png": "[encoded data removed]",
      "text/plain": [
       "<Figure size 2500x500 with 1 Axes>"
      ]
     },
     "metadata": {},
     "output_type": "display_data"
    }
   ],
   "source": [
    "pd.Series(results[(results['life_remaining'] < pd.Timedelta((365.25), unit='d'))].groupby('year')['name'].nunique() / results.groupby('year')['name'].nunique()).plot.bar(figsize=(25,5))"
   ]
  }
 ],
 "metadata": {
  "kernelspec": {
   "display_name": "Python 3 (ipykernel)",
   "language": "python",
   "name": "python3"
  },
  "language_info": {
   "codemirror_mode": {
    "name": "ipython",
    "version": 3
   },
   "file_extension": ".py",
   "mimetype": "text/x-python",
   "name": "python",
   "nbconvert_exporter": "python",
   "pygments_lexer": "ipython3",
   "version": "3.11.5"
  }
 },
 "nbformat": 4,
 "nbformat_minor": 5
}
