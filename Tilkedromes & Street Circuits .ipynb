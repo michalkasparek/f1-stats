{
 "cells": [
  {
   "cell_type": "code",
   "execution_count": 1,
   "id": "9c0ca17c",
   "metadata": {
    "scrolled": true
   },
   "outputs": [
    {
     "name": "stderr",
     "output_type": "stream",
     "text": [
      "C:\\Users\\micha\\AppData\\Local\\Temp\\ipykernel_22028\\839611307.py:41: FutureWarning: Passing 'suffixes' which cause duplicate columns {'url_x'} in the result is deprecated and will raise a MergeError in a future version.\n",
      "  results = results.merge(constructors, on=\"constructorId\", how=\"right\")\n"
     ]
    }
   ],
   "source": [
    "%load prepareStats.py"
   ]
  },
  {
   "cell_type": "markdown",
   "id": "c6b5350c",
   "metadata": {},
   "source": [
    "## First let's take a look at the circuits designed by Hermann Tilke"
   ]
  },
  {
   "cell_type": "markdown",
   "id": "3211547e",
   "metadata": {},
   "source": [
    "\"Why do we imagine Hermann Tilke driving incredibly cautiously in a Nissan Micra?\" [@BritsOnPole](https://twitter.com/britsonpole/status/5287814551)"
   ]
  },
  {
   "cell_type": "code",
   "execution_count": 2,
   "id": "ab916d91",
   "metadata": {},
   "outputs": [],
   "source": [
    "tilkedromes = [\"Kuala Lumpur\", \"Sakhir\", \"Istanbul\", \"Valencia\", \"Marina Bay\", \"Shanghai\", \"Abu Dhabi\", \"Yeongam County\", \"Uttar Pradesh\", \"Austin\", \"Sochi\", \"Baku\", \"Jeddah\"]"
   ]
  },
  {
   "cell_type": "code",
   "execution_count": 3,
   "id": "afe0211c",
   "metadata": {},
   "outputs": [],
   "source": [
    "results.loc[results.location.isin(tilkedromes),\"tilkedrome\"]=True"
   ]
  },
  {
   "cell_type": "code",
   "execution_count": 4,
   "id": "1bb89306",
   "metadata": {},
   "outputs": [],
   "source": [
    "results.loc[(results.location == \"Hockenheim\") & (results.year > 2002),\"tilkedrome\"]=True\n",
    "results.loc[(results.location == \"Spielberg\") & (results.year > 1996),\"tilkedrome\"]=True\n",
    "results.loc[(results.location == \"Oyama\") & (results.year > 2005),\"tilkedrome\"]=True\n",
    "results.loc[(results.location == \"Montmeló\") & (results.year > 2007),\"tilkedrome\"]=True\n",
    "results.loc[(results.location == \"Nürburg\") & (results.year > 2002),\"tilkedrome\"]=True\n",
    "results.loc[(results.location == \"Mexico City\") & (results.year > 2014),\"tilkedrome\"]=True"
   ]
  },
  {
   "cell_type": "code",
   "execution_count": 5,
   "id": "42f58257",
   "metadata": {},
   "outputs": [],
   "source": [
    "resultsBefore2022 = results[~results.year.eq(2022)]"
   ]
  },
  {
   "cell_type": "code",
   "execution_count": 6,
   "id": "00f2b476",
   "metadata": {},
   "outputs": [],
   "source": [
    "tilkeRatio = resultsBefore2022[resultsBefore2022[\"tilkedrome\"] == True].groupby(\"year\")[\"raceId\"].nunique() / resultsBefore2022.groupby(\"year\")[\"raceId\"].nunique()"
   ]
  },
  {
   "cell_type": "code",
   "execution_count": 7,
   "id": "7a1091bd",
   "metadata": {},
   "outputs": [
    {
     "data": {
      "text/plain": [
       "<AxesSubplot:xlabel='year'>"
      ]
     },
     "execution_count": 7,
     "metadata": {},
     "output_type": "execute_result"
    },
    {
     "data": {
      "image/png": "[encoded data removed]",
      "text/plain": [
       "<Figure size 432x288 with 1 Axes>"
      ]
     },
     "metadata": {
      "needs_background": "light"
     },
     "output_type": "display_data"
    }
   ],
   "source": [
    "tilkeRatio.plot()"
   ]
  },
  {
   "cell_type": "markdown",
   "id": "3d3ac4c6",
   "metadata": {},
   "source": [
    "Tilkedromes skyrocketed between 2003 and 2009; they've been hosting around a half of races ever since."
   ]
  },
  {
   "cell_type": "markdown",
   "id": "dc40b364",
   "metadata": {},
   "source": [
    "## Street Circuits"
   ]
  },
  {
   "cell_type": "code",
   "execution_count": 8,
   "id": "9980101e",
   "metadata": {},
   "outputs": [],
   "source": [
    "yearlyStreetRatio = resultsBefore2022[resultsBefore2022[\"street\"] == True].groupby(\"year\")[\"raceId\"].nunique() / resultsBefore2022.groupby(\"year\")[\"raceId\"].nunique()"
   ]
  },
  {
   "cell_type": "code",
   "execution_count": 9,
   "id": "b56d0c5a",
   "metadata": {
    "scrolled": true
   },
   "outputs": [
    {
     "data": {
      "text/plain": [
       "<AxesSubplot:xlabel='year'>"
      ]
     },
     "execution_count": 9,
     "metadata": {},
     "output_type": "execute_result"
    },
    {
     "data": {
      "image/png": "[encoded data removed]",
      "text/plain": [
       "<Figure size 432x288 with 1 Axes>"
      ]
     },
     "metadata": {
      "needs_background": "light"
     },
     "output_type": "display_data"
    }
   ],
   "source": [
    "yearlyStreetRatio.plot()"
   ]
  },
  {
   "cell_type": "markdown",
   "id": "093636c4",
   "metadata": {},
   "source": [
    "The 1980s were the first era of street circuits (remarkably ugly in that time). The fad came back in the late 2000s with \"destination races\" (remarkably posh)."
   ]
  },
  {
   "cell_type": "markdown",
   "id": "9b992521",
   "metadata": {},
   "source": [
    "## Monaco Grand Prix"
   ]
  },
  {
   "cell_type": "markdown",
   "id": "317aa3e7",
   "metadata": {},
   "source": [
    "\"Tell you the truth, I hate Monaco. It’s like riding a bicycle around your living room.\" Nelson Piquet"
   ]
  },
  {
   "cell_type": "code",
   "execution_count": 10,
   "id": "7fc98b9f",
   "metadata": {},
   "outputs": [],
   "source": [
    "uniqueWinningLocations = pd.Series(wins.groupby(\"driverId\")[\"location\"].nunique(), dtype=\"object\", name='uniq')"
   ]
  },
  {
   "cell_type": "code",
   "execution_count": 11,
   "id": "5f33d713",
   "metadata": {},
   "outputs": [],
   "source": [
    "wins = wins.merge(uniqueWinningLocations, on=\"driverId\", how=\"right\")"
   ]
  },
  {
   "cell_type": "code",
   "execution_count": 12,
   "id": "97ef34cb",
   "metadata": {
    "scrolled": false
   },
   "outputs": [
    {
     "data": {
      "text/plain": [
       "location\n",
       "Indianapolis    10\n",
       "Monte-Carlo      4\n",
       "Monza            3\n",
       "Budapest         2\n",
       "Montreal         2\n",
       "Name: fullname, dtype: int64"
      ]
     },
     "execution_count": 12,
     "metadata": {},
     "output_type": "execute_result"
    }
   ],
   "source": [
    "wins[wins[\"uniq\"] == 1].groupby([\"location\"])[\"fullname\"].nunique().nlargest(5)"
   ]
  },
  {
   "cell_type": "markdown",
   "id": "3577bd1f",
   "metadata": {},
   "source": [
    "Four Monaco GP winners haven't won at any other venue. That's a record -- we'll see why Indy 500 results shouldn't count."
   ]
  },
  {
   "cell_type": "code",
   "execution_count": 18,
   "id": "095c9494",
   "metadata": {},
   "outputs": [],
   "source": [
    "wins[\"year\"] = wins[\"year\"].apply(pd.to_numeric, errors = \"coerce\").astype(int, errors=\"ignore\")"
   ]
  },
  {
   "cell_type": "code",
   "execution_count": 19,
   "id": "e316c806",
   "metadata": {
    "scrolled": true
   },
   "outputs": [
    {
     "data": {
      "text/html": [
       "<div>\n",
       "<style scoped>\n",
       "    .dataframe tbody tr th:only-of-type {\n",
       "        vertical-align: middle;\n",
       "    }\n",
       "\n",
       "    .dataframe tbody tr th {\n",
       "        vertical-align: top;\n",
       "    }\n",
       "\n",
       "    .dataframe thead th {\n",
       "        text-align: right;\n",
       "    }\n",
       "</style>\n",
       "<table border=\"1\" class=\"dataframe\">\n",
       "  <thead>\n",
       "    <tr style=\"text-align: right;\">\n",
       "      <th></th>\n",
       "      <th>fullname</th>\n",
       "      <th>year</th>\n",
       "    </tr>\n",
       "  </thead>\n",
       "  <tbody>\n",
       "    <tr>\n",
       "      <th>925</th>\n",
       "      <td>Maurice Trintignant</td>\n",
       "      <td>1955</td>\n",
       "    </tr>\n",
       "    <tr>\n",
       "      <th>926</th>\n",
       "      <td>Maurice Trintignant</td>\n",
       "      <td>1958</td>\n",
       "    </tr>\n",
       "    <tr>\n",
       "      <th>821</th>\n",
       "      <td>Jean-Pierre Beltoise</td>\n",
       "      <td>1972</td>\n",
       "    </tr>\n",
       "    <tr>\n",
       "      <th>412</th>\n",
       "      <td>Olivier Panis</td>\n",
       "      <td>1996</td>\n",
       "    </tr>\n",
       "    <tr>\n",
       "      <th>205</th>\n",
       "      <td>Jarno Trulli</td>\n",
       "      <td>2004</td>\n",
       "    </tr>\n",
       "  </tbody>\n",
       "</table>\n",
       "</div>"
      ],
      "text/plain": [
       "                 fullname  year\n",
       "925   Maurice Trintignant  1955\n",
       "926   Maurice Trintignant  1958\n",
       "821  Jean-Pierre Beltoise  1972\n",
       "412         Olivier Panis  1996\n",
       "205          Jarno Trulli  2004"
      ]
     },
     "execution_count": 19,
     "metadata": {},
     "output_type": "execute_result"
    }
   ],
   "source": [
    "wins[(wins[\"uniq\"] == 1) & (wins[\"location\"] == \"Monte-Carlo\")][[\"fullname\", \"year\"]].sort_values(by=\"year\")"
   ]
  },
  {
   "cell_type": "code",
   "execution_count": 13,
   "id": "e4d0edeb",
   "metadata": {},
   "outputs": [],
   "source": [
    "indyWinnersOnly = wins[(wins[\"uniq\"] == 1) & (wins[\"location\"] == \"Indianapolis\")][[\"fullname\"]]"
   ]
  },
  {
   "cell_type": "code",
   "execution_count": 14,
   "id": "986df82c",
   "metadata": {},
   "outputs": [
    {
     "data": {
      "text/html": [
       "<div>\n",
       "<style scoped>\n",
       "    .dataframe tbody tr th:only-of-type {\n",
       "        vertical-align: middle;\n",
       "    }\n",
       "\n",
       "    .dataframe tbody tr th {\n",
       "        vertical-align: top;\n",
       "    }\n",
       "\n",
       "    .dataframe thead th {\n",
       "        text-align: right;\n",
       "    }\n",
       "</style>\n",
       "<table border=\"1\" class=\"dataframe\">\n",
       "  <thead>\n",
       "    <tr style=\"text-align: right;\">\n",
       "      <th></th>\n",
       "      <th>fullname</th>\n",
       "    </tr>\n",
       "  </thead>\n",
       "  <tbody>\n",
       "    <tr>\n",
       "      <th>927</th>\n",
       "      <td>Rodger Ward</td>\n",
       "    </tr>\n",
       "    <tr>\n",
       "      <th>954</th>\n",
       "      <td>Jim Rathmann</td>\n",
       "    </tr>\n",
       "    <tr>\n",
       "      <th>955</th>\n",
       "      <td>Jimmy Bryan</td>\n",
       "    </tr>\n",
       "    <tr>\n",
       "      <th>956</th>\n",
       "      <td>Troy Ruttman</td>\n",
       "    </tr>\n",
       "    <tr>\n",
       "      <th>957</th>\n",
       "      <td>Pat Flaherty</td>\n",
       "    </tr>\n",
       "    <tr>\n",
       "      <th>989</th>\n",
       "      <td>Johnnie Parsons</td>\n",
       "    </tr>\n",
       "    <tr>\n",
       "      <th>990</th>\n",
       "      <td>Sam Hanks</td>\n",
       "    </tr>\n",
       "    <tr>\n",
       "      <th>991</th>\n",
       "      <td>Bob Sweikert</td>\n",
       "    </tr>\n",
       "    <tr>\n",
       "      <th>1011</th>\n",
       "      <td>Bill Vukovich</td>\n",
       "    </tr>\n",
       "    <tr>\n",
       "      <th>1012</th>\n",
       "      <td>Bill Vukovich</td>\n",
       "    </tr>\n",
       "    <tr>\n",
       "      <th>1013</th>\n",
       "      <td>Lee Wallard</td>\n",
       "    </tr>\n",
       "  </tbody>\n",
       "</table>\n",
       "</div>"
      ],
      "text/plain": [
       "             fullname\n",
       "927       Rodger Ward\n",
       "954      Jim Rathmann\n",
       "955       Jimmy Bryan\n",
       "956      Troy Ruttman\n",
       "957      Pat Flaherty\n",
       "989   Johnnie Parsons\n",
       "990         Sam Hanks\n",
       "991      Bob Sweikert\n",
       "1011    Bill Vukovich\n",
       "1012    Bill Vukovich\n",
       "1013      Lee Wallard"
      ]
     },
     "execution_count": 14,
     "metadata": {},
     "output_type": "execute_result"
    }
   ],
   "source": [
    "indyWinnersOnly"
   ]
  },
  {
   "cell_type": "code",
   "execution_count": 15,
   "id": "60929475",
   "metadata": {},
   "outputs": [],
   "source": [
    "indyWinnersOnly = [\"Rodger Ward\", \"Jim Rathmann\", \"Jimmy Bryan\", \"Troy Ruttman\", \"Pat Flaherty\", \"Johnnie Parsons\", \"Sam Hanks\", \"Bob Sweikert\", \"Bill Vukovich\", \"Lee Wallard\"]"
   ]
  },
  {
   "cell_type": "code",
   "execution_count": 16,
   "id": "846db505",
   "metadata": {
    "scrolled": false
   },
   "outputs": [],
   "source": [
    "indyWinnersLocations = results[results.fullname.isin(indyWinnersOnly)].groupby(\"fullname\")[\"location\"].nunique()"
   ]
  },
  {
   "cell_type": "code",
   "execution_count": 17,
   "id": "549a1657",
   "metadata": {},
   "outputs": [
    {
     "data": {
      "text/plain": [
       "fullname\n",
       "Rodger Ward      3\n",
       "Troy Ruttman     3\n",
       "Bill Vukovich    1\n",
       "Bob Sweikert     1\n",
       "Jim Rathmann     1\n",
       "Name: location, dtype: int64"
      ]
     },
     "execution_count": 17,
     "metadata": {},
     "output_type": "execute_result"
    }
   ],
   "source": [
    "indyWinnersLocations.nlargest(5)"
   ]
  },
  {
   "cell_type": "markdown",
   "id": "43ad0fde",
   "metadata": {},
   "source": [
    "Only two drivers that have won Indy 500 as a F1 World Championship race have participated in any other Grand Prix. Indy 500 was a kind of a spin-off, not really an integral part of the World Championship. "
   ]
  },
  {
   "cell_type": "code",
   "execution_count": 20,
   "id": "99002116",
   "metadata": {},
   "outputs": [],
   "source": [
    "pd.options.display.float_format = '{:.2%}'.format"
   ]
  },
  {
   "cell_type": "code",
   "execution_count": 21,
   "id": "c4c75d00",
   "metadata": {},
   "outputs": [],
   "source": [
    "qualifying = pd.read_csv(os.path.join(\"data\", \"qualifying.csv\"))\n",
    "qualifying = qualifying[[\"raceId\", \"driverId\", \"position\"]]\n",
    "qualifying.rename(columns = {'position':'qual'}, inplace = True)"
   ]
  },
  {
   "cell_type": "code",
   "execution_count": 22,
   "id": "6d83e0b8",
   "metadata": {},
   "outputs": [],
   "source": [
    "results = results.merge(qualifying, on=[\"raceId\", \"driverId\"], how=\"right\")"
   ]
  },
  {
   "cell_type": "code",
   "execution_count": 23,
   "id": "1b4e80ff",
   "metadata": {},
   "outputs": [],
   "source": [
    "poles = results[(results.qual == 1)]"
   ]
  },
  {
   "cell_type": "code",
   "execution_count": 24,
   "id": "27bd636c",
   "metadata": {},
   "outputs": [],
   "source": [
    "winsFromPolesSince2007 = results[(results.qual == 1) & (results.position == 1) & (results.year > 2006)]"
   ]
  },
  {
   "cell_type": "code",
   "execution_count": 34,
   "id": "42541901",
   "metadata": {},
   "outputs": [
    {
     "data": {
      "text/plain": [
       "location\n",
       "Montmeló       10\n",
       "Monza          10\n",
       "Spa             9\n",
       "Abu Dhabi       8\n",
       "Marina Bay      8\n",
       "Monte-Carlo     8\n",
       "São Paulo       8\n",
       "Montreal        7\n",
       "Shanghai        7\n",
       "Melbourne       6\n",
       "Name: raceId, dtype: int64"
      ]
     },
     "execution_count": 34,
     "metadata": {},
     "output_type": "execute_result"
    }
   ],
   "source": [
    "winsFromPolesSince2007.groupby(\"location\")[\"raceId\"].count().nlargest(10)"
   ]
  },
  {
   "cell_type": "markdown",
   "id": "c9ab1cb1",
   "metadata": {},
   "source": [
    "It's said that the Monaco GP gets decided on Saturday, in a qualification. But in the Lewis Hamilton era there are several track with more wins from pole than Monaco."
   ]
  },
  {
   "cell_type": "code",
   "execution_count": 26,
   "id": "1ded599d",
   "metadata": {},
   "outputs": [],
   "source": [
    "frequentLocations = [\"Budapest\", \"Montmeló\", \"Monza\", \"Sakhir\", \"Silverstone\", \"Spa\", \"Melbourne\", \"Monte-Carlo\", \"São Paulo\", \"Abu Dhabi\", \" Shanghai\", \" Marina Bay\", \"Montreal\", \" Kuala Lumpur\", \"Suzuka\", \"Austin\", \"Sochi\", \"Spielberg\"]"
   ]
  },
  {
   "cell_type": "code",
   "execution_count": 32,
   "id": "578ecadd",
   "metadata": {},
   "outputs": [],
   "source": [
    "wfps2007r = winsFromPolesSince2007[(winsFromPolesSince2007.location.isin(frequentLocations))].groupby(\"location\")[\"raceId\"].count() / results[(results.year > 2006) & (results.location.isin(frequentLocations))].groupby(\"location\")[\"raceId\"].nunique()"
   ]
  },
  {
   "cell_type": "code",
   "execution_count": 33,
   "id": "b2f5419c",
   "metadata": {},
   "outputs": [
    {
     "data": {
      "text/plain": [
       "location\n",
       "Montmeló      66.67%\n",
       "Monza         66.67%\n",
       "Abu Dhabi     61.54%\n",
       "Spa           60.00%\n",
       "Spielberg     60.00%\n",
       "Montreal      58.33%\n",
       "Monte-Carlo   57.14%\n",
       "São Paulo     57.14%\n",
       "Austin        55.56%\n",
       "Suzuka        54.55%\n",
       "Name: raceId, dtype: float64"
      ]
     },
     "execution_count": 33,
     "metadata": {},
     "output_type": "execute_result"
    }
   ],
   "source": [
    "wfps2007r.nlargest(10)"
   ]
  },
  {
   "cell_type": "markdown",
   "id": "c572303a",
   "metadata": {},
   "source": [
    "It's tricky to compare absolute numbers, so there are relative chances of winning from pole on various tracks, counting only tracks with 8 or more races since 2007. Even if we keep in mind that in 2012 and 2021 the best qualifier didn't start from pole due to a penalty and a car malfunction respectively, Monaco is still not an outlier."
   ]
  },
  {
   "cell_type": "code",
   "execution_count": null,
   "id": "3adc02b3",
   "metadata": {},
   "outputs": [],
   "source": []
  }
 ],
 "metadata": {
  "kernelspec": {
   "display_name": "Python 3 (ipykernel)",
   "language": "python",
   "name": "python3"
  },
  "language_info": {
   "codemirror_mode": {
    "name": "ipython",
    "version": 3
   },
   "file_extension": ".py",
   "mimetype": "text/x-python",
   "name": "python",
   "nbconvert_exporter": "python",
   "pygments_lexer": "ipython3",
   "version": "3.10.4"
  }
 },
 "nbformat": 4,
 "nbformat_minor": 5
}
