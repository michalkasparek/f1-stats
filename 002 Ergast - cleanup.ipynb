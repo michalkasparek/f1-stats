{
 "cells": [
  {
   "cell_type": "code",
   "execution_count": 1,
   "id": "6ff28539",
   "metadata": {},
   "outputs": [],
   "source": [
    "import os\n",
    "import pandas as pd\n",
    "import numpy as np"
   ]
  },
  {
   "cell_type": "code",
   "execution_count": 9,
   "id": "4978d008",
   "metadata": {},
   "outputs": [],
   "source": [
    "drivers = pd.read_csv(os.path.join(\"data_raw\", \"drivers.csv\"))\n",
    "results = pd.read_csv(os.path.join(\"data_raw\", \"results.csv\"))\n",
    "races = pd.read_csv(os.path.join(\"data_raw\", \"races.csv\"))\n",
    "circuits = pd.read_csv(os.path.join(\"data_raw\", \"circuits.csv\"))\n",
    "status = pd.read_csv(os.path.join(\"data_raw\", \"status.csv\"))\n",
    "constructors = pd.read_csv(os.path.join(\"data_raw\", \"constructors.csv\"))"
   ]
  },
  {
   "cell_type": "code",
   "execution_count": 10,
   "id": "a7e7bc64",
   "metadata": {},
   "outputs": [],
   "source": [
    "drivers[\"driverUrl\"] = drivers[\"url\"]\n",
    "results = results.merge(drivers[['driverId', 'driverRef', 'code', 'forename', 'surname', 'dob', 'nationality', 'driverUrl']], on=\"driverId\", how=\"outer\")\n",
    "circuits[\"circuitUrl\"] = circuits[\"url\"]\n",
    "circuits[\"circuit\"] = circuits[\"name\"]\n",
    "races[\"gp\"] = races[\"name\"]\n",
    "races = races.merge(circuits[[\"circuitId\", \"circuitRef\", \"location\", \"country\", \"circuitUrl\", \"circuit\"]], on=\"circuitId\", how=\"outer\")\n",
    "results = results.merge(races[[\"raceId\",\"year\",\"round\",\"date\",\"quali_date\",\"quali_time\",\"location\",\"country\",\"gp\"]], on=\"raceId\", how=\"outer\")\n",
    "results = results.merge(status, on=\"statusId\", how=\"outer\")\n",
    "constructors[\"constructor\"] = constructors[\"name\"]\n",
    "constructors[\"constructorUrl\"] = constructors[\"url\"]\n",
    "constructors[\"constructorNationality\"] = constructors[\"nationality\"]\n",
    "results = results.merge(constructors[[\"constructorId\", \"constructor\", \"constructorNationality\", \"constructorRef\"]], on=\"constructorId\", how=\"outer\")"
   ]
  },
  {
   "cell_type": "code",
   "execution_count": 11,
   "id": "e7e33348",
   "metadata": {},
   "outputs": [],
   "source": [
    "results[\"name\"] = results[\"forename\"] + \" \" + results[\"surname\"]\n",
    "results[\"date\"] = pd.to_datetime(results[\"date\"], format=\"%Y-%m-%d\")\n",
    "results[\"quali_date\"] = pd.to_datetime(results[\"date\"], format=\"%Y-%m-%d\")\n",
    "results[\"dob\"] = pd.to_datetime(results[\"dob\"], format=\"%Y-%m-%d\")\n",
    "results[\"number\"] = results[\"number\"].apply(pd.to_numeric, errors = \"coerce\").astype(np.int64, errors=\"ignore\")\n",
    "results[\"age\"] = results[\"date\"] - results[\"dob\"]\n",
    "results[\"year\"] = results[\"year\"].apply(pd.to_numeric, errors = \"coerce\").astype(np.int64, errors=\"ignore\")\n",
    "results[\"round\"] = results[\"round\"].apply(pd.to_numeric, errors = \"coerce\").astype(np.int64, errors=\"ignore\")\n",
    "results[\"position\"] = results[\"position\"].apply(pd.to_numeric, errors = \"coerce\").astype(np.int64, errors=\"ignore\")\n",
    "results[\"fastestLapSpeed\"] = results[\"fastestLapSpeed\"].apply(pd.to_numeric, errors = \"coerce\").astype(np.int64, errors=\"ignore\")"
   ]
  },
  {
   "cell_type": "code",
   "execution_count": 13,
   "id": "aabd189b",
   "metadata": {},
   "outputs": [
    {
     "data": {
      "text/plain": [
       "Index(['resultId', 'raceId', 'driverId', 'constructorId', 'number', 'grid',\n",
       "       'position', 'positionText', 'positionOrder', 'points', 'laps', 'time',\n",
       "       'milliseconds', 'fastestLap', 'rank', 'fastestLapTime',\n",
       "       'fastestLapSpeed', 'statusId', 'driverRef', 'code', 'forename',\n",
       "       'surname', 'dob', 'nationality', 'driverUrl', 'year', 'round', 'date',\n",
       "       'quali_date', 'quali_time', 'location', 'country', 'gp', 'status',\n",
       "       'constructor', 'constructorNationality', 'constructorRef', 'name',\n",
       "       'age'],\n",
       "      dtype='object')"
      ]
     },
     "execution_count": 13,
     "metadata": {},
     "output_type": "execute_result"
    }
   ],
   "source": [
    "results.columns"
   ]
  },
  {
   "cell_type": "code",
   "execution_count": 15,
   "id": "33ad366f",
   "metadata": {},
   "outputs": [],
   "source": [
    "results.to_json(os.path.join('data','ergast-results.json'))"
   ]
  }
 ],
 "metadata": {
  "kernelspec": {
   "display_name": "Python 3 (ipykernel)",
   "language": "python",
   "name": "python3"
  },
  "language_info": {
   "codemirror_mode": {
    "name": "ipython",
    "version": 3
   },
   "file_extension": ".py",
   "mimetype": "text/x-python",
   "name": "python",
   "nbconvert_exporter": "python",
   "pygments_lexer": "ipython3",
   "version": "3.10.8"
  }
 },
 "nbformat": 4,
 "nbformat_minor": 5
}
