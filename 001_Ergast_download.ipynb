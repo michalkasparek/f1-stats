{
 "cells": [
  {
   "cell_type": "code",
   "execution_count": 1,
   "id": "c1738a81",
   "metadata": {},
   "outputs": [
    {
     "name": "stdout",
     "output_type": "stream",
     "text": [
      "2024-03-19\n"
     ]
    }
   ],
   "source": [
    "import datetime\n",
    "print(datetime.date.today())"
   ]
  },
  {
   "cell_type": "code",
   "execution_count": 2,
   "id": "3a8da287",
   "metadata": {},
   "outputs": [],
   "source": [
    "import os\n",
    "import requests\n",
    "import zipfile\n",
    "\n",
    "# 1. Check if \"data_raw\" folder exists, and create it if it doesn't\n",
    "if not os.path.exists(\"data_raw/ergast\"):\n",
    "    os.makedirs(\"data_raw/ergast\")\n",
    "\n",
    "# 2. Download the zip file to the \"data_raw\" folder\n",
    "url = \"http://ergast.com/downloads/f1db_csv.zip\"\n",
    "response = requests.get(url)\n",
    "file_path = os.path.join(\"data_raw/ergast\", \"f1db_csv.zip\")\n",
    "with open(file_path, \"wb\") as file:\n",
    "    file.write(response.content)\n",
    "\n",
    "# 3. Unzip the file\n",
    "with zipfile.ZipFile(file_path, \"r\") as zip_ref:\n",
    "    zip_ref.extractall(\"data_raw/ergast\")\n",
    "\n",
    "# 4. Delete the original file\n",
    "os.remove(file_path)"
   ]
  }
 ],
 "metadata": {
  "kernelspec": {
   "display_name": "Python 3 (ipykernel)",
   "language": "python",
   "name": "python3"
  },
  "language_info": {
   "codemirror_mode": {
    "name": "ipython",
    "version": 3
   },
   "file_extension": ".py",
   "mimetype": "text/x-python",
   "name": "python",
   "nbconvert_exporter": "python",
   "pygments_lexer": "ipython3",
   "version": "3.11.5"
  }
 },
 "nbformat": 4,
 "nbformat_minor": 5
}
