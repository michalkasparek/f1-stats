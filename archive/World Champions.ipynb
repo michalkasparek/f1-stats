{
 "cells": [
  {
   "cell_type": "code",
   "execution_count": 1,
   "id": "1ee7e724",
   "metadata": {},
   "outputs": [
    {
     "name": "stdout",
     "output_type": "stream",
     "text": [
      "Last GP in the database: the 2023 Miami Grand Prix\n"
     ]
    }
   ],
   "source": [
    "%run prepareStats.py"
   ]
  },
  {
   "cell_type": "code",
   "execution_count": 2,
   "id": "6b6bcf41",
   "metadata": {},
   "outputs": [],
   "source": [
    "dateOfDebut = pd.Series(results.groupby([\"driverId\"])[\"date\"].min(), name=\"dateOfDebut\")\n",
    "dateOfFarewell = pd.Series(results.groupby([\"driverId\"])[\"date\"].max(), name=\"dateOfFarewell\")\n",
    "dateOfFirstWin = pd.Series(results[results[\"position\"] == 1].groupby([\"driverId\"])[\"date\"].min(), name=\"dateOfFirstWin\")\n",
    "dateOfLastWin = pd.Series(results[results[\"position\"] == 1].groupby([\"driverId\"])[\"date\"].max(), name=\"dateOfLastWin\")\n",
    "results = results.merge(dateOfDebut, on = [\"driverId\"], how = \"right\")\n",
    "results = results.merge(dateOfFarewell, on = [\"driverId\"], how = \"right\")\n",
    "results = results.merge(dateOfFirstWin, on = [\"driverId\"], how = \"right\")\n",
    "results = results.merge(dateOfLastWin, on = [\"driverId\"], how = \"right\")\n",
    "results[\"careerLenght\"] = results[\"dateOfFarewell\"] - results[\"dateOfDebut\"]"
   ]
  },
  {
   "cell_type": "code",
   "execution_count": 3,
   "id": "8ecfd3d4",
   "metadata": {},
   "outputs": [],
   "source": [
    "decidingraces = pd.read_csv(os.path.join(\"dataHandcollected\", \"titles.csv\"))\n",
    "decidingraces[\"date\"] = pd.to_datetime(decidingraces[\"date\"], format=\"%Y-%m-%d\")\n",
    "decidingraces[\"decidingRace\"] = True"
   ]
  },
  {
   "cell_type": "code",
   "execution_count": 4,
   "id": "94714126",
   "metadata": {},
   "outputs": [],
   "source": [
    "results = results.merge(decidingraces, on = [\"date\"], how = \"left\")\n",
    "results = results.sort_values(by=\"date\")"
   ]
  },
  {
   "cell_type": "markdown",
   "id": "5f067b66",
   "metadata": {},
   "source": [
    "## Titles claimed by winning the deciding race"
   ]
  },
  {
   "cell_type": "code",
   "execution_count": 5,
   "id": "d6f74a0e",
   "metadata": {},
   "outputs": [
    {
     "data": {
      "text/plain": [
       "name\n",
       "Michael Schumacher    4\n",
       "Lewis Hamilton        3\n",
       "Juan Fangio           3\n",
       "Sebastian Vettel      2\n",
       "Alberto Ascari        2\n",
       "Mika Häkkinen         2\n",
       "Graham Hill           2\n",
       "Jim Clark             2\n",
       "Max Verstappen        2\n",
       "Phil Hill             1\n",
       "Nino Farina           1\n",
       "Alain Prost           1\n",
       "Kimi Räikkönen        1\n",
       "Alan Jones            1\n",
       "Jackie Stewart        1\n",
       "Emerson Fittipaldi    1\n",
       "Damon Hill            1\n",
       "Ayrton Senna          1\n",
       "Jody Scheckter        1\n",
       "Name: raceId, dtype: int64"
      ]
     },
     "execution_count": 5,
     "metadata": {},
     "output_type": "execute_result"
    }
   ],
   "source": [
    "results[(results[\"position\"] == 1) & (results[\"decidingRace\"] == True) & (results[\"name\"] == results[\"champion\"])].groupby(\"name\")[\"raceId\"].nunique().nlargest(50)"
   ]
  },
  {
   "cell_type": "markdown",
   "id": "a887fac7",
   "metadata": {},
   "source": [
    "## Circuits that have hosted the most title-deciding races"
   ]
  },
  {
   "cell_type": "code",
   "execution_count": 6,
   "id": "562dac71",
   "metadata": {
    "scrolled": true
   },
   "outputs": [
    {
     "data": {
      "text/plain": [
       "location\n",
       "Monza                    12\n",
       "Suzuka                   12\n",
       "São Paulo                 6\n",
       "Mexico City               5\n",
       "Abu Dhabi                 4\n",
       "New York State            3\n",
       "Nürburg                   3\n",
       "Adelaide                  2\n",
       "Estoril                   2\n",
       "Budapest                  2\n",
       "Bern                      2\n",
       "Austin                    2\n",
       "Nevada                    2\n",
       "Spa                       1\n",
       "Oyama                     1\n",
       "Okayama                   1\n",
       "Spielberg                 1\n",
       "Magny Cours               1\n",
       "Montreal                  1\n",
       "Midrand                   1\n",
       "Liverpool                 1\n",
       "Kent                      1\n",
       "Jerez de la Frontera      1\n",
       "Istanbul                  1\n",
       "Florida                   1\n",
       "Eastern Cape Province     1\n",
       "Casablanca                1\n",
       "Barcelona                 1\n",
       "Uttar Pradesh             1\n",
       "Name: raceId, dtype: int64"
      ]
     },
     "execution_count": 6,
     "metadata": {},
     "output_type": "execute_result"
    }
   ],
   "source": [
    "results[results[\"decidingRace\"] == True].groupby(\"location\")[\"raceId\"].nunique().nlargest(50)"
   ]
  },
  {
   "cell_type": "code",
   "execution_count": 7,
   "id": "f2752aed",
   "metadata": {},
   "outputs": [
    {
     "data": {
      "text/plain": [
       "country\n",
       "Japan           14\n",
       "Italy           12\n",
       "USA              8\n",
       "Brazil           6\n",
       "Mexico           5\n",
       "UAE              4\n",
       "Germany          3\n",
       "Portugal         2\n",
       "UK               2\n",
       "Switzerland      2\n",
       "Spain            2\n",
       "South Africa     2\n",
       "Australia        2\n",
       "Hungary          2\n",
       "Canada           1\n",
       "Austria          1\n",
       "Belgium          1\n",
       "India            1\n",
       "Turkey           1\n",
       "France           1\n",
       "Morocco          1\n",
       "Name: raceId, dtype: int64"
      ]
     },
     "execution_count": 7,
     "metadata": {},
     "output_type": "execute_result"
    }
   ],
   "source": [
    "results[results[\"decidingRace\"] == True].groupby(\"country\")[\"raceId\"].nunique().nlargest(50)"
   ]
  },
  {
   "cell_type": "code",
   "execution_count": 8,
   "id": "1ea87be9",
   "metadata": {},
   "outputs": [
    {
     "data": {
      "text/plain": [
       "location\n",
       "Suzuka                  2022-10-09\n",
       "Abu Dhabi               2021-12-12\n",
       "Istanbul                2020-11-15\n",
       "Austin                  2019-11-03\n",
       "Mexico City             2018-10-28\n",
       "Uttar Pradesh           2013-10-27\n",
       "São Paulo               2012-11-25\n",
       "Spa                     2004-08-29\n",
       "Magny Cours             2002-07-21\n",
       "Budapest                2001-08-19\n",
       "Jerez de la Frontera    1997-10-26\n",
       "Okayama                 1995-10-22\n",
       "Adelaide                1994-11-13\n",
       "Estoril                 1993-09-26\n",
       "Kent                    1985-10-06\n",
       "Midrand                 1983-10-15\n",
       "Nevada                  1982-09-25\n",
       "Montreal                1980-09-28\n",
       "Monza                   1979-09-09\n",
       "New York State          1977-10-02\n",
       "Oyama                   1976-10-24\n",
       "Spielberg               1971-08-15\n",
       "Nürburg                 1965-08-01\n",
       "Eastern Cape Province   1962-12-29\n",
       "Florida                 1959-12-12\n",
       "Casablanca              1958-10-19\n",
       "Liverpool               1955-07-16\n",
       "Bern                    1954-08-22\n",
       "Barcelona               1951-10-28\n",
       "Name: date, dtype: datetime64[ns]"
      ]
     },
     "execution_count": 8,
     "metadata": {},
     "output_type": "execute_result"
    }
   ],
   "source": [
    "results[results[\"decidingRace\"] == True].groupby(\"location\")[\"date\"].last().nlargest(50)"
   ]
  },
  {
   "cell_type": "markdown",
   "id": "877acc08",
   "metadata": {},
   "source": [
    "## From summer to Christmas"
   ]
  },
  {
   "cell_type": "code",
   "execution_count": 9,
   "id": "e57781c3",
   "metadata": {},
   "outputs": [],
   "source": [
    "decidingraces[\"date in year\"] = decidingraces[\"date\"].apply(lambda x: str(x)[5:10])"
   ]
  },
  {
   "cell_type": "code",
   "execution_count": 10,
   "id": "b7da9428",
   "metadata": {},
   "outputs": [
    {
     "data": {
      "text/html": [
       "<div>\n",
       "<style scoped>\n",
       "    .dataframe tbody tr th:only-of-type {\n",
       "        vertical-align: middle;\n",
       "    }\n",
       "\n",
       "    .dataframe tbody tr th {\n",
       "        vertical-align: top;\n",
       "    }\n",
       "\n",
       "    .dataframe thead th {\n",
       "        text-align: right;\n",
       "    }\n",
       "</style>\n",
       "<table border=\"1\" class=\"dataframe\">\n",
       "  <thead>\n",
       "    <tr style=\"text-align: right;\">\n",
       "      <th></th>\n",
       "      <th>date</th>\n",
       "      <th>champion</th>\n",
       "      <th>decidingRace</th>\n",
       "      <th>date in year</th>\n",
       "    </tr>\n",
       "  </thead>\n",
       "  <tbody>\n",
       "    <tr>\n",
       "      <th>5</th>\n",
       "      <td>1955-07-16</td>\n",
       "      <td>Juan Fangio</td>\n",
       "      <td>True</td>\n",
       "      <td>07-16</td>\n",
       "    </tr>\n",
       "    <tr>\n",
       "      <th>52</th>\n",
       "      <td>2002-07-21</td>\n",
       "      <td>Michael Schumacher</td>\n",
       "      <td>True</td>\n",
       "      <td>07-21</td>\n",
       "    </tr>\n",
       "    <tr>\n",
       "      <th>15</th>\n",
       "      <td>1965-08-01</td>\n",
       "      <td>Jim Clark</td>\n",
       "      <td>True</td>\n",
       "      <td>08-01</td>\n",
       "    </tr>\n",
       "    <tr>\n",
       "      <th>2</th>\n",
       "      <td>1952-08-03</td>\n",
       "      <td>Alberto Ascari</td>\n",
       "      <td>True</td>\n",
       "      <td>08-03</td>\n",
       "    </tr>\n",
       "    <tr>\n",
       "      <th>7</th>\n",
       "      <td>1957-08-04</td>\n",
       "      <td>Juan Fangio</td>\n",
       "      <td>True</td>\n",
       "      <td>08-04</td>\n",
       "    </tr>\n",
       "    <tr>\n",
       "      <th>...</th>\n",
       "      <td>...</td>\n",
       "      <td>...</td>\n",
       "      <td>...</td>\n",
       "      <td>...</td>\n",
       "    </tr>\n",
       "    <tr>\n",
       "      <th>62</th>\n",
       "      <td>2012-11-25</td>\n",
       "      <td>Sebastian Vettel</td>\n",
       "      <td>True</td>\n",
       "      <td>11-25</td>\n",
       "    </tr>\n",
       "    <tr>\n",
       "      <th>66</th>\n",
       "      <td>2016-11-27</td>\n",
       "      <td>Nico Rosberg</td>\n",
       "      <td>True</td>\n",
       "      <td>11-27</td>\n",
       "    </tr>\n",
       "    <tr>\n",
       "      <th>9</th>\n",
       "      <td>1959-12-12</td>\n",
       "      <td>Jack Brabham</td>\n",
       "      <td>True</td>\n",
       "      <td>12-12</td>\n",
       "    </tr>\n",
       "    <tr>\n",
       "      <th>71</th>\n",
       "      <td>2021-12-12</td>\n",
       "      <td>Max Verstappen</td>\n",
       "      <td>True</td>\n",
       "      <td>12-12</td>\n",
       "    </tr>\n",
       "    <tr>\n",
       "      <th>12</th>\n",
       "      <td>1962-12-29</td>\n",
       "      <td>Graham Hill</td>\n",
       "      <td>True</td>\n",
       "      <td>12-29</td>\n",
       "    </tr>\n",
       "  </tbody>\n",
       "</table>\n",
       "<p>73 rows × 4 columns</p>\n",
       "</div>"
      ],
      "text/plain": [
       "         date            champion  decidingRace date in year\n",
       "5  1955-07-16         Juan Fangio          True        07-16\n",
       "52 2002-07-21  Michael Schumacher          True        07-21\n",
       "15 1965-08-01           Jim Clark          True        08-01\n",
       "2  1952-08-03      Alberto Ascari          True        08-03\n",
       "7  1957-08-04         Juan Fangio          True        08-04\n",
       "..        ...                 ...           ...          ...\n",
       "62 2012-11-25    Sebastian Vettel          True        11-25\n",
       "66 2016-11-27        Nico Rosberg          True        11-27\n",
       "9  1959-12-12        Jack Brabham          True        12-12\n",
       "71 2021-12-12      Max Verstappen          True        12-12\n",
       "12 1962-12-29         Graham Hill          True        12-29\n",
       "\n",
       "[73 rows x 4 columns]"
      ]
     },
     "execution_count": 10,
     "metadata": {},
     "output_type": "execute_result"
    }
   ],
   "source": [
    "decidingraces.sort_values(by=\"date in year\")"
   ]
  },
  {
   "cell_type": "code",
   "execution_count": 11,
   "id": "8ad1ed79",
   "metadata": {},
   "outputs": [
    {
     "data": {
      "text/plain": [
       "date in year\n",
       "10-22    4\n",
       "09-10    3\n",
       "10-21    3\n",
       "09-04    2\n",
       "09-07    2\n",
       "Name: date, dtype: int64"
      ]
     },
     "execution_count": 11,
     "metadata": {},
     "output_type": "execute_result"
    }
   ],
   "source": [
    "decidingraces.groupby(\"date in year\")[\"date\"].nunique().nlargest(5)"
   ]
  },
  {
   "cell_type": "code",
   "execution_count": 12,
   "id": "ada8363a",
   "metadata": {},
   "outputs": [
    {
     "data": {
      "text/html": [
       "<div>\n",
       "<style scoped>\n",
       "    .dataframe tbody tr th:only-of-type {\n",
       "        vertical-align: middle;\n",
       "    }\n",
       "\n",
       "    .dataframe tbody tr th {\n",
       "        vertical-align: top;\n",
       "    }\n",
       "\n",
       "    .dataframe thead th {\n",
       "        text-align: right;\n",
       "    }\n",
       "</style>\n",
       "<table border=\"1\" class=\"dataframe\">\n",
       "  <thead>\n",
       "    <tr style=\"text-align: right;\">\n",
       "      <th></th>\n",
       "      <th>date</th>\n",
       "      <th>champion</th>\n",
       "      <th>decidingRace</th>\n",
       "      <th>date in year</th>\n",
       "    </tr>\n",
       "  </thead>\n",
       "  <tbody>\n",
       "    <tr>\n",
       "      <th>52</th>\n",
       "      <td>2002-07-21</td>\n",
       "      <td>Michael Schumacher</td>\n",
       "      <td>True</td>\n",
       "      <td>07-21</td>\n",
       "    </tr>\n",
       "    <tr>\n",
       "      <th>42</th>\n",
       "      <td>1992-08-16</td>\n",
       "      <td>Nigel Mansell</td>\n",
       "      <td>True</td>\n",
       "      <td>08-16</td>\n",
       "    </tr>\n",
       "    <tr>\n",
       "      <th>51</th>\n",
       "      <td>2001-08-19</td>\n",
       "      <td>Michael Schumacher</td>\n",
       "      <td>True</td>\n",
       "      <td>08-19</td>\n",
       "    </tr>\n",
       "    <tr>\n",
       "      <th>54</th>\n",
       "      <td>2004-08-29</td>\n",
       "      <td>Michael Schumacher</td>\n",
       "      <td>True</td>\n",
       "      <td>08-29</td>\n",
       "    </tr>\n",
       "    <tr>\n",
       "      <th>55</th>\n",
       "      <td>2005-09-25</td>\n",
       "      <td>Fernando Alonso</td>\n",
       "      <td>True</td>\n",
       "      <td>09-25</td>\n",
       "    </tr>\n",
       "    <tr>\n",
       "      <th>43</th>\n",
       "      <td>1993-09-26</td>\n",
       "      <td>Alain Prost</td>\n",
       "      <td>True</td>\n",
       "      <td>09-26</td>\n",
       "    </tr>\n",
       "    <tr>\n",
       "      <th>35</th>\n",
       "      <td>1985-10-06</td>\n",
       "      <td>Alain Prost</td>\n",
       "      <td>True</td>\n",
       "      <td>10-06</td>\n",
       "    </tr>\n",
       "    <tr>\n",
       "      <th>50</th>\n",
       "      <td>2000-10-08</td>\n",
       "      <td>Michael Schumacher</td>\n",
       "      <td>True</td>\n",
       "      <td>10-08</td>\n",
       "    </tr>\n",
       "    <tr>\n",
       "      <th>61</th>\n",
       "      <td>2011-10-09</td>\n",
       "      <td>Sebastian Vettel</td>\n",
       "      <td>True</td>\n",
       "      <td>10-09</td>\n",
       "    </tr>\n",
       "    <tr>\n",
       "      <th>72</th>\n",
       "      <td>2022-10-09</td>\n",
       "      <td>Max Verstappen</td>\n",
       "      <td>True</td>\n",
       "      <td>10-09</td>\n",
       "    </tr>\n",
       "    <tr>\n",
       "      <th>53</th>\n",
       "      <td>2003-10-12</td>\n",
       "      <td>Michael Schumacher</td>\n",
       "      <td>True</td>\n",
       "      <td>10-12</td>\n",
       "    </tr>\n",
       "    <tr>\n",
       "      <th>46</th>\n",
       "      <td>1996-10-13</td>\n",
       "      <td>Damon Hill</td>\n",
       "      <td>True</td>\n",
       "      <td>10-13</td>\n",
       "    </tr>\n",
       "    <tr>\n",
       "      <th>59</th>\n",
       "      <td>2009-10-18</td>\n",
       "      <td>Jenson Button</td>\n",
       "      <td>True</td>\n",
       "      <td>10-18</td>\n",
       "    </tr>\n",
       "    <tr>\n",
       "      <th>41</th>\n",
       "      <td>1991-10-20</td>\n",
       "      <td>Ayrton Senna</td>\n",
       "      <td>True</td>\n",
       "      <td>10-20</td>\n",
       "    </tr>\n",
       "    <tr>\n",
       "      <th>57</th>\n",
       "      <td>2007-10-21</td>\n",
       "      <td>Kimi Räikkönen</td>\n",
       "      <td>True</td>\n",
       "      <td>10-21</td>\n",
       "    </tr>\n",
       "    <tr>\n",
       "      <th>40</th>\n",
       "      <td>1990-10-21</td>\n",
       "      <td>Ayrton Senna</td>\n",
       "      <td>True</td>\n",
       "      <td>10-21</td>\n",
       "    </tr>\n",
       "    <tr>\n",
       "      <th>56</th>\n",
       "      <td>2006-10-22</td>\n",
       "      <td>Fernando Alonso</td>\n",
       "      <td>True</td>\n",
       "      <td>10-22</td>\n",
       "    </tr>\n",
       "    <tr>\n",
       "      <th>45</th>\n",
       "      <td>1995-10-22</td>\n",
       "      <td>Michael Schumacher</td>\n",
       "      <td>True</td>\n",
       "      <td>10-22</td>\n",
       "    </tr>\n",
       "    <tr>\n",
       "      <th>39</th>\n",
       "      <td>1989-10-22</td>\n",
       "      <td>Alain Prost</td>\n",
       "      <td>True</td>\n",
       "      <td>10-22</td>\n",
       "    </tr>\n",
       "    <tr>\n",
       "      <th>65</th>\n",
       "      <td>2015-10-25</td>\n",
       "      <td>Lewis Hamilton</td>\n",
       "      <td>True</td>\n",
       "      <td>10-25</td>\n",
       "    </tr>\n",
       "    <tr>\n",
       "      <th>36</th>\n",
       "      <td>1986-10-26</td>\n",
       "      <td>Alain Prost</td>\n",
       "      <td>True</td>\n",
       "      <td>10-26</td>\n",
       "    </tr>\n",
       "    <tr>\n",
       "      <th>47</th>\n",
       "      <td>1997-10-26</td>\n",
       "      <td>Jacques Villeneuve</td>\n",
       "      <td>True</td>\n",
       "      <td>10-26</td>\n",
       "    </tr>\n",
       "    <tr>\n",
       "      <th>63</th>\n",
       "      <td>2013-10-27</td>\n",
       "      <td>Sebastian Vettel</td>\n",
       "      <td>True</td>\n",
       "      <td>10-27</td>\n",
       "    </tr>\n",
       "    <tr>\n",
       "      <th>68</th>\n",
       "      <td>2018-10-28</td>\n",
       "      <td>Lewis Hamilton</td>\n",
       "      <td>True</td>\n",
       "      <td>10-28</td>\n",
       "    </tr>\n",
       "    <tr>\n",
       "      <th>67</th>\n",
       "      <td>2017-10-29</td>\n",
       "      <td>Lewis Hamilton</td>\n",
       "      <td>True</td>\n",
       "      <td>10-29</td>\n",
       "    </tr>\n",
       "    <tr>\n",
       "      <th>38</th>\n",
       "      <td>1988-10-30</td>\n",
       "      <td>Ayrton Senna</td>\n",
       "      <td>True</td>\n",
       "      <td>10-30</td>\n",
       "    </tr>\n",
       "    <tr>\n",
       "      <th>49</th>\n",
       "      <td>1999-10-31</td>\n",
       "      <td>Mika Häkkinen</td>\n",
       "      <td>True</td>\n",
       "      <td>10-31</td>\n",
       "    </tr>\n",
       "    <tr>\n",
       "      <th>37</th>\n",
       "      <td>1987-11-01</td>\n",
       "      <td>Nelson Piquet</td>\n",
       "      <td>True</td>\n",
       "      <td>11-01</td>\n",
       "    </tr>\n",
       "    <tr>\n",
       "      <th>48</th>\n",
       "      <td>1998-11-01</td>\n",
       "      <td>Mika Häkkinen</td>\n",
       "      <td>True</td>\n",
       "      <td>11-01</td>\n",
       "    </tr>\n",
       "    <tr>\n",
       "      <th>58</th>\n",
       "      <td>2008-11-02</td>\n",
       "      <td>Lewis Hamilton</td>\n",
       "      <td>True</td>\n",
       "      <td>11-02</td>\n",
       "    </tr>\n",
       "    <tr>\n",
       "      <th>69</th>\n",
       "      <td>2019-11-03</td>\n",
       "      <td>Lewis Hamilton</td>\n",
       "      <td>True</td>\n",
       "      <td>11-03</td>\n",
       "    </tr>\n",
       "    <tr>\n",
       "      <th>44</th>\n",
       "      <td>1994-11-13</td>\n",
       "      <td>Michael Schumacher</td>\n",
       "      <td>True</td>\n",
       "      <td>11-13</td>\n",
       "    </tr>\n",
       "    <tr>\n",
       "      <th>60</th>\n",
       "      <td>2010-11-14</td>\n",
       "      <td>Sebastian Vettel</td>\n",
       "      <td>True</td>\n",
       "      <td>11-14</td>\n",
       "    </tr>\n",
       "    <tr>\n",
       "      <th>70</th>\n",
       "      <td>2020-11-15</td>\n",
       "      <td>Lewis Hamilton</td>\n",
       "      <td>True</td>\n",
       "      <td>11-15</td>\n",
       "    </tr>\n",
       "    <tr>\n",
       "      <th>64</th>\n",
       "      <td>2014-11-23</td>\n",
       "      <td>Lewis Hamilton</td>\n",
       "      <td>True</td>\n",
       "      <td>11-23</td>\n",
       "    </tr>\n",
       "    <tr>\n",
       "      <th>62</th>\n",
       "      <td>2012-11-25</td>\n",
       "      <td>Sebastian Vettel</td>\n",
       "      <td>True</td>\n",
       "      <td>11-25</td>\n",
       "    </tr>\n",
       "    <tr>\n",
       "      <th>66</th>\n",
       "      <td>2016-11-27</td>\n",
       "      <td>Nico Rosberg</td>\n",
       "      <td>True</td>\n",
       "      <td>11-27</td>\n",
       "    </tr>\n",
       "    <tr>\n",
       "      <th>71</th>\n",
       "      <td>2021-12-12</td>\n",
       "      <td>Max Verstappen</td>\n",
       "      <td>True</td>\n",
       "      <td>12-12</td>\n",
       "    </tr>\n",
       "  </tbody>\n",
       "</table>\n",
       "</div>"
      ],
      "text/plain": [
       "         date            champion  decidingRace date in year\n",
       "52 2002-07-21  Michael Schumacher          True        07-21\n",
       "42 1992-08-16       Nigel Mansell          True        08-16\n",
       "51 2001-08-19  Michael Schumacher          True        08-19\n",
       "54 2004-08-29  Michael Schumacher          True        08-29\n",
       "55 2005-09-25     Fernando Alonso          True        09-25\n",
       "43 1993-09-26         Alain Prost          True        09-26\n",
       "35 1985-10-06         Alain Prost          True        10-06\n",
       "50 2000-10-08  Michael Schumacher          True        10-08\n",
       "61 2011-10-09    Sebastian Vettel          True        10-09\n",
       "72 2022-10-09      Max Verstappen          True        10-09\n",
       "53 2003-10-12  Michael Schumacher          True        10-12\n",
       "46 1996-10-13          Damon Hill          True        10-13\n",
       "59 2009-10-18       Jenson Button          True        10-18\n",
       "41 1991-10-20        Ayrton Senna          True        10-20\n",
       "57 2007-10-21      Kimi Räikkönen          True        10-21\n",
       "40 1990-10-21        Ayrton Senna          True        10-21\n",
       "56 2006-10-22     Fernando Alonso          True        10-22\n",
       "45 1995-10-22  Michael Schumacher          True        10-22\n",
       "39 1989-10-22         Alain Prost          True        10-22\n",
       "65 2015-10-25      Lewis Hamilton          True        10-25\n",
       "36 1986-10-26         Alain Prost          True        10-26\n",
       "47 1997-10-26  Jacques Villeneuve          True        10-26\n",
       "63 2013-10-27    Sebastian Vettel          True        10-27\n",
       "68 2018-10-28      Lewis Hamilton          True        10-28\n",
       "67 2017-10-29      Lewis Hamilton          True        10-29\n",
       "38 1988-10-30        Ayrton Senna          True        10-30\n",
       "49 1999-10-31       Mika Häkkinen          True        10-31\n",
       "37 1987-11-01       Nelson Piquet          True        11-01\n",
       "48 1998-11-01       Mika Häkkinen          True        11-01\n",
       "58 2008-11-02      Lewis Hamilton          True        11-02\n",
       "69 2019-11-03      Lewis Hamilton          True        11-03\n",
       "44 1994-11-13  Michael Schumacher          True        11-13\n",
       "60 2010-11-14    Sebastian Vettel          True        11-14\n",
       "70 2020-11-15      Lewis Hamilton          True        11-15\n",
       "64 2014-11-23      Lewis Hamilton          True        11-23\n",
       "62 2012-11-25    Sebastian Vettel          True        11-25\n",
       "66 2016-11-27        Nico Rosberg          True        11-27\n",
       "71 2021-12-12      Max Verstappen          True        12-12"
      ]
     },
     "execution_count": 12,
     "metadata": {},
     "output_type": "execute_result"
    }
   ],
   "source": [
    "decidingraces[decidingraces[\"date\"] > \"1985-01-01\"].sort_values(by=\"date in year\")"
   ]
  },
  {
   "cell_type": "markdown",
   "id": "82d17c38",
   "metadata": {},
   "source": [
    "## The lucky cirtcuits"
   ]
  },
  {
   "cell_type": "code",
   "execution_count": 13,
   "id": "e3586260",
   "metadata": {},
   "outputs": [
    {
     "data": {
      "text/plain": [
       "champion            location   \n",
       "Ayrton Senna        Suzuka         3\n",
       "Fernando Alonso     São Paulo      2\n",
       "Jack Brabham        Monza          2\n",
       "Jackie Stewart      Monza          2\n",
       "Lewis Hamilton      Austin         2\n",
       "                    Mexico City    2\n",
       "Michael Schumacher  Suzuka         2\n",
       "Mika Häkkinen       Suzuka         2\n",
       "Alain Prost         Adelaide       1\n",
       "                    Estoril        1\n",
       "Name: raceId, dtype: int64"
      ]
     },
     "execution_count": 13,
     "metadata": {},
     "output_type": "execute_result"
    }
   ],
   "source": [
    "results[results[\"decidingRace\"] == True].groupby([\"champion\",\"location\"])[\"raceId\"].nunique().nlargest(10)"
   ]
  },
  {
   "cell_type": "markdown",
   "id": "016e88d9",
   "metadata": {},
   "source": [
    "## For how long have the World Champions competed after winning their last title? "
   ]
  },
  {
   "cell_type": "code",
   "execution_count": 14,
   "id": "2aedd48e",
   "metadata": {},
   "outputs": [],
   "source": [
    "dateOfLastTitle = pd.Series(results[(results[\"decidingRace\"] == True) & (results[\"name\"] == results[\"champion\"])].groupby([\"driverId\"])[\"date\"].max(), name=\"dateOfLastTitle\")\n",
    "results = results.merge(dateOfLastTitle, on = [\"driverId\"], how = \"right\")"
   ]
  },
  {
   "cell_type": "code",
   "execution_count": 15,
   "id": "e2752eb6",
   "metadata": {},
   "outputs": [],
   "source": [
    "results[\"afterLastTitle\"] = results[\"dateOfFarewell\"] - results[\"dateOfLastTitle\"]"
   ]
  },
  {
   "cell_type": "code",
   "execution_count": 16,
   "id": "1f42a881",
   "metadata": {},
   "outputs": [
    {
     "data": {
      "text/plain": [
       "name\n",
       "Fernando Alonso      6041 days\n",
       "Kimi Räikkönen       5166 days\n",
       "Sebastian Vettel     3311 days\n",
       "Jacques Villeneuve   3199 days\n",
       "Michael Schumacher   3010 days\n",
       "John Surtees         2877 days\n",
       "Jenson Button        2779 days\n",
       "Denny Hulme          2541 days\n",
       "Graham Hill          2380 days\n",
       "Alan Jones           2219 days\n",
       "Emerson Fittipaldi   2191 days\n",
       "Nino Farina          1834 days\n",
       "Phil Hill            1820 days\n",
       "Jack Brabham         1512 days\n",
       "Keke Rosberg         1492 days\n",
       "Mario Andretti       1476 days\n",
       "Nelson Piquet        1463 days\n",
       "Damon Hill           1113 days\n",
       "Nigel Mansell        1001 days\n",
       "James Hunt            945 days\n",
       "Ayrton Senna          924 days\n",
       "Lewis Hamilton        903 days\n",
       "Jim Clark             883 days\n",
       "Mika Häkkinen         714 days\n",
       "Alberto Ascari        637 days\n",
       "Jody Scheckter        392 days\n",
       "Niki Lauda            378 days\n",
       "Juan Fangio           336 days\n",
       "Max Verstappen        210 days\n",
       "Alain Prost            42 days\n",
       "Jackie Stewart         28 days\n",
       "Mike Hawthorn           0 days\n",
       "Nico Rosberg            0 days\n",
       "Name: afterLastTitle, dtype: timedelta64[ns]"
      ]
     },
     "execution_count": 16,
     "metadata": {},
     "output_type": "execute_result"
    }
   ],
   "source": [
    "results.groupby(\"name\")[\"afterLastTitle\"].max().nlargest(55)"
   ]
  },
  {
   "cell_type": "markdown",
   "id": "c6bcc887",
   "metadata": {},
   "source": [
    "[Jochen Rindt died](https://en.wikipedia.org/wiki/Jochen_Rindt) before winning his first (and last) WC title."
   ]
  },
  {
   "cell_type": "markdown",
   "id": "768a7d74",
   "metadata": {},
   "source": [
    "## And for how long have been they waiting for their first title?"
   ]
  },
  {
   "cell_type": "code",
   "execution_count": 17,
   "id": "0191a2a2",
   "metadata": {},
   "outputs": [],
   "source": [
    "dateOfFirstTitle = pd.Series(results[(results[\"decidingRace\"] == True) & (results[\"name\"] == results[\"champion\"])].groupby([\"driverId\"])[\"date\"].min(), name=\"dateOfFirstTitle\")\n",
    "results = results.merge(dateOfFirstTitle, on = [\"driverId\"], how = \"right\")"
   ]
  },
  {
   "cell_type": "code",
   "execution_count": 18,
   "id": "b2a31987",
   "metadata": {},
   "outputs": [],
   "source": [
    "results[\"beforeFirstTitle\"] = results[\"dateOfFirstTitle\"] - results[\"dateOfDebut\"]"
   ]
  },
  {
   "cell_type": "code",
   "execution_count": 19,
   "id": "467c6bab",
   "metadata": {},
   "outputs": [
    {
     "data": {
      "text/plain": [
       "name\n",
       "Nigel Mansell    4382 days\n",
       "Nico Rosberg     3913 days\n",
       "Mario Andretti   3626 days\n",
       "Jenson Button    3507 days\n",
       "Mika Häkkinen    2793 days\n",
       "Jody Scheckter   2527 days\n",
       "Max Verstappen   2464 days\n",
       "Kimi Räikkönen   2422 days\n",
       "Mike Hawthorn    2310 days\n",
       "Alain Prost      2093 days\n",
       "Name: beforeFirstTitle, dtype: timedelta64[ns]"
      ]
     },
     "execution_count": 19,
     "metadata": {},
     "output_type": "execute_result"
    }
   ],
   "source": [
    "results.groupby(\"name\")[\"beforeFirstTitle\"].min().nlargest(10)"
   ]
  },
  {
   "cell_type": "markdown",
   "id": "45e4242d",
   "metadata": {},
   "source": [
    "## The most experienced champions\n",
    "\n",
    "(Days between the first race and the last title.) "
   ]
  },
  {
   "cell_type": "code",
   "execution_count": 20,
   "id": "67f1217c",
   "metadata": {},
   "outputs": [],
   "source": [
    "results[\"beforeLastTitle\"] = results[\"dateOfLastTitle\"] - results[\"dateOfDebut\"]"
   ]
  },
  {
   "cell_type": "code",
   "execution_count": 21,
   "id": "54eed22e",
   "metadata": {},
   "outputs": [
    {
     "data": {
      "text/plain": [
       "name\n",
       "Alain Prost          5005 days\n",
       "Lewis Hamilton       4991 days\n",
       "Niki Lauda           4816 days\n",
       "Michael Schumacher   4753 days\n",
       "Nigel Mansell        4382 days\n",
       "Jack Brabham         4068 days\n",
       "Nico Rosberg         3913 days\n",
       "Graham Hill          3822 days\n",
       "Mario Andretti       3626 days\n",
       "Jenson Button        3507 days\n",
       "Name: beforeLastTitle, dtype: timedelta64[ns]"
      ]
     },
     "execution_count": 21,
     "metadata": {},
     "output_type": "execute_result"
    }
   ],
   "source": [
    "results.groupby(\"name\")[\"beforeLastTitle\"].min().nlargest(10)"
   ]
  },
  {
   "cell_type": "markdown",
   "id": "88b6ac44",
   "metadata": {},
   "source": [
    "## Seasons and GPs with most and least champions competing"
   ]
  },
  {
   "cell_type": "code",
   "execution_count": 22,
   "id": "84caa0b2",
   "metadata": {},
   "outputs": [],
   "source": [
    "champions = results[\"champion\"].drop_duplicates().to_list()"
   ]
  },
  {
   "cell_type": "code",
   "execution_count": 23,
   "id": "2420a486",
   "metadata": {},
   "outputs": [],
   "source": [
    "champResults = results[results.name.isin(champions)]"
   ]
  },
  {
   "cell_type": "code",
   "execution_count": 24,
   "id": "d8a6ffe9",
   "metadata": {},
   "outputs": [
    {
     "data": {
      "text/plain": [
       "year\n",
       "1972    8\n",
       "1978    8\n",
       "1979    8\n",
       "1980    8\n",
       "1966    7\n",
       "Name: driverId, dtype: int64"
      ]
     },
     "execution_count": 24,
     "metadata": {},
     "output_type": "execute_result"
    }
   ],
   "source": [
    "champResults.groupby(\"year\")[\"driverId\"].nunique().nlargest(5)"
   ]
  },
  {
   "cell_type": "code",
   "execution_count": 25,
   "id": "0f586213",
   "metadata": {},
   "outputs": [
    {
     "data": {
      "text/plain": [
       "year\n",
       "1950    3\n",
       "1951    3\n",
       "1952    3\n",
       "1956    3\n",
       "1957    3\n",
       "Name: driverId, dtype: int64"
      ]
     },
     "execution_count": 25,
     "metadata": {},
     "output_type": "execute_result"
    }
   ],
   "source": [
    "champResults.groupby(\"year\")[\"driverId\"].nunique().nsmallest(5)"
   ]
  },
  {
   "cell_type": "code",
   "execution_count": 26,
   "id": "9c2e2e0b",
   "metadata": {},
   "outputs": [
    {
     "data": {
      "text/plain": [
       "year  gp                      \n",
       "1978  Austrian Grand Prix         8\n",
       "      Canadian Grand Prix         8\n",
       "      Dutch Grand Prix            8\n",
       "      German Grand Prix           8\n",
       "      Italian Grand Prix          8\n",
       "1980  Austrian Grand Prix         8\n",
       "      Dutch Grand Prix            8\n",
       "      Italian Grand Prix          8\n",
       "1966  Italian Grand Prix          7\n",
       "1970  British Grand Prix          7\n",
       "      German Grand Prix           7\n",
       "1972  Italian Grand Prix          7\n",
       "      United States Grand Prix    7\n",
       "1973  British Grand Prix          7\n",
       "      Canadian Grand Prix         7\n",
       "Name: driverId, dtype: int64"
      ]
     },
     "execution_count": 26,
     "metadata": {},
     "output_type": "execute_result"
    }
   ],
   "source": [
    "champResults.groupby([\"year\", \"gp\"])[\"driverId\"].nunique().nlargest(15)"
   ]
  },
  {
   "cell_type": "code",
   "execution_count": 27,
   "id": "0024d570",
   "metadata": {},
   "outputs": [
    {
     "data": {
      "text/plain": [
       "year  gp                   \n",
       "1994  Hungarian Grand Prix     2\n",
       "      Italian Grand Prix       2\n",
       "      Portuguese Grand Prix    2\n",
       "1995  Pacific Grand Prix       2\n",
       "1994  Belgian Grand Prix       3\n",
       "Name: driverId, dtype: int64"
      ]
     },
     "execution_count": 27,
     "metadata": {},
     "output_type": "execute_result"
    }
   ],
   "source": [
    "champResults[champResults[\"year\"] > 1990].groupby([\"year\", \"gp\"])[\"driverId\"].nunique().nsmallest(5)"
   ]
  },
  {
   "cell_type": "markdown",
   "id": "4477ed49",
   "metadata": {},
   "source": [
    "## What was the last time two future World Champions debuted (or ended their careers) in the same race?"
   ]
  },
  {
   "cell_type": "code",
   "execution_count": 28,
   "id": "b515fb9f",
   "metadata": {
    "scrolled": true
   },
   "outputs": [
    {
     "data": {
      "text/plain": [
       "dateOfDebut\n",
       "2001-03-04    2\n",
       "1950-05-21    1\n",
       "1952-06-22    1\n",
       "Name: name, dtype: int64"
      ]
     },
     "execution_count": 28,
     "metadata": {},
     "output_type": "execute_result"
    }
   ],
   "source": [
    "champResults[~champResults.name.isin(firstGPdrivers)].groupby(\"dateOfDebut\")[\"name\"].nunique().nlargest(3)"
   ]
  },
  {
   "cell_type": "code",
   "execution_count": 29,
   "id": "cc3387c2",
   "metadata": {},
   "outputs": [
    {
     "data": {
      "text/plain": [
       "dateOfFarewell\n",
       "1980-10-05    2\n",
       "1986-10-26    2\n",
       "1955-05-22    1\n",
       "Name: name, dtype: int64"
      ]
     },
     "execution_count": 29,
     "metadata": {},
     "output_type": "execute_result"
    }
   ],
   "source": [
    "champResults[~champResults.name.isin(lastGPdrivers)].groupby(\"dateOfFarewell\")[\"name\"].nunique().nlargest(3)"
   ]
  },
  {
   "cell_type": "markdown",
   "id": "80ed255c",
   "metadata": {},
   "source": [
    "## The most unsuccessful World Champions, in one way or another"
   ]
  },
  {
   "cell_type": "code",
   "execution_count": 30,
   "id": "fe841a6b",
   "metadata": {},
   "outputs": [
    {
     "data": {
      "text/plain": [
       "name\n",
       "Keke Rosberg          14\n",
       "Damon Hill             6\n",
       "Emerson Fittipaldi     3\n",
       "Graham Hill            2\n",
       "Mika Häkkinen          2\n",
       "Name: raceId, dtype: int64"
      ]
     },
     "execution_count": 30,
     "metadata": {},
     "output_type": "execute_result"
    }
   ],
   "source": [
    "results[results.name.isin(champions) & results.status.isin(dnqs)].groupby(\"name\")[\"raceId\"].nunique().nlargest(5)"
   ]
  },
  {
   "cell_type": "markdown",
   "id": "0ea44865",
   "metadata": {},
   "source": [
    "Keke Rosberg has failed to qualify for 14 GPs!"
   ]
  },
  {
   "cell_type": "code",
   "execution_count": 31,
   "id": "b7ec9396",
   "metadata": {},
   "outputs": [
    {
     "data": {
      "text/plain": [
       "name\n",
       "Michael Schumacher    30\n",
       "Nelson Piquet         28\n",
       "Nigel Mansell         28\n",
       "Kimi Räikkönen        24\n",
       "Jenson Button         23\n",
       "Name: raceId, dtype: int64"
      ]
     },
     "execution_count": 31,
     "metadata": {},
     "output_type": "execute_result"
    }
   ],
   "source": [
    "results[results.name.isin(champions) & results.status.isin(crashes)].groupby(\"name\")[\"raceId\"].nunique().nlargest(5)"
   ]
  },
  {
   "cell_type": "code",
   "execution_count": 32,
   "id": "31919666",
   "metadata": {},
   "outputs": [],
   "source": [
    "championsCrashing = results[results.name.isin(champions) & results.status.isin(crashes)].groupby(\"name\")[\"raceId\"].nunique() / results[results.name.isin(champions)].groupby(\"name\")[\"raceId\"].nunique()"
   ]
  },
  {
   "cell_type": "code",
   "execution_count": 33,
   "id": "c8c90bd4",
   "metadata": {},
   "outputs": [
    {
     "data": {
      "text/plain": [
       "name\n",
       "James Hunt            0.215054\n",
       "Damon Hill            0.147541\n",
       "Nigel Mansell         0.145833\n",
       "Ayrton Senna          0.135802\n",
       "Nelson Piquet         0.135266\n",
       "Alan Jones            0.128205\n",
       "Mario Andretti        0.124031\n",
       "Jody Scheckter        0.123894\n",
       "Niki Lauda            0.109195\n",
       "Jacques Villeneuve    0.109091\n",
       "Name: raceId, dtype: float64"
      ]
     },
     "execution_count": 33,
     "metadata": {},
     "output_type": "execute_result"
    }
   ],
   "source": [
    "championsCrashing.nlargest(10)"
   ]
  },
  {
   "cell_type": "code",
   "execution_count": 34,
   "id": "571178a6",
   "metadata": {},
   "outputs": [
    {
     "data": {
      "text/plain": [
       "name\n",
       "Juan Fangio           0.019608\n",
       "Mike Hawthorn         0.021739\n",
       "Jim Clark             0.027778\n",
       "Emerson Fittipaldi    0.033557\n",
       "Jackie Stewart        0.040000\n",
       "Lewis Hamilton        0.044444\n",
       "Denny Hulme           0.044643\n",
       "John Surtees          0.044643\n",
       "Fernando Alonso       0.049587\n",
       "Phil Hill             0.057692\n",
       "Name: raceId, dtype: float64"
      ]
     },
     "execution_count": 34,
     "metadata": {},
     "output_type": "execute_result"
    }
   ],
   "source": [
    "championsCrashing.nsmallest(10)"
   ]
  },
  {
   "cell_type": "markdown",
   "id": "3a2daafb",
   "metadata": {},
   "source": [
    "James Hunt has had the highest entry-to-crash ratio: 21,5%!"
   ]
  },
  {
   "cell_type": "code",
   "execution_count": 35,
   "id": "048b96f8",
   "metadata": {},
   "outputs": [
    {
     "data": {
      "text/plain": [
       "name\n",
       "James Hunt            9.0\n",
       "Mario Andretti        5.0\n",
       "Nino Farina           4.0\n",
       "Jim Clark             4.0\n",
       "Jacques Villeneuve    4.0\n",
       "John Surtees          4.0\n",
       "Emerson Fittipaldi    2.0\n",
       "Nigel Mansell         2.0\n",
       "Nelson Piquet         2.0\n",
       "Damon Hill            2.0\n",
       "Phil Hill             2.0\n",
       "Alberto Ascari        2.0\n",
       "Alan Jones            2.0\n",
       "Niki Lauda            1.0\n",
       "Lewis Hamilton        1.0\n",
       "Mika Häkkinen         1.0\n",
       "Michael Schumacher    1.0\n",
       "Max Verstappen        1.0\n",
       "Nico Rosberg          1.0\n",
       "Alain Prost           1.0\n",
       "Kimi Räikkönen        1.0\n",
       "Keke Rosberg          1.0\n",
       "Juan Fangio           1.0\n",
       "Jody Scheckter        1.0\n",
       "Jenson Button         1.0\n",
       "Jackie Stewart        1.0\n",
       "Jack Brabham          1.0\n",
       "Graham Hill           1.0\n",
       "Fernando Alonso       1.0\n",
       "Denny Hulme           1.0\n",
       "Ayrton Senna          1.0\n",
       "Sebastian Vettel      1.0\n",
       "Mike Hawthorn         NaN\n",
       "Name: position, dtype: float64"
      ]
     },
     "execution_count": 35,
     "metadata": {},
     "output_type": "execute_result"
    }
   ],
   "source": [
    "results[results.name.isin(champions) & (results[\"location\"] == \"Monte-Carlo\")].groupby(\"name\")[\"position\"].min().nlargest(50)"
   ]
  },
  {
   "cell_type": "markdown",
   "id": "f559c5fa",
   "metadata": {},
   "source": [
    "Seven World Champions have never finished on podium in Monaco."
   ]
  },
  {
   "cell_type": "markdown",
   "id": "eca8dfb5",
   "metadata": {},
   "source": [
    "## Etc."
   ]
  },
  {
   "cell_type": "code",
   "execution_count": 36,
   "id": "3eae993c",
   "metadata": {},
   "outputs": [
    {
     "ename": "KeyError",
     "evalue": "'name'",
     "output_type": "error",
     "traceback": [
      "\u001b[1;31m---------------------------------------------------------------------------\u001b[0m",
      "\u001b[1;31mKeyError\u001b[0m                                  Traceback (most recent call last)",
      "Input \u001b[1;32mIn [36]\u001b[0m, in \u001b[0;36m<cell line: 1>\u001b[1;34m()\u001b[0m\n\u001b[1;32m----> 1\u001b[0m firstTitle \u001b[38;5;241m=\u001b[39m \u001b[43mdecidingraces\u001b[49m\u001b[38;5;241;43m.\u001b[39;49m\u001b[43mgroupby\u001b[49m\u001b[43m(\u001b[49m\u001b[38;5;124;43m\"\u001b[39;49m\u001b[38;5;124;43mname\u001b[39;49m\u001b[38;5;124;43m\"\u001b[39;49m\u001b[43m)\u001b[49m[\u001b[38;5;124m\"\u001b[39m\u001b[38;5;124mdate\u001b[39m\u001b[38;5;124m\"\u001b[39m]\u001b[38;5;241m.\u001b[39mfirst()\n",
      "File \u001b[1;32mC:\\Python310\\lib\\site-packages\\pandas\\core\\frame.py:8235\u001b[0m, in \u001b[0;36mDataFrame.groupby\u001b[1;34m(self, by, axis, level, as_index, sort, group_keys, observed, dropna)\u001b[0m\n\u001b[0;32m   8232\u001b[0m     \u001b[38;5;28;01mraise\u001b[39;00m \u001b[38;5;167;01mTypeError\u001b[39;00m(\u001b[38;5;124m\"\u001b[39m\u001b[38;5;124mYou have to supply one of \u001b[39m\u001b[38;5;124m'\u001b[39m\u001b[38;5;124mby\u001b[39m\u001b[38;5;124m'\u001b[39m\u001b[38;5;124m and \u001b[39m\u001b[38;5;124m'\u001b[39m\u001b[38;5;124mlevel\u001b[39m\u001b[38;5;124m'\u001b[39m\u001b[38;5;124m\"\u001b[39m)\n\u001b[0;32m   8233\u001b[0m axis \u001b[38;5;241m=\u001b[39m \u001b[38;5;28mself\u001b[39m\u001b[38;5;241m.\u001b[39m_get_axis_number(axis)\n\u001b[1;32m-> 8235\u001b[0m \u001b[38;5;28;01mreturn\u001b[39;00m \u001b[43mDataFrameGroupBy\u001b[49m\u001b[43m(\u001b[49m\n\u001b[0;32m   8236\u001b[0m \u001b[43m    \u001b[49m\u001b[43mobj\u001b[49m\u001b[38;5;241;43m=\u001b[39;49m\u001b[38;5;28;43mself\u001b[39;49m\u001b[43m,\u001b[49m\n\u001b[0;32m   8237\u001b[0m \u001b[43m    \u001b[49m\u001b[43mkeys\u001b[49m\u001b[38;5;241;43m=\u001b[39;49m\u001b[43mby\u001b[49m\u001b[43m,\u001b[49m\n\u001b[0;32m   8238\u001b[0m \u001b[43m    \u001b[49m\u001b[43maxis\u001b[49m\u001b[38;5;241;43m=\u001b[39;49m\u001b[43maxis\u001b[49m\u001b[43m,\u001b[49m\n\u001b[0;32m   8239\u001b[0m \u001b[43m    \u001b[49m\u001b[43mlevel\u001b[49m\u001b[38;5;241;43m=\u001b[39;49m\u001b[43mlevel\u001b[49m\u001b[43m,\u001b[49m\n\u001b[0;32m   8240\u001b[0m \u001b[43m    \u001b[49m\u001b[43mas_index\u001b[49m\u001b[38;5;241;43m=\u001b[39;49m\u001b[43mas_index\u001b[49m\u001b[43m,\u001b[49m\n\u001b[0;32m   8241\u001b[0m \u001b[43m    \u001b[49m\u001b[43msort\u001b[49m\u001b[38;5;241;43m=\u001b[39;49m\u001b[43msort\u001b[49m\u001b[43m,\u001b[49m\n\u001b[0;32m   8242\u001b[0m \u001b[43m    \u001b[49m\u001b[43mgroup_keys\u001b[49m\u001b[38;5;241;43m=\u001b[39;49m\u001b[43mgroup_keys\u001b[49m\u001b[43m,\u001b[49m\n\u001b[0;32m   8243\u001b[0m \u001b[43m    \u001b[49m\u001b[43mobserved\u001b[49m\u001b[38;5;241;43m=\u001b[39;49m\u001b[43mobserved\u001b[49m\u001b[43m,\u001b[49m\n\u001b[0;32m   8244\u001b[0m \u001b[43m    \u001b[49m\u001b[43mdropna\u001b[49m\u001b[38;5;241;43m=\u001b[39;49m\u001b[43mdropna\u001b[49m\u001b[43m,\u001b[49m\n\u001b[0;32m   8245\u001b[0m \u001b[43m\u001b[49m\u001b[43m)\u001b[49m\n",
      "File \u001b[1;32mC:\\Python310\\lib\\site-packages\\pandas\\core\\groupby\\groupby.py:930\u001b[0m, in \u001b[0;36mGroupBy.__init__\u001b[1;34m(self, obj, keys, axis, level, grouper, exclusions, selection, as_index, sort, group_keys, observed, dropna)\u001b[0m\n\u001b[0;32m    927\u001b[0m \u001b[38;5;28mself\u001b[39m\u001b[38;5;241m.\u001b[39mdropna \u001b[38;5;241m=\u001b[39m dropna\n\u001b[0;32m    929\u001b[0m \u001b[38;5;28;01mif\u001b[39;00m grouper \u001b[38;5;129;01mis\u001b[39;00m \u001b[38;5;28;01mNone\u001b[39;00m:\n\u001b[1;32m--> 930\u001b[0m     grouper, exclusions, obj \u001b[38;5;241m=\u001b[39m \u001b[43mget_grouper\u001b[49m\u001b[43m(\u001b[49m\n\u001b[0;32m    931\u001b[0m \u001b[43m        \u001b[49m\u001b[43mobj\u001b[49m\u001b[43m,\u001b[49m\n\u001b[0;32m    932\u001b[0m \u001b[43m        \u001b[49m\u001b[43mkeys\u001b[49m\u001b[43m,\u001b[49m\n\u001b[0;32m    933\u001b[0m \u001b[43m        \u001b[49m\u001b[43maxis\u001b[49m\u001b[38;5;241;43m=\u001b[39;49m\u001b[43maxis\u001b[49m\u001b[43m,\u001b[49m\n\u001b[0;32m    934\u001b[0m \u001b[43m        \u001b[49m\u001b[43mlevel\u001b[49m\u001b[38;5;241;43m=\u001b[39;49m\u001b[43mlevel\u001b[49m\u001b[43m,\u001b[49m\n\u001b[0;32m    935\u001b[0m \u001b[43m        \u001b[49m\u001b[43msort\u001b[49m\u001b[38;5;241;43m=\u001b[39;49m\u001b[43msort\u001b[49m\u001b[43m,\u001b[49m\n\u001b[0;32m    936\u001b[0m \u001b[43m        \u001b[49m\u001b[43mobserved\u001b[49m\u001b[38;5;241;43m=\u001b[39;49m\u001b[43mobserved\u001b[49m\u001b[43m,\u001b[49m\n\u001b[0;32m    937\u001b[0m \u001b[43m        \u001b[49m\u001b[43mdropna\u001b[49m\u001b[38;5;241;43m=\u001b[39;49m\u001b[38;5;28;43mself\u001b[39;49m\u001b[38;5;241;43m.\u001b[39;49m\u001b[43mdropna\u001b[49m\u001b[43m,\u001b[49m\n\u001b[0;32m    938\u001b[0m \u001b[43m    \u001b[49m\u001b[43m)\u001b[49m\n\u001b[0;32m    940\u001b[0m \u001b[38;5;28mself\u001b[39m\u001b[38;5;241m.\u001b[39mobj \u001b[38;5;241m=\u001b[39m obj\n\u001b[0;32m    941\u001b[0m \u001b[38;5;28mself\u001b[39m\u001b[38;5;241m.\u001b[39maxis \u001b[38;5;241m=\u001b[39m obj\u001b[38;5;241m.\u001b[39m_get_axis_number(axis)\n",
      "File \u001b[1;32mC:\\Python310\\lib\\site-packages\\pandas\\core\\groupby\\grouper.py:985\u001b[0m, in \u001b[0;36mget_grouper\u001b[1;34m(obj, key, axis, level, sort, observed, validate, dropna)\u001b[0m\n\u001b[0;32m    983\u001b[0m         in_axis, level, gpr \u001b[38;5;241m=\u001b[39m \u001b[38;5;28;01mFalse\u001b[39;00m, gpr, \u001b[38;5;28;01mNone\u001b[39;00m\n\u001b[0;32m    984\u001b[0m     \u001b[38;5;28;01melse\u001b[39;00m:\n\u001b[1;32m--> 985\u001b[0m         \u001b[38;5;28;01mraise\u001b[39;00m \u001b[38;5;167;01mKeyError\u001b[39;00m(gpr)\n\u001b[0;32m    986\u001b[0m \u001b[38;5;28;01melif\u001b[39;00m \u001b[38;5;28misinstance\u001b[39m(gpr, Grouper) \u001b[38;5;129;01mand\u001b[39;00m gpr\u001b[38;5;241m.\u001b[39mkey \u001b[38;5;129;01mis\u001b[39;00m \u001b[38;5;129;01mnot\u001b[39;00m \u001b[38;5;28;01mNone\u001b[39;00m:\n\u001b[0;32m    987\u001b[0m     \u001b[38;5;66;03m# Add key to exclusions\u001b[39;00m\n\u001b[0;32m    988\u001b[0m     exclusions\u001b[38;5;241m.\u001b[39madd(gpr\u001b[38;5;241m.\u001b[39mkey)\n",
      "\u001b[1;31mKeyError\u001b[0m: 'name'"
     ]
    }
   ],
   "source": [
    "firstTitle = decidingraces.groupby(\"name\")[\"date\"].first()"
   ]
  },
  {
   "cell_type": "code",
   "execution_count": null,
   "id": "52c4f329",
   "metadata": {},
   "outputs": [],
   "source": [
    "decidingraces[\"name\"] = decidingraces[\"champion\"]"
   ]
  },
  {
   "cell_type": "code",
   "execution_count": null,
   "id": "c666cabf",
   "metadata": {},
   "outputs": [],
   "source": [
    "firsttitle = pd.Series(decidingraces.sort_values(by=\"date\").groupby(\"name\")[\"date\"].first(), name=\"dateOfFirstTitle\")"
   ]
  },
  {
   "cell_type": "code",
   "execution_count": null,
   "id": "de441668",
   "metadata": {},
   "outputs": [],
   "source": [
    "results = results.merge(firsttitle, on=\"name\", how=\"left\")"
   ]
  },
  {
   "cell_type": "code",
   "execution_count": null,
   "id": "1071450b",
   "metadata": {},
   "outputs": [],
   "source": [
    "results"
   ]
  },
  {
   "cell_type": "code",
   "execution_count": null,
   "id": "f572102d",
   "metadata": {},
   "outputs": [],
   "source": [
    "results.loc[results[\"dateOfFirstTitle_y\"] < results[\"date\"],\"ischampion\"]=True"
   ]
  },
  {
   "cell_type": "code",
   "execution_count": null,
   "id": "a4a22819",
   "metadata": {},
   "outputs": [],
   "source": [
    "results[(results[\"ischampion\"] == True) & (results['round'].isin([1]) & (results[\"year\"] == 1955))][\"name\"]"
   ]
  },
  {
   "cell_type": "code",
   "execution_count": null,
   "id": "852c1851",
   "metadata": {},
   "outputs": [],
   "source": []
  },
  {
   "cell_type": "code",
   "execution_count": null,
   "id": "1abeff23",
   "metadata": {},
   "outputs": [],
   "source": [
    "results[(results[\"ischampion\"] == True) & (results['round'].isin([1,2,3]))].groupby(\"year\")[\"name\"].nunique().tail(50)"
   ]
  }
 ],
 "metadata": {
  "kernelspec": {
   "display_name": "Python 3 (ipykernel)",
   "language": "python",
   "name": "python3"
  },
  "language_info": {
   "codemirror_mode": {
    "name": "ipython",
    "version": 3
   },
   "file_extension": ".py",
   "mimetype": "text/x-python",
   "name": "python",
   "nbconvert_exporter": "python",
   "pygments_lexer": "ipython3",
   "version": "3.11.5"
  }
 },
 "nbformat": 4,
 "nbformat_minor": 5
}
