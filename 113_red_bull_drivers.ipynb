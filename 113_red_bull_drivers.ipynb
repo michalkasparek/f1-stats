{
 "cells": [
  {
   "cell_type": "code",
   "execution_count": 1,
   "id": "9c7d7246-5760-43f3-b272-f6d9825c98bc",
   "metadata": {},
   "outputs": [],
   "source": [
    "import pandas as pd\n",
    "df = pd.read_json(\"data/ergast-results.json\")"
   ]
  },
  {
   "cell_type": "code",
   "execution_count": 11,
   "id": "19c33d42-2276-4823-8754-d892df6e953e",
   "metadata": {},
   "outputs": [
    {
     "data": {
      "text/plain": [
       "year    name             \n",
       "2005.0  Christian Klien      15\n",
       "        David Coulthard      19\n",
       "        Vitantonio Liuzzi     4\n",
       "2006.0  Christian Klien      15\n",
       "        David Coulthard      18\n",
       "        Robert Doornbos       3\n",
       "2007.0  David Coulthard      17\n",
       "        Mark Webber          17\n",
       "2008.0  David Coulthard      18\n",
       "        Mark Webber          18\n",
       "2009.0  Mark Webber          17\n",
       "        Sebastian Vettel     17\n",
       "2010.0  Mark Webber          19\n",
       "        Sebastian Vettel     19\n",
       "2011.0  Mark Webber          19\n",
       "        Sebastian Vettel     19\n",
       "2012.0  Mark Webber          20\n",
       "        Sebastian Vettel     20\n",
       "2013.0  Mark Webber          19\n",
       "        Sebastian Vettel     19\n",
       "2014.0  Daniel Ricciardo     19\n",
       "        Sebastian Vettel     19\n",
       "2015.0  Daniel Ricciardo     19\n",
       "        Daniil Kvyat         19\n",
       "2016.0  Daniel Ricciardo     21\n",
       "        Daniil Kvyat          4\n",
       "        Max Verstappen       17\n",
       "2017.0  Daniel Ricciardo     20\n",
       "        Max Verstappen       20\n",
       "2018.0  Daniel Ricciardo     21\n",
       "        Max Verstappen       21\n",
       "2019.0  Alexander Albon       9\n",
       "        Max Verstappen       21\n",
       "        Pierre Gasly         12\n",
       "2020.0  Alexander Albon      17\n",
       "        Max Verstappen       17\n",
       "2021.0  Max Verstappen       22\n",
       "        Sergio Pérez         22\n",
       "2022.0  Max Verstappen       22\n",
       "        Sergio Pérez         22\n",
       "2023.0  Max Verstappen       22\n",
       "        Sergio Pérez         22\n",
       "2024.0  Max Verstappen       24\n",
       "        Sergio Pérez         24\n",
       "dtype: int64"
      ]
     },
     "execution_count": 11,
     "metadata": {},
     "output_type": "execute_result"
    }
   ],
   "source": [
    "df[df['constructor'] == 'Red Bull'].groupby(['year','name']).size()"
   ]
  },
  {
   "cell_type": "code",
   "execution_count": 29,
   "id": "359c1f7e-ea44-4041-a018-2826c82c1a0a",
   "metadata": {},
   "outputs": [
    {
     "data": {
      "text/plain": [
       "year    name              \n",
       "2006.0  Scott Speed           18\n",
       "        Vitantonio Liuzzi     18\n",
       "2007.0  Scott Speed           10\n",
       "        Sebastian Vettel       7\n",
       "        Vitantonio Liuzzi     17\n",
       "2008.0  Sebastian Vettel      18\n",
       "        Sébastien Bourdais    18\n",
       "2009.0  Jaime Alguersuari      8\n",
       "        Sébastien Bourdais     9\n",
       "        Sébastien Buemi       17\n",
       "2010.0  Jaime Alguersuari     19\n",
       "        Sébastien Buemi       19\n",
       "2011.0  Jaime Alguersuari     19\n",
       "        Sébastien Buemi       19\n",
       "2012.0  Daniel Ricciardo      20\n",
       "        Jean-Éric Vergne      20\n",
       "2013.0  Daniel Ricciardo      19\n",
       "        Jean-Éric Vergne      19\n",
       "2014.0  Daniil Kvyat          19\n",
       "        Jean-Éric Vergne      19\n",
       "2015.0  Carlos Sainz          19\n",
       "        Max Verstappen        19\n",
       "2016.0  Carlos Sainz          21\n",
       "        Daniil Kvyat          17\n",
       "        Max Verstappen         4\n",
       "2017.0  Brendon Hartley        4\n",
       "        Carlos Sainz          16\n",
       "        Daniil Kvyat          15\n",
       "        Pierre Gasly           5\n",
       "2018.0  Brendon Hartley       21\n",
       "        Pierre Gasly          21\n",
       "2019.0  Alexander Albon       12\n",
       "        Daniil Kvyat          21\n",
       "        Pierre Gasly           9\n",
       "2020.0  Daniil Kvyat          17\n",
       "        Pierre Gasly          17\n",
       "2021.0  Pierre Gasly          22\n",
       "        Yuki Tsunoda          22\n",
       "2022.0  Pierre Gasly          22\n",
       "        Yuki Tsunoda          22\n",
       "2023.0  Daniel Ricciardo       7\n",
       "        Liam Lawson            5\n",
       "        Nyck de Vries         10\n",
       "        Yuki Tsunoda          22\n",
       "2024.0  Daniel Ricciardo      18\n",
       "        Liam Lawson            6\n",
       "        Yuki Tsunoda          24\n",
       "dtype: int64"
      ]
     },
     "execution_count": 29,
     "metadata": {},
     "output_type": "execute_result"
    }
   ],
   "source": [
    "df[df['constructor'].isin(['Toro Rosso','AlphaTauri','RB F1 Team'])].groupby(['year','name']).size()"
   ]
  }
 ],
 "metadata": {
  "kernelspec": {
   "display_name": "Python 3 (ipykernel)",
   "language": "python",
   "name": "python3"
  },
  "language_info": {
   "codemirror_mode": {
    "name": "ipython",
    "version": 3
   },
   "file_extension": ".py",
   "mimetype": "text/x-python",
   "name": "python",
   "nbconvert_exporter": "python",
   "pygments_lexer": "ipython3",
   "version": "3.12.3"
  }
 },
 "nbformat": 4,
 "nbformat_minor": 5
}
