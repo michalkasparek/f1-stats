{
 "cells": [
  {
   "cell_type": "code",
   "execution_count": 1,
   "id": "a02c1ae8",
   "metadata": {},
   "outputs": [
    {
     "name": "stderr",
     "output_type": "stream",
     "text": [
      "C:\\Users\\micha\\AppData\\Local\\Temp\\ipykernel_23840\\1151300188.py:46: FutureWarning: Passing 'suffixes' which cause duplicate columns {'url_x'} in the result is deprecated and will raise a MergeError in a future version.\n",
      "  results = results.merge(constructors, on=\"constructorId\", how=\"right\")\n",
      "C:\\Users\\micha\\AppData\\Local\\Temp\\ipykernel_23840\\1151300188.py:61: SettingWithCopyWarning: \n",
      "A value is trying to be set on a copy of a slice from a DataFrame.\n",
      "Try using .loc[row_indexer,col_indexer] = value instead\n",
      "\n",
      "See the caveats in the documentation: https://pandas.pydata.org/pandas-docs/stable/user_guide/indexing.html#returning-a-view-versus-a-copy\n",
      "  results[\"year_round\"] = results[\"year_round\"].apply(pd.to_numeric, errors = \"coerce\").astype(int)\n",
      "C:\\Users\\micha\\AppData\\Local\\Temp\\ipykernel_23840\\1151300188.py:63: SettingWithCopyWarning: \n",
      "A value is trying to be set on a copy of a slice from a DataFrame.\n",
      "Try using .loc[row_indexer,col_indexer] = value instead\n",
      "\n",
      "See the caveats in the documentation: https://pandas.pydata.org/pandas-docs/stable/user_guide/indexing.html#returning-a-view-versus-a-copy\n",
      "  results.loc[results.nationality_x.isin(Europe),\"driverContinent\"]=\"Europe\"\n",
      "C:\\Users\\micha\\AppData\\Local\\Temp\\ipykernel_23840\\1151300188.py:71: SettingWithCopyWarning: \n",
      "A value is trying to be set on a copy of a slice from a DataFrame.\n",
      "Try using .loc[row_indexer,col_indexer] = value instead\n",
      "\n",
      "See the caveats in the documentation: https://pandas.pydata.org/pandas-docs/stable/user_guide/indexing.html#returning-a-view-versus-a-copy\n",
      "  results.loc[results.location.isin(streetCircuits),\"street\"]=True\n"
     ]
    }
   ],
   "source": [
    "# %load prepareStats.py\n",
    "#!/usr/bin/env python\n",
    "\n",
    "\"\"\"\n",
    "Don't repeat yourself, they say. So this is the stuff that goes in the beginning of all my \n",
    "Jupyter Notebooks exploring various F1 statistics. https://github.com/michalkasparek/f1-stats/\n",
    "\"\"\"\n",
    "\n",
    "import os\n",
    "import pandas as pd\n",
    "import matplotlib.pyplot as plt\n",
    "import numpy as np\n",
    "\n",
    "# Let's define some useful lists first\n",
    "\n",
    "unknownResult = [\"nan0n\", \"NaN\", \"NA\", \"inf\"]\n",
    "crashes = [\"Accident\", \"Collision\", \"Fatal accident\", \"Collision damage\", \"Spun off\"]\n",
    "dnqs = [\"Did not qualify\", \"Did not prequalify\", \"107% Rule\"]\n",
    "\n",
    "Europe = [\"Austria\", \"Austrian\", \"Azerbaijan\", \"Belgian\", \"Belgium\", \"British\", \"Czech\", \"Danish\", \"Dutch\", \"East German\", \"Finnish\", \"France\", \"French\", \"German\", \"Germany\", \"Hungarian\", \"Hungary\", \"Irish\", \"Italian\", \"Italy\", \"Liechtensteiner\", \"Monaco\", \"Monegasque\", \"Netherlands\", \"Polish\", \"Portugal\", \"Portuguese\", \"Russia\", \"Russian\", \"Spanish\", \"Spain\", \"Sweden\", \"Swedish\", \"Swiss\", \"Switzerland\", \"Turkey\", \"UK\"]\n",
    "NAmerica = [\"American\", \"Canada\", \"Canadian\", \"Mexican\", \"Mexico\", \"USA\"]\n",
    "SAmerica = [\"Argentina\", \"Argentine\", \"Brazil\", \"Brazilian\", \"Chilean\", \"Colombian\", \"Uruguayan\", \"Venezuelan\"]\n",
    "Asia = [\"Bahrain\", \"Chinese\", \"China\", \"Hong Kong\", \"India\", \"Indian\", \"Indonesian\", \"Japan\", \"Japanese\", \"Korea\", \"Malaysia\", \"Malaysian\", \"Qatar\", \"Saudi Arabia\", \"Singapore\", \"Thai\", \"UAE\"]\n",
    "Africa = [\"Morocco\", \"Rhodesian\", \"South Africa\", \"South African\"]\n",
    "Oceania = [\"Australia\", \"Australian\", \"New Zealander\"]\n",
    "multiple = [\"American-Italian\", \"Argentine-Italian\"]\n",
    "westernEurope = [\"Austria\", \"Belgium\", \"Germany\", \"France\", \"Italy\", \"Monaco\", \"Netherlands\", \"Portugal\", \"Spain\", \"Sweden\", \"Switzerland\", \"UK\"]\n",
    "\n",
    "streetCircuits = [\"Melbourne\", \"Monte-Carlo\", \"Montreal\", \"Valencia\", \"Marina Bay\", \"Sochi\", \"Baku\", \"Jeddah\", \"Adelaide\", \"Phoenix\", \"Detroit\", \"Dallas\", \"Nevada\", \"California\", \"Oporto\", \"Lisbon\"]\n",
    "\n",
    "# Now we're gonna load the stats… (source: http://ergast.com/mrd/db/#csv)\n",
    "\n",
    "drivers = pd.read_csv(os.path.join(\"data\", \"drivers.csv\"))\n",
    "results = pd.read_csv(os.path.join(\"data\", \"results.csv\"))\n",
    "races = pd.read_csv(os.path.join(\"data\", \"races.csv\"))\n",
    "circuits = pd.read_csv(os.path.join(\"data\", \"circuits.csv\"))\n",
    "status = pd.read_csv(os.path.join(\"data\", \"status.csv\"))\n",
    "constructors = pd.read_csv(os.path.join(\"data\", \"constructors.csv\"))\n",
    "\n",
    "# …merge all the tables into a single dataframe…\n",
    "\n",
    "results = results.merge(drivers, on=\"driverId\", how=\"right\")\n",
    "races = races.merge(circuits, on=\"circuitId\", how=\"right\")\n",
    "results = results.merge(races, on=\"raceId\", how=\"right\")\n",
    "results = results.merge(status, on=\"statusId\", how=\"right\")\n",
    "results = results.merge(constructors, on=\"constructorId\", how=\"right\")\n",
    "\n",
    "# …make the columns more useful…\n",
    "\n",
    "results[\"fullname\"] = results[\"forename\"] + \" \" + results[\"surname\"]\n",
    "results[\"date\"] = pd.to_datetime(results[\"date\"], format=\"%Y-%m-%d\")\n",
    "results[\"year\"] = results[\"year\"].apply(pd.to_numeric, errors = \"coerce\").astype(np.int64, errors=\"ignore\")\n",
    "results[\"round\"] = results[\"round\"].apply(pd.to_numeric, errors = \"coerce\").astype(np.int64, errors=\"ignore\")\n",
    "results[\"position\"] = results[\"position\"].apply(pd.to_numeric, errors = \"coerce\").astype(np.int64, errors=\"ignore\")\n",
    "results[\"fastestLapSpeed\"] = results[\"fastestLapSpeed\"].apply(pd.to_numeric, errors = \"coerce\").astype(np.int64, errors=\"ignore\")\n",
    "\n",
    "# …and create some new columns.\n",
    "\n",
    "results[\"year_round\"] = results[\"year\"].astype(str).str.slice(0,4) + results[\"round\"].astype(str).str.slice(0,-2).str.zfill(2)\n",
    "results = results[~results.year_round.isin(unknownResult)]\n",
    "results[\"year_round\"] = results[\"year_round\"].apply(pd.to_numeric, errors = \"coerce\").astype(int)\n",
    "\n",
    "results.loc[results.nationality_x.isin(Europe),\"driverContinent\"]=\"Europe\"\n",
    "results.loc[results.nationality_x.isin(NAmerica),\"driverContinent\"]=\"NAmerica\"\n",
    "results.loc[results.nationality_x.isin(SAmerica),\"driverContinent\"]=\"SAmerica\"\n",
    "results.loc[results.nationality_x.isin(Asia),\"driverContinent\"]=\"Asia\"\n",
    "results.loc[results.nationality_x.isin(Africa),\"driverContinent\"]=\"Africa\"\n",
    "results.loc[results.nationality_x.isin(Oceania),\"driverContinent\"]=\"Oceania\"\n",
    "results.loc[results.nationality_x.isin(multiple),\"driverContinent\"]=\"multiple\"\n",
    "\n",
    "results.loc[results.location.isin(streetCircuits),\"street\"]=True\n",
    "\n",
    "entries = pd.Series(results.groupby([\"driverId\"]).size(), name=\"entries\")\n",
    "results = results.merge(entries, on = [\"driverId\"], how = \"right\")\n",
    "\n",
    "# Now split the main dataframe for wins, podiums and top 6 finishes only \n",
    "\n",
    "wins = results[results[\"position\"] == 1]\n",
    "podiums = results[results[\"position\"] < 4]\n",
    "top6 = results[results[\"position\"] < 7]\n",
    "\n",
    "# Finally let's give the plots some swag\n",
    "\n",
    "plt.style.use(\"_mpl-gallery\")\n",
    "plt.rcParams[\"figure.figsize\"] = (20,3)"
   ]
  },
  {
   "cell_type": "code",
   "execution_count": 2,
   "id": "82a49966",
   "metadata": {},
   "outputs": [],
   "source": [
    "results = results[~results.status.isin(dnqs)]"
   ]
  },
  {
   "cell_type": "code",
   "execution_count": 3,
   "id": "7e26d1bb",
   "metadata": {},
   "outputs": [],
   "source": [
    "fathersAndSons = {\n",
    "\"Andrettis\": [\"Mario Andretti\", \"Michael Andretti\"],\n",
    "\"Brabhams\": [\"Jack Brabham\", \"David Brabham\"],\n",
    "\"Fittipaldis\": [\"Wilson Fittipaldi\", \"Christian Fittipaldi\"],\n",
    "\"Hills\": [\"Graham Hill\", \"Damon Hill\"], \n",
    "\"Magnussens\": [\"Jan Magnussen\", \"Kevin Magnussen\"],\n",
    "\"Nakajimas\": [\"Satoru Nakajima\", \"Kazuki Nakajima\"],\n",
    "\"Palmers\": [\"Jonathan Palmer\", \"Jolyon Palmer\"],\n",
    "\"Parnells\": [\"Reg Parnell\", \"Tim Parnell\"],\n",
    "\"Piquets\": [\"Nelson Piquet\", \"Nelson Piquet Jr.\"], \n",
    "\"Rosbergs\": [\"Keke Rosberg\", \"Nico Rosberg\"],\n",
    "\"Schumachers\": [\"Michael Schumacher\", \"Mick Schumacher\"],\n",
    "\"Verstappens\": [\"Jos Verstappen\", \"Max Verstappen\"], \n",
    "\"Villeneuves\": [\"Gilles Villeneuve\", \"Jacques Villeneuve\"],\n",
    "\"Winkelhocks\": [\"Manfred Winkelhock\", \"Markus Winkelhock\"]\n",
    "}"
   ]
  },
  {
   "cell_type": "code",
   "execution_count": 4,
   "id": "2a50584d",
   "metadata": {},
   "outputs": [],
   "source": [
    "sons = []\n",
    "for key, value in fathersAndSons.items():\n",
    "    sons.append(value[1])"
   ]
  },
  {
   "cell_type": "code",
   "execution_count": 5,
   "id": "17d8b134",
   "metadata": {},
   "outputs": [],
   "source": [
    "results.loc[results.fullname.isin(sons),\"son\"]=True"
   ]
  },
  {
   "cell_type": "code",
   "execution_count": 6,
   "id": "9f39c84e",
   "metadata": {},
   "outputs": [],
   "source": [
    "resultsSons = results[results.fullname.isin(sons)]"
   ]
  },
  {
   "cell_type": "markdown",
   "id": "a281d423",
   "metadata": {},
   "source": [
    "## Historical stats"
   ]
  },
  {
   "cell_type": "code",
   "execution_count": 7,
   "id": "165cfcab",
   "metadata": {
    "scrolled": true
   },
   "outputs": [
    {
     "data": {
      "text/plain": [
       "year    round\n",
       "2004.0  15.0     0\n",
       "Name: son, dtype: int64"
      ]
     },
     "execution_count": 7,
     "metadata": {},
     "output_type": "execute_result"
    }
   ],
   "source": [
    "woSons = results.groupby([\"year\", \"round\"])[\"son\"].count()\n",
    "woSons[woSons <1].tail(1)"
   ]
  },
  {
   "cell_type": "markdown",
   "id": "46dd4d9a",
   "metadata": {},
   "source": [
    "The last GP without a single son of another F1 driver entering was the 2004 Italian Grand Prix."
   ]
  },
  {
   "cell_type": "code",
   "execution_count": 8,
   "id": "af8a119f",
   "metadata": {},
   "outputs": [
    {
     "data": {
      "text/plain": [
       "year\n",
       "1991.0    0\n",
       "Name: son, dtype: int64"
      ]
     },
     "execution_count": 8,
     "metadata": {},
     "output_type": "execute_result"
    }
   ],
   "source": [
    "woSons = results.groupby([\"year\"])[\"son\"].count()\n",
    "woSons[woSons <1].tail(1)"
   ]
  },
  {
   "cell_type": "code",
   "execution_count": 9,
   "id": "01577575",
   "metadata": {
    "scrolled": true
   },
   "outputs": [
    {
     "data": {
      "text/plain": [
       "year\n",
       "1961.0    1\n",
       "1990.0    1\n",
       "1992.0    2\n",
       "1993.0    3\n",
       "1994.0    3\n",
       "1995.0    1\n",
       "1996.0    2\n",
       "1997.0    2\n",
       "1998.0    2\n",
       "1999.0    2\n",
       "2000.0    1\n",
       "2001.0    1\n",
       "2002.0    1\n",
       "2003.0    1\n",
       "2004.0    1\n",
       "2005.0    1\n",
       "2006.0    2\n",
       "2007.0    3\n",
       "2008.0    3\n",
       "2009.0    3\n",
       "2010.0    1\n",
       "2011.0    1\n",
       "2012.0    1\n",
       "2013.0    1\n",
       "2014.0    2\n",
       "2015.0    3\n",
       "2016.0    4\n",
       "2017.0    3\n",
       "2018.0    2\n",
       "2019.0    2\n",
       "2020.0    2\n",
       "2021.0    2\n",
       "2022.0    3\n",
       "Name: fullname, dtype: int64"
      ]
     },
     "execution_count": 9,
     "metadata": {},
     "output_type": "execute_result"
    }
   ],
   "source": [
    "results[results.fullname.isin(sons)].reset_index().groupby(\"year\")[\"fullname\"].nunique()"
   ]
  },
  {
   "cell_type": "markdown",
   "id": "0c7a5b4e",
   "metadata": {},
   "source": [
    "## Sons, sorted"
   ]
  },
  {
   "cell_type": "code",
   "execution_count": 10,
   "id": "115b3ffa",
   "metadata": {},
   "outputs": [
    {
     "data": {
      "text/plain": [
       "fullname\n",
       "Max Verstappen          1667.5\n",
       "Nico Rosberg            1594.5\n",
       "Damon Hill               360.0\n",
       "Jacques Villeneuve       235.0\n",
       "Kevin Magnussen          172.0\n",
       "Nelson Piquet Jr.         19.0\n",
       "Christian Fittipaldi      12.0\n",
       "Jolyon Palmer              9.0\n",
       "Kazuki Nakajima            9.0\n",
       "Michael Andretti           7.0\n",
       "David Brabham              0.0\n",
       "Markus Winkelhock          0.0\n",
       "Mick Schumacher            0.0\n",
       "Tim Parnell                0.0\n",
       "Name: points, dtype: float64"
      ]
     },
     "execution_count": 10,
     "metadata": {},
     "output_type": "execute_result"
    }
   ],
   "source": [
    "resultsSons.groupby(\"fullname\")[\"points\"].sum().sort_values(ascending=False)"
   ]
  },
  {
   "cell_type": "code",
   "execution_count": 11,
   "id": "536a28e8",
   "metadata": {},
   "outputs": [
    {
     "data": {
      "text/plain": [
       "fullname\n",
       "Nico Rosberg            206\n",
       "Jacques Villeneuve      165\n",
       "Max Verstappen          148\n",
       "Kevin Magnussen         127\n",
       "Damon Hill              116\n",
       "Christian Fittipaldi     40\n",
       "Jolyon Palmer            37\n",
       "Kazuki Nakajima          36\n",
       "Mick Schumacher          29\n",
       "Nelson Piquet Jr.        28\n",
       "David Brabham            24\n",
       "Michael Andretti         13\n",
       "Tim Parnell               2\n",
       "Markus Winkelhock         1\n",
       "Name: raceId, dtype: int64"
      ]
     },
     "execution_count": 11,
     "metadata": {},
     "output_type": "execute_result"
    }
   ],
   "source": [
    "resultsSons.groupby(\"fullname\")[\"raceId\"].count().sort_values(ascending=False)"
   ]
  },
  {
   "cell_type": "code",
   "execution_count": 12,
   "id": "86190820",
   "metadata": {},
   "outputs": [
    {
     "data": {
      "text/plain": [
       "fullname\n",
       "Damon Hill               1.0\n",
       "Jacques Villeneuve       1.0\n",
       "Max Verstappen           1.0\n",
       "Nico Rosberg             1.0\n",
       "Kevin Magnussen          2.0\n",
       "Nelson Piquet Jr.        2.0\n",
       "Michael Andretti         3.0\n",
       "Christian Fittipaldi     4.0\n",
       "Jolyon Palmer            6.0\n",
       "Kazuki Nakajima          6.0\n",
       "David Brabham           10.0\n",
       "Tim Parnell             10.0\n",
       "Mick Schumacher         11.0\n",
       "Markus Winkelhock        NaN\n",
       "Name: position, dtype: float64"
      ]
     },
     "execution_count": 12,
     "metadata": {},
     "output_type": "execute_result"
    }
   ],
   "source": [
    "resultsSons.groupby(\"fullname\")[\"position\"].min().sort_values()"
   ]
  },
  {
   "cell_type": "markdown",
   "id": "375bba46",
   "metadata": {},
   "source": [
    "## Gaps between father's last GP and son's first"
   ]
  },
  {
   "cell_type": "code",
   "execution_count": 13,
   "id": "e8257038",
   "metadata": {},
   "outputs": [
    {
     "data": {
      "text/html": [
       "<div>\n",
       "<style scoped>\n",
       "    .dataframe tbody tr th:only-of-type {\n",
       "        vertical-align: middle;\n",
       "    }\n",
       "\n",
       "    .dataframe tbody tr th {\n",
       "        vertical-align: top;\n",
       "    }\n",
       "\n",
       "    .dataframe thead th {\n",
       "        text-align: right;\n",
       "    }\n",
       "</style>\n",
       "<table border=\"1\" class=\"dataframe\">\n",
       "  <thead>\n",
       "    <tr style=\"text-align: right;\">\n",
       "      <th></th>\n",
       "      <th>gap</th>\n",
       "    </tr>\n",
       "  </thead>\n",
       "  <tbody>\n",
       "    <tr>\n",
       "      <th>Parnells</th>\n",
       "      <td>2555 days</td>\n",
       "    </tr>\n",
       "    <tr>\n",
       "      <th>Schumachers</th>\n",
       "      <td>3045 days</td>\n",
       "    </tr>\n",
       "    <tr>\n",
       "      <th>Andrettis</th>\n",
       "      <td>3823 days</td>\n",
       "    </tr>\n",
       "    <tr>\n",
       "      <th>Verstappens</th>\n",
       "      <td>4172 days</td>\n",
       "    </tr>\n",
       "    <tr>\n",
       "      <th>Villeneuves</th>\n",
       "      <td>5054 days</td>\n",
       "    </tr>\n",
       "    <tr>\n",
       "      <th>Magnussens</th>\n",
       "      <td>5761 days</td>\n",
       "    </tr>\n",
       "    <tr>\n",
       "      <th>Nakajimas</th>\n",
       "      <td>5831 days</td>\n",
       "    </tr>\n",
       "    <tr>\n",
       "      <th>Piquets</th>\n",
       "      <td>5978 days</td>\n",
       "    </tr>\n",
       "    <tr>\n",
       "      <th>Fittipaldis</th>\n",
       "      <td>5992 days</td>\n",
       "    </tr>\n",
       "    <tr>\n",
       "      <th>Hills</th>\n",
       "      <td>6377 days</td>\n",
       "    </tr>\n",
       "    <tr>\n",
       "      <th>Rosbergs</th>\n",
       "      <td>7077 days</td>\n",
       "    </tr>\n",
       "    <tr>\n",
       "      <th>Brabhams</th>\n",
       "      <td>7154 days</td>\n",
       "    </tr>\n",
       "    <tr>\n",
       "      <th>Winkelhocks</th>\n",
       "      <td>8022 days</td>\n",
       "    </tr>\n",
       "    <tr>\n",
       "      <th>Palmers</th>\n",
       "      <td>9646 days</td>\n",
       "    </tr>\n",
       "  </tbody>\n",
       "</table>\n",
       "</div>"
      ],
      "text/plain": [
       "                  gap\n",
       "Parnells    2555 days\n",
       "Schumachers 3045 days\n",
       "Andrettis   3823 days\n",
       "Verstappens 4172 days\n",
       "Villeneuves 5054 days\n",
       "Magnussens  5761 days\n",
       "Nakajimas   5831 days\n",
       "Piquets     5978 days\n",
       "Fittipaldis 5992 days\n",
       "Hills       6377 days\n",
       "Rosbergs    7077 days\n",
       "Brabhams    7154 days\n",
       "Winkelhocks 8022 days\n",
       "Palmers     9646 days"
      ]
     },
     "execution_count": 13,
     "metadata": {},
     "output_type": "execute_result"
    }
   ],
   "source": [
    "def timedelta():\n",
    "    timedeltas = {}\n",
    "    for key, value in fathersAndSons.items():\n",
    "        delta = results[results[\"fullname\"] == value[1]][\"date\"].min() - results[results[\"fullname\"] == value[0]][\"date\"].max()\n",
    "        delta = delta\n",
    "        timedeltas[key] = delta\n",
    "    timedeltas = pd.DataFrame.from_dict(timedeltas, orient=\"index\", columns = [\"gap\"])    \n",
    "    return(timedeltas)\n",
    "        \n",
    "timedelta().sort_values(by=\"gap\")"
   ]
  },
  {
   "cell_type": "markdown",
   "id": "78c3a339",
   "metadata": {},
   "source": [
    "## Drivers both father and son have raced against"
   ]
  },
  {
   "cell_type": "code",
   "execution_count": 14,
   "id": "deac01cd",
   "metadata": {},
   "outputs": [],
   "source": [
    "results[\"adversaries\"] = results[\"year_round\"].map(results.groupby(\"year_round\")[\"fullname\"].agg(list))"
   ]
  },
  {
   "cell_type": "code",
   "execution_count": 15,
   "id": "ad0505f8",
   "metadata": {
    "scrolled": true
   },
   "outputs": [
    {
     "data": {
      "text/plain": [
       "{'Andrettis': 'Derek Warwick, Michele Alboreto, Alain Prost, Andrea de Cesaris, Riccardo Patrese',\n",
       " 'Parnells': 'Stirling Moss, Maurice Trintignant, Roy Salvadori',\n",
       " 'Schumachers': 'Nico Hülkenberg, Kimi Räikkönen, Fernando Alonso, Daniel Ricciardo, Sebastian Vettel, Lewis Hamilton, Robert Kubica, Sergio Pérez',\n",
       " 'Verstappens': 'Jenson Button, Kimi Räikkönen, Fernando Alonso'}"
      ]
     },
     "execution_count": 15,
     "metadata": {},
     "output_type": "execute_result"
    }
   ],
   "source": [
    "def intersection(lst1, lst2):\n",
    "    lst3 = [value for value in lst1 if value in lst2]\n",
    "    return lst3\n",
    "\n",
    "def adversaries():\n",
    "    adversaries = {}\n",
    "    for key, value in fathersAndSons.items():\n",
    "        father = results[results[\"fullname\"] == value[0]]\n",
    "        father = father[\"adversaries\"].tolist()\n",
    "        father = [item for sublist in father for item in sublist]\n",
    "        father = list(set(father))\n",
    "        son = results[results[\"fullname\"] == value[1]]\n",
    "        son = son[\"adversaries\"].tolist()\n",
    "        son = [item for sublist in son for item in sublist]\n",
    "        son = list(set(son))        \n",
    "        inter = intersection(father, son)\n",
    "        if len(inter) > 0:\n",
    "            adversaries[key] = \", \".join(inter)\n",
    "    \n",
    "    return(adversaries)\n",
    "\n",
    "adversaries()"
   ]
  },
  {
   "cell_type": "code",
   "execution_count": 17,
   "id": "55ff9049",
   "metadata": {},
   "outputs": [
    {
     "ename": "KeyError",
     "evalue": "'common adversaries'",
     "output_type": "error",
     "traceback": [
      "\u001b[1;31m---------------------------------------------------------------------------\u001b[0m",
      "\u001b[1;31mKeyError\u001b[0m                                  Traceback (most recent call last)",
      "Input \u001b[1;32mIn [17]\u001b[0m, in \u001b[0;36m<cell line: 17>\u001b[1;34m()\u001b[0m\n\u001b[0;32m     14\u001b[0m     adversariesCount \u001b[38;5;241m=\u001b[39m pd\u001b[38;5;241m.\u001b[39mDataFrame\u001b[38;5;241m.\u001b[39mfrom_dict(adversariesCount, orient\u001b[38;5;241m=\u001b[39m\u001b[38;5;124m\"\u001b[39m\u001b[38;5;124mindex\u001b[39m\u001b[38;5;124m\"\u001b[39m, columns\u001b[38;5;241m=\u001b[39m[\u001b[38;5;124m\"\u001b[39m\u001b[38;5;124mdrivers both raced against\u001b[39m\u001b[38;5;124m\"\u001b[39m])    \n\u001b[0;32m     15\u001b[0m     \u001b[38;5;28;01mreturn\u001b[39;00m(adversariesCount)\n\u001b[1;32m---> 17\u001b[0m \u001b[43madversariesCount\u001b[49m\u001b[43m(\u001b[49m\u001b[43m)\u001b[49m\u001b[38;5;241;43m.\u001b[39;49m\u001b[43msort_values\u001b[49m\u001b[43m(\u001b[49m\u001b[43mby\u001b[49m\u001b[38;5;241;43m=\u001b[39;49m\u001b[38;5;124;43m\"\u001b[39;49m\u001b[38;5;124;43mcommon adversaries\u001b[39;49m\u001b[38;5;124;43m\"\u001b[39;49m\u001b[43m,\u001b[49m\u001b[43m \u001b[49m\u001b[43mascending\u001b[49m\u001b[38;5;241;43m=\u001b[39;49m\u001b[38;5;28;43;01mFalse\u001b[39;49;00m\u001b[43m)\u001b[49m\n",
      "File \u001b[1;32mC:\\Python310\\lib\\site-packages\\pandas\\util\\_decorators.py:311\u001b[0m, in \u001b[0;36mdeprecate_nonkeyword_arguments.<locals>.decorate.<locals>.wrapper\u001b[1;34m(*args, **kwargs)\u001b[0m\n\u001b[0;32m    305\u001b[0m \u001b[38;5;28;01mif\u001b[39;00m \u001b[38;5;28mlen\u001b[39m(args) \u001b[38;5;241m>\u001b[39m num_allow_args:\n\u001b[0;32m    306\u001b[0m     warnings\u001b[38;5;241m.\u001b[39mwarn(\n\u001b[0;32m    307\u001b[0m         msg\u001b[38;5;241m.\u001b[39mformat(arguments\u001b[38;5;241m=\u001b[39marguments),\n\u001b[0;32m    308\u001b[0m         \u001b[38;5;167;01mFutureWarning\u001b[39;00m,\n\u001b[0;32m    309\u001b[0m         stacklevel\u001b[38;5;241m=\u001b[39mstacklevel,\n\u001b[0;32m    310\u001b[0m     )\n\u001b[1;32m--> 311\u001b[0m \u001b[38;5;28;01mreturn\u001b[39;00m func(\u001b[38;5;241m*\u001b[39margs, \u001b[38;5;241m*\u001b[39m\u001b[38;5;241m*\u001b[39mkwargs)\n",
      "File \u001b[1;32mC:\\Python310\\lib\\site-packages\\pandas\\core\\frame.py:6307\u001b[0m, in \u001b[0;36mDataFrame.sort_values\u001b[1;34m(self, by, axis, ascending, inplace, kind, na_position, ignore_index, key)\u001b[0m\n\u001b[0;32m   6303\u001b[0m \u001b[38;5;28;01melif\u001b[39;00m \u001b[38;5;28mlen\u001b[39m(by):\n\u001b[0;32m   6304\u001b[0m     \u001b[38;5;66;03m# len(by) == 1\u001b[39;00m\n\u001b[0;32m   6306\u001b[0m     by \u001b[38;5;241m=\u001b[39m by[\u001b[38;5;241m0\u001b[39m]\n\u001b[1;32m-> 6307\u001b[0m     k \u001b[38;5;241m=\u001b[39m \u001b[38;5;28;43mself\u001b[39;49m\u001b[38;5;241;43m.\u001b[39;49m\u001b[43m_get_label_or_level_values\u001b[49m\u001b[43m(\u001b[49m\u001b[43mby\u001b[49m\u001b[43m,\u001b[49m\u001b[43m \u001b[49m\u001b[43maxis\u001b[49m\u001b[38;5;241;43m=\u001b[39;49m\u001b[43maxis\u001b[49m\u001b[43m)\u001b[49m\n\u001b[0;32m   6309\u001b[0m     \u001b[38;5;66;03m# need to rewrap column in Series to apply key function\u001b[39;00m\n\u001b[0;32m   6310\u001b[0m     \u001b[38;5;28;01mif\u001b[39;00m key \u001b[38;5;129;01mis\u001b[39;00m \u001b[38;5;129;01mnot\u001b[39;00m \u001b[38;5;28;01mNone\u001b[39;00m:\n\u001b[0;32m   6311\u001b[0m         \u001b[38;5;66;03m# error: Incompatible types in assignment (expression has type\u001b[39;00m\n\u001b[0;32m   6312\u001b[0m         \u001b[38;5;66;03m# \"Series\", variable has type \"ndarray\")\u001b[39;00m\n",
      "File \u001b[1;32mC:\\Python310\\lib\\site-packages\\pandas\\core\\generic.py:1848\u001b[0m, in \u001b[0;36mNDFrame._get_label_or_level_values\u001b[1;34m(self, key, axis)\u001b[0m\n\u001b[0;32m   1846\u001b[0m     values \u001b[38;5;241m=\u001b[39m \u001b[38;5;28mself\u001b[39m\u001b[38;5;241m.\u001b[39maxes[axis]\u001b[38;5;241m.\u001b[39mget_level_values(key)\u001b[38;5;241m.\u001b[39m_values\n\u001b[0;32m   1847\u001b[0m \u001b[38;5;28;01melse\u001b[39;00m:\n\u001b[1;32m-> 1848\u001b[0m     \u001b[38;5;28;01mraise\u001b[39;00m \u001b[38;5;167;01mKeyError\u001b[39;00m(key)\n\u001b[0;32m   1850\u001b[0m \u001b[38;5;66;03m# Check for duplicates\u001b[39;00m\n\u001b[0;32m   1851\u001b[0m \u001b[38;5;28;01mif\u001b[39;00m values\u001b[38;5;241m.\u001b[39mndim \u001b[38;5;241m>\u001b[39m \u001b[38;5;241m1\u001b[39m:\n",
      "\u001b[1;31mKeyError\u001b[0m: 'common adversaries'"
     ]
    }
   ],
   "source": [
    "def adversariesCount():\n",
    "    adversariesCount = {}\n",
    "    for key, value in fathersAndSons.items():\n",
    "        father = results[results[\"fullname\"] == value[0]]\n",
    "        father = father[\"adversaries\"].tolist()\n",
    "        father = [item for sublist in father for item in sublist]\n",
    "        father = list(set(father))\n",
    "        son = results[results[\"fullname\"] == value[1]]\n",
    "        son = son[\"adversaries\"].tolist()\n",
    "        son = [item for sublist in son for item in sublist]\n",
    "        son = list(set(son))        \n",
    "        inter = intersection(father, son)\n",
    "        adversariesCount[key] = len(inter)\n",
    "    adversariesCount = pd.DataFrame.from_dict(adversariesCount, orient=\"index\", columns=[\"drivers they both raced against\"])    \n",
    "    return(adversariesCount)\n",
    "\n",
    "adversariesCount().sort_values(by=\"drivers they both raced against\", ascending=False)"
   ]
  }
 ],
 "metadata": {
  "kernelspec": {
   "display_name": "Python 3 (ipykernel)",
   "language": "python",
   "name": "python3"
  },
  "language_info": {
   "codemirror_mode": {
    "name": "ipython",
    "version": 3
   },
   "file_extension": ".py",
   "mimetype": "text/x-python",
   "name": "python",
   "nbconvert_exporter": "python",
   "pygments_lexer": "ipython3",
   "version": "3.10.4"
  }
 },
 "nbformat": 4,
 "nbformat_minor": 5
}
