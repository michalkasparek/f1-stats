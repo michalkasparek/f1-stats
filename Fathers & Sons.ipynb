{
 "cells": [
  {
   "cell_type": "code",
   "execution_count": 1,
   "id": "a02c1ae8",
   "metadata": {},
   "outputs": [
    {
     "name": "stdout",
     "output_type": "stream",
     "text": [
      "Last GP in the database: 2022-06-19 00:00:00\n"
     ]
    }
   ],
   "source": [
    "%run prepareStats.py"
   ]
  },
  {
   "cell_type": "code",
   "execution_count": 2,
   "id": "82a49966",
   "metadata": {},
   "outputs": [],
   "source": [
    "results = results[~results.status.isin(dnqs)]"
   ]
  },
  {
   "cell_type": "code",
   "execution_count": 3,
   "id": "7e26d1bb",
   "metadata": {},
   "outputs": [],
   "source": [
    "fathersAndSons = {\n",
    "\"Andrettis\": [\"Mario Andretti\", \"Michael Andretti\"],\n",
    "\"Brabhams\": [\"Jack Brabham\", \"David Brabham\"],\n",
    "\"Fittipaldis\": [\"Wilson Fittipaldi\", \"Christian Fittipaldi\"],\n",
    "\"Hills\": [\"Graham Hill\", \"Damon Hill\"], \n",
    "\"Magnussens\": [\"Jan Magnussen\", \"Kevin Magnussen\"],\n",
    "\"Nakajimas\": [\"Satoru Nakajima\", \"Kazuki Nakajima\"],\n",
    "\"Palmers\": [\"Jonathan Palmer\", \"Jolyon Palmer\"],\n",
    "\"Parnells\": [\"Reg Parnell\", \"Tim Parnell\"],\n",
    "\"Piquets\": [\"Nelson Piquet\", \"Nelson Piquet Jr.\"], \n",
    "\"Rosbergs\": [\"Keke Rosberg\", \"Nico Rosberg\"],\n",
    "\"Schumachers\": [\"Michael Schumacher\", \"Mick Schumacher\"],\n",
    "\"Verstappens\": [\"Jos Verstappen\", \"Max Verstappen\"], \n",
    "\"Villeneuves\": [\"Gilles Villeneuve\", \"Jacques Villeneuve\"],\n",
    "\"Winkelhocks\": [\"Manfred Winkelhock\", \"Markus Winkelhock\"]\n",
    "}"
   ]
  },
  {
   "cell_type": "code",
   "execution_count": 4,
   "id": "2a50584d",
   "metadata": {},
   "outputs": [],
   "source": [
    "sons = []\n",
    "for key, value in fathersAndSons.items():\n",
    "    sons.append(value[1])"
   ]
  },
  {
   "cell_type": "code",
   "execution_count": 5,
   "id": "17d8b134",
   "metadata": {},
   "outputs": [
    {
     "name": "stderr",
     "output_type": "stream",
     "text": [
      "C:\\Users\\micha\\AppData\\Local\\Temp\\ipykernel_2696\\1785044887.py:1: SettingWithCopyWarning: \n",
      "A value is trying to be set on a copy of a slice from a DataFrame.\n",
      "Try using .loc[row_indexer,col_indexer] = value instead\n",
      "\n",
      "See the caveats in the documentation: https://pandas.pydata.org/pandas-docs/stable/user_guide/indexing.html#returning-a-view-versus-a-copy\n",
      "  results.loc[results.name.isin(sons),\"son\"]=True\n"
     ]
    }
   ],
   "source": [
    "results.loc[results.name.isin(sons),\"son\"]=True"
   ]
  },
  {
   "cell_type": "code",
   "execution_count": 6,
   "id": "577591ec",
   "metadata": {},
   "outputs": [
    {
     "name": "stderr",
     "output_type": "stream",
     "text": [
      "C:\\Users\\micha\\AppData\\Local\\Temp\\ipykernel_2696\\3531698584.py:1: SettingWithCopyWarning: \n",
      "A value is trying to be set on a copy of a slice from a DataFrame.\n",
      "Try using .loc[row_indexer,col_indexer] = value instead\n",
      "\n",
      "See the caveats in the documentation: https://pandas.pydata.org/pandas-docs/stable/user_guide/indexing.html#returning-a-view-versus-a-copy\n",
      "  results.loc[results.position.eq(1),\"twentyFivePointSystem\"]=25\n"
     ]
    }
   ],
   "source": [
    "results.loc[results.position.eq(1),\"twentyFivePointSystem\"]=25\n",
    "results.loc[results.position.eq(2),\"twentyFivePointSystem\"]=18\n",
    "results.loc[results.position.eq(3),\"twentyFivePointSystem\"]=15\n",
    "results.loc[results.position.eq(4),\"twentyFivePointSystem\"]=12\n",
    "results.loc[results.position.eq(5),\"twentyFivePointSystem\"]=10\n",
    "results.loc[results.position.eq(6),\"twentyFivePointSystem\"]=8\n",
    "results.loc[results.position.eq(7),\"twentyFivePointSystem\"]=6\n",
    "results.loc[results.position.eq(8),\"twentyFivePointSystem\"]=4\n",
    "results.loc[results.position.eq(9),\"twentyFivePointSystem\"]=2\n",
    "results.loc[results.position.eq(10),\"twentyFivePointSystem\"]=1\n",
    "results.loc[~results.position.isin([1,2,3,4,5,6,7,8,9,10]),\"twentyFivePointSystem\"]=0"
   ]
  },
  {
   "cell_type": "code",
   "execution_count": 7,
   "id": "9f39c84e",
   "metadata": {},
   "outputs": [],
   "source": [
    "resultsSons = results[results.name.isin(sons)]"
   ]
  },
  {
   "cell_type": "markdown",
   "id": "c9b31169",
   "metadata": {},
   "source": [
    "## Historical stats"
   ]
  },
  {
   "cell_type": "code",
   "execution_count": 8,
   "id": "165cfcab",
   "metadata": {
    "scrolled": false
   },
   "outputs": [
    {
     "data": {
      "text/plain": [
       "year    round\n",
       "2004.0  15.0     0\n",
       "Name: son, dtype: int64"
      ]
     },
     "execution_count": 8,
     "metadata": {},
     "output_type": "execute_result"
    }
   ],
   "source": [
    "woSons = results.groupby([\"year\", \"round\"])[\"son\"].count()\n",
    "woSons[woSons <1].tail(1)"
   ]
  },
  {
   "cell_type": "markdown",
   "id": "46dd4d9a",
   "metadata": {},
   "source": [
    "The last GP without a single son of another F1 driver entering was the 2004 Italian Grand Prix."
   ]
  },
  {
   "cell_type": "code",
   "execution_count": 9,
   "id": "af8a119f",
   "metadata": {},
   "outputs": [
    {
     "data": {
      "text/plain": [
       "year\n",
       "1991.0    0\n",
       "Name: son, dtype: int64"
      ]
     },
     "execution_count": 9,
     "metadata": {},
     "output_type": "execute_result"
    }
   ],
   "source": [
    "woSons = results.groupby([\"year\"])[\"son\"].count()\n",
    "woSons[woSons <1].tail(1)"
   ]
  },
  {
   "cell_type": "code",
   "execution_count": 10,
   "id": "01577575",
   "metadata": {
    "scrolled": true
   },
   "outputs": [
    {
     "data": {
      "text/plain": [
       "year\n",
       "1961.0    1\n",
       "1990.0    1\n",
       "1992.0    2\n",
       "1993.0    3\n",
       "1994.0    3\n",
       "1995.0    1\n",
       "1996.0    2\n",
       "1997.0    2\n",
       "1998.0    2\n",
       "1999.0    2\n",
       "2000.0    1\n",
       "2001.0    1\n",
       "2002.0    1\n",
       "2003.0    1\n",
       "2004.0    1\n",
       "2005.0    1\n",
       "2006.0    2\n",
       "2007.0    3\n",
       "2008.0    3\n",
       "2009.0    3\n",
       "2010.0    1\n",
       "2011.0    1\n",
       "2012.0    1\n",
       "2013.0    1\n",
       "2014.0    2\n",
       "2015.0    3\n",
       "2016.0    4\n",
       "2017.0    3\n",
       "2018.0    2\n",
       "2019.0    2\n",
       "2020.0    2\n",
       "2021.0    2\n",
       "2022.0    3\n",
       "Name: name, dtype: int64"
      ]
     },
     "execution_count": 10,
     "metadata": {},
     "output_type": "execute_result"
    }
   ],
   "source": [
    "results[results.name.isin(sons)].reset_index().groupby(\"year\")[\"name\"].nunique(list)"
   ]
  },
  {
   "cell_type": "markdown",
   "id": "1a5da4d5",
   "metadata": {},
   "source": [
    "The 2016 season saw the most sons of another F1 driver participating in the WDC."
   ]
  },
  {
   "cell_type": "code",
   "execution_count": 11,
   "id": "b0333014",
   "metadata": {},
   "outputs": [
    {
     "data": {
      "text/plain": [
       "name\n",
       "Jolyon Palmer      21\n",
       "Kevin Magnussen    21\n",
       "Max Verstappen     21\n",
       "Nico Rosberg       21\n",
       "Name: raceId, dtype: int64"
      ]
     },
     "execution_count": 11,
     "metadata": {},
     "output_type": "execute_result"
    }
   ],
   "source": [
    "resultsSons[resultsSons[\"year\"] == 2016].groupby(\"name\")[\"raceId\"].nunique()"
   ]
  },
  {
   "cell_type": "markdown",
   "id": "1f9ec7a4",
   "metadata": {},
   "source": [
    "## Sons, ranked"
   ]
  },
  {
   "cell_type": "code",
   "execution_count": 12,
   "id": "115b3ffa",
   "metadata": {},
   "outputs": [
    {
     "data": {
      "text/plain": [
       "name\n",
       "Max Verstappen          1717.5\n",
       "Nico Rosberg            1594.5\n",
       "Damon Hill               360.0\n",
       "Jacques Villeneuve       235.0\n",
       "Kevin Magnussen          172.0\n",
       "Nelson Piquet Jr.         19.0\n",
       "Christian Fittipaldi      12.0\n",
       "Jolyon Palmer              9.0\n",
       "Kazuki Nakajima            9.0\n",
       "Michael Andretti           7.0\n",
       "David Brabham              0.0\n",
       "Markus Winkelhock          0.0\n",
       "Mick Schumacher            0.0\n",
       "Tim Parnell                0.0\n",
       "Name: points, dtype: float64"
      ]
     },
     "execution_count": 12,
     "metadata": {},
     "output_type": "execute_result"
    }
   ],
   "source": [
    "resultsSons.groupby(\"name\")[\"points\"].sum().sort_values(ascending=False)"
   ]
  },
  {
   "cell_type": "code",
   "execution_count": 13,
   "id": "0923a5bf",
   "metadata": {},
   "outputs": [
    {
     "data": {
      "text/plain": [
       "name\n",
       "Nico Rosberg            1739.0\n",
       "Max Verstappen          1717.0\n",
       "Damon Hill              1091.0\n",
       "Jacques Villeneuve       853.0\n",
       "Kevin Magnussen          172.0\n",
       "Christian Fittipaldi     100.0\n",
       "Nelson Piquet Jr.         50.0\n",
       "Michael Andretti          41.0\n",
       "Kazuki Nakajima           34.0\n",
       "Jolyon Palmer              9.0\n",
       "David Brabham              1.0\n",
       "Tim Parnell                1.0\n",
       "Markus Winkelhock          0.0\n",
       "Mick Schumacher            0.0\n",
       "Name: twentyFivePointSystem, dtype: float64"
      ]
     },
     "execution_count": 13,
     "metadata": {},
     "output_type": "execute_result"
    }
   ],
   "source": [
    "resultsSons.groupby(\"name\")[\"twentyFivePointSystem\"].sum().sort_values(ascending=False)"
   ]
  },
  {
   "cell_type": "code",
   "execution_count": 14,
   "id": "536a28e8",
   "metadata": {},
   "outputs": [
    {
     "data": {
      "text/plain": [
       "name\n",
       "Nico Rosberg            206\n",
       "Jacques Villeneuve      165\n",
       "Max Verstappen          150\n",
       "Kevin Magnussen         129\n",
       "Damon Hill              116\n",
       "Christian Fittipaldi     40\n",
       "Jolyon Palmer            37\n",
       "Kazuki Nakajima          36\n",
       "Mick Schumacher          31\n",
       "Nelson Piquet Jr.        28\n",
       "David Brabham            24\n",
       "Michael Andretti         13\n",
       "Tim Parnell               2\n",
       "Markus Winkelhock         1\n",
       "Name: raceId, dtype: int64"
      ]
     },
     "execution_count": 14,
     "metadata": {},
     "output_type": "execute_result"
    }
   ],
   "source": [
    "resultsSons.groupby(\"name\")[\"raceId\"].count().sort_values(ascending=False)"
   ]
  },
  {
   "cell_type": "code",
   "execution_count": 15,
   "id": "86190820",
   "metadata": {},
   "outputs": [
    {
     "data": {
      "text/plain": [
       "name\n",
       "Damon Hill               1.0\n",
       "Jacques Villeneuve       1.0\n",
       "Max Verstappen           1.0\n",
       "Nico Rosberg             1.0\n",
       "Kevin Magnussen          2.0\n",
       "Nelson Piquet Jr.        2.0\n",
       "Michael Andretti         3.0\n",
       "Christian Fittipaldi     4.0\n",
       "Jolyon Palmer            6.0\n",
       "Kazuki Nakajima          6.0\n",
       "David Brabham           10.0\n",
       "Tim Parnell             10.0\n",
       "Mick Schumacher         11.0\n",
       "Markus Winkelhock        NaN\n",
       "Name: position, dtype: float64"
      ]
     },
     "execution_count": 15,
     "metadata": {},
     "output_type": "execute_result"
    }
   ],
   "source": [
    "resultsSons.groupby(\"name\")[\"position\"].min().sort_values()"
   ]
  },
  {
   "cell_type": "markdown",
   "id": "cbbbe5ae",
   "metadata": {},
   "source": [
    "## Gaps between father's last GP and son's first"
   ]
  },
  {
   "cell_type": "code",
   "execution_count": 16,
   "id": "e8257038",
   "metadata": {},
   "outputs": [
    {
     "data": {
      "text/html": [
       "<div>\n",
       "<style scoped>\n",
       "    .dataframe tbody tr th:only-of-type {\n",
       "        vertical-align: middle;\n",
       "    }\n",
       "\n",
       "    .dataframe tbody tr th {\n",
       "        vertical-align: top;\n",
       "    }\n",
       "\n",
       "    .dataframe thead th {\n",
       "        text-align: right;\n",
       "    }\n",
       "</style>\n",
       "<table border=\"1\" class=\"dataframe\">\n",
       "  <thead>\n",
       "    <tr style=\"text-align: right;\">\n",
       "      <th></th>\n",
       "      <th>gap</th>\n",
       "    </tr>\n",
       "  </thead>\n",
       "  <tbody>\n",
       "    <tr>\n",
       "      <th>Parnells</th>\n",
       "      <td>2555 days</td>\n",
       "    </tr>\n",
       "    <tr>\n",
       "      <th>Schumachers</th>\n",
       "      <td>3045 days</td>\n",
       "    </tr>\n",
       "    <tr>\n",
       "      <th>Andrettis</th>\n",
       "      <td>3823 days</td>\n",
       "    </tr>\n",
       "    <tr>\n",
       "      <th>Verstappens</th>\n",
       "      <td>4172 days</td>\n",
       "    </tr>\n",
       "    <tr>\n",
       "      <th>Villeneuves</th>\n",
       "      <td>5054 days</td>\n",
       "    </tr>\n",
       "    <tr>\n",
       "      <th>Magnussens</th>\n",
       "      <td>5761 days</td>\n",
       "    </tr>\n",
       "    <tr>\n",
       "      <th>Nakajimas</th>\n",
       "      <td>5831 days</td>\n",
       "    </tr>\n",
       "    <tr>\n",
       "      <th>Piquets</th>\n",
       "      <td>5978 days</td>\n",
       "    </tr>\n",
       "    <tr>\n",
       "      <th>Fittipaldis</th>\n",
       "      <td>5992 days</td>\n",
       "    </tr>\n",
       "    <tr>\n",
       "      <th>Hills</th>\n",
       "      <td>6377 days</td>\n",
       "    </tr>\n",
       "    <tr>\n",
       "      <th>Rosbergs</th>\n",
       "      <td>7077 days</td>\n",
       "    </tr>\n",
       "    <tr>\n",
       "      <th>Brabhams</th>\n",
       "      <td>7154 days</td>\n",
       "    </tr>\n",
       "    <tr>\n",
       "      <th>Winkelhocks</th>\n",
       "      <td>8022 days</td>\n",
       "    </tr>\n",
       "    <tr>\n",
       "      <th>Palmers</th>\n",
       "      <td>9646 days</td>\n",
       "    </tr>\n",
       "  </tbody>\n",
       "</table>\n",
       "</div>"
      ],
      "text/plain": [
       "                  gap\n",
       "Parnells    2555 days\n",
       "Schumachers 3045 days\n",
       "Andrettis   3823 days\n",
       "Verstappens 4172 days\n",
       "Villeneuves 5054 days\n",
       "Magnussens  5761 days\n",
       "Nakajimas   5831 days\n",
       "Piquets     5978 days\n",
       "Fittipaldis 5992 days\n",
       "Hills       6377 days\n",
       "Rosbergs    7077 days\n",
       "Brabhams    7154 days\n",
       "Winkelhocks 8022 days\n",
       "Palmers     9646 days"
      ]
     },
     "execution_count": 16,
     "metadata": {},
     "output_type": "execute_result"
    }
   ],
   "source": [
    "def timedelta():\n",
    "    timedeltas = {}\n",
    "    for key, value in fathersAndSons.items():\n",
    "        delta = results[results[\"name\"] == value[1]][\"date\"].min() - results[results[\"name\"] == value[0]][\"date\"].max()\n",
    "        delta = delta\n",
    "        timedeltas[key] = delta\n",
    "    timedeltas = pd.DataFrame.from_dict(timedeltas, orient=\"index\", columns = [\"gap\"])    \n",
    "    return(timedeltas)\n",
    "        \n",
    "timedelta().sort_values(by=\"gap\")"
   ]
  },
  {
   "cell_type": "markdown",
   "id": "c20dcf87",
   "metadata": {},
   "source": [
    "## Drivers both father and son have raced against"
   ]
  },
  {
   "cell_type": "code",
   "execution_count": 17,
   "id": "deac01cd",
   "metadata": {},
   "outputs": [
    {
     "name": "stderr",
     "output_type": "stream",
     "text": [
      "C:\\Users\\micha\\AppData\\Local\\Temp\\ipykernel_2696\\4152069641.py:1: SettingWithCopyWarning: \n",
      "A value is trying to be set on a copy of a slice from a DataFrame.\n",
      "Try using .loc[row_indexer,col_indexer] = value instead\n",
      "\n",
      "See the caveats in the documentation: https://pandas.pydata.org/pandas-docs/stable/user_guide/indexing.html#returning-a-view-versus-a-copy\n",
      "  results[\"adversaries\"] = results[\"year_round\"].map(results.groupby(\"year_round\")[\"name\"].agg(list))\n"
     ]
    }
   ],
   "source": [
    "results[\"adversaries\"] = results[\"year_round\"].map(results.groupby(\"year_round\")[\"name\"].agg(list))"
   ]
  },
  {
   "cell_type": "code",
   "execution_count": 18,
   "id": "ad0505f8",
   "metadata": {
    "scrolled": true
   },
   "outputs": [
    {
     "data": {
      "text/html": [
       "<div>\n",
       "<style scoped>\n",
       "    .dataframe tbody tr th:only-of-type {\n",
       "        vertical-align: middle;\n",
       "    }\n",
       "\n",
       "    .dataframe tbody tr th {\n",
       "        vertical-align: top;\n",
       "    }\n",
       "\n",
       "    .dataframe thead th {\n",
       "        text-align: right;\n",
       "    }\n",
       "</style>\n",
       "<table border=\"1\" class=\"dataframe\">\n",
       "  <thead>\n",
       "    <tr style=\"text-align: right;\">\n",
       "      <th></th>\n",
       "      <th>count</th>\n",
       "      <th>names</th>\n",
       "    </tr>\n",
       "  </thead>\n",
       "  <tbody>\n",
       "    <tr>\n",
       "      <th>Schumachers</th>\n",
       "      <td>8</td>\n",
       "      <td>Robert Kubica, Fernando Alonso, Nico Hülkenberg, Sebastian Vettel, Sergio Pérez, Daniel Ricciardo, Kimi Räikkönen, Lewis Hamilton</td>\n",
       "    </tr>\n",
       "    <tr>\n",
       "      <th>Andrettis</th>\n",
       "      <td>5</td>\n",
       "      <td>Michele Alboreto, Alain Prost, Riccardo Patrese, Derek Warwick, Andrea de Cesaris</td>\n",
       "    </tr>\n",
       "    <tr>\n",
       "      <th>Parnells</th>\n",
       "      <td>3</td>\n",
       "      <td>Roy Salvadori, Maurice Trintignant, Stirling Moss</td>\n",
       "    </tr>\n",
       "    <tr>\n",
       "      <th>Verstappens</th>\n",
       "      <td>3</td>\n",
       "      <td>Fernando Alonso, Jenson Button, Kimi Räikkönen</td>\n",
       "    </tr>\n",
       "    <tr>\n",
       "      <th>Brabhams</th>\n",
       "      <td>0</td>\n",
       "      <td></td>\n",
       "    </tr>\n",
       "    <tr>\n",
       "      <th>Fittipaldis</th>\n",
       "      <td>0</td>\n",
       "      <td></td>\n",
       "    </tr>\n",
       "    <tr>\n",
       "      <th>Hills</th>\n",
       "      <td>0</td>\n",
       "      <td></td>\n",
       "    </tr>\n",
       "    <tr>\n",
       "      <th>Magnussens</th>\n",
       "      <td>0</td>\n",
       "      <td></td>\n",
       "    </tr>\n",
       "    <tr>\n",
       "      <th>Nakajimas</th>\n",
       "      <td>0</td>\n",
       "      <td></td>\n",
       "    </tr>\n",
       "    <tr>\n",
       "      <th>Palmers</th>\n",
       "      <td>0</td>\n",
       "      <td></td>\n",
       "    </tr>\n",
       "    <tr>\n",
       "      <th>Piquets</th>\n",
       "      <td>0</td>\n",
       "      <td></td>\n",
       "    </tr>\n",
       "    <tr>\n",
       "      <th>Rosbergs</th>\n",
       "      <td>0</td>\n",
       "      <td></td>\n",
       "    </tr>\n",
       "    <tr>\n",
       "      <th>Villeneuves</th>\n",
       "      <td>0</td>\n",
       "      <td></td>\n",
       "    </tr>\n",
       "    <tr>\n",
       "      <th>Winkelhocks</th>\n",
       "      <td>0</td>\n",
       "      <td></td>\n",
       "    </tr>\n",
       "  </tbody>\n",
       "</table>\n",
       "</div>"
      ],
      "text/plain": [
       "             count  \\\n",
       "Schumachers      8   \n",
       "Andrettis        5   \n",
       "Parnells         3   \n",
       "Verstappens      3   \n",
       "Brabhams         0   \n",
       "Fittipaldis      0   \n",
       "Hills            0   \n",
       "Magnussens       0   \n",
       "Nakajimas        0   \n",
       "Palmers          0   \n",
       "Piquets          0   \n",
       "Rosbergs         0   \n",
       "Villeneuves      0   \n",
       "Winkelhocks      0   \n",
       "\n",
       "                                                                                                                                         names  \n",
       "Schumachers  Robert Kubica, Fernando Alonso, Nico Hülkenberg, Sebastian Vettel, Sergio Pérez, Daniel Ricciardo, Kimi Räikkönen, Lewis Hamilton  \n",
       "Andrettis                                                    Michele Alboreto, Alain Prost, Riccardo Patrese, Derek Warwick, Andrea de Cesaris  \n",
       "Parnells                                                                                     Roy Salvadori, Maurice Trintignant, Stirling Moss  \n",
       "Verstappens                                                                                     Fernando Alonso, Jenson Button, Kimi Räikkönen  \n",
       "Brabhams                                                                                                                                        \n",
       "Fittipaldis                                                                                                                                     \n",
       "Hills                                                                                                                                           \n",
       "Magnussens                                                                                                                                      \n",
       "Nakajimas                                                                                                                                       \n",
       "Palmers                                                                                                                                         \n",
       "Piquets                                                                                                                                         \n",
       "Rosbergs                                                                                                                                        \n",
       "Villeneuves                                                                                                                                     \n",
       "Winkelhocks                                                                                                                                     "
      ]
     },
     "execution_count": 18,
     "metadata": {},
     "output_type": "execute_result"
    }
   ],
   "source": [
    "def intersection(lst1, lst2):\n",
    "    lst3 = [value for value in lst1 if value in lst2]\n",
    "    return lst3\n",
    "\n",
    "def adversaries():\n",
    "    adversaries = {}\n",
    "    for key, value in fathersAndSons.items():\n",
    "        father = results[results[\"name\"] == value[0]]\n",
    "        father = father[\"adversaries\"].tolist()\n",
    "        father = [item for sublist in father for item in sublist]\n",
    "        father = list(set(father))\n",
    "        son = results[results[\"name\"] == value[1]]\n",
    "        son = son[\"adversaries\"].tolist()\n",
    "        son = [item for sublist in son for item in sublist]\n",
    "        son = list(set(son))        \n",
    "        inter = intersection(father, son)\n",
    "        pair = [len(inter), \", \".join(inter)]\n",
    "        adversaries[key] = pair\n",
    "    pd.set_option('display.max_colwidth', None)\n",
    "    adversaries = pd.DataFrame.from_dict(adversaries, orient=\"index\", columns=[\"count\", \"names\"])    \n",
    "    \n",
    "    return(adversaries)\n",
    "\n",
    "adversaries().sort_values(by=\"count\", ascending = False)"
   ]
  },
  {
   "cell_type": "markdown",
   "id": "f6d78ccb",
   "metadata": {},
   "source": [
    "## How old was the son on the day of his father's last race?"
   ]
  },
  {
   "cell_type": "code",
   "execution_count": 19,
   "id": "4637303b",
   "metadata": {},
   "outputs": [
    {
     "data": {
      "text/html": [
       "<div>\n",
       "<style scoped>\n",
       "    .dataframe tbody tr th:only-of-type {\n",
       "        vertical-align: middle;\n",
       "    }\n",
       "\n",
       "    .dataframe tbody tr th {\n",
       "        vertical-align: top;\n",
       "    }\n",
       "\n",
       "    .dataframe thead th {\n",
       "        text-align: right;\n",
       "    }\n",
       "</style>\n",
       "<table border=\"1\" class=\"dataframe\">\n",
       "  <thead>\n",
       "    <tr style=\"text-align: right;\">\n",
       "      <th></th>\n",
       "      <th>age</th>\n",
       "    </tr>\n",
       "  </thead>\n",
       "  <tbody>\n",
       "    <tr>\n",
       "      <th>Palmers</th>\n",
       "      <td>-455 days</td>\n",
       "    </tr>\n",
       "    <tr>\n",
       "      <th>Rosbergs</th>\n",
       "      <td>486 days</td>\n",
       "    </tr>\n",
       "    <tr>\n",
       "      <th>Fittipaldis</th>\n",
       "      <td>1721 days</td>\n",
       "    </tr>\n",
       "    <tr>\n",
       "      <th>Brabhams</th>\n",
       "      <td>1876 days</td>\n",
       "    </tr>\n",
       "    <tr>\n",
       "      <th>Winkelhocks</th>\n",
       "      <td>1878 days</td>\n",
       "    </tr>\n",
       "    <tr>\n",
       "      <th>Magnussens</th>\n",
       "      <td>2071 days</td>\n",
       "    </tr>\n",
       "    <tr>\n",
       "      <th>Verstappens</th>\n",
       "      <td>2203 days</td>\n",
       "    </tr>\n",
       "    <tr>\n",
       "      <th>Piquets</th>\n",
       "      <td>2292 days</td>\n",
       "    </tr>\n",
       "    <tr>\n",
       "      <th>Nakajimas</th>\n",
       "      <td>2487 days</td>\n",
       "    </tr>\n",
       "    <tr>\n",
       "      <th>Villeneuves</th>\n",
       "      <td>4048 days</td>\n",
       "    </tr>\n",
       "    <tr>\n",
       "      <th>Schumachers</th>\n",
       "      <td>4997 days</td>\n",
       "    </tr>\n",
       "    <tr>\n",
       "      <th>Hills</th>\n",
       "      <td>5244 days</td>\n",
       "    </tr>\n",
       "    <tr>\n",
       "      <th>Andrettis</th>\n",
       "      <td>7295 days</td>\n",
       "    </tr>\n",
       "    <tr>\n",
       "      <th>Parnells</th>\n",
       "      <td>8057 days</td>\n",
       "    </tr>\n",
       "  </tbody>\n",
       "</table>\n",
       "</div>"
      ],
      "text/plain": [
       "                  age\n",
       "Palmers     -455 days\n",
       "Rosbergs     486 days\n",
       "Fittipaldis 1721 days\n",
       "Brabhams    1876 days\n",
       "Winkelhocks 1878 days\n",
       "Magnussens  2071 days\n",
       "Verstappens 2203 days\n",
       "Piquets     2292 days\n",
       "Nakajimas   2487 days\n",
       "Villeneuves 4048 days\n",
       "Schumachers 4997 days\n",
       "Hills       5244 days\n",
       "Andrettis   7295 days\n",
       "Parnells    8057 days"
      ]
     },
     "execution_count": 19,
     "metadata": {},
     "output_type": "execute_result"
    }
   ],
   "source": [
    "def timedeltaAge():\n",
    "    timedeltasAge = {}\n",
    "    for key, value in fathersAndSons.items():\n",
    "        deltaAge = results[results[\"name\"] == value[0]][\"date\"].max() - results[results[\"name\"] == value[1]][\"dob\"].min()\n",
    "        deltaAge = deltaAge\n",
    "        timedeltasAge[key] = deltaAge\n",
    "    timedeltasAge = pd.DataFrame.from_dict(timedeltasAge, orient=\"index\", columns = [\"age\"])    \n",
    "    return(timedeltasAge)\n",
    "        \n",
    "timedeltaAge().sort_values(by=\"age\")"
   ]
  }
 ],
 "metadata": {
  "kernelspec": {
   "display_name": "Python 3 (ipykernel)",
   "language": "python",
   "name": "python3"
  },
  "language_info": {
   "codemirror_mode": {
    "name": "ipython",
    "version": 3
   },
   "file_extension": ".py",
   "mimetype": "text/x-python",
   "name": "python",
   "nbconvert_exporter": "python",
   "pygments_lexer": "ipython3",
   "version": "3.10.5"
  }
 },
 "nbformat": 4,
 "nbformat_minor": 5
}
