{
 "cells": [
  {
   "cell_type": "code",
   "execution_count": 1,
   "id": "a02c1ae8",
   "metadata": {},
   "outputs": [
    {
     "name": "stdout",
     "output_type": "stream",
     "text": [
      "Last GP in the database: the 2022 Belgian Grand Prix\n"
     ]
    }
   ],
   "source": [
    "%run prepareStats.py"
   ]
  },
  {
   "cell_type": "code",
   "execution_count": 2,
   "id": "7e26d1bb",
   "metadata": {},
   "outputs": [],
   "source": [
    "fathersAndSons = {\n",
    "\"Andrettis\": [\"Mario Andretti\", \"Michael Andretti\"],\n",
    "\"Brabhams-D\": [\"Jack Brabham\", \"David Brabham\"],\n",
    "\"Brabhams-G\": [\"Jack Brabham\", \"Gary Brabham\"],\n",
    "\"Fittipaldis\": [\"Wilson Fittipaldi\", \"Christian Fittipaldi\"],\n",
    "\"Hills\": [\"Graham Hill\", \"Damon Hill\"], \n",
    "\"Magnussens\": [\"Jan Magnussen\", \"Kevin Magnussen\"],\n",
    "\"Nakajimas\": [\"Satoru Nakajima\", \"Kazuki Nakajima\"],\n",
    "\"Palmers\": [\"Jonathan Palmer\", \"Jolyon Palmer\"],\n",
    "\"Parnells\": [\"Reg Parnell\", \"Tim Parnell\"],\n",
    "\"Pilletes\": [\"André Pilette\", \"Teddy Pilette\"],\n",
    "\"Piquets\": [\"Nelson Piquet\", \"Nelson Piquet Jr.\"], \n",
    "\"Rosbergs\": [\"Keke Rosberg\", \"Nico Rosberg\"],\n",
    "\"Schumachers\": [\"Michael Schumacher\", \"Mick Schumacher\"],\n",
    "\"Verstappens\": [\"Jos Verstappen\", \"Max Verstappen\"], \n",
    "\"Villeneuves\": [\"Gilles Villeneuve\", \"Jacques Villeneuve\"],\n",
    "\"Winkelhocks\": [\"Manfred Winkelhock\", \"Markus Winkelhock\"]\n",
    "}"
   ]
  },
  {
   "cell_type": "code",
   "execution_count": 3,
   "id": "eef46e50",
   "metadata": {
    "scrolled": true
   },
   "outputs": [
    {
     "data": {
      "text/plain": [
       "16"
      ]
     },
     "execution_count": 3,
     "metadata": {},
     "output_type": "execute_result"
    }
   ],
   "source": [
    "len(fathersAndSons)"
   ]
  },
  {
   "cell_type": "markdown",
   "id": "16b8fe10",
   "metadata": {},
   "source": [
    "There have been 16 F1 drivers that are sons of another F1 driver. (There is still a small chance I missed some obscure family tie from the early eras.)\n",
    "\n",
    "[María de Villota](https://en.wikipedia.org/wiki/Mar%C3%ADa_de_Villota) who died (most likely) due to injuries sustained while testing Marussia Formula One car was a daughter of F1 driver [Emilio de Villota](https://en.wikipedia.org/wiki/Emilio_de_Villota).\n",
    "\n",
    "Also, several F1 drivers were descendants of pre-war Grand Prix drivers, [Alberto Ascari](https://en.wikipedia.org/wiki/Alberto_Ascari) and his father [Antonio Ascari](https://en.wikipedia.org/wiki/Antonio_Ascari) being probably the most notable example.\n",
    "\n",
    "By participating in 2 races in 2020, [Pietro Fittipaldi](https://en.wikipedia.org/wiki/Pietro_Fittipaldi) became the first (and still the only) competing grandson of another driver."
   ]
  },
  {
   "cell_type": "code",
   "execution_count": 4,
   "id": "2a50584d",
   "metadata": {},
   "outputs": [],
   "source": [
    "sons = []\n",
    "for key, value in fathersAndSons.items():\n",
    "    sons.append(value[1])"
   ]
  },
  {
   "cell_type": "code",
   "execution_count": 5,
   "id": "17d8b134",
   "metadata": {},
   "outputs": [],
   "source": [
    "results.loc[results.name.isin(sons),\"son\"]=True"
   ]
  },
  {
   "cell_type": "code",
   "execution_count": 6,
   "id": "577591ec",
   "metadata": {},
   "outputs": [],
   "source": [
    "results.loc[results.position.eq(1),\"twentyFivePointSystem\"]=25\n",
    "results.loc[results.position.eq(2),\"twentyFivePointSystem\"]=18\n",
    "results.loc[results.position.eq(3),\"twentyFivePointSystem\"]=15\n",
    "results.loc[results.position.eq(4),\"twentyFivePointSystem\"]=12\n",
    "results.loc[results.position.eq(5),\"twentyFivePointSystem\"]=10\n",
    "results.loc[results.position.eq(6),\"twentyFivePointSystem\"]=8\n",
    "results.loc[results.position.eq(7),\"twentyFivePointSystem\"]=6\n",
    "results.loc[results.position.eq(8),\"twentyFivePointSystem\"]=4\n",
    "results.loc[results.position.eq(9),\"twentyFivePointSystem\"]=2\n",
    "results.loc[results.position.eq(10),\"twentyFivePointSystem\"]=1\n",
    "results.loc[~results.position.isin([1,2,3,4,5,6,7,8,9,10]),\"twentyFivePointSystem\"]=0"
   ]
  },
  {
   "cell_type": "code",
   "execution_count": 7,
   "id": "9f39c84e",
   "metadata": {},
   "outputs": [],
   "source": [
    "resultsSons = results[results.name.isin(sons)]"
   ]
  },
  {
   "cell_type": "markdown",
   "id": "c9b31169",
   "metadata": {},
   "source": [
    "## Historical stats"
   ]
  },
  {
   "cell_type": "code",
   "execution_count": 8,
   "id": "053a1306",
   "metadata": {},
   "outputs": [
    {
     "data": {
      "text/plain": [
       "name\n",
       "Tim Parnell            1959-07-18\n",
       "Teddy Pilette          1974-05-12\n",
       "Gary Brabham           1990-03-11\n",
       "David Brabham          1990-05-13\n",
       "Christian Fittipaldi   1992-03-01\n",
       "Damon Hill             1992-05-03\n",
       "Michael Andretti       1993-03-14\n",
       "Jacques Villeneuve     1996-03-10\n",
       "Nico Rosberg           2006-03-12\n",
       "Markus Winkelhock      2007-07-22\n",
       "Kazuki Nakajima        2007-10-21\n",
       "Nelson Piquet Jr.      2008-03-16\n",
       "Kevin Magnussen        2014-03-16\n",
       "Max Verstappen         2015-03-15\n",
       "Jolyon Palmer          2016-03-20\n",
       "Mick Schumacher        2021-03-28\n",
       "Name: date, dtype: datetime64[ns]"
      ]
     },
     "execution_count": 8,
     "metadata": {},
     "output_type": "execute_result"
    }
   ],
   "source": [
    "results[results[\"son\"] == True].groupby(\"name\")[\"date\"].min().nsmallest(20)"
   ]
  },
  {
   "cell_type": "code",
   "execution_count": 9,
   "id": "165cfcab",
   "metadata": {
    "scrolled": false
   },
   "outputs": [
    {
     "data": {
      "text/plain": [
       "year  round  location\n",
       "2004  15     Monza       0\n",
       "Name: son, dtype: int64"
      ]
     },
     "execution_count": 9,
     "metadata": {},
     "output_type": "execute_result"
    }
   ],
   "source": [
    "woSons = results.sort_values(by=\"date\").groupby([\"year\", \"round\", \"location\"])[\"son\"].count()\n",
    "woSons[woSons <1].tail(1)"
   ]
  },
  {
   "cell_type": "markdown",
   "id": "46dd4d9a",
   "metadata": {},
   "source": [
    "The last GP without a single son of another F1 driver entering was the 2004 Italian Grand Prix."
   ]
  },
  {
   "cell_type": "code",
   "execution_count": 10,
   "id": "af8a119f",
   "metadata": {},
   "outputs": [
    {
     "data": {
      "text/plain": [
       "year\n",
       "1991    0\n",
       "Name: son, dtype: int64"
      ]
     },
     "execution_count": 10,
     "metadata": {},
     "output_type": "execute_result"
    }
   ],
   "source": [
    "woSons = results.sort_values(by=\"date\").groupby([\"year\"])[\"son\"].count()\n",
    "woSons[woSons <1].tail(1)"
   ]
  },
  {
   "cell_type": "code",
   "execution_count": 11,
   "id": "01577575",
   "metadata": {
    "scrolled": true
   },
   "outputs": [
    {
     "data": {
      "text/plain": [
       "year\n",
       "1959    1\n",
       "1961    1\n",
       "1963    1\n",
       "1974    1\n",
       "1977    1\n",
       "1990    2\n",
       "1992    2\n",
       "1993    3\n",
       "1994    3\n",
       "1995    1\n",
       "1996    2\n",
       "1997    2\n",
       "1998    2\n",
       "1999    2\n",
       "2000    1\n",
       "2001    1\n",
       "2002    1\n",
       "2003    1\n",
       "2004    1\n",
       "2005    1\n",
       "2006    2\n",
       "2007    3\n",
       "2008    3\n",
       "2009    3\n",
       "2010    1\n",
       "2011    1\n",
       "2012    1\n",
       "2013    1\n",
       "2014    2\n",
       "2015    3\n",
       "2016    4\n",
       "2017    3\n",
       "2018    2\n",
       "2019    2\n",
       "2020    2\n",
       "2021    2\n",
       "2022    3\n",
       "Name: name, dtype: int64"
      ]
     },
     "execution_count": 11,
     "metadata": {},
     "output_type": "execute_result"
    }
   ],
   "source": [
    "results[results.name.isin(sons)].reset_index().groupby(\"year\")[\"name\"].nunique(list)"
   ]
  },
  {
   "cell_type": "markdown",
   "id": "1a5da4d5",
   "metadata": {},
   "source": [
    "The 2016 season saw the most sons of another F1 driver participating in the WDC."
   ]
  },
  {
   "cell_type": "code",
   "execution_count": 12,
   "id": "b0333014",
   "metadata": {},
   "outputs": [
    {
     "data": {
      "text/plain": [
       "name\n",
       "Jolyon Palmer      21\n",
       "Kevin Magnussen    21\n",
       "Max Verstappen     21\n",
       "Nico Rosberg       21\n",
       "Name: raceId, dtype: int64"
      ]
     },
     "execution_count": 12,
     "metadata": {},
     "output_type": "execute_result"
    }
   ],
   "source": [
    "resultsSons[resultsSons[\"year\"] == 2016].groupby(\"name\")[\"raceId\"].nunique()"
   ]
  },
  {
   "cell_type": "markdown",
   "id": "1f9ec7a4",
   "metadata": {},
   "source": [
    "## Sons, ranked"
   ]
  },
  {
   "cell_type": "code",
   "execution_count": 13,
   "id": "115b3ffa",
   "metadata": {},
   "outputs": [
    {
     "data": {
      "text/plain": [
       "name\n",
       "Max Verstappen          1818.5\n",
       "Nico Rosberg            1594.5\n",
       "Damon Hill               360.0\n",
       "Jacques Villeneuve       235.0\n",
       "Kevin Magnussen          177.0\n",
       "Nelson Piquet Jr.         19.0\n",
       "Christian Fittipaldi      12.0\n",
       "Mick Schumacher           12.0\n",
       "Jolyon Palmer              9.0\n",
       "Kazuki Nakajima            9.0\n",
       "Michael Andretti           7.0\n",
       "David Brabham              0.0\n",
       "Gary Brabham               0.0\n",
       "Markus Winkelhock          0.0\n",
       "Teddy Pilette              0.0\n",
       "Tim Parnell                0.0\n",
       "Name: points, dtype: float64"
      ]
     },
     "execution_count": 13,
     "metadata": {},
     "output_type": "execute_result"
    }
   ],
   "source": [
    "resultsSons.groupby(\"name\")[\"points\"].sum().sort_values(ascending=False)"
   ]
  },
  {
   "cell_type": "code",
   "execution_count": 14,
   "id": "0923a5bf",
   "metadata": {},
   "outputs": [
    {
     "data": {
      "text/plain": [
       "name\n",
       "Max Verstappen          1816.0\n",
       "Nico Rosberg            1739.0\n",
       "Damon Hill              1091.0\n",
       "Jacques Villeneuve       853.0\n",
       "Kevin Magnussen          177.0\n",
       "Christian Fittipaldi     100.0\n",
       "Nelson Piquet Jr.         50.0\n",
       "Michael Andretti          41.0\n",
       "Kazuki Nakajima           34.0\n",
       "Mick Schumacher           12.0\n",
       "Jolyon Palmer              9.0\n",
       "David Brabham              1.0\n",
       "Tim Parnell                1.0\n",
       "Gary Brabham               0.0\n",
       "Markus Winkelhock          0.0\n",
       "Teddy Pilette              0.0\n",
       "Name: twentyFivePointSystem, dtype: float64"
      ]
     },
     "execution_count": 14,
     "metadata": {},
     "output_type": "execute_result"
    }
   ],
   "source": [
    "resultsSons.groupby(\"name\")[\"twentyFivePointSystem\"].sum().sort_values(ascending=False)"
   ]
  },
  {
   "cell_type": "code",
   "execution_count": 15,
   "id": "f88ca6d4",
   "metadata": {},
   "outputs": [
    {
     "data": {
      "text/plain": [
       "name\n",
       "Max Verstappen        29\n",
       "Nico Rosberg          23\n",
       "Damon Hill            22\n",
       "Jacques Villeneuve    11\n",
       "Name: raceId, dtype: int64"
      ]
     },
     "execution_count": 15,
     "metadata": {},
     "output_type": "execute_result"
    }
   ],
   "source": [
    "resultsSons[resultsSons[\"position\"] == 1].groupby(\"name\")[\"raceId\"].nunique().sort_values(ascending=False)"
   ]
  },
  {
   "cell_type": "code",
   "execution_count": 16,
   "id": "536a28e8",
   "metadata": {},
   "outputs": [
    {
     "data": {
      "text/plain": [
       "name\n",
       "Nico Rosberg            206\n",
       "Jacques Villeneuve      165\n",
       "Max Verstappen          155\n",
       "Kevin Magnussen         134\n",
       "Damon Hill              122\n",
       "Christian Fittipaldi     43\n",
       "Jolyon Palmer            37\n",
       "Kazuki Nakajima          36\n",
       "Mick Schumacher          36\n",
       "David Brabham            30\n",
       "Nelson Piquet Jr.        28\n",
       "Michael Andretti         13\n",
       "Teddy Pilette             4\n",
       "Tim Parnell               4\n",
       "Gary Brabham              2\n",
       "Markus Winkelhock         1\n",
       "Name: raceId, dtype: int64"
      ]
     },
     "execution_count": 16,
     "metadata": {},
     "output_type": "execute_result"
    }
   ],
   "source": [
    "resultsSons.groupby(\"name\")[\"raceId\"].count().sort_values(ascending=False)"
   ]
  },
  {
   "cell_type": "code",
   "execution_count": 17,
   "id": "86190820",
   "metadata": {},
   "outputs": [
    {
     "data": {
      "text/plain": [
       "name\n",
       "Damon Hill               1.0\n",
       "Jacques Villeneuve       1.0\n",
       "Max Verstappen           1.0\n",
       "Nico Rosberg             1.0\n",
       "Kevin Magnussen          2.0\n",
       "Nelson Piquet Jr.        2.0\n",
       "Michael Andretti         3.0\n",
       "Christian Fittipaldi     4.0\n",
       "Jolyon Palmer            6.0\n",
       "Kazuki Nakajima          6.0\n",
       "Mick Schumacher          6.0\n",
       "David Brabham           10.0\n",
       "Tim Parnell             10.0\n",
       "Teddy Pilette           17.0\n",
       "Gary Brabham             NaN\n",
       "Markus Winkelhock        NaN\n",
       "Name: position, dtype: float64"
      ]
     },
     "execution_count": 17,
     "metadata": {},
     "output_type": "execute_result"
    }
   ],
   "source": [
    "resultsSons.groupby(\"name\")[\"position\"].min().sort_values()"
   ]
  },
  {
   "cell_type": "code",
   "execution_count": 18,
   "id": "6c9f94ea",
   "metadata": {},
   "outputs": [
    {
     "data": {
      "text/plain": [
       "name\n",
       "Nico Rosberg          30\n",
       "Damon Hill            20\n",
       "Max Verstappen        16\n",
       "Jacques Villeneuve    13\n",
       "Name: raceId, dtype: int64"
      ]
     },
     "execution_count": 18,
     "metadata": {},
     "output_type": "execute_result"
    }
   ],
   "source": [
    "resultsSons[resultsSons[\"grid\"] == 1].groupby(\"name\")[\"raceId\"].count().sort_values(ascending=False)"
   ]
  },
  {
   "cell_type": "markdown",
   "id": "cbbbe5ae",
   "metadata": {},
   "source": [
    "## Gaps between father's last GP and son's first"
   ]
  },
  {
   "cell_type": "code",
   "execution_count": 19,
   "id": "e8257038",
   "metadata": {},
   "outputs": [
    {
     "data": {
      "text/html": [
       "<div>\n",
       "<style scoped>\n",
       "    .dataframe tbody tr th:only-of-type {\n",
       "        vertical-align: middle;\n",
       "    }\n",
       "\n",
       "    .dataframe tbody tr th {\n",
       "        vertical-align: top;\n",
       "    }\n",
       "\n",
       "    .dataframe thead th {\n",
       "        text-align: right;\n",
       "    }\n",
       "</style>\n",
       "<table border=\"1\" class=\"dataframe\">\n",
       "  <thead>\n",
       "    <tr style=\"text-align: right;\">\n",
       "      <th></th>\n",
       "      <th>gap</th>\n",
       "    </tr>\n",
       "  </thead>\n",
       "  <tbody>\n",
       "    <tr>\n",
       "      <th>Parnells</th>\n",
       "      <td>1827 days</td>\n",
       "    </tr>\n",
       "    <tr>\n",
       "      <th>Schumachers</th>\n",
       "      <td>3045 days</td>\n",
       "    </tr>\n",
       "    <tr>\n",
       "      <th>Pilletes</th>\n",
       "      <td>3570 days</td>\n",
       "    </tr>\n",
       "    <tr>\n",
       "      <th>Andrettis</th>\n",
       "      <td>3823 days</td>\n",
       "    </tr>\n",
       "    <tr>\n",
       "      <th>Verstappens</th>\n",
       "      <td>4172 days</td>\n",
       "    </tr>\n",
       "    <tr>\n",
       "      <th>Villeneuves</th>\n",
       "      <td>5054 days</td>\n",
       "    </tr>\n",
       "    <tr>\n",
       "      <th>Magnussens</th>\n",
       "      <td>5761 days</td>\n",
       "    </tr>\n",
       "    <tr>\n",
       "      <th>Nakajimas</th>\n",
       "      <td>5831 days</td>\n",
       "    </tr>\n",
       "    <tr>\n",
       "      <th>Piquets</th>\n",
       "      <td>5978 days</td>\n",
       "    </tr>\n",
       "    <tr>\n",
       "      <th>Fittipaldis</th>\n",
       "      <td>5992 days</td>\n",
       "    </tr>\n",
       "    <tr>\n",
       "      <th>Hills</th>\n",
       "      <td>6202 days</td>\n",
       "    </tr>\n",
       "    <tr>\n",
       "      <th>Brabhams-G</th>\n",
       "      <td>7077 days</td>\n",
       "    </tr>\n",
       "    <tr>\n",
       "      <th>Rosbergs</th>\n",
       "      <td>7077 days</td>\n",
       "    </tr>\n",
       "    <tr>\n",
       "      <th>Brabhams-D</th>\n",
       "      <td>7140 days</td>\n",
       "    </tr>\n",
       "    <tr>\n",
       "      <th>Winkelhocks</th>\n",
       "      <td>8022 days</td>\n",
       "    </tr>\n",
       "    <tr>\n",
       "      <th>Palmers</th>\n",
       "      <td>9632 days</td>\n",
       "    </tr>\n",
       "  </tbody>\n",
       "</table>\n",
       "</div>"
      ],
      "text/plain": [
       "                  gap\n",
       "Parnells    1827 days\n",
       "Schumachers 3045 days\n",
       "Pilletes    3570 days\n",
       "Andrettis   3823 days\n",
       "Verstappens 4172 days\n",
       "Villeneuves 5054 days\n",
       "Magnussens  5761 days\n",
       "Nakajimas   5831 days\n",
       "Piquets     5978 days\n",
       "Fittipaldis 5992 days\n",
       "Hills       6202 days\n",
       "Brabhams-G  7077 days\n",
       "Rosbergs    7077 days\n",
       "Brabhams-D  7140 days\n",
       "Winkelhocks 8022 days\n",
       "Palmers     9632 days"
      ]
     },
     "execution_count": 19,
     "metadata": {},
     "output_type": "execute_result"
    }
   ],
   "source": [
    "def timedelta():\n",
    "    timedeltas = {}\n",
    "    for key, value in fathersAndSons.items():\n",
    "        delta = results[results[\"name\"] == value[1]][\"date\"].min() - results[results[\"name\"] == value[0]][\"date\"].max()\n",
    "        delta = delta\n",
    "        timedeltas[key] = delta\n",
    "    timedeltas = pd.DataFrame.from_dict(timedeltas, orient=\"index\", columns = [\"gap\"])    \n",
    "    return(timedeltas)\n",
    "        \n",
    "timedelta().sort_values(by=\"gap\")"
   ]
  },
  {
   "cell_type": "markdown",
   "id": "c20dcf87",
   "metadata": {},
   "source": [
    "## Drivers both father and son have raced against"
   ]
  },
  {
   "cell_type": "code",
   "execution_count": 20,
   "id": "deac01cd",
   "metadata": {},
   "outputs": [],
   "source": [
    "results[\"adversaries\"] = results[\"raceId\"].map(results.groupby(\"raceId\")[\"name\"].agg(list))"
   ]
  },
  {
   "cell_type": "code",
   "execution_count": 21,
   "id": "ad0505f8",
   "metadata": {
    "scrolled": true
   },
   "outputs": [
    {
     "data": {
      "text/html": [
       "<div>\n",
       "<style scoped>\n",
       "    .dataframe tbody tr th:only-of-type {\n",
       "        vertical-align: middle;\n",
       "    }\n",
       "\n",
       "    .dataframe tbody tr th {\n",
       "        vertical-align: top;\n",
       "    }\n",
       "\n",
       "    .dataframe thead th {\n",
       "        text-align: right;\n",
       "    }\n",
       "</style>\n",
       "<table border=\"1\" class=\"dataframe\">\n",
       "  <thead>\n",
       "    <tr style=\"text-align: right;\">\n",
       "      <th></th>\n",
       "      <th>count</th>\n",
       "      <th>names</th>\n",
       "    </tr>\n",
       "  </thead>\n",
       "  <tbody>\n",
       "    <tr>\n",
       "      <th>Schumachers</th>\n",
       "      <td>8</td>\n",
       "      <td>Kimi Räikkönen, Fernando Alonso, Sebastian Vettel, Lewis Hamilton, Sergio Pérez, Robert Kubica, Daniel Ricciardo, Nico Hülkenberg</td>\n",
       "    </tr>\n",
       "    <tr>\n",
       "      <th>Parnells</th>\n",
       "      <td>6</td>\n",
       "      <td>Stirling Moss, Maurice Trintignant, Harry Schell, Roy Salvadori, Ron Flockhart, André Pilette</td>\n",
       "    </tr>\n",
       "    <tr>\n",
       "      <th>Andrettis</th>\n",
       "      <td>5</td>\n",
       "      <td>Riccardo Patrese, Derek Warwick, Michele Alboreto, Alain Prost, Andrea de Cesaris</td>\n",
       "    </tr>\n",
       "    <tr>\n",
       "      <th>Verstappens</th>\n",
       "      <td>3</td>\n",
       "      <td>Jenson Button, Kimi Räikkönen, Fernando Alonso</td>\n",
       "    </tr>\n",
       "    <tr>\n",
       "      <th>Pilletes</th>\n",
       "      <td>2</td>\n",
       "      <td>Mike Hailwood, Graham Hill</td>\n",
       "    </tr>\n",
       "    <tr>\n",
       "      <th>Brabhams-D</th>\n",
       "      <td>0</td>\n",
       "      <td></td>\n",
       "    </tr>\n",
       "    <tr>\n",
       "      <th>Brabhams-G</th>\n",
       "      <td>0</td>\n",
       "      <td></td>\n",
       "    </tr>\n",
       "    <tr>\n",
       "      <th>Fittipaldis</th>\n",
       "      <td>0</td>\n",
       "      <td></td>\n",
       "    </tr>\n",
       "    <tr>\n",
       "      <th>Hills</th>\n",
       "      <td>0</td>\n",
       "      <td></td>\n",
       "    </tr>\n",
       "    <tr>\n",
       "      <th>Magnussens</th>\n",
       "      <td>0</td>\n",
       "      <td></td>\n",
       "    </tr>\n",
       "    <tr>\n",
       "      <th>Nakajimas</th>\n",
       "      <td>0</td>\n",
       "      <td></td>\n",
       "    </tr>\n",
       "    <tr>\n",
       "      <th>Palmers</th>\n",
       "      <td>0</td>\n",
       "      <td></td>\n",
       "    </tr>\n",
       "    <tr>\n",
       "      <th>Piquets</th>\n",
       "      <td>0</td>\n",
       "      <td></td>\n",
       "    </tr>\n",
       "    <tr>\n",
       "      <th>Rosbergs</th>\n",
       "      <td>0</td>\n",
       "      <td></td>\n",
       "    </tr>\n",
       "    <tr>\n",
       "      <th>Villeneuves</th>\n",
       "      <td>0</td>\n",
       "      <td></td>\n",
       "    </tr>\n",
       "    <tr>\n",
       "      <th>Winkelhocks</th>\n",
       "      <td>0</td>\n",
       "      <td></td>\n",
       "    </tr>\n",
       "  </tbody>\n",
       "</table>\n",
       "</div>"
      ],
      "text/plain": [
       "             count  \\\n",
       "Schumachers      8   \n",
       "Parnells         6   \n",
       "Andrettis        5   \n",
       "Verstappens      3   \n",
       "Pilletes         2   \n",
       "Brabhams-D       0   \n",
       "Brabhams-G       0   \n",
       "Fittipaldis      0   \n",
       "Hills            0   \n",
       "Magnussens       0   \n",
       "Nakajimas        0   \n",
       "Palmers          0   \n",
       "Piquets          0   \n",
       "Rosbergs         0   \n",
       "Villeneuves      0   \n",
       "Winkelhocks      0   \n",
       "\n",
       "                                                                                                                                         names  \n",
       "Schumachers  Kimi Räikkönen, Fernando Alonso, Sebastian Vettel, Lewis Hamilton, Sergio Pérez, Robert Kubica, Daniel Ricciardo, Nico Hülkenberg  \n",
       "Parnells                                         Stirling Moss, Maurice Trintignant, Harry Schell, Roy Salvadori, Ron Flockhart, André Pilette  \n",
       "Andrettis                                                    Riccardo Patrese, Derek Warwick, Michele Alboreto, Alain Prost, Andrea de Cesaris  \n",
       "Verstappens                                                                                     Jenson Button, Kimi Räikkönen, Fernando Alonso  \n",
       "Pilletes                                                                                                            Mike Hailwood, Graham Hill  \n",
       "Brabhams-D                                                                                                                                      \n",
       "Brabhams-G                                                                                                                                      \n",
       "Fittipaldis                                                                                                                                     \n",
       "Hills                                                                                                                                           \n",
       "Magnussens                                                                                                                                      \n",
       "Nakajimas                                                                                                                                       \n",
       "Palmers                                                                                                                                         \n",
       "Piquets                                                                                                                                         \n",
       "Rosbergs                                                                                                                                        \n",
       "Villeneuves                                                                                                                                     \n",
       "Winkelhocks                                                                                                                                     "
      ]
     },
     "execution_count": 21,
     "metadata": {},
     "output_type": "execute_result"
    }
   ],
   "source": [
    "def intersection(lst1, lst2):\n",
    "    lst3 = [value for value in lst1 if value in lst2]\n",
    "    return lst3\n",
    "\n",
    "def adversaries():\n",
    "    adversaries = {}\n",
    "    for key, value in fathersAndSons.items():\n",
    "        father = results[results[\"name\"] == value[0]]\n",
    "        father = father[\"adversaries\"].tolist()\n",
    "        father = [item for sublist in father for item in sublist]\n",
    "        father = list(set(father))\n",
    "        son = results[results[\"name\"] == value[1]]\n",
    "        son = son[\"adversaries\"].tolist()\n",
    "        son = [item for sublist in son for item in sublist]\n",
    "        son = list(set(son))        \n",
    "        inter = intersection(father, son)\n",
    "        pair = [len(inter), \", \".join(inter)]\n",
    "        adversaries[key] = pair\n",
    "    pd.set_option('display.max_colwidth', None)\n",
    "    adversaries = pd.DataFrame.from_dict(adversaries, orient=\"index\", columns=[\"count\", \"names\"])    \n",
    "    \n",
    "    return(adversaries)\n",
    "\n",
    "adversaries().sort_values(by=\"count\", ascending = False)"
   ]
  },
  {
   "cell_type": "markdown",
   "id": "f3f3aa7d",
   "metadata": {},
   "source": [
    "## Circuits both father and son have raced (and won) at"
   ]
  },
  {
   "cell_type": "code",
   "execution_count": 22,
   "id": "6d1f7fa0",
   "metadata": {
    "scrolled": true
   },
   "outputs": [],
   "source": [
    "results[\"tracks\"] = results[\"name\"].map(results.groupby(\"name\")[\"location\"].agg(list))"
   ]
  },
  {
   "cell_type": "code",
   "execution_count": 23,
   "id": "91f66277",
   "metadata": {},
   "outputs": [
    {
     "data": {
      "text/html": [
       "<div>\n",
       "<style scoped>\n",
       "    .dataframe tbody tr th:only-of-type {\n",
       "        vertical-align: middle;\n",
       "    }\n",
       "\n",
       "    .dataframe tbody tr th {\n",
       "        vertical-align: top;\n",
       "    }\n",
       "\n",
       "    .dataframe thead th {\n",
       "        text-align: right;\n",
       "    }\n",
       "</style>\n",
       "<table border=\"1\" class=\"dataframe\">\n",
       "  <thead>\n",
       "    <tr style=\"text-align: right;\">\n",
       "      <th></th>\n",
       "      <th>count</th>\n",
       "      <th>tracks</th>\n",
       "    </tr>\n",
       "  </thead>\n",
       "  <tbody>\n",
       "    <tr>\n",
       "      <th>Schumachers</th>\n",
       "      <td>16</td>\n",
       "      <td>Montmeló, Spa, Budapest, Mexico City, Istanbul, Monte-Carlo, Abu Dhabi, São Paulo, Spielberg, Montreal, Austin, Imola, Monza, Sakhir, Silverstone, Melbourne</td>\n",
       "    </tr>\n",
       "    <tr>\n",
       "      <th>Verstappens</th>\n",
       "      <td>15</td>\n",
       "      <td>Montmeló, Spa, Budapest, Suzuka, Monte-Carlo, Kuala Lumpur, São Paulo, Spielberg, Montreal, Nürburg, Hockenheim, Imola, Monza, Silverstone, Melbourne</td>\n",
       "    </tr>\n",
       "    <tr>\n",
       "      <th>Magnussens</th>\n",
       "      <td>14</td>\n",
       "      <td>Montmeló, Montreal, Spa, Nürburg, Suzuka, Monte-Carlo, Monza, Hockenheim, Imola, Budapest, São Paulo, Silverstone, Spielberg, Melbourne</td>\n",
       "    </tr>\n",
       "    <tr>\n",
       "      <th>Rosbergs</th>\n",
       "      <td>12</td>\n",
       "      <td>Spa, Mexico City, Budapest, Monte-Carlo, São Paulo, Spielberg, Montreal, Nürburg, Imola, Hockenheim, Monza, Silverstone</td>\n",
       "    </tr>\n",
       "    <tr>\n",
       "      <th>Nakajimas</th>\n",
       "      <td>11</td>\n",
       "      <td>Montmeló, Spa, Budapest, Suzuka, Monte-Carlo, São Paulo, Montreal, Hockenheim, Monza, Magny Cours, Silverstone</td>\n",
       "    </tr>\n",
       "    <tr>\n",
       "      <th>Piquets</th>\n",
       "      <td>11</td>\n",
       "      <td>Montmeló, Spa, Budapest, Monte-Carlo, São Paulo, Montreal, Nürburg, Hockenheim, Monza, Magny Cours, Silverstone</td>\n",
       "    </tr>\n",
       "    <tr>\n",
       "      <th>Hills</th>\n",
       "      <td>10</td>\n",
       "      <td>Spa, Buenos Aires, Monte-Carlo, São Paulo, Spielberg, Nürburg, Hockenheim, Midrand, Monza, Silverstone</td>\n",
       "    </tr>\n",
       "    <tr>\n",
       "      <th>Palmers</th>\n",
       "      <td>10</td>\n",
       "      <td>Spa, Mexico City, Budapest, Suzuka, Monte-Carlo, Spielberg, Montreal, Hockenheim, Monza, Silverstone</td>\n",
       "    </tr>\n",
       "    <tr>\n",
       "      <th>Villeneuves</th>\n",
       "      <td>9</td>\n",
       "      <td>Buenos Aires, Monte-Carlo, São Paulo, Spielberg, Montreal, Imola, Hockenheim, Monza, Silverstone</td>\n",
       "    </tr>\n",
       "    <tr>\n",
       "      <th>Andrettis</th>\n",
       "      <td>8</td>\n",
       "      <td>Monte-Carlo, São Paulo, Montreal, Hockenheim, Imola, Midrand, Monza, Silverstone</td>\n",
       "    </tr>\n",
       "    <tr>\n",
       "      <th>Brabhams-D</th>\n",
       "      <td>6</td>\n",
       "      <td>Spa, Mexico City, Monte-Carlo, Hockenheim, Monza, Silverstone</td>\n",
       "    </tr>\n",
       "    <tr>\n",
       "      <th>Fittipaldis</th>\n",
       "      <td>5</td>\n",
       "      <td>Monte-Carlo, São Paulo, Midrand, Monza, Silverstone</td>\n",
       "    </tr>\n",
       "    <tr>\n",
       "      <th>Parnells</th>\n",
       "      <td>1</td>\n",
       "      <td>Monza</td>\n",
       "    </tr>\n",
       "    <tr>\n",
       "      <th>Pilletes</th>\n",
       "      <td>1</td>\n",
       "      <td>Monza</td>\n",
       "    </tr>\n",
       "    <tr>\n",
       "      <th>Winkelhocks</th>\n",
       "      <td>1</td>\n",
       "      <td>Nürburg</td>\n",
       "    </tr>\n",
       "    <tr>\n",
       "      <th>Brabhams-G</th>\n",
       "      <td>0</td>\n",
       "      <td></td>\n",
       "    </tr>\n",
       "  </tbody>\n",
       "</table>\n",
       "</div>"
      ],
      "text/plain": [
       "             count  \\\n",
       "Schumachers     16   \n",
       "Verstappens     15   \n",
       "Magnussens      14   \n",
       "Rosbergs        12   \n",
       "Nakajimas       11   \n",
       "Piquets         11   \n",
       "Hills           10   \n",
       "Palmers         10   \n",
       "Villeneuves      9   \n",
       "Andrettis        8   \n",
       "Brabhams-D       6   \n",
       "Fittipaldis      5   \n",
       "Parnells         1   \n",
       "Pilletes         1   \n",
       "Winkelhocks      1   \n",
       "Brabhams-G       0   \n",
       "\n",
       "                                                                                                                                                                   tracks  \n",
       "Schumachers  Montmeló, Spa, Budapest, Mexico City, Istanbul, Monte-Carlo, Abu Dhabi, São Paulo, Spielberg, Montreal, Austin, Imola, Monza, Sakhir, Silverstone, Melbourne  \n",
       "Verstappens         Montmeló, Spa, Budapest, Suzuka, Monte-Carlo, Kuala Lumpur, São Paulo, Spielberg, Montreal, Nürburg, Hockenheim, Imola, Monza, Silverstone, Melbourne  \n",
       "Magnussens                        Montmeló, Montreal, Spa, Nürburg, Suzuka, Monte-Carlo, Monza, Hockenheim, Imola, Budapest, São Paulo, Silverstone, Spielberg, Melbourne  \n",
       "Rosbergs                                          Spa, Mexico City, Budapest, Monte-Carlo, São Paulo, Spielberg, Montreal, Nürburg, Imola, Hockenheim, Monza, Silverstone  \n",
       "Nakajimas                                                  Montmeló, Spa, Budapest, Suzuka, Monte-Carlo, São Paulo, Montreal, Hockenheim, Monza, Magny Cours, Silverstone  \n",
       "Piquets                                                   Montmeló, Spa, Budapest, Monte-Carlo, São Paulo, Montreal, Nürburg, Hockenheim, Monza, Magny Cours, Silverstone  \n",
       "Hills                                                              Spa, Buenos Aires, Monte-Carlo, São Paulo, Spielberg, Nürburg, Hockenheim, Midrand, Monza, Silverstone  \n",
       "Palmers                                                              Spa, Mexico City, Budapest, Suzuka, Monte-Carlo, Spielberg, Montreal, Hockenheim, Monza, Silverstone  \n",
       "Villeneuves                                                              Buenos Aires, Monte-Carlo, São Paulo, Spielberg, Montreal, Imola, Hockenheim, Monza, Silverstone  \n",
       "Andrettis                                                                                Monte-Carlo, São Paulo, Montreal, Hockenheim, Imola, Midrand, Monza, Silverstone  \n",
       "Brabhams-D                                                                                                  Spa, Mexico City, Monte-Carlo, Hockenheim, Monza, Silverstone  \n",
       "Fittipaldis                                                                                                           Monte-Carlo, São Paulo, Midrand, Monza, Silverstone  \n",
       "Parnells                                                                                                                                                            Monza  \n",
       "Pilletes                                                                                                                                                            Monza  \n",
       "Winkelhocks                                                                                                                                                       Nürburg  \n",
       "Brabhams-G                                                                                                                                                                 "
      ]
     },
     "execution_count": 23,
     "metadata": {},
     "output_type": "execute_result"
    }
   ],
   "source": [
    "def intersection(lst1, lst2):\n",
    "    lst3 = [value for value in lst1 if value in lst2]\n",
    "    return lst3\n",
    "\n",
    "def tracks():\n",
    "    tracks = {}\n",
    "    for key, value in fathersAndSons.items():\n",
    "        father = results[results[\"name\"] == value[0]]\n",
    "        father = father[\"tracks\"].tolist()\n",
    "        father = [item for sublist in father for item in sublist]\n",
    "        father = list(set(father))\n",
    "        son = results[results[\"name\"] == value[1]]\n",
    "        son = son[\"tracks\"].tolist()\n",
    "        son = [item for sublist in son for item in sublist]\n",
    "        son = list(set(son))        \n",
    "        inter = intersection(father, son)\n",
    "        pair = [len(inter), \", \".join(inter)]\n",
    "        tracks[key] = pair\n",
    "    pd.set_option('display.max_colwidth', None)\n",
    "    tracks = pd.DataFrame.from_dict(tracks, orient=\"index\", columns=[\"count\", \"tracks\"])    \n",
    "    \n",
    "    return(tracks)\n",
    "\n",
    "tracks().sort_values(by=\"count\", ascending = False)"
   ]
  },
  {
   "cell_type": "code",
   "execution_count": 24,
   "id": "6594bfed",
   "metadata": {},
   "outputs": [
    {
     "name": "stderr",
     "output_type": "stream",
     "text": [
      "C:\\Users\\micha\\AppData\\Local\\Temp\\ipykernel_13340\\1730858596.py:1: SettingWithCopyWarning: \n",
      "A value is trying to be set on a copy of a slice from a DataFrame.\n",
      "Try using .loc[row_indexer,col_indexer] = value instead\n",
      "\n",
      "See the caveats in the documentation: https://pandas.pydata.org/pandas-docs/stable/user_guide/indexing.html#returning-a-view-versus-a-copy\n",
      "  wins[\"tracks\"] = wins[\"name\"].map(wins.groupby(\"name\")[\"location\"].agg(list))\n"
     ]
    }
   ],
   "source": [
    "wins[\"tracks\"] = wins[\"name\"].map(wins.groupby(\"name\")[\"location\"].agg(list))"
   ]
  },
  {
   "cell_type": "code",
   "execution_count": 25,
   "id": "ddb45959",
   "metadata": {},
   "outputs": [
    {
     "name": "stderr",
     "output_type": "stream",
     "text": [
      "C:\\Users\\micha\\AppData\\Local\\Temp\\ipykernel_13340\\2317356391.py:8: UserWarning: Boolean Series key will be reindexed to match DataFrame index.\n",
      "  father = wins[results[\"name\"] == value[0]]\n",
      "C:\\Users\\micha\\AppData\\Local\\Temp\\ipykernel_13340\\2317356391.py:12: UserWarning: Boolean Series key will be reindexed to match DataFrame index.\n",
      "  son = wins[results[\"name\"] == value[1]]\n"
     ]
    },
    {
     "data": {
      "text/html": [
       "<div>\n",
       "<style scoped>\n",
       "    .dataframe tbody tr th:only-of-type {\n",
       "        vertical-align: middle;\n",
       "    }\n",
       "\n",
       "    .dataframe tbody tr th {\n",
       "        vertical-align: top;\n",
       "    }\n",
       "\n",
       "    .dataframe thead th {\n",
       "        text-align: right;\n",
       "    }\n",
       "</style>\n",
       "<table border=\"1\" class=\"dataframe\">\n",
       "  <thead>\n",
       "    <tr style=\"text-align: right;\">\n",
       "      <th></th>\n",
       "      <th>count</th>\n",
       "      <th>tracks</th>\n",
       "    </tr>\n",
       "  </thead>\n",
       "  <tbody>\n",
       "    <tr>\n",
       "      <th>Hills</th>\n",
       "      <td>1</td>\n",
       "      <td>Monza</td>\n",
       "    </tr>\n",
       "    <tr>\n",
       "      <th>Rosbergs</th>\n",
       "      <td>1</td>\n",
       "      <td>Monte-Carlo</td>\n",
       "    </tr>\n",
       "    <tr>\n",
       "      <th>Andrettis</th>\n",
       "      <td>0</td>\n",
       "      <td></td>\n",
       "    </tr>\n",
       "    <tr>\n",
       "      <th>Brabhams-D</th>\n",
       "      <td>0</td>\n",
       "      <td></td>\n",
       "    </tr>\n",
       "    <tr>\n",
       "      <th>Brabhams-G</th>\n",
       "      <td>0</td>\n",
       "      <td></td>\n",
       "    </tr>\n",
       "    <tr>\n",
       "      <th>Fittipaldis</th>\n",
       "      <td>0</td>\n",
       "      <td></td>\n",
       "    </tr>\n",
       "    <tr>\n",
       "      <th>Magnussens</th>\n",
       "      <td>0</td>\n",
       "      <td></td>\n",
       "    </tr>\n",
       "    <tr>\n",
       "      <th>Nakajimas</th>\n",
       "      <td>0</td>\n",
       "      <td></td>\n",
       "    </tr>\n",
       "    <tr>\n",
       "      <th>Palmers</th>\n",
       "      <td>0</td>\n",
       "      <td></td>\n",
       "    </tr>\n",
       "    <tr>\n",
       "      <th>Parnells</th>\n",
       "      <td>0</td>\n",
       "      <td></td>\n",
       "    </tr>\n",
       "    <tr>\n",
       "      <th>Pilletes</th>\n",
       "      <td>0</td>\n",
       "      <td></td>\n",
       "    </tr>\n",
       "    <tr>\n",
       "      <th>Piquets</th>\n",
       "      <td>0</td>\n",
       "      <td></td>\n",
       "    </tr>\n",
       "    <tr>\n",
       "      <th>Schumachers</th>\n",
       "      <td>0</td>\n",
       "      <td></td>\n",
       "    </tr>\n",
       "    <tr>\n",
       "      <th>Verstappens</th>\n",
       "      <td>0</td>\n",
       "      <td></td>\n",
       "    </tr>\n",
       "    <tr>\n",
       "      <th>Villeneuves</th>\n",
       "      <td>0</td>\n",
       "      <td></td>\n",
       "    </tr>\n",
       "    <tr>\n",
       "      <th>Winkelhocks</th>\n",
       "      <td>0</td>\n",
       "      <td></td>\n",
       "    </tr>\n",
       "  </tbody>\n",
       "</table>\n",
       "</div>"
      ],
      "text/plain": [
       "             count       tracks\n",
       "Hills            1        Monza\n",
       "Rosbergs         1  Monte-Carlo\n",
       "Andrettis        0             \n",
       "Brabhams-D       0             \n",
       "Brabhams-G       0             \n",
       "Fittipaldis      0             \n",
       "Magnussens       0             \n",
       "Nakajimas        0             \n",
       "Palmers          0             \n",
       "Parnells         0             \n",
       "Pilletes         0             \n",
       "Piquets          0             \n",
       "Schumachers      0             \n",
       "Verstappens      0             \n",
       "Villeneuves      0             \n",
       "Winkelhocks      0             "
      ]
     },
     "execution_count": 25,
     "metadata": {},
     "output_type": "execute_result"
    }
   ],
   "source": [
    "def intersection(lst1, lst2):\n",
    "    lst3 = [value for value in lst1 if value in lst2]\n",
    "    return lst3\n",
    "\n",
    "def tracks():\n",
    "    tracks = {}\n",
    "    for key, value in fathersAndSons.items():\n",
    "        father = wins[results[\"name\"] == value[0]]\n",
    "        father = father[\"tracks\"].dropna().tolist()\n",
    "        father = [item for sublist in father for item in sublist]\n",
    "        father = list(set(father))\n",
    "        son = wins[results[\"name\"] == value[1]]\n",
    "        son = son[\"tracks\"].dropna().tolist()\n",
    "        son = [item for sublist in son for item in sublist]\n",
    "        son = list(set(son))        \n",
    "        inter = intersection(father, son)\n",
    "        pair = [len(inter), \", \".join(inter)]\n",
    "        tracks[key] = pair\n",
    "    pd.set_option('display.max_colwidth', None)\n",
    "    tracks = pd.DataFrame.from_dict(tracks, orient=\"index\", columns=[\"count\", \"tracks\"])    \n",
    "    \n",
    "    return(tracks)\n",
    "\n",
    "tracks().sort_values(by=\"count\", ascending = False)"
   ]
  },
  {
   "cell_type": "markdown",
   "id": "f6d78ccb",
   "metadata": {},
   "source": [
    "## How old was the son on the day of his father's last race?"
   ]
  },
  {
   "cell_type": "code",
   "execution_count": 26,
   "id": "4637303b",
   "metadata": {},
   "outputs": [
    {
     "data": {
      "text/html": [
       "<div>\n",
       "<style scoped>\n",
       "    .dataframe tbody tr th:only-of-type {\n",
       "        vertical-align: middle;\n",
       "    }\n",
       "\n",
       "    .dataframe tbody tr th {\n",
       "        vertical-align: top;\n",
       "    }\n",
       "\n",
       "    .dataframe thead th {\n",
       "        text-align: right;\n",
       "    }\n",
       "</style>\n",
       "<table border=\"1\" class=\"dataframe\">\n",
       "  <thead>\n",
       "    <tr style=\"text-align: right;\">\n",
       "      <th></th>\n",
       "      <th>age</th>\n",
       "    </tr>\n",
       "  </thead>\n",
       "  <tbody>\n",
       "    <tr>\n",
       "      <th>Palmers</th>\n",
       "      <td>-441 days</td>\n",
       "    </tr>\n",
       "    <tr>\n",
       "      <th>Rosbergs</th>\n",
       "      <td>486 days</td>\n",
       "    </tr>\n",
       "    <tr>\n",
       "      <th>Fittipaldis</th>\n",
       "      <td>1721 days</td>\n",
       "    </tr>\n",
       "    <tr>\n",
       "      <th>Brabhams-D</th>\n",
       "      <td>1876 days</td>\n",
       "    </tr>\n",
       "    <tr>\n",
       "      <th>Winkelhocks</th>\n",
       "      <td>1878 days</td>\n",
       "    </tr>\n",
       "    <tr>\n",
       "      <th>Magnussens</th>\n",
       "      <td>2071 days</td>\n",
       "    </tr>\n",
       "    <tr>\n",
       "      <th>Verstappens</th>\n",
       "      <td>2203 days</td>\n",
       "    </tr>\n",
       "    <tr>\n",
       "      <th>Piquets</th>\n",
       "      <td>2292 days</td>\n",
       "    </tr>\n",
       "    <tr>\n",
       "      <th>Nakajimas</th>\n",
       "      <td>2487 days</td>\n",
       "    </tr>\n",
       "    <tr>\n",
       "      <th>Brabhams-G</th>\n",
       "      <td>3497 days</td>\n",
       "    </tr>\n",
       "    <tr>\n",
       "      <th>Villeneuves</th>\n",
       "      <td>4048 days</td>\n",
       "    </tr>\n",
       "    <tr>\n",
       "      <th>Schumachers</th>\n",
       "      <td>4997 days</td>\n",
       "    </tr>\n",
       "    <tr>\n",
       "      <th>Hills</th>\n",
       "      <td>5349 days</td>\n",
       "    </tr>\n",
       "    <tr>\n",
       "      <th>Andrettis</th>\n",
       "      <td>7295 days</td>\n",
       "    </tr>\n",
       "    <tr>\n",
       "      <th>Pilletes</th>\n",
       "      <td>8043 days</td>\n",
       "    </tr>\n",
       "    <tr>\n",
       "      <th>Parnells</th>\n",
       "      <td>8057 days</td>\n",
       "    </tr>\n",
       "  </tbody>\n",
       "</table>\n",
       "</div>"
      ],
      "text/plain": [
       "                  age\n",
       "Palmers     -441 days\n",
       "Rosbergs     486 days\n",
       "Fittipaldis 1721 days\n",
       "Brabhams-D  1876 days\n",
       "Winkelhocks 1878 days\n",
       "Magnussens  2071 days\n",
       "Verstappens 2203 days\n",
       "Piquets     2292 days\n",
       "Nakajimas   2487 days\n",
       "Brabhams-G  3497 days\n",
       "Villeneuves 4048 days\n",
       "Schumachers 4997 days\n",
       "Hills       5349 days\n",
       "Andrettis   7295 days\n",
       "Pilletes    8043 days\n",
       "Parnells    8057 days"
      ]
     },
     "execution_count": 26,
     "metadata": {},
     "output_type": "execute_result"
    }
   ],
   "source": [
    "def timedeltaAge():\n",
    "    timedeltasAge = {}\n",
    "    for key, value in fathersAndSons.items():\n",
    "        deltaAge = results[results[\"name\"] == value[0]][\"date\"].max() - results[results[\"name\"] == value[1]][\"dob\"].min()\n",
    "        deltaAge = deltaAge\n",
    "        timedeltasAge[key] = deltaAge\n",
    "    timedeltasAge = pd.DataFrame.from_dict(timedeltasAge, orient=\"index\", columns = [\"age\"])    \n",
    "    return(timedeltasAge)\n",
    "        \n",
    "timedeltaAge().sort_values(by=\"age\")"
   ]
  }
 ],
 "metadata": {
  "kernelspec": {
   "display_name": "Python 3 (ipykernel)",
   "language": "python",
   "name": "python3"
  },
  "language_info": {
   "codemirror_mode": {
    "name": "ipython",
    "version": 3
   },
   "file_extension": ".py",
   "mimetype": "text/x-python",
   "name": "python",
   "nbconvert_exporter": "python",
   "pygments_lexer": "ipython3",
   "version": "3.10.6"
  }
 },
 "nbformat": 4,
 "nbformat_minor": 5
}
