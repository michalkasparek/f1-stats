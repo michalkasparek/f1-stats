{
 "cells": [
  {
   "cell_type": "code",
   "execution_count": 1,
   "id": "1ee7e724",
   "metadata": {},
   "outputs": [
    {
     "name": "stdout",
     "output_type": "stream",
     "text": [
      "Last GP in the database: 2022 Canadian Grand Prix\n"
     ]
    }
   ],
   "source": [
    "%run prepareStats.py"
   ]
  },
  {
   "cell_type": "code",
   "execution_count": 2,
   "id": "6b6bcf41",
   "metadata": {},
   "outputs": [],
   "source": [
    "dateOfDebut = pd.Series(results.groupby([\"driverId\"])[\"date\"].min(), name=\"dateOfDebut\")\n",
    "dateOfFarewell = pd.Series(results.groupby([\"driverId\"])[\"date\"].max(), name=\"dateOfFarewell\")\n",
    "dateOfFirstWin = pd.Series(results[results[\"position\"] == 1].groupby([\"driverId\"])[\"date\"].min(), name=\"dateOfFirstWin\")\n",
    "dateOfLastWin = pd.Series(results[results[\"position\"] == 1].groupby([\"driverId\"])[\"date\"].max(), name=\"dateOfLastWin\")\n",
    "results = results.merge(dateOfDebut, on = [\"driverId\"], how = \"right\")\n",
    "results = results.merge(dateOfFarewell, on = [\"driverId\"], how = \"right\")\n",
    "results = results.merge(dateOfFirstWin, on = [\"driverId\"], how = \"right\")\n",
    "results = results.merge(dateOfLastWin, on = [\"driverId\"], how = \"right\")\n",
    "results[\"careerLenght\"] = results[\"dateOfFarewell\"] - results[\"dateOfDebut\"]"
   ]
  },
  {
   "cell_type": "code",
   "execution_count": 3,
   "id": "8ecfd3d4",
   "metadata": {},
   "outputs": [],
   "source": [
    "decidingraces = pd.read_csv(os.path.join(\"dataHandcollected\", \"titles.csv\"))\n",
    "decidingraces[\"date\"] = pd.to_datetime(decidingraces[\"date\"], format=\"%Y-%m-%d\")\n",
    "decidingraces[\"decidingRace\"] = True"
   ]
  },
  {
   "cell_type": "code",
   "execution_count": 4,
   "id": "94714126",
   "metadata": {},
   "outputs": [],
   "source": [
    "results = results.merge(decidingraces, on = [\"date\"], how = \"right\")"
   ]
  },
  {
   "cell_type": "markdown",
   "id": "5f067b66",
   "metadata": {},
   "source": [
    "## Titles won by winning the deciding race"
   ]
  },
  {
   "cell_type": "code",
   "execution_count": 5,
   "id": "d6f74a0e",
   "metadata": {},
   "outputs": [
    {
     "data": {
      "text/plain": [
       "name\n",
       "Michael Schumacher    4\n",
       "Juan Fangio           3\n",
       "Sebastian Vettel      2\n",
       "Alberto Ascari        2\n",
       "Mika Häkkinen         2\n",
       "Graham Hill           2\n",
       "Lewis Hamilton        2\n",
       "Kimi Räikkönen        1\n",
       "Phil Hill             1\n",
       "Nino Farina           1\n",
       "Max Verstappen        1\n",
       "Alain Prost           1\n",
       "Alan Jones            1\n",
       "Jim Clark             1\n",
       "Jackie Stewart        1\n",
       "Emerson Fittipaldi    1\n",
       "Damon Hill            1\n",
       "Ayrton Senna          1\n",
       "Jody Scheckter        1\n",
       "Name: raceId, dtype: int64"
      ]
     },
     "execution_count": 5,
     "metadata": {},
     "output_type": "execute_result"
    }
   ],
   "source": [
    "results[(results[\"position\"] == 1) & (results[\"decidingRace\"] == True) & (results[\"name\"] == results[\"champion\"])].groupby(\"name\")[\"raceId\"].nunique().nlargest(50)"
   ]
  },
  {
   "cell_type": "markdown",
   "id": "a887fac7",
   "metadata": {},
   "source": [
    "## Circuits that have hosted the most title-deciding races"
   ]
  },
  {
   "cell_type": "code",
   "execution_count": 6,
   "id": "562dac71",
   "metadata": {},
   "outputs": [
    {
     "data": {
      "text/plain": [
       "location\n",
       "Monza             11\n",
       "Suzuka            11\n",
       "Mexico City        5\n",
       "São Paulo          5\n",
       "Abu Dhabi          3\n",
       "New York State     3\n",
       "Nürburg            3\n",
       "Adelaide           2\n",
       "Austin             2\n",
       "Bern               2\n",
       "Name: raceId, dtype: int64"
      ]
     },
     "execution_count": 6,
     "metadata": {},
     "output_type": "execute_result"
    }
   ],
   "source": [
    "results[results[\"decidingRace\"] == True].groupby(\"location\")[\"raceId\"].nunique().nlargest(10)"
   ]
  },
  {
   "cell_type": "markdown",
   "id": "016e88d9",
   "metadata": {},
   "source": [
    "## For how long have the world champions competed after winning their last title? "
   ]
  },
  {
   "cell_type": "code",
   "execution_count": 7,
   "id": "2aedd48e",
   "metadata": {},
   "outputs": [],
   "source": [
    "dateOfLastTitle = pd.Series(results[(results[\"decidingRace\"] == True) & (results[\"name\"] == results[\"champion\"])].groupby([\"driverId\"])[\"date\"].max(), name=\"dateOfLastTitle\")\n",
    "results = results.merge(dateOfLastTitle, on = [\"driverId\"], how = \"right\")"
   ]
  },
  {
   "cell_type": "code",
   "execution_count": 8,
   "id": "e2752eb6",
   "metadata": {},
   "outputs": [],
   "source": [
    "results[\"afterLastTitle\"] = results[\"dateOfFarewell\"] - results[\"dateOfLastTitle\"]"
   ]
  },
  {
   "cell_type": "code",
   "execution_count": 9,
   "id": "1f42a881",
   "metadata": {},
   "outputs": [
    {
     "data": {
      "text/plain": [
       "name\n",
       "Fernando Alonso      5719 days\n",
       "Kimi Räikkönen       5166 days\n",
       "Jacques Villeneuve   3199 days\n",
       "Sebastian Vettel     3157 days\n",
       "Michael Schumacher   3010 days\n",
       "John Surtees         2877 days\n",
       "Jenson Button        2779 days\n",
       "Denny Hulme          2541 days\n",
       "Graham Hill          2380 days\n",
       "Alan Jones           2219 days\n",
       "Emerson Fittipaldi   2191 days\n",
       "Nino Farina          1834 days\n",
       "Phil Hill            1820 days\n",
       "Jack Brabham         1512 days\n",
       "Keke Rosberg         1492 days\n",
       "Mario Andretti       1476 days\n",
       "Nelson Piquet        1463 days\n",
       "Damon Hill           1113 days\n",
       "Nigel Mansell        1001 days\n",
       "James Hunt            945 days\n",
       "Ayrton Senna          924 days\n",
       "Jim Clark             883 days\n",
       "Mika Häkkinen         714 days\n",
       "Alberto Ascari        637 days\n",
       "Lewis Hamilton        581 days\n",
       "Jody Scheckter        392 days\n",
       "Niki Lauda            378 days\n",
       "Juan Fangio           336 days\n",
       "Max Verstappen        189 days\n",
       "Alain Prost            42 days\n",
       "Jackie Stewart         28 days\n",
       "Nico Rosberg            0 days\n",
       "Name: afterLastTitle, dtype: timedelta64[ns]"
      ]
     },
     "execution_count": 9,
     "metadata": {},
     "output_type": "execute_result"
    }
   ],
   "source": [
    "results.groupby(\"name\")[\"afterLastTitle\"].max().nlargest(55)"
   ]
  },
  {
   "cell_type": "markdown",
   "id": "c6bcc887",
   "metadata": {},
   "source": [
    "[Jochen Rindt died](https://en.wikipedia.org/wiki/Jochen_Rindt) before winning his first (and last) WC title."
   ]
  }
 ],
 "metadata": {
  "kernelspec": {
   "display_name": "Python 3 (ipykernel)",
   "language": "python",
   "name": "python3"
  },
  "language_info": {
   "codemirror_mode": {
    "name": "ipython",
    "version": 3
   },
   "file_extension": ".py",
   "mimetype": "text/x-python",
   "name": "python",
   "nbconvert_exporter": "python",
   "pygments_lexer": "ipython3",
   "version": "3.10.5"
  }
 },
 "nbformat": 4,
 "nbformat_minor": 5
}
