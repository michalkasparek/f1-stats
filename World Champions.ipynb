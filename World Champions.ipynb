{
 "cells": [
  {
   "cell_type": "code",
   "execution_count": 1,
   "id": "1ee7e724",
   "metadata": {},
   "outputs": [
    {
     "name": "stdout",
     "output_type": "stream",
     "text": [
      "Last GP in the database: the 2022 Brazilian Grand Prix\n"
     ]
    }
   ],
   "source": [
    "%run prepareStats.py"
   ]
  },
  {
   "cell_type": "code",
   "execution_count": 2,
   "id": "6b6bcf41",
   "metadata": {},
   "outputs": [],
   "source": [
    "dateOfDebut = pd.Series(results.groupby([\"driverId\"])[\"date\"].min(), name=\"dateOfDebut\")\n",
    "dateOfFarewell = pd.Series(results.groupby([\"driverId\"])[\"date\"].max(), name=\"dateOfFarewell\")\n",
    "dateOfFirstWin = pd.Series(results[results[\"position\"] == 1].groupby([\"driverId\"])[\"date\"].min(), name=\"dateOfFirstWin\")\n",
    "dateOfLastWin = pd.Series(results[results[\"position\"] == 1].groupby([\"driverId\"])[\"date\"].max(), name=\"dateOfLastWin\")\n",
    "results = results.merge(dateOfDebut, on = [\"driverId\"], how = \"right\")\n",
    "results = results.merge(dateOfFarewell, on = [\"driverId\"], how = \"right\")\n",
    "results = results.merge(dateOfFirstWin, on = [\"driverId\"], how = \"right\")\n",
    "results = results.merge(dateOfLastWin, on = [\"driverId\"], how = \"right\")\n",
    "results[\"careerLenght\"] = results[\"dateOfFarewell\"] - results[\"dateOfDebut\"]"
   ]
  },
  {
   "cell_type": "code",
   "execution_count": 3,
   "id": "8ecfd3d4",
   "metadata": {},
   "outputs": [],
   "source": [
    "decidingraces = pd.read_csv(os.path.join(\"dataHandcollected\", \"titles.csv\"))\n",
    "decidingraces[\"date\"] = pd.to_datetime(decidingraces[\"date\"], format=\"%Y-%m-%d\")\n",
    "decidingraces[\"decidingRace\"] = True"
   ]
  },
  {
   "cell_type": "code",
   "execution_count": 4,
   "id": "94714126",
   "metadata": {},
   "outputs": [],
   "source": [
    "results = results.merge(decidingraces, on = [\"date\"], how = \"left\")\n",
    "results = results.sort_values(by=\"date\")"
   ]
  },
  {
   "cell_type": "markdown",
   "id": "5f067b66",
   "metadata": {},
   "source": [
    "## Titles won by winning the deciding race"
   ]
  },
  {
   "cell_type": "code",
   "execution_count": 5,
   "id": "d6f74a0e",
   "metadata": {},
   "outputs": [
    {
     "data": {
      "text/plain": [
       "name\n",
       "Michael Schumacher    4\n",
       "Lewis Hamilton        3\n",
       "Juan Fangio           3\n",
       "Sebastian Vettel      2\n",
       "Alberto Ascari        2\n",
       "Mika Häkkinen         2\n",
       "Graham Hill           2\n",
       "Jim Clark             2\n",
       "Max Verstappen        2\n",
       "Phil Hill             1\n",
       "Nino Farina           1\n",
       "Alain Prost           1\n",
       "Kimi Räikkönen        1\n",
       "Alan Jones            1\n",
       "Jackie Stewart        1\n",
       "Emerson Fittipaldi    1\n",
       "Damon Hill            1\n",
       "Ayrton Senna          1\n",
       "Jody Scheckter        1\n",
       "Name: raceId, dtype: int64"
      ]
     },
     "execution_count": 5,
     "metadata": {},
     "output_type": "execute_result"
    }
   ],
   "source": [
    "results[(results[\"position\"] == 1) & (results[\"decidingRace\"] == True) & (results[\"name\"] == results[\"champion\"])].groupby(\"name\")[\"raceId\"].nunique().nlargest(50)"
   ]
  },
  {
   "cell_type": "markdown",
   "id": "a887fac7",
   "metadata": {},
   "source": [
    "## Circuits that have hosted the most title-deciding races"
   ]
  },
  {
   "cell_type": "code",
   "execution_count": 6,
   "id": "562dac71",
   "metadata": {
    "scrolled": true
   },
   "outputs": [
    {
     "data": {
      "text/plain": [
       "location\n",
       "Monza                    12\n",
       "Suzuka                   12\n",
       "São Paulo                 6\n",
       "Mexico City               5\n",
       "Abu Dhabi                 4\n",
       "New York State            3\n",
       "Nürburg                   3\n",
       "Adelaide                  2\n",
       "Estoril                   2\n",
       "Budapest                  2\n",
       "Bern                      2\n",
       "Austin                    2\n",
       "Nevada                    2\n",
       "Spa                       1\n",
       "Oyama                     1\n",
       "Okayama                   1\n",
       "Spielberg                 1\n",
       "Magny Cours               1\n",
       "Montreal                  1\n",
       "Midrand                   1\n",
       "Liverpool                 1\n",
       "Kent                      1\n",
       "Jerez de la Frontera      1\n",
       "Istanbul                  1\n",
       "Florida                   1\n",
       "Eastern Cape Province     1\n",
       "Casablanca                1\n",
       "Barcelona                 1\n",
       "Uttar Pradesh             1\n",
       "Name: raceId, dtype: int64"
      ]
     },
     "execution_count": 6,
     "metadata": {},
     "output_type": "execute_result"
    }
   ],
   "source": [
    "results[results[\"decidingRace\"] == True].groupby(\"location\")[\"raceId\"].nunique().nlargest(50)"
   ]
  },
  {
   "cell_type": "code",
   "execution_count": 7,
   "id": "f2752aed",
   "metadata": {},
   "outputs": [
    {
     "data": {
      "text/plain": [
       "country\n",
       "Japan           14\n",
       "Italy           12\n",
       "USA              8\n",
       "Brazil           6\n",
       "Mexico           5\n",
       "UAE              4\n",
       "Germany          3\n",
       "Portugal         2\n",
       "UK               2\n",
       "Switzerland      2\n",
       "Spain            2\n",
       "South Africa     2\n",
       "Australia        2\n",
       "Hungary          2\n",
       "Canada           1\n",
       "Austria          1\n",
       "Belgium          1\n",
       "India            1\n",
       "Turkey           1\n",
       "France           1\n",
       "Morocco          1\n",
       "Name: raceId, dtype: int64"
      ]
     },
     "execution_count": 7,
     "metadata": {},
     "output_type": "execute_result"
    }
   ],
   "source": [
    "results[results[\"decidingRace\"] == True].groupby(\"country\")[\"raceId\"].nunique().nlargest(50)"
   ]
  },
  {
   "cell_type": "code",
   "execution_count": 8,
   "id": "1ea87be9",
   "metadata": {},
   "outputs": [
    {
     "data": {
      "text/plain": [
       "location\n",
       "Suzuka                  2022-10-09\n",
       "Abu Dhabi               2021-12-12\n",
       "Istanbul                2020-11-15\n",
       "Austin                  2019-11-03\n",
       "Mexico City             2018-10-28\n",
       "Uttar Pradesh           2013-10-27\n",
       "São Paulo               2012-11-25\n",
       "Spa                     2004-08-29\n",
       "Magny Cours             2002-07-21\n",
       "Budapest                2001-08-19\n",
       "Jerez de la Frontera    1997-10-26\n",
       "Okayama                 1995-10-22\n",
       "Adelaide                1994-11-13\n",
       "Estoril                 1993-09-26\n",
       "Kent                    1985-10-06\n",
       "Midrand                 1983-10-15\n",
       "Nevada                  1982-09-25\n",
       "Montreal                1980-09-28\n",
       "Monza                   1979-09-09\n",
       "New York State          1977-10-02\n",
       "Oyama                   1976-10-24\n",
       "Spielberg               1971-08-15\n",
       "Nürburg                 1965-08-01\n",
       "Eastern Cape Province   1962-12-29\n",
       "Florida                 1959-12-12\n",
       "Casablanca              1958-10-19\n",
       "Liverpool               1955-07-16\n",
       "Bern                    1954-08-22\n",
       "Barcelona               1951-10-28\n",
       "Name: date, dtype: datetime64[ns]"
      ]
     },
     "execution_count": 8,
     "metadata": {},
     "output_type": "execute_result"
    }
   ],
   "source": [
    "results[results[\"decidingRace\"] == True].groupby(\"location\")[\"date\"].last().nlargest(50)"
   ]
  },
  {
   "cell_type": "markdown",
   "id": "82d17c38",
   "metadata": {},
   "source": [
    "## \"My lucky cirtcuit\""
   ]
  },
  {
   "cell_type": "code",
   "execution_count": 9,
   "id": "e3586260",
   "metadata": {},
   "outputs": [
    {
     "data": {
      "text/plain": [
       "champion            location   \n",
       "Ayrton Senna        Suzuka         3\n",
       "Fernando Alonso     São Paulo      2\n",
       "Jack Brabham        Monza          2\n",
       "Jackie Stewart      Monza          2\n",
       "Lewis Hamilton      Austin         2\n",
       "                    Mexico City    2\n",
       "Michael Schumacher  Suzuka         2\n",
       "Mika Häkkinen       Suzuka         2\n",
       "Alain Prost         Adelaide       1\n",
       "                    Estoril        1\n",
       "Name: raceId, dtype: int64"
      ]
     },
     "execution_count": 9,
     "metadata": {},
     "output_type": "execute_result"
    }
   ],
   "source": [
    "results[results[\"decidingRace\"] == True].groupby([\"champion\",\"location\"])[\"raceId\"].nunique().nlargest(10)"
   ]
  },
  {
   "cell_type": "markdown",
   "id": "016e88d9",
   "metadata": {},
   "source": [
    "## For how long have the World Champions competed after winning their last title? "
   ]
  },
  {
   "cell_type": "code",
   "execution_count": 10,
   "id": "2aedd48e",
   "metadata": {},
   "outputs": [],
   "source": [
    "dateOfLastTitle = pd.Series(results[(results[\"decidingRace\"] == True) & (results[\"name\"] == results[\"champion\"])].groupby([\"driverId\"])[\"date\"].max(), name=\"dateOfLastTitle\")\n",
    "results = results.merge(dateOfLastTitle, on = [\"driverId\"], how = \"right\")"
   ]
  },
  {
   "cell_type": "code",
   "execution_count": 11,
   "id": "e2752eb6",
   "metadata": {},
   "outputs": [],
   "source": [
    "results[\"afterLastTitle\"] = results[\"dateOfFarewell\"] - results[\"dateOfLastTitle\"]"
   ]
  },
  {
   "cell_type": "code",
   "execution_count": 12,
   "id": "1f42a881",
   "metadata": {},
   "outputs": [
    {
     "data": {
      "text/plain": [
       "name\n",
       "Fernando Alonso      5866 days\n",
       "Kimi Räikkönen       5166 days\n",
       "Sebastian Vettel     3304 days\n",
       "Jacques Villeneuve   3199 days\n",
       "Michael Schumacher   3010 days\n",
       "John Surtees         2877 days\n",
       "Jenson Button        2779 days\n",
       "Denny Hulme          2541 days\n",
       "Graham Hill          2380 days\n",
       "Alan Jones           2219 days\n",
       "Emerson Fittipaldi   2191 days\n",
       "Nino Farina          1834 days\n",
       "Phil Hill            1820 days\n",
       "Jack Brabham         1512 days\n",
       "Keke Rosberg         1492 days\n",
       "Mario Andretti       1476 days\n",
       "Nelson Piquet        1463 days\n",
       "Damon Hill           1113 days\n",
       "Nigel Mansell        1001 days\n",
       "James Hunt            945 days\n",
       "Ayrton Senna          924 days\n",
       "Jim Clark             883 days\n",
       "Lewis Hamilton        728 days\n",
       "Mika Häkkinen         714 days\n",
       "Alberto Ascari        637 days\n",
       "Jody Scheckter        392 days\n",
       "Niki Lauda            378 days\n",
       "Juan Fangio           336 days\n",
       "Alain Prost            42 days\n",
       "Max Verstappen         35 days\n",
       "Jackie Stewart         28 days\n",
       "Mike Hawthorn           0 days\n",
       "Nico Rosberg            0 days\n",
       "Name: afterLastTitle, dtype: timedelta64[ns]"
      ]
     },
     "execution_count": 12,
     "metadata": {},
     "output_type": "execute_result"
    }
   ],
   "source": [
    "results.groupby(\"name\")[\"afterLastTitle\"].max().nlargest(55)"
   ]
  },
  {
   "cell_type": "markdown",
   "id": "c6bcc887",
   "metadata": {},
   "source": [
    "[Jochen Rindt died](https://en.wikipedia.org/wiki/Jochen_Rindt) before winning his first (and last) WC title."
   ]
  },
  {
   "cell_type": "markdown",
   "id": "768a7d74",
   "metadata": {},
   "source": [
    "## And for how long have been they waiting for their first title?"
   ]
  },
  {
   "cell_type": "code",
   "execution_count": 13,
   "id": "0191a2a2",
   "metadata": {},
   "outputs": [],
   "source": [
    "dateOfFirstTitle = pd.Series(results[(results[\"decidingRace\"] == True) & (results[\"name\"] == results[\"champion\"])].groupby([\"driverId\"])[\"date\"].min(), name=\"dateOfFirstTitle\")\n",
    "results = results.merge(dateOfFirstTitle, on = [\"driverId\"], how = \"right\")"
   ]
  },
  {
   "cell_type": "code",
   "execution_count": 14,
   "id": "b2a31987",
   "metadata": {},
   "outputs": [],
   "source": [
    "results[\"beforeFirstTitle\"] = results[\"dateOfFirstTitle\"] - results[\"dateOfDebut\"]"
   ]
  },
  {
   "cell_type": "code",
   "execution_count": 15,
   "id": "467c6bab",
   "metadata": {},
   "outputs": [
    {
     "data": {
      "text/plain": [
       "name\n",
       "Nigel Mansell    4382 days\n",
       "Nico Rosberg     3913 days\n",
       "Mario Andretti   3626 days\n",
       "Jenson Button    3507 days\n",
       "Mika Häkkinen    2793 days\n",
       "Jody Scheckter   2527 days\n",
       "Max Verstappen   2464 days\n",
       "Kimi Räikkönen   2422 days\n",
       "Mike Hawthorn    2310 days\n",
       "Alain Prost      2093 days\n",
       "Name: beforeFirstTitle, dtype: timedelta64[ns]"
      ]
     },
     "execution_count": 15,
     "metadata": {},
     "output_type": "execute_result"
    }
   ],
   "source": [
    "results.groupby(\"name\")[\"beforeFirstTitle\"].min().nlargest(10)"
   ]
  },
  {
   "cell_type": "markdown",
   "id": "45e4242d",
   "metadata": {},
   "source": [
    "## The most experienced champions\n",
    "\n",
    "(Days between the first race and the last title.) "
   ]
  },
  {
   "cell_type": "code",
   "execution_count": 16,
   "id": "67f1217c",
   "metadata": {},
   "outputs": [],
   "source": [
    "results[\"beforeLastTitle\"] = results[\"dateOfLastTitle\"] - results[\"dateOfDebut\"]"
   ]
  },
  {
   "cell_type": "code",
   "execution_count": 17,
   "id": "54eed22e",
   "metadata": {},
   "outputs": [
    {
     "data": {
      "text/plain": [
       "name\n",
       "Alain Prost          5005 days\n",
       "Lewis Hamilton       4991 days\n",
       "Niki Lauda           4816 days\n",
       "Michael Schumacher   4753 days\n",
       "Nigel Mansell        4382 days\n",
       "Jack Brabham         4068 days\n",
       "Nico Rosberg         3913 days\n",
       "Graham Hill          3822 days\n",
       "Mario Andretti       3626 days\n",
       "Jenson Button        3507 days\n",
       "Name: beforeLastTitle, dtype: timedelta64[ns]"
      ]
     },
     "execution_count": 17,
     "metadata": {},
     "output_type": "execute_result"
    }
   ],
   "source": [
    "results.groupby(\"name\")[\"beforeLastTitle\"].min().nlargest(10)"
   ]
  },
  {
   "cell_type": "markdown",
   "id": "88b6ac44",
   "metadata": {},
   "source": [
    "## Seasons and GPs with most and least champions competing"
   ]
  },
  {
   "cell_type": "code",
   "execution_count": 18,
   "id": "84caa0b2",
   "metadata": {},
   "outputs": [],
   "source": [
    "champions = results[\"champion\"].drop_duplicates().to_list()"
   ]
  },
  {
   "cell_type": "code",
   "execution_count": 19,
   "id": "2420a486",
   "metadata": {},
   "outputs": [],
   "source": [
    "champResults = results[results.name.isin(champions)]"
   ]
  },
  {
   "cell_type": "code",
   "execution_count": 20,
   "id": "d8a6ffe9",
   "metadata": {},
   "outputs": [
    {
     "data": {
      "text/plain": [
       "year\n",
       "1972    8\n",
       "1978    8\n",
       "1979    8\n",
       "1980    8\n",
       "1966    7\n",
       "Name: driverId, dtype: int64"
      ]
     },
     "execution_count": 20,
     "metadata": {},
     "output_type": "execute_result"
    }
   ],
   "source": [
    "champResults.groupby(\"year\")[\"driverId\"].nunique().nlargest(5)"
   ]
  },
  {
   "cell_type": "code",
   "execution_count": 21,
   "id": "0f586213",
   "metadata": {},
   "outputs": [
    {
     "data": {
      "text/plain": [
       "year\n",
       "1950    3\n",
       "1951    3\n",
       "1952    3\n",
       "1956    3\n",
       "1957    3\n",
       "Name: driverId, dtype: int64"
      ]
     },
     "execution_count": 21,
     "metadata": {},
     "output_type": "execute_result"
    }
   ],
   "source": [
    "champResults.groupby(\"year\")[\"driverId\"].nunique().nsmallest(5)"
   ]
  },
  {
   "cell_type": "code",
   "execution_count": 22,
   "id": "9c2e2e0b",
   "metadata": {},
   "outputs": [
    {
     "data": {
      "text/plain": [
       "year  gp                      \n",
       "1978  Austrian Grand Prix         8\n",
       "      Canadian Grand Prix         8\n",
       "      Dutch Grand Prix            8\n",
       "      German Grand Prix           8\n",
       "      Italian Grand Prix          8\n",
       "1980  Austrian Grand Prix         8\n",
       "      Dutch Grand Prix            8\n",
       "      Italian Grand Prix          8\n",
       "1966  Italian Grand Prix          7\n",
       "1970  British Grand Prix          7\n",
       "      German Grand Prix           7\n",
       "1972  Italian Grand Prix          7\n",
       "      United States Grand Prix    7\n",
       "1973  British Grand Prix          7\n",
       "      Canadian Grand Prix         7\n",
       "Name: driverId, dtype: int64"
      ]
     },
     "execution_count": 22,
     "metadata": {},
     "output_type": "execute_result"
    }
   ],
   "source": [
    "champResults.groupby([\"year\", \"gp\"])[\"driverId\"].nunique().nlargest(15)"
   ]
  },
  {
   "cell_type": "code",
   "execution_count": 23,
   "id": "0024d570",
   "metadata": {},
   "outputs": [
    {
     "data": {
      "text/plain": [
       "year  gp                   \n",
       "1994  Hungarian Grand Prix     2\n",
       "      Italian Grand Prix       2\n",
       "      Portuguese Grand Prix    2\n",
       "1995  Pacific Grand Prix       2\n",
       "1994  Belgian Grand Prix       3\n",
       "Name: driverId, dtype: int64"
      ]
     },
     "execution_count": 23,
     "metadata": {},
     "output_type": "execute_result"
    }
   ],
   "source": [
    "champResults[champResults[\"year\"] > 1990].groupby([\"year\", \"gp\"])[\"driverId\"].nunique().nsmallest(5)"
   ]
  },
  {
   "cell_type": "markdown",
   "id": "4477ed49",
   "metadata": {},
   "source": [
    "## What was the last time two future World Champions debuted (or ended their careers) in the same race?"
   ]
  },
  {
   "cell_type": "code",
   "execution_count": 24,
   "id": "e90b49a1",
   "metadata": {},
   "outputs": [
    {
     "data": {
      "text/plain": [
       "name\n",
       "Nino Farina          1950-05-13\n",
       "Juan Fangio          1950-05-13\n",
       "Alberto Ascari       1950-05-21\n",
       "Mike Hawthorn        1952-06-22\n",
       "Jack Brabham         1955-07-16\n",
       "Graham Hill          1958-05-18\n",
       "Phil Hill            1958-07-06\n",
       "John Surtees         1960-05-29\n",
       "Jim Clark            1960-06-06\n",
       "Jackie Stewart       1965-01-01\n",
       "Denny Hulme          1965-05-30\n",
       "Mario Andretti       1968-10-06\n",
       "Emerson Fittipaldi   1970-07-18\n",
       "Niki Lauda           1971-08-15\n",
       "Jody Scheckter       1972-10-08\n",
       "James Hunt           1973-06-03\n",
       "Alan Jones           1975-04-27\n",
       "Keke Rosberg         1978-03-04\n",
       "Nelson Piquet        1978-07-30\n",
       "Alain Prost          1980-01-13\n",
       "Nigel Mansell        1980-08-17\n",
       "Ayrton Senna         1984-03-25\n",
       "Mika Häkkinen        1991-03-10\n",
       "Michael Schumacher   1991-08-25\n",
       "Damon Hill           1992-05-03\n",
       "Jacques Villeneuve   1996-03-10\n",
       "Jenson Button        2000-03-12\n",
       "Fernando Alonso      2001-03-04\n",
       "Kimi Räikkönen       2001-03-04\n",
       "Nico Rosberg         2006-03-12\n",
       "Lewis Hamilton       2007-03-18\n",
       "Sebastian Vettel     2007-06-17\n",
       "Max Verstappen       2015-03-15\n",
       "Name: dateOfDebut, dtype: datetime64[ns]"
      ]
     },
     "execution_count": 24,
     "metadata": {},
     "output_type": "execute_result"
    }
   ],
   "source": [
    "champResults.groupby(\"name\")[\"dateOfDebut\"].min().nsmallest(50)"
   ]
  },
  {
   "cell_type": "code",
   "execution_count": 25,
   "id": "b515fb9f",
   "metadata": {
    "scrolled": true
   },
   "outputs": [
    {
     "data": {
      "text/plain": [
       "dateOfDebut\n",
       "2001-03-04    2\n",
       "1950-05-21    1\n",
       "1952-06-22    1\n",
       "Name: name, dtype: int64"
      ]
     },
     "execution_count": 25,
     "metadata": {},
     "output_type": "execute_result"
    }
   ],
   "source": [
    "champResults[~champResults.name.isin(firstGPdrivers)].groupby(\"dateOfDebut\")[\"name\"].nunique().nlargest(3)"
   ]
  },
  {
   "cell_type": "code",
   "execution_count": 26,
   "id": "cc3387c2",
   "metadata": {},
   "outputs": [
    {
     "data": {
      "text/plain": [
       "dateOfFarewell\n",
       "1980-10-05    2\n",
       "1986-10-26    2\n",
       "1955-05-22    1\n",
       "Name: name, dtype: int64"
      ]
     },
     "execution_count": 26,
     "metadata": {},
     "output_type": "execute_result"
    }
   ],
   "source": [
    "champResults[~champResults.name.isin(lastGPdrivers)].groupby(\"dateOfFarewell\")[\"name\"].nunique().nlargest(3)"
   ]
  },
  {
   "cell_type": "markdown",
   "id": "80ed255c",
   "metadata": {},
   "source": [
    "## The most unsuccessful World Champions, in one way or another"
   ]
  },
  {
   "cell_type": "code",
   "execution_count": 27,
   "id": "fe841a6b",
   "metadata": {},
   "outputs": [
    {
     "data": {
      "text/plain": [
       "name\n",
       "Keke Rosberg          14\n",
       "Damon Hill             6\n",
       "Emerson Fittipaldi     3\n",
       "Graham Hill            2\n",
       "Mika Häkkinen          2\n",
       "Name: raceId, dtype: int64"
      ]
     },
     "execution_count": 27,
     "metadata": {},
     "output_type": "execute_result"
    }
   ],
   "source": [
    "results[results.name.isin(champions) & results.status.isin(dnqs)].groupby(\"name\")[\"raceId\"].nunique().nlargest(5)"
   ]
  },
  {
   "cell_type": "markdown",
   "id": "0ea44865",
   "metadata": {},
   "source": [
    "Keke Rosberg has failed to qualify for 14 GPs!"
   ]
  },
  {
   "cell_type": "code",
   "execution_count": 28,
   "id": "b7ec9396",
   "metadata": {},
   "outputs": [
    {
     "data": {
      "text/plain": [
       "name\n",
       "Michael Schumacher    30\n",
       "Nelson Piquet         28\n",
       "Nigel Mansell         28\n",
       "Kimi Räikkönen        24\n",
       "Jenson Button         23\n",
       "Name: raceId, dtype: int64"
      ]
     },
     "execution_count": 28,
     "metadata": {},
     "output_type": "execute_result"
    }
   ],
   "source": [
    "results[results.name.isin(champions) & results.status.isin(crashes)].groupby(\"name\")[\"raceId\"].nunique().nlargest(5)"
   ]
  },
  {
   "cell_type": "code",
   "execution_count": 29,
   "id": "31919666",
   "metadata": {},
   "outputs": [],
   "source": [
    "championsCrashing = results[results.name.isin(champions) & results.status.isin(crashes)].groupby(\"name\")[\"raceId\"].nunique() / results[results.name.isin(champions)].groupby(\"name\")[\"raceId\"].nunique()"
   ]
  },
  {
   "cell_type": "code",
   "execution_count": 30,
   "id": "c8c90bd4",
   "metadata": {},
   "outputs": [
    {
     "data": {
      "text/plain": [
       "name\n",
       "James Hunt            0.215054\n",
       "Damon Hill            0.147541\n",
       "Nigel Mansell         0.145833\n",
       "Ayrton Senna          0.135802\n",
       "Nelson Piquet         0.135266\n",
       "Alan Jones            0.128205\n",
       "Mario Andretti        0.124031\n",
       "Jody Scheckter        0.123894\n",
       "Niki Lauda            0.109195\n",
       "Jacques Villeneuve    0.109091\n",
       "Name: raceId, dtype: float64"
      ]
     },
     "execution_count": 30,
     "metadata": {},
     "output_type": "execute_result"
    }
   ],
   "source": [
    "championsCrashing.nlargest(10)"
   ]
  },
  {
   "cell_type": "code",
   "execution_count": 31,
   "id": "571178a6",
   "metadata": {},
   "outputs": [
    {
     "data": {
      "text/plain": [
       "name\n",
       "Juan Fangio           0.019608\n",
       "Mike Hawthorn         0.021739\n",
       "Jim Clark             0.027778\n",
       "Emerson Fittipaldi    0.033557\n",
       "Jackie Stewart        0.040000\n",
       "Denny Hulme           0.044643\n",
       "John Surtees          0.044643\n",
       "Lewis Hamilton        0.045307\n",
       "Fernando Alonso       0.050420\n",
       "Phil Hill             0.057692\n",
       "Name: raceId, dtype: float64"
      ]
     },
     "execution_count": 31,
     "metadata": {},
     "output_type": "execute_result"
    }
   ],
   "source": [
    "championsCrashing.nsmallest(10)"
   ]
  },
  {
   "cell_type": "markdown",
   "id": "3a2daafb",
   "metadata": {},
   "source": [
    "James Hunt has had the highest entry-to-crash ratio: 21,5%!"
   ]
  },
  {
   "cell_type": "code",
   "execution_count": 32,
   "id": "048b96f8",
   "metadata": {},
   "outputs": [
    {
     "data": {
      "text/plain": [
       "name\n",
       "James Hunt            9.0\n",
       "Mario Andretti        5.0\n",
       "Nino Farina           4.0\n",
       "Jim Clark             4.0\n",
       "Jacques Villeneuve    4.0\n",
       "John Surtees          4.0\n",
       "Emerson Fittipaldi    2.0\n",
       "Nigel Mansell         2.0\n",
       "Nelson Piquet         2.0\n",
       "Damon Hill            2.0\n",
       "Phil Hill             2.0\n",
       "Alberto Ascari        2.0\n",
       "Alan Jones            2.0\n",
       "Niki Lauda            1.0\n",
       "Lewis Hamilton        1.0\n",
       "Mika Häkkinen         1.0\n",
       "Michael Schumacher    1.0\n",
       "Max Verstappen        1.0\n",
       "Nico Rosberg          1.0\n",
       "Alain Prost           1.0\n",
       "Kimi Räikkönen        1.0\n",
       "Keke Rosberg          1.0\n",
       "Juan Fangio           1.0\n",
       "Jody Scheckter        1.0\n",
       "Jenson Button         1.0\n",
       "Jackie Stewart        1.0\n",
       "Jack Brabham          1.0\n",
       "Graham Hill           1.0\n",
       "Fernando Alonso       1.0\n",
       "Denny Hulme           1.0\n",
       "Ayrton Senna          1.0\n",
       "Sebastian Vettel      1.0\n",
       "Mike Hawthorn         NaN\n",
       "Name: position, dtype: float64"
      ]
     },
     "execution_count": 32,
     "metadata": {},
     "output_type": "execute_result"
    }
   ],
   "source": [
    "results[results.name.isin(champions) & (results[\"location\"] == \"Monte-Carlo\")].groupby(\"name\")[\"position\"].min().nlargest(50)"
   ]
  },
  {
   "cell_type": "markdown",
   "id": "f559c5fa",
   "metadata": {},
   "source": [
    "Seven World Champions have never finished on podium in Monaco."
   ]
  }
 ],
 "metadata": {
  "kernelspec": {
   "display_name": "Python 3 (ipykernel)",
   "language": "python",
   "name": "python3"
  },
  "language_info": {
   "codemirror_mode": {
    "name": "ipython",
    "version": 3
   },
   "file_extension": ".py",
   "mimetype": "text/x-python",
   "name": "python",
   "nbconvert_exporter": "python",
   "pygments_lexer": "ipython3",
   "version": "3.10.8"
  }
 },
 "nbformat": 4,
 "nbformat_minor": 5
}
