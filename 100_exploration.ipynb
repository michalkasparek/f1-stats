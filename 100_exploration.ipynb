{
 "cells": [
  {
   "cell_type": "code",
   "execution_count": 2,
   "id": "7af3b2b2",
   "metadata": {},
   "outputs": [],
   "source": [
    "import os\n",
    "import pandas as pd"
   ]
  },
  {
   "cell_type": "code",
   "execution_count": 3,
   "id": "b7407e87",
   "metadata": {},
   "outputs": [],
   "source": [
    "results = pd.read_json(os.path.join('data','ergast-results.json'))"
   ]
  },
  {
   "cell_type": "code",
   "execution_count": 4,
   "id": "840d5950",
   "metadata": {},
   "outputs": [
    {
     "data": {
      "text/plain": [
       "constructor    year  \n",
       "Kurtis Kraft   1953.0    29\n",
       "               1954.0    27\n",
       "Maserati       1956.0    26\n",
       "Kurtis Kraft   1956.0    24\n",
       "Lotus-Climax   1962.0    24\n",
       "Kurtis Kraft   1955.0    23\n",
       "Lotus-Climax   1961.0    23\n",
       "Maserati       1958.0    23\n",
       "Cooper-Climax  1960.0    22\n",
       "Kurtis Kraft   1957.0    22\n",
       "               1952.0    21\n",
       "Maserati       1954.0    20\n",
       "Cooper-Climax  1959.0    19\n",
       "Maserati       1950.0    18\n",
       "               1955.0    18\n",
       "Cooper         1958.0    17\n",
       "Cooper-Climax  1961.0    17\n",
       "Kurtis Kraft   1951.0    17\n",
       "Ferrari        1952.0    16\n",
       "Kurtis Kraft   1958.0    16\n",
       "Name: name, dtype: int64"
      ]
     },
     "execution_count": 4,
     "metadata": {},
     "output_type": "execute_result"
    }
   ],
   "source": [
    "results.groupby(['constructor','year'])['name'].nunique().nlargest(20)"
   ]
  },
  {
   "cell_type": "code",
   "execution_count": 5,
   "id": "512cca13",
   "metadata": {},
   "outputs": [
    {
     "data": {
      "text/plain": [
       "constructor   year  \n",
       "Brabham       1974.0    12\n",
       "March         1977.0    12\n",
       "March-Ford    1971.0    11\n",
       "Williams      1975.0    10\n",
       "BRM           1972.0     9\n",
       "Team Lotus    1970.0     9\n",
       "BRM           1971.0     8\n",
       "Ensign        1978.0     8\n",
       "Iso Marlboro  1973.0     8\n",
       "March         1970.0     8\n",
       "Name: name, dtype: int64"
      ]
     },
     "execution_count": 5,
     "metadata": {},
     "output_type": "execute_result"
    }
   ],
   "source": [
    "results[results['year'] >= 1970].groupby(['constructor','year'])['name'].nunique().nlargest(10)"
   ]
  },
  {
   "cell_type": "code",
   "execution_count": 6,
   "id": "c0d0e5f2",
   "metadata": {},
   "outputs": [
    {
     "data": {
      "text/plain": [
       "constructor  year  \n",
       "Jordan       1993.0    6\n",
       "Larrousse    1994.0    6\n",
       "Osella       1981.0    6\n",
       "Simtek       1994.0    6\n",
       "Team Lotus   1994.0    6\n",
       "Williams     1980.0    6\n",
       "Jordan       1991.0    5\n",
       "Prost        2001.0    5\n",
       "Rial         1989.0    5\n",
       "Tyrrell      1985.0    5\n",
       "Name: name, dtype: int64"
      ]
     },
     "execution_count": 6,
     "metadata": {},
     "output_type": "execute_result"
    }
   ],
   "source": [
    "results[results['year'] >= 1980].groupby(['constructor','year'])['name'].nunique().nlargest(10)"
   ]
  },
  {
   "cell_type": "code",
   "execution_count": 7,
   "id": "55c960c2",
   "metadata": {},
   "outputs": [
    {
     "data": {
      "text/plain": [
       "constructor  year  \n",
       "Prost        2001.0    5\n",
       "AlphaTauri   2023.0    4\n",
       "Caterham     2014.0    4\n",
       "Ferrari      2009.0    4\n",
       "HRT          2010.0    4\n",
       "Jordan       2001.0    4\n",
       "McLaren      2005.0    4\n",
       "Spyker       2007.0    4\n",
       "Super Aguri  2006.0    4\n",
       "Toro Rosso   2017.0    4\n",
       "Name: name, dtype: int64"
      ]
     },
     "execution_count": 7,
     "metadata": {},
     "output_type": "execute_result"
    }
   ],
   "source": [
    "results[results['year'] >= 2000].groupby(['constructor','year'])['name'].nunique().nlargest(10)"
   ]
  },
  {
   "cell_type": "code",
   "execution_count": 8,
   "id": "4ab81008",
   "metadata": {},
   "outputs": [
    {
     "data": {
      "text/plain": [
       "constructor   year  \n",
       "AlphaTauri    2023.0    4\n",
       "Caterham      2014.0    4\n",
       "HRT           2010.0    4\n",
       "Toro Rosso    2017.0    4\n",
       "Alfa Romeo    2021.0    3\n",
       "Aston Martin  2022.0    3\n",
       "HRT           2011.0    3\n",
       "Haas F1 Team  2020.0    3\n",
       "Lotus         2011.0    3\n",
       "Lotus F1      2012.0    3\n",
       "Name: name, dtype: int64"
      ]
     },
     "execution_count": 8,
     "metadata": {},
     "output_type": "execute_result"
    }
   ],
   "source": [
    "results[results['year'] >= 2010].groupby(['constructor','year'])['name'].nunique().nlargest(10)"
   ]
  },
  {
   "cell_type": "code",
   "execution_count": 9,
   "id": "356bf7e0",
   "metadata": {},
   "outputs": [
    {
     "data": {
      "text/plain": [
       "constructor   year  \n",
       "AlphaTauri    2023.0    4\n",
       "Alfa Romeo    2021.0    3\n",
       "Aston Martin  2022.0    3\n",
       "Haas F1 Team  2020.0    3\n",
       "Mercedes      2020.0    3\n",
       "Racing Point  2020.0    3\n",
       "Williams      2020.0    3\n",
       "              2022.0    3\n",
       "Alfa Romeo    2020.0    2\n",
       "              2022.0    2\n",
       "Name: name, dtype: int64"
      ]
     },
     "execution_count": 9,
     "metadata": {},
     "output_type": "execute_result"
    }
   ],
   "source": [
    "results[results['year'] >= 2020].groupby(['constructor','year'])['name'].nunique().nlargest(10)"
   ]
  },
  {
   "cell_type": "code",
   "execution_count": 10,
   "id": "729d6a8a",
   "metadata": {},
   "outputs": [
    {
     "data": {
      "text/plain": [
       "Index(['resultId', 'raceId', 'driverId', 'constructorId', 'number', 'grid',\n",
       "       'position', 'positionText', 'positionOrder', 'points', 'laps', 'time',\n",
       "       'milliseconds', 'fastestLap', 'rank', 'fastestLapTime',\n",
       "       'fastestLapSpeed', 'statusId', 'driverRef', 'code', 'forename',\n",
       "       'surname', 'dob', 'nationality', 'driverUrl', 'year', 'round', 'date',\n",
       "       'quali_date', 'quali_time', 'location', 'country', 'gp', 'status',\n",
       "       'constructor', 'constructorNationality', 'constructorRef', 'name'],\n",
       "      dtype='object')"
      ]
     },
     "execution_count": 10,
     "metadata": {},
     "output_type": "execute_result"
    }
   ],
   "source": [
    "results.columns"
   ]
  },
  {
   "cell_type": "code",
   "execution_count": 11,
   "id": "df002f41",
   "metadata": {},
   "outputs": [
    {
     "data": {
      "text/plain": [
       "name\n",
       "Gastón Mazzacane          4\n",
       "Heinz-Harald Frentzen     5\n",
       "Jean Alesi               12\n",
       "Luciano Burti            10\n",
       "Tomáš Enge                3\n",
       "Name: raceId, dtype: int64"
      ]
     },
     "execution_count": 11,
     "metadata": {},
     "output_type": "execute_result"
    }
   ],
   "source": [
    "results[(results['constructor'] == 'Prost') & (results['year'] == 2001)].groupby(['name'])['raceId'].nunique()"
   ]
  },
  {
   "cell_type": "code",
   "execution_count": 14,
   "id": "6ee4bf23",
   "metadata": {},
   "outputs": [
    {
     "data": {
      "text/plain": [
       "location\n",
       "Nürburg                 4\n",
       "Imola                   3\n",
       "Baku                    2\n",
       "California              2\n",
       "Dijon                   2\n",
       "Indianapolis            2\n",
       "Jerez de la Frontera    2\n",
       "Kent                    2\n",
       "Mexico City             2\n",
       "Sakhir                  2\n",
       "Name: gp, dtype: int64"
      ]
     },
     "execution_count": 14,
     "metadata": {},
     "output_type": "execute_result"
    }
   ],
   "source": [
    "results.groupby(\"location\")['gp'].nunique().nlargest(10)"
   ]
  },
  {
   "cell_type": "code",
   "execution_count": 16,
   "id": "4e81ebb9",
   "metadata": {},
   "outputs": [
    {
     "data": {
      "text/plain": [
       "gp\n",
       "French Grand Prix              7\n",
       "European Grand Prix            6\n",
       "United States Grand Prix       6\n",
       "Portuguese Grand Prix          4\n",
       "Spanish Grand Prix             4\n",
       "Belgian Grand Prix             3\n",
       "British Grand Prix             3\n",
       "Canadian Grand Prix            3\n",
       "German Grand Prix              3\n",
       "Australian Grand Prix          2\n",
       "Austrian Grand Prix            2\n",
       "Brazilian Grand Prix           2\n",
       "Italian Grand Prix             2\n",
       "Japanese Grand Prix            2\n",
       "South African Grand Prix       2\n",
       "Swiss Grand Prix               2\n",
       "70th Anniversary Grand Prix    1\n",
       "Abu Dhabi Grand Prix           1\n",
       "Argentine Grand Prix           1\n",
       "Azerbaijan Grand Prix          1\n",
       "Bahrain Grand Prix             1\n",
       "Caesars Palace Grand Prix      1\n",
       "Chinese Grand Prix             1\n",
       "Dallas Grand Prix              1\n",
       "Detroit Grand Prix             1\n",
       "Dutch Grand Prix               1\n",
       "Eifel Grand Prix               1\n",
       "Emilia Romagna Grand Prix      1\n",
       "Hungarian Grand Prix           1\n",
       "Indian Grand Prix              1\n",
       "Indianapolis 500               1\n",
       "Korean Grand Prix              1\n",
       "Las Vegas Grand Prix           1\n",
       "Luxembourg Grand Prix          1\n",
       "Malaysian Grand Prix           1\n",
       "Mexican Grand Prix             1\n",
       "Mexico City Grand Prix         1\n",
       "Miami Grand Prix               1\n",
       "Monaco Grand Prix              1\n",
       "Moroccan Grand Prix            1\n",
       "Pacific Grand Prix             1\n",
       "Pescara Grand Prix             1\n",
       "Qatar Grand Prix               1\n",
       "Russian Grand Prix             1\n",
       "Sakhir Grand Prix              1\n",
       "San Marino Grand Prix          1\n",
       "Saudi Arabian Grand Prix       1\n",
       "Singapore Grand Prix           1\n",
       "Styrian Grand Prix             1\n",
       "Swedish Grand Prix             1\n",
       "Name: location, dtype: int64"
      ]
     },
     "execution_count": 16,
     "metadata": {},
     "output_type": "execute_result"
    }
   ],
   "source": [
    "results.groupby(\"gp\")['location'].nunique().nlargest(50)"
   ]
  }
 ],
 "metadata": {
  "kernelspec": {
   "display_name": "Python 3 (ipykernel)",
   "language": "python",
   "name": "python3"
  },
  "language_info": {
   "codemirror_mode": {
    "name": "ipython",
    "version": 3
   },
   "file_extension": ".py",
   "mimetype": "text/x-python",
   "name": "python",
   "nbconvert_exporter": "python",
   "pygments_lexer": "ipython3",
   "version": "3.11.5"
  }
 },
 "nbformat": 4,
 "nbformat_minor": 5
}
