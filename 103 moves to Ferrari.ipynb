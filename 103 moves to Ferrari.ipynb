{
 "cells": [
  {
   "cell_type": "code",
   "execution_count": 1,
   "id": "578cfae9",
   "metadata": {},
   "outputs": [],
   "source": [
    "import os\n",
    "import pandas as pd"
   ]
  },
  {
   "cell_type": "code",
   "execution_count": 3,
   "id": "17774cfd",
   "metadata": {},
   "outputs": [],
   "source": [
    "results = pd.read_json(os.path.join('data','ergast-results.json'))\n",
    "wikidata_ids = pd.read_csv(os.path.join('data','wikidata_ids.csv'))\n",
    "wikid = pd.read_json(os.path.join('data','wikidata.json'))\n",
    "\n",
    "results = results.merge(wikidata_ids, left_on=\"driverUrl\", right_on=\"url\")\n",
    "results = results.merge(wikid, left_on=\"wikidata_id\", right_on=\"wikidata_id\")"
   ]
  },
  {
   "cell_type": "code",
   "execution_count": 4,
   "id": "304502a6",
   "metadata": {},
   "outputs": [],
   "source": [
    "results['date_of_birth'] = pd.to_datetime(results['date_of_birth'])"
   ]
  },
  {
   "cell_type": "code",
   "execution_count": 7,
   "id": "3b6c0751",
   "metadata": {},
   "outputs": [],
   "source": [
    "results['age'] = results['date'] - results['date_of_birth']"
   ]
  },
  {
   "cell_type": "code",
   "execution_count": 26,
   "id": "8cc9d0e3",
   "metadata": {},
   "outputs": [
    {
     "data": {
      "text/plain": [
       "Timedelta('14665 days 00:00:00')"
      ]
     },
     "execution_count": 26,
     "metadata": {},
     "output_type": "execute_result"
    }
   ],
   "source": [
    "ham = pd.Timestamp('2025-03-03 00:00:00') - results[results['name'] == 'Lewis Hamilton']['date_of_birth'].iloc[0]\n",
    "ham"
   ]
  },
  {
   "cell_type": "code",
   "execution_count": 14,
   "id": "ed285308",
   "metadata": {},
   "outputs": [
    {
     "data": {
      "text/plain": [
       "name\n",
       "Clemente Biondetti    18947 days\n",
       "Hans von Stuck        18882 days\n",
       "Rudolf Schoeller      18361 days\n",
       "Nino Farina           17848 days\n",
       "Louis Rosier          17801 days\n",
       "Piero Taruffi         17768 days\n",
       "Luigi Villoresi       16919 days\n",
       "Franco Comotti        16784 days\n",
       "Juan Fangio           16507 days\n",
       "Chico Landi           16135 days\n",
       "Raymond Sommer        15983 days\n",
       "Peter Hirt            15852 days\n",
       "Reg Parnell           15721 days\n",
       "Mario Andretti        15550 days\n",
       "Dorino Serafini       15018 days\n",
       "Rudi Fischer          14751 days\n",
       "Maurice Trintignant   14508 days\n",
       "Roger Laurent         14408 days\n",
       "Paul Frère            14369 days\n",
       "Kimi Räikkönen        14284 days\n",
       "Name: age, dtype: timedelta64[ns]"
      ]
     },
     "execution_count": 14,
     "metadata": {},
     "output_type": "execute_result"
    }
   ],
   "source": [
    "results[results['constructor'] == 'Ferrari'].groupby('name')['age'].max().nlargest(20)"
   ]
  },
  {
   "cell_type": "code",
   "execution_count": 27,
   "id": "d80db586",
   "metadata": {},
   "outputs": [
    {
     "data": {
      "text/html": [
       "<div>\n",
       "<style scoped>\n",
       "    .dataframe tbody tr th:only-of-type {\n",
       "        vertical-align: middle;\n",
       "    }\n",
       "\n",
       "    .dataframe tbody tr th {\n",
       "        vertical-align: top;\n",
       "    }\n",
       "\n",
       "    .dataframe thead th {\n",
       "        text-align: right;\n",
       "    }\n",
       "</style>\n",
       "<table border=\"1\" class=\"dataframe\">\n",
       "  <thead>\n",
       "    <tr style=\"text-align: right;\">\n",
       "      <th></th>\n",
       "      <th>date</th>\n",
       "      <th>name</th>\n",
       "    </tr>\n",
       "  </thead>\n",
       "  <tbody>\n",
       "    <tr>\n",
       "      <th>15654</th>\n",
       "      <td>1950-05-21</td>\n",
       "      <td>Luigi Villoresi</td>\n",
       "    </tr>\n",
       "    <tr>\n",
       "      <th>16208</th>\n",
       "      <td>1950-05-21</td>\n",
       "      <td>Raymond Sommer</td>\n",
       "    </tr>\n",
       "    <tr>\n",
       "      <th>16207</th>\n",
       "      <td>1950-06-04</td>\n",
       "      <td>Raymond Sommer</td>\n",
       "    </tr>\n",
       "    <tr>\n",
       "      <th>15644</th>\n",
       "      <td>1950-06-04</td>\n",
       "      <td>Luigi Villoresi</td>\n",
       "    </tr>\n",
       "    <tr>\n",
       "      <th>15647</th>\n",
       "      <td>1950-06-18</td>\n",
       "      <td>Luigi Villoresi</td>\n",
       "    </tr>\n",
       "    <tr>\n",
       "      <th>...</th>\n",
       "      <td>...</td>\n",
       "      <td>...</td>\n",
       "    </tr>\n",
       "    <tr>\n",
       "      <th>15362</th>\n",
       "      <td>1956-08-05</td>\n",
       "      <td>Juan Fangio</td>\n",
       "    </tr>\n",
       "    <tr>\n",
       "      <th>15366</th>\n",
       "      <td>1956-09-02</td>\n",
       "      <td>Juan Fangio</td>\n",
       "    </tr>\n",
       "    <tr>\n",
       "      <th>15358</th>\n",
       "      <td>1956-09-02</td>\n",
       "      <td>Juan Fangio</td>\n",
       "    </tr>\n",
       "    <tr>\n",
       "      <th>11310</th>\n",
       "      <td>1982-09-12</td>\n",
       "      <td>Mario Andretti</td>\n",
       "    </tr>\n",
       "    <tr>\n",
       "      <th>11318</th>\n",
       "      <td>1982-09-25</td>\n",
       "      <td>Mario Andretti</td>\n",
       "    </tr>\n",
       "  </tbody>\n",
       "</table>\n",
       "<p>103 rows × 2 columns</p>\n",
       "</div>"
      ],
      "text/plain": [
       "            date             name\n",
       "15654 1950-05-21  Luigi Villoresi\n",
       "16208 1950-05-21   Raymond Sommer\n",
       "16207 1950-06-04   Raymond Sommer\n",
       "15644 1950-06-04  Luigi Villoresi\n",
       "15647 1950-06-18  Luigi Villoresi\n",
       "...          ...              ...\n",
       "15362 1956-08-05      Juan Fangio\n",
       "15366 1956-09-02      Juan Fangio\n",
       "15358 1956-09-02      Juan Fangio\n",
       "11310 1982-09-12   Mario Andretti\n",
       "11318 1982-09-25   Mario Andretti\n",
       "\n",
       "[103 rows x 2 columns]"
      ]
     },
     "execution_count": 27,
     "metadata": {},
     "output_type": "execute_result"
    }
   ],
   "source": [
    "results[(results['constructor'] == 'Ferrari') & (results['age'] >= ham)][['date','name']].sort_values(by='date')"
   ]
  },
  {
   "cell_type": "code",
   "execution_count": 25,
   "id": "02ec4404",
   "metadata": {},
   "outputs": [
    {
     "data": {
      "text/html": [
       "<div>\n",
       "<style scoped>\n",
       "    .dataframe tbody tr th:only-of-type {\n",
       "        vertical-align: middle;\n",
       "    }\n",
       "\n",
       "    .dataframe tbody tr th {\n",
       "        vertical-align: top;\n",
       "    }\n",
       "\n",
       "    .dataframe thead th {\n",
       "        text-align: right;\n",
       "    }\n",
       "</style>\n",
       "<table border=\"1\" class=\"dataframe\">\n",
       "  <thead>\n",
       "    <tr style=\"text-align: right;\">\n",
       "      <th></th>\n",
       "      <th>date</th>\n",
       "      <th>name</th>\n",
       "    </tr>\n",
       "  </thead>\n",
       "  <tbody>\n",
       "    <tr>\n",
       "      <th>15645</th>\n",
       "      <td>1951-05-27</td>\n",
       "      <td>Luigi Villoresi</td>\n",
       "    </tr>\n",
       "    <tr>\n",
       "      <th>15677</th>\n",
       "      <td>1951-05-27</td>\n",
       "      <td>Piero Taruffi</td>\n",
       "    </tr>\n",
       "    <tr>\n",
       "      <th>15581</th>\n",
       "      <td>1952-05-18</td>\n",
       "      <td>Nino Farina</td>\n",
       "    </tr>\n",
       "    <tr>\n",
       "      <th>15582</th>\n",
       "      <td>1952-05-18</td>\n",
       "      <td>Nino Farina</td>\n",
       "    </tr>\n",
       "    <tr>\n",
       "      <th>15669</th>\n",
       "      <td>1952-05-18</td>\n",
       "      <td>Rudi Fischer</td>\n",
       "    </tr>\n",
       "    <tr>\n",
       "      <th>15676</th>\n",
       "      <td>1952-05-18</td>\n",
       "      <td>Piero Taruffi</td>\n",
       "    </tr>\n",
       "    <tr>\n",
       "      <th>15971</th>\n",
       "      <td>1952-05-18</td>\n",
       "      <td>Louis Rosier</td>\n",
       "    </tr>\n",
       "    <tr>\n",
       "      <th>16115</th>\n",
       "      <td>1952-05-18</td>\n",
       "      <td>Peter Hirt</td>\n",
       "    </tr>\n",
       "    <tr>\n",
       "      <th>15575</th>\n",
       "      <td>1953-01-18</td>\n",
       "      <td>Nino Farina</td>\n",
       "    </tr>\n",
       "    <tr>\n",
       "      <th>15639</th>\n",
       "      <td>1953-01-18</td>\n",
       "      <td>Luigi Villoresi</td>\n",
       "    </tr>\n",
       "    <tr>\n",
       "      <th>15562</th>\n",
       "      <td>1954-01-17</td>\n",
       "      <td>Nino Farina</td>\n",
       "    </tr>\n",
       "    <tr>\n",
       "      <th>15970</th>\n",
       "      <td>1954-01-17</td>\n",
       "      <td>Louis Rosier</td>\n",
       "    </tr>\n",
       "    <tr>\n",
       "      <th>15560</th>\n",
       "      <td>1955-01-16</td>\n",
       "      <td>Nino Farina</td>\n",
       "    </tr>\n",
       "    <tr>\n",
       "      <th>15576</th>\n",
       "      <td>1955-01-16</td>\n",
       "      <td>Nino Farina</td>\n",
       "    </tr>\n",
       "    <tr>\n",
       "      <th>15363</th>\n",
       "      <td>1956-01-22</td>\n",
       "      <td>Juan Fangio</td>\n",
       "    </tr>\n",
       "    <tr>\n",
       "      <th>15367</th>\n",
       "      <td>1956-01-22</td>\n",
       "      <td>Juan Fangio</td>\n",
       "    </tr>\n",
       "  </tbody>\n",
       "</table>\n",
       "</div>"
      ],
      "text/plain": [
       "            date             name\n",
       "15645 1951-05-27  Luigi Villoresi\n",
       "15677 1951-05-27    Piero Taruffi\n",
       "15581 1952-05-18      Nino Farina\n",
       "15582 1952-05-18      Nino Farina\n",
       "15669 1952-05-18     Rudi Fischer\n",
       "15676 1952-05-18    Piero Taruffi\n",
       "15971 1952-05-18     Louis Rosier\n",
       "16115 1952-05-18       Peter Hirt\n",
       "15575 1953-01-18      Nino Farina\n",
       "15639 1953-01-18  Luigi Villoresi\n",
       "15562 1954-01-17      Nino Farina\n",
       "15970 1954-01-17     Louis Rosier\n",
       "15560 1955-01-16      Nino Farina\n",
       "15576 1955-01-16      Nino Farina\n",
       "15363 1956-01-22      Juan Fangio\n",
       "15367 1956-01-22      Juan Fangio"
      ]
     },
     "execution_count": 25,
     "metadata": {},
     "output_type": "execute_result"
    }
   ],
   "source": [
    "results[(results['constructor'] == 'Ferrari') & (results['age'] >= pd.Timedelta('14610 days 00:00:00')) & (results['round'] == 1)][['date','name']].sort_values(by='date')"
   ]
  }
 ],
 "metadata": {
  "kernelspec": {
   "display_name": "Python 3 (ipykernel)",
   "language": "python",
   "name": "python3"
  },
  "language_info": {
   "codemirror_mode": {
    "name": "ipython",
    "version": 3
   },
   "file_extension": ".py",
   "mimetype": "text/x-python",
   "name": "python",
   "nbconvert_exporter": "python",
   "pygments_lexer": "ipython3",
   "version": "3.11.5"
  }
 },
 "nbformat": 4,
 "nbformat_minor": 5
}
