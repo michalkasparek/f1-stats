{
 "cells": [
  {
   "cell_type": "code",
   "execution_count": 279,
   "id": "7a014864",
   "metadata": {},
   "outputs": [],
   "source": [
    "import os\n",
    "import pandas as pd"
   ]
  },
  {
   "cell_type": "code",
   "execution_count": 280,
   "id": "db0588e6",
   "metadata": {},
   "outputs": [],
   "source": [
    "results = pd.read_json(os.path.join('data','ergast-results.json'))"
   ]
  },
  {
   "cell_type": "code",
   "execution_count": 281,
   "id": "38d7f01e",
   "metadata": {},
   "outputs": [
    {
     "data": {
      "text/plain": [
       "Index(['resultId', 'raceId', 'driverId', 'constructorId', 'number', 'grid',\n",
       "       'position', 'positionText', 'positionOrder', 'points', 'laps', 'time',\n",
       "       'milliseconds', 'fastestLap', 'rank', 'fastestLapTime',\n",
       "       'fastestLapSpeed', 'statusId', 'driverRef', 'code', 'forename',\n",
       "       'surname', 'dob', 'nationality', 'driverUrl', 'year', 'round', 'date',\n",
       "       'quali_date', 'quali_time', 'location', 'country', 'gp', 'status',\n",
       "       'constructor', 'constructorNationality', 'constructorRef', 'name',\n",
       "       'age'],\n",
       "      dtype='object')"
      ]
     },
     "execution_count": 281,
     "metadata": {},
     "output_type": "execute_result"
    }
   ],
   "source": [
    "results.columns"
   ]
  },
  {
   "cell_type": "code",
   "execution_count": 282,
   "id": "7dec0c6a",
   "metadata": {},
   "outputs": [],
   "source": [
    "def rank23(ser):\n",
    "    series = ser.copy()\n",
    "    first_non_zero_index = series[~series.isnull()].index[0]\n",
    "    series = series[series.index >= first_non_zero_index]\n",
    "    series = series.fillna(0)\n",
    "    value23 = series[2023.0]\n",
    "    larger = len(series[series > value23])\n",
    "    smaller = len(series[series < value23])\n",
    "    equal = len(series[series == value23]) - 1\n",
    "    return f\"\"\"{larger} seasons larger than 2023, {smaller} seasons smaller than 2023, {equal} seasons equal to 2023\"\"\""
   ]
  },
  {
   "cell_type": "code",
   "execution_count": 283,
   "id": "fac06958",
   "metadata": {},
   "outputs": [
    {
     "data": {
      "text/plain": [
       "74"
      ]
     },
     "execution_count": 283,
     "metadata": {},
     "output_type": "execute_result"
    }
   ],
   "source": [
    "results['year'].nunique()"
   ]
  },
  {
   "cell_type": "markdown",
   "id": "155c1182",
   "metadata": {},
   "source": [
    "## From what grid places did the top 3 finishers start?"
   ]
  },
  {
   "cell_type": "code",
   "execution_count": 284,
   "id": "95349074",
   "metadata": {},
   "outputs": [],
   "source": [
    "podiums = results[results['position'].isin([1,2,3])]"
   ]
  },
  {
   "cell_type": "code",
   "execution_count": 285,
   "id": "4d0bf0a6",
   "metadata": {},
   "outputs": [
    {
     "data": {
      "text/plain": [
       "year\n",
       "2015.0    2.807018\n",
       "2007.0    2.882353\n",
       "2010.0    2.929825\n",
       "2002.0    3.019608\n",
       "1993.0    3.104167\n",
       "2011.0    3.122807\n",
       "Name: grid, dtype: float64"
      ]
     },
     "execution_count": 285,
     "metadata": {},
     "output_type": "execute_result"
    }
   ],
   "source": [
    "podiums.groupby('year')['grid'].mean().nsmallest(6)"
   ]
  },
  {
   "cell_type": "code",
   "execution_count": 286,
   "id": "8340b6b9",
   "metadata": {},
   "outputs": [
    {
     "data": {
      "text/plain": [
       "year\n",
       "1956.0    7.620690\n",
       "1968.0    6.472222\n",
       "1960.0    6.258065\n",
       "1982.0    6.145833\n",
       "1957.0    5.880000\n",
       "1983.0    5.795455\n",
       "Name: grid, dtype: float64"
      ]
     },
     "execution_count": 286,
     "metadata": {},
     "output_type": "execute_result"
    }
   ],
   "source": [
    "podiums.groupby('year')['grid'].mean().nlargest(6)"
   ]
  },
  {
   "cell_type": "code",
   "execution_count": 287,
   "id": "1893e1ad",
   "metadata": {},
   "outputs": [
    {
     "data": {
      "text/plain": [
       "<Axes: xlabel='year'>"
      ]
     },
     "execution_count": 287,
     "metadata": {},
     "output_type": "execute_result"
    },
    {
     "data": {
      "image/png": "[encoded data removed]",
      "text/plain": [
       "<Figure size 1440x360 with 1 Axes>"
      ]
     },
     "metadata": {
      "needs_background": "light"
     },
     "output_type": "display_data"
    }
   ],
   "source": [
    "podiums.groupby('year')['grid'].mean().plot.bar(figsize=(20,5))"
   ]
  },
  {
   "cell_type": "code",
   "execution_count": 288,
   "id": "e25e9f9b",
   "metadata": {},
   "outputs": [
    {
     "data": {
      "text/plain": [
       "'51 seasons larger than 2023, 22 seasons smaller than 2023, 0 seasons equal to 2023'"
      ]
     },
     "execution_count": 288,
     "metadata": {},
     "output_type": "execute_result"
    }
   ],
   "source": [
    "rank23(podiums.groupby('year')['grid'].mean())"
   ]
  },
  {
   "cell_type": "markdown",
   "id": "a8e39a81",
   "metadata": {},
   "source": [
    "## Crashes (DNF-level) per race"
   ]
  },
  {
   "cell_type": "code",
   "execution_count": 289,
   "id": "de90ee2a",
   "metadata": {},
   "outputs": [],
   "source": [
    "crashes = [\"Accident\", \"Collision\", \"Fatal accident\", \"Collision damage\", \"Spun off\", \"Front wing\",\"Debris\",\"Tyre puncture\",\"Broken wing\",\"Fire\",\"Engine fire\"]"
   ]
  },
  {
   "cell_type": "code",
   "execution_count": 290,
   "id": "7c6f5c1d",
   "metadata": {
    "scrolled": false
   },
   "outputs": [
    {
     "data": {
      "text/plain": [
       "['Finished',\n",
       " '+1 Lap',\n",
       " 'Engine',\n",
       " 'Collision',\n",
       " 'Accident',\n",
       " 'Transmission',\n",
       " 'Clutch',\n",
       " 'Electrical',\n",
       " 'Hydraulics',\n",
       " 'Disqualified',\n",
       " '+2 Laps',\n",
       " 'Spun off',\n",
       " 'Gearbox',\n",
       " 'Radiator',\n",
       " 'Suspension',\n",
       " '+4 Laps',\n",
       " 'Brakes',\n",
       " '+3 Laps',\n",
       " 'Overheating',\n",
       " 'Tyre',\n",
       " 'Puncture',\n",
       " 'Driveshaft',\n",
       " 'Fuel pressure',\n",
       " 'Retired',\n",
       " 'Wheel',\n",
       " 'Throttle',\n",
       " 'Steering',\n",
       " 'Differential',\n",
       " 'Oil pressure',\n",
       " 'Withdrew',\n",
       " 'Oil leak',\n",
       " 'Injured',\n",
       " 'Out of fuel',\n",
       " '+5 Laps',\n",
       " 'Fuel pump',\n",
       " 'Exhaust',\n",
       " '+6 Laps',\n",
       " '+9 Laps',\n",
       " 'Rear wing',\n",
       " 'Water leak',\n",
       " 'Did not qualify',\n",
       " 'Wheel nut',\n",
       " 'Heat shield fire',\n",
       " 'Vibrations',\n",
       " 'Alternator',\n",
       " 'Collision damage',\n",
       " 'Fuel system',\n",
       " 'Pneumatics',\n",
       " 'ERS',\n",
       " '+8 Laps',\n",
       " 'Power Unit',\n",
       " 'Turbo',\n",
       " 'Power loss',\n",
       " 'Battery',\n",
       " 'Water pump',\n",
       " 'Fuel leak',\n",
       " 'Wheel rim',\n",
       " '+7 Laps',\n",
       " 'Not classified',\n",
       " 'Handling',\n",
       " 'Ignition',\n",
       " 'Stalled',\n",
       " 'Wheel bearing',\n",
       " 'Did not prequalify',\n",
       " 'Injection',\n",
       " 'Distributor',\n",
       " 'Technical',\n",
       " 'Mechanical',\n",
       " 'Front wing',\n",
       " 'Electronics',\n",
       " 'Engine misfire',\n",
       " 'Injury',\n",
       " 'Excluded',\n",
       " 'Debris',\n",
       " 'Illness',\n",
       " 'Undertray',\n",
       " '+12 Laps',\n",
       " 'Fuel',\n",
       " 'Chassis',\n",
       " 'Halfshaft',\n",
       " '+26 Laps',\n",
       " 'Tyre puncture',\n",
       " 'Physical',\n",
       " 'Driver unwell',\n",
       " 'Damage',\n",
       " 'Water pressure',\n",
       " 'Track rod',\n",
       " '+14 Laps',\n",
       " '+11 Laps',\n",
       " 'Brake duct',\n",
       " 'Spark plugs',\n",
       " 'Broken wing',\n",
       " 'Fire',\n",
       " 'Oil pump',\n",
       " 'Axle',\n",
       " '+15 Laps',\n",
       " 'Magneto',\n",
       " '+30 Laps',\n",
       " 'Driver Seat',\n",
       " 'Drivetrain',\n",
       " '+18 Laps',\n",
       " 'Seat',\n",
       " '+17 Laps',\n",
       " 'Refuelling',\n",
       " '+19 Laps',\n",
       " 'Engine fire',\n",
       " 'Safety concerns',\n",
       " '+10 Laps',\n",
       " '+42 Laps',\n",
       " 'Cooling system',\n",
       " '+22 Laps',\n",
       " 'Supercharger',\n",
       " 'Fuel rig',\n",
       " 'Launch control',\n",
       " 'Oil line',\n",
       " 'Crankshaft',\n",
       " 'Not restarted',\n",
       " '107% Rule',\n",
       " 'Safety',\n",
       " 'Underweight',\n",
       " 'Safety belt',\n",
       " 'Fuel pipe',\n",
       " 'CV joint',\n",
       " 'Fatal accident',\n",
       " 'Oil pipe',\n",
       " '+44 Laps',\n",
       " '+13 Laps',\n",
       " '+23 Laps',\n",
       " 'Eye injury',\n",
       " '+16 Laps',\n",
       " 'Water pipe',\n",
       " '+29 Laps',\n",
       " '+25 Laps',\n",
       " '+24 Laps',\n",
       " '+21 Laps',\n",
       " '+46 Laps',\n",
       " '+20 Laps',\n",
       " None,\n",
       " '+49 Laps',\n",
       " '+38 Laps']"
      ]
     },
     "execution_count": 290,
     "metadata": {},
     "output_type": "execute_result"
    }
   ],
   "source": [
    "results['status'].drop_duplicates().to_list()"
   ]
  },
  {
   "cell_type": "code",
   "execution_count": 291,
   "id": "da6f5a5f",
   "metadata": {
    "scrolled": false
   },
   "outputs": [
    {
     "data": {
      "text/plain": [
       "<Axes: xlabel='year'>"
      ]
     },
     "execution_count": 291,
     "metadata": {},
     "output_type": "execute_result"
    },
    {
     "data": {
      "image/png": "[encoded data removed]",
      "text/plain": [
       "<Figure size 1800x360 with 1 Axes>"
      ]
     },
     "metadata": {
      "needs_background": "light"
     },
     "output_type": "display_data"
    }
   ],
   "source": [
    "(results[results['status'].isin(crashes)].groupby('year')['resultId'].nunique() / results.groupby('year')['resultId'].nunique()).plot.bar(figsize=(25,5))"
   ]
  },
  {
   "cell_type": "code",
   "execution_count": 292,
   "id": "b3389893",
   "metadata": {},
   "outputs": [
    {
     "data": {
      "text/plain": [
       "'52 seasons larger than 2023, 20 seasons smaller than 2023, 1 seasons equal to 2023'"
      ]
     },
     "execution_count": 292,
     "metadata": {},
     "output_type": "execute_result"
    }
   ],
   "source": [
    "rank23((results[results['status'].isin(crashes)].groupby('year')['resultId'].nunique() / results.groupby('year')['resultId'].nunique()))"
   ]
  },
  {
   "cell_type": "markdown",
   "id": "46f50e65",
   "metadata": {},
   "source": [
    "## From hero to zero"
   ]
  },
  {
   "cell_type": "code",
   "execution_count": 463,
   "id": "4009b309",
   "metadata": {},
   "outputs": [],
   "source": [
    "laps = pd.read_csv(os.path.join('data_raw','lap_times.csv'))"
   ]
  },
  {
   "cell_type": "code",
   "execution_count": 464,
   "id": "d3c3cc3d",
   "metadata": {},
   "outputs": [],
   "source": [
    "laps = laps.merge(results[results['year'] >= 1996][['raceId','driverId','grid','laps','year','round','gp','name','constructor','status']], on=['raceId','driverId'], how='outer')"
   ]
  },
  {
   "cell_type": "code",
   "execution_count": 465,
   "id": "563c3a05",
   "metadata": {},
   "outputs": [],
   "source": [
    "total_laps = pd.Series(laps.groupby('raceId')['lap'].max(), name=\"totalLaps\")"
   ]
  },
  {
   "cell_type": "code",
   "execution_count": 466,
   "id": "132d78f1",
   "metadata": {},
   "outputs": [],
   "source": [
    "laps = laps.merge(total_laps, on='raceId')"
   ]
  },
  {
   "cell_type": "code",
   "execution_count": 467,
   "id": "cf0546f0",
   "metadata": {},
   "outputs": [
    {
     "data": {
      "text/html": [
       "<div>\n",
       "<style scoped>\n",
       "    .dataframe tbody tr th:only-of-type {\n",
       "        vertical-align: middle;\n",
       "    }\n",
       "\n",
       "    .dataframe tbody tr th {\n",
       "        vertical-align: top;\n",
       "    }\n",
       "\n",
       "    .dataframe thead th {\n",
       "        text-align: right;\n",
       "    }\n",
       "</style>\n",
       "<table border=\"1\" class=\"dataframe\">\n",
       "  <thead>\n",
       "    <tr style=\"text-align: right;\">\n",
       "      <th></th>\n",
       "      <th>raceId</th>\n",
       "      <th>driverId</th>\n",
       "      <th>lap</th>\n",
       "      <th>position</th>\n",
       "      <th>time</th>\n",
       "      <th>milliseconds</th>\n",
       "      <th>grid</th>\n",
       "      <th>laps</th>\n",
       "      <th>year</th>\n",
       "      <th>round</th>\n",
       "      <th>gp</th>\n",
       "      <th>name</th>\n",
       "      <th>constructor</th>\n",
       "      <th>status</th>\n",
       "      <th>totalLaps</th>\n",
       "    </tr>\n",
       "  </thead>\n",
       "  <tbody>\n",
       "    <tr>\n",
       "      <th>0</th>\n",
       "      <td>841.0</td>\n",
       "      <td>20.0</td>\n",
       "      <td>1.0</td>\n",
       "      <td>1.0</td>\n",
       "      <td>1:38.109</td>\n",
       "      <td>98109.0</td>\n",
       "      <td>1.0</td>\n",
       "      <td>58.0</td>\n",
       "      <td>2011.0</td>\n",
       "      <td>1.0</td>\n",
       "      <td>Australian Grand Prix</td>\n",
       "      <td>Sebastian Vettel</td>\n",
       "      <td>Red Bull</td>\n",
       "      <td>Finished</td>\n",
       "      <td>58.0</td>\n",
       "    </tr>\n",
       "    <tr>\n",
       "      <th>1</th>\n",
       "      <td>841.0</td>\n",
       "      <td>20.0</td>\n",
       "      <td>2.0</td>\n",
       "      <td>1.0</td>\n",
       "      <td>1:33.006</td>\n",
       "      <td>93006.0</td>\n",
       "      <td>1.0</td>\n",
       "      <td>58.0</td>\n",
       "      <td>2011.0</td>\n",
       "      <td>1.0</td>\n",
       "      <td>Australian Grand Prix</td>\n",
       "      <td>Sebastian Vettel</td>\n",
       "      <td>Red Bull</td>\n",
       "      <td>Finished</td>\n",
       "      <td>58.0</td>\n",
       "    </tr>\n",
       "    <tr>\n",
       "      <th>2</th>\n",
       "      <td>841.0</td>\n",
       "      <td>20.0</td>\n",
       "      <td>3.0</td>\n",
       "      <td>1.0</td>\n",
       "      <td>1:32.713</td>\n",
       "      <td>92713.0</td>\n",
       "      <td>1.0</td>\n",
       "      <td>58.0</td>\n",
       "      <td>2011.0</td>\n",
       "      <td>1.0</td>\n",
       "      <td>Australian Grand Prix</td>\n",
       "      <td>Sebastian Vettel</td>\n",
       "      <td>Red Bull</td>\n",
       "      <td>Finished</td>\n",
       "      <td>58.0</td>\n",
       "    </tr>\n",
       "    <tr>\n",
       "      <th>3</th>\n",
       "      <td>841.0</td>\n",
       "      <td>20.0</td>\n",
       "      <td>4.0</td>\n",
       "      <td>1.0</td>\n",
       "      <td>1:32.803</td>\n",
       "      <td>92803.0</td>\n",
       "      <td>1.0</td>\n",
       "      <td>58.0</td>\n",
       "      <td>2011.0</td>\n",
       "      <td>1.0</td>\n",
       "      <td>Australian Grand Prix</td>\n",
       "      <td>Sebastian Vettel</td>\n",
       "      <td>Red Bull</td>\n",
       "      <td>Finished</td>\n",
       "      <td>58.0</td>\n",
       "    </tr>\n",
       "    <tr>\n",
       "      <th>4</th>\n",
       "      <td>841.0</td>\n",
       "      <td>20.0</td>\n",
       "      <td>5.0</td>\n",
       "      <td>1.0</td>\n",
       "      <td>1:32.342</td>\n",
       "      <td>92342.0</td>\n",
       "      <td>1.0</td>\n",
       "      <td>58.0</td>\n",
       "      <td>2011.0</td>\n",
       "      <td>1.0</td>\n",
       "      <td>Australian Grand Prix</td>\n",
       "      <td>Sebastian Vettel</td>\n",
       "      <td>Red Bull</td>\n",
       "      <td>Finished</td>\n",
       "      <td>58.0</td>\n",
       "    </tr>\n",
       "    <tr>\n",
       "      <th>...</th>\n",
       "      <td>...</td>\n",
       "      <td>...</td>\n",
       "      <td>...</td>\n",
       "      <td>...</td>\n",
       "      <td>...</td>\n",
       "      <td>...</td>\n",
       "      <td>...</td>\n",
       "      <td>...</td>\n",
       "      <td>...</td>\n",
       "      <td>...</td>\n",
       "      <td>...</td>\n",
       "      <td>...</td>\n",
       "      <td>...</td>\n",
       "      <td>...</td>\n",
       "      <td>...</td>\n",
       "    </tr>\n",
       "    <tr>\n",
       "      <th>560845</th>\n",
       "      <td>1118.0</td>\n",
       "      <td>848.0</td>\n",
       "      <td>NaN</td>\n",
       "      <td>NaN</td>\n",
       "      <td>NaN</td>\n",
       "      <td>NaN</td>\n",
       "      <td>13.0</td>\n",
       "      <td>0.0</td>\n",
       "      <td>2023.0</td>\n",
       "      <td>20.0</td>\n",
       "      <td>São Paulo Grand Prix</td>\n",
       "      <td>Alexander Albon</td>\n",
       "      <td>Williams</td>\n",
       "      <td>Collision</td>\n",
       "      <td>71.0</td>\n",
       "    </tr>\n",
       "    <tr>\n",
       "      <th>560846</th>\n",
       "      <td>1118.0</td>\n",
       "      <td>844.0</td>\n",
       "      <td>NaN</td>\n",
       "      <td>NaN</td>\n",
       "      <td>NaN</td>\n",
       "      <td>NaN</td>\n",
       "      <td>0.0</td>\n",
       "      <td>0.0</td>\n",
       "      <td>2023.0</td>\n",
       "      <td>20.0</td>\n",
       "      <td>São Paulo Grand Prix</td>\n",
       "      <td>Charles Leclerc</td>\n",
       "      <td>Ferrari</td>\n",
       "      <td>Engine</td>\n",
       "      <td>71.0</td>\n",
       "    </tr>\n",
       "    <tr>\n",
       "      <th>560847</th>\n",
       "      <td>1118.0</td>\n",
       "      <td>825.0</td>\n",
       "      <td>NaN</td>\n",
       "      <td>NaN</td>\n",
       "      <td>NaN</td>\n",
       "      <td>NaN</td>\n",
       "      <td>12.0</td>\n",
       "      <td>0.0</td>\n",
       "      <td>2023.0</td>\n",
       "      <td>20.0</td>\n",
       "      <td>São Paulo Grand Prix</td>\n",
       "      <td>Kevin Magnussen</td>\n",
       "      <td>Haas F1 Team</td>\n",
       "      <td>Collision</td>\n",
       "      <td>71.0</td>\n",
       "    </tr>\n",
       "    <tr>\n",
       "      <th>560848</th>\n",
       "      <td>1120.0</td>\n",
       "      <td>NaN</td>\n",
       "      <td>NaN</td>\n",
       "      <td>NaN</td>\n",
       "      <td>NaN</td>\n",
       "      <td>NaN</td>\n",
       "      <td>NaN</td>\n",
       "      <td>NaN</td>\n",
       "      <td>2023.0</td>\n",
       "      <td>22.0</td>\n",
       "      <td>Abu Dhabi Grand Prix</td>\n",
       "      <td>None</td>\n",
       "      <td>None</td>\n",
       "      <td>None</td>\n",
       "      <td>NaN</td>\n",
       "    </tr>\n",
       "    <tr>\n",
       "      <th>560849</th>\n",
       "      <td>1119.0</td>\n",
       "      <td>NaN</td>\n",
       "      <td>NaN</td>\n",
       "      <td>NaN</td>\n",
       "      <td>NaN</td>\n",
       "      <td>NaN</td>\n",
       "      <td>NaN</td>\n",
       "      <td>NaN</td>\n",
       "      <td>2023.0</td>\n",
       "      <td>21.0</td>\n",
       "      <td>Las Vegas Grand Prix</td>\n",
       "      <td>None</td>\n",
       "      <td>None</td>\n",
       "      <td>None</td>\n",
       "      <td>NaN</td>\n",
       "    </tr>\n",
       "  </tbody>\n",
       "</table>\n",
       "<p>560850 rows × 15 columns</p>\n",
       "</div>"
      ],
      "text/plain": [
       "        raceId  driverId  lap  position      time  milliseconds  grid  laps  \\\n",
       "0        841.0      20.0  1.0       1.0  1:38.109       98109.0   1.0  58.0   \n",
       "1        841.0      20.0  2.0       1.0  1:33.006       93006.0   1.0  58.0   \n",
       "2        841.0      20.0  3.0       1.0  1:32.713       92713.0   1.0  58.0   \n",
       "3        841.0      20.0  4.0       1.0  1:32.803       92803.0   1.0  58.0   \n",
       "4        841.0      20.0  5.0       1.0  1:32.342       92342.0   1.0  58.0   \n",
       "...        ...       ...  ...       ...       ...           ...   ...   ...   \n",
       "560845  1118.0     848.0  NaN       NaN       NaN           NaN  13.0   0.0   \n",
       "560846  1118.0     844.0  NaN       NaN       NaN           NaN   0.0   0.0   \n",
       "560847  1118.0     825.0  NaN       NaN       NaN           NaN  12.0   0.0   \n",
       "560848  1120.0       NaN  NaN       NaN       NaN           NaN   NaN   NaN   \n",
       "560849  1119.0       NaN  NaN       NaN       NaN           NaN   NaN   NaN   \n",
       "\n",
       "          year  round                     gp              name   constructor  \\\n",
       "0       2011.0    1.0  Australian Grand Prix  Sebastian Vettel      Red Bull   \n",
       "1       2011.0    1.0  Australian Grand Prix  Sebastian Vettel      Red Bull   \n",
       "2       2011.0    1.0  Australian Grand Prix  Sebastian Vettel      Red Bull   \n",
       "3       2011.0    1.0  Australian Grand Prix  Sebastian Vettel      Red Bull   \n",
       "4       2011.0    1.0  Australian Grand Prix  Sebastian Vettel      Red Bull   \n",
       "...        ...    ...                    ...               ...           ...   \n",
       "560845  2023.0   20.0   São Paulo Grand Prix   Alexander Albon      Williams   \n",
       "560846  2023.0   20.0   São Paulo Grand Prix   Charles Leclerc       Ferrari   \n",
       "560847  2023.0   20.0   São Paulo Grand Prix   Kevin Magnussen  Haas F1 Team   \n",
       "560848  2023.0   22.0   Abu Dhabi Grand Prix              None          None   \n",
       "560849  2023.0   21.0   Las Vegas Grand Prix              None          None   \n",
       "\n",
       "           status  totalLaps  \n",
       "0        Finished       58.0  \n",
       "1        Finished       58.0  \n",
       "2        Finished       58.0  \n",
       "3        Finished       58.0  \n",
       "4        Finished       58.0  \n",
       "...           ...        ...  \n",
       "560845  Collision       71.0  \n",
       "560846     Engine       71.0  \n",
       "560847  Collision       71.0  \n",
       "560848       None        NaN  \n",
       "560849       None        NaN  \n",
       "\n",
       "[560850 rows x 15 columns]"
      ]
     },
     "execution_count": 467,
     "metadata": {},
     "output_type": "execute_result"
    }
   ],
   "source": [
    "laps"
   ]
  },
  {
   "cell_type": "code",
   "execution_count": 468,
   "id": "839fcf8b",
   "metadata": {},
   "outputs": [],
   "source": [
    "fromherotozero = laps[(((laps['lap'] == laps['laps']) | (laps['lap'] == laps['laps'] -1 )  | (laps['lap'] == laps['laps'] -2 )) & (laps['position'] == 1) & (laps['laps'] < laps['totalLaps']) | ((laps['laps'] == 0) & (laps['grid'] == 1)))].drop(columns=['lap','time','milliseconds']).drop_duplicates()\n",
    "fromherotozero = fromherotozero[fromherotozero['status'] != 'Finished']"
   ]
  },
  {
   "cell_type": "code",
   "execution_count": 469,
   "id": "4ce79151",
   "metadata": {},
   "outputs": [],
   "source": [
    "fromherotozero['lapsUntilFinish'] = fromherotozero['totalLaps'] - fromherotozero['laps']"
   ]
  },
  {
   "cell_type": "code",
   "execution_count": 473,
   "id": "ca4459c5",
   "metadata": {},
   "outputs": [
    {
     "data": {
      "text/plain": [
       "name                year  \n",
       "Charles Leclerc     2022.0    3\n",
       "Juan Pablo Montoya  2001.0    3\n",
       "Kimi Räikkönen      2005.0    3\n",
       "Lewis Hamilton      2012.0    3\n",
       "Mika Häkkinen       1999.0    3\n",
       "Damon Hill          1996.0    2\n",
       "David Coulthard     1998.0    2\n",
       "                    1999.0    2\n",
       "Juan Pablo Montoya  2003.0    2\n",
       "Lewis Hamilton      2016.0    2\n",
       "Name: raceId, dtype: int64"
      ]
     },
     "execution_count": 473,
     "metadata": {},
     "output_type": "execute_result"
    }
   ],
   "source": [
    "fromherotozero.groupby(['name','year'])['raceId'].nunique().nlargest(10)"
   ]
  },
  {
   "cell_type": "code",
   "execution_count": 474,
   "id": "60af7313",
   "metadata": {},
   "outputs": [
    {
     "data": {
      "text/html": [
       "<div>\n",
       "<style scoped>\n",
       "    .dataframe tbody tr th:only-of-type {\n",
       "        vertical-align: middle;\n",
       "    }\n",
       "\n",
       "    .dataframe tbody tr th {\n",
       "        vertical-align: top;\n",
       "    }\n",
       "\n",
       "    .dataframe thead th {\n",
       "        text-align: right;\n",
       "    }\n",
       "</style>\n",
       "<table border=\"1\" class=\"dataframe\">\n",
       "  <thead>\n",
       "    <tr style=\"text-align: right;\">\n",
       "      <th></th>\n",
       "      <th>year</th>\n",
       "      <th>gp</th>\n",
       "      <th>name</th>\n",
       "      <th>lapsUntilFinish</th>\n",
       "      <th>status</th>\n",
       "    </tr>\n",
       "  </thead>\n",
       "  <tbody>\n",
       "    <tr>\n",
       "      <th>430209</th>\n",
       "      <td>2018.0</td>\n",
       "      <td>Azerbaijan Grand Prix</td>\n",
       "      <td>Valtteri Bottas</td>\n",
       "      <td>3.0</td>\n",
       "      <td>Puncture</td>\n",
       "    </tr>\n",
       "    <tr>\n",
       "      <th>437723</th>\n",
       "      <td>2018.0</td>\n",
       "      <td>German Grand Prix</td>\n",
       "      <td>Sebastian Vettel</td>\n",
       "      <td>16.0</td>\n",
       "      <td>Accident</td>\n",
       "    </tr>\n",
       "    <tr>\n",
       "      <th>466182</th>\n",
       "      <td>2019.0</td>\n",
       "      <td>Russian Grand Prix</td>\n",
       "      <td>Sebastian Vettel</td>\n",
       "      <td>27.0</td>\n",
       "      <td>Power loss</td>\n",
       "    </tr>\n",
       "    <tr>\n",
       "      <th>497371</th>\n",
       "      <td>2021.0</td>\n",
       "      <td>Monaco Grand Prix</td>\n",
       "      <td>Charles Leclerc</td>\n",
       "      <td>78.0</td>\n",
       "      <td>Driveshaft</td>\n",
       "    </tr>\n",
       "    <tr>\n",
       "      <th>497516</th>\n",
       "      <td>2021.0</td>\n",
       "      <td>Azerbaijan Grand Prix</td>\n",
       "      <td>Max Verstappen</td>\n",
       "      <td>6.0</td>\n",
       "      <td>Accident</td>\n",
       "    </tr>\n",
       "    <tr>\n",
       "      <th>502966</th>\n",
       "      <td>2021.0</td>\n",
       "      <td>British Grand Prix</td>\n",
       "      <td>Max Verstappen</td>\n",
       "      <td>52.0</td>\n",
       "      <td>Collision</td>\n",
       "    </tr>\n",
       "    <tr>\n",
       "      <th>505487</th>\n",
       "      <td>2021.0</td>\n",
       "      <td>Italian Grand Prix</td>\n",
       "      <td>Lewis Hamilton</td>\n",
       "      <td>28.0</td>\n",
       "      <td>Collision</td>\n",
       "    </tr>\n",
       "    <tr>\n",
       "      <th>520206</th>\n",
       "      <td>2022.0</td>\n",
       "      <td>Spanish Grand Prix</td>\n",
       "      <td>Charles Leclerc</td>\n",
       "      <td>39.0</td>\n",
       "      <td>Turbo</td>\n",
       "    </tr>\n",
       "    <tr>\n",
       "      <th>522657</th>\n",
       "      <td>2022.0</td>\n",
       "      <td>Azerbaijan Grand Prix</td>\n",
       "      <td>Charles Leclerc</td>\n",
       "      <td>30.0</td>\n",
       "      <td>Power Unit</td>\n",
       "    </tr>\n",
       "    <tr>\n",
       "      <th>526890</th>\n",
       "      <td>2022.0</td>\n",
       "      <td>French Grand Prix</td>\n",
       "      <td>Charles Leclerc</td>\n",
       "      <td>36.0</td>\n",
       "      <td>Accident</td>\n",
       "    </tr>\n",
       "  </tbody>\n",
       "</table>\n",
       "</div>"
      ],
      "text/plain": [
       "          year                     gp              name  lapsUntilFinish  \\\n",
       "430209  2018.0  Azerbaijan Grand Prix   Valtteri Bottas              3.0   \n",
       "437723  2018.0      German Grand Prix  Sebastian Vettel             16.0   \n",
       "466182  2019.0     Russian Grand Prix  Sebastian Vettel             27.0   \n",
       "497371  2021.0      Monaco Grand Prix   Charles Leclerc             78.0   \n",
       "497516  2021.0  Azerbaijan Grand Prix    Max Verstappen              6.0   \n",
       "502966  2021.0     British Grand Prix    Max Verstappen             52.0   \n",
       "505487  2021.0     Italian Grand Prix    Lewis Hamilton             28.0   \n",
       "520206  2022.0     Spanish Grand Prix   Charles Leclerc             39.0   \n",
       "522657  2022.0  Azerbaijan Grand Prix   Charles Leclerc             30.0   \n",
       "526890  2022.0      French Grand Prix   Charles Leclerc             36.0   \n",
       "\n",
       "            status  \n",
       "430209    Puncture  \n",
       "437723    Accident  \n",
       "466182  Power loss  \n",
       "497371  Driveshaft  \n",
       "497516    Accident  \n",
       "502966   Collision  \n",
       "505487   Collision  \n",
       "520206       Turbo  \n",
       "522657  Power Unit  \n",
       "526890    Accident  "
      ]
     },
     "execution_count": 474,
     "metadata": {},
     "output_type": "execute_result"
    }
   ],
   "source": [
    "fromherotozero.sort_values(by=[\"year\",'round'])[['year','gp','name','lapsUntilFinish','status']].tail(10)"
   ]
  },
  {
   "cell_type": "code",
   "execution_count": 441,
   "id": "4c33c88f",
   "metadata": {},
   "outputs": [
    {
     "data": {
      "text/plain": [
       "year\n",
       "1958.0         NaN\n",
       "1967.0         NaN\n",
       "1974.0         NaN\n",
       "1975.0         NaN\n",
       "1977.0         NaN\n",
       "1982.0         NaN\n",
       "1990.0         NaN\n",
       "1994.0         NaN\n",
       "1996.0    0.250000\n",
       "1997.0    0.294118\n",
       "1998.0    0.187500\n",
       "1999.0    0.375000\n",
       "2000.0    0.235294\n",
       "2001.0    0.117647\n",
       "2002.0    0.176471\n",
       "2003.0    0.312500\n",
       "2004.0    0.111111\n",
       "2005.0    0.315789\n",
       "2006.0    0.166667\n",
       "2007.0    0.058824\n",
       "2008.0    0.166667\n",
       "2009.0         NaN\n",
       "2010.0    0.105263\n",
       "2011.0         NaN\n",
       "2012.0    0.200000\n",
       "2013.0    0.052632\n",
       "2014.0    0.157895\n",
       "2015.0    0.052632\n",
       "2016.0    0.142857\n",
       "2017.0    0.050000\n",
       "2018.0    0.095238\n",
       "2019.0    0.047619\n",
       "2020.0         NaN\n",
       "2021.0    0.181818\n",
       "2022.0    0.090909\n",
       "2023.0         NaN\n",
       "Name: raceId, dtype: float64"
      ]
     },
     "execution_count": 441,
     "metadata": {},
     "output_type": "execute_result"
    }
   ],
   "source": [
    "(fromherotozero.groupby('year')['raceId'].nunique() / results[results['year'] >= 1996].groupby('year')['raceId'].nunique())"
   ]
  },
  {
   "cell_type": "code",
   "execution_count": 442,
   "id": "3f430a9c",
   "metadata": {},
   "outputs": [
    {
     "data": {
      "text/plain": [
       "<Axes: xlabel='year'>"
      ]
     },
     "execution_count": 442,
     "metadata": {},
     "output_type": "execute_result"
    },
    {
     "data": {
      "image/png": "[encoded data removed]",
      "text/plain": [
       "<Figure size 1800x360 with 1 Axes>"
      ]
     },
     "metadata": {
      "needs_background": "light"
     },
     "output_type": "display_data"
    }
   ],
   "source": [
    "(fromherotozero.groupby('year')['raceId'].nunique() / results[results['year'] >= 1996].groupby('year')['raceId'].nunique()).plot.bar(figsize=(25,5))"
   ]
  },
  {
   "cell_type": "code",
   "execution_count": 443,
   "id": "6acefe3e",
   "metadata": {},
   "outputs": [
    {
     "data": {
      "text/plain": [
       "'24 seasons larger than 2023, 0 seasons smaller than 2023, 3 seasons equal to 2023'"
      ]
     },
     "execution_count": 443,
     "metadata": {},
     "output_type": "execute_result"
    }
   ],
   "source": [
    "rank23((fromherotozero.groupby('year')['raceId'].nunique() / results[results['year'] >= 1996].groupby('year')['raceId'].nunique()))"
   ]
  },
  {
   "cell_type": "markdown",
   "id": "59405143",
   "metadata": {},
   "source": [
    "## Leading driver changes"
   ]
  },
  {
   "cell_type": "code",
   "execution_count": 306,
   "id": "096b86a3",
   "metadata": {},
   "outputs": [],
   "source": [
    "raceids = results['raceId'].drop_duplicates().to_list()"
   ]
  },
  {
   "cell_type": "code",
   "execution_count": 307,
   "id": "dd2108bd",
   "metadata": {},
   "outputs": [],
   "source": [
    "def get_leader_changes(id):\n",
    "    wdf = laps[laps['raceId'] == id]\n",
    "    if len(wdf) == 0:\n",
    "        return None\n",
    "    else:\n",
    "        wdf = wdf[wdf['position'] == 1].sort_values(by='lap')\n",
    "        leaders = wdf['name'].to_list()\n",
    "        dummy_leader = None\n",
    "        count = -1\n",
    "        for l in leaders:\n",
    "            if l == dummy_leader:\n",
    "                pass\n",
    "            else:\n",
    "                dummy_leader = l\n",
    "                count = count + 1\n",
    "        return count"
   ]
  },
  {
   "cell_type": "code",
   "execution_count": 308,
   "id": "f9f7c388",
   "metadata": {},
   "outputs": [],
   "source": [
    "leaderChanges = {}\n",
    "for r in raceids:\n",
    "    leaderChanges[r] = get_leader_changes(r)\n",
    "leaderChanges = pd.DataFrame.from_dict([leaderChanges]).transpose()\n",
    "leaderChanges['raceId'] = leaderChanges.index\n",
    "leaderChanges = leaderChanges.rename(columns={0 : 'leaderChanges'})"
   ]
  },
  {
   "cell_type": "code",
   "execution_count": 309,
   "id": "f541ea97",
   "metadata": {},
   "outputs": [
    {
     "data": {
      "text/html": [
       "<div>\n",
       "<style scoped>\n",
       "    .dataframe tbody tr th:only-of-type {\n",
       "        vertical-align: middle;\n",
       "    }\n",
       "\n",
       "    .dataframe tbody tr th {\n",
       "        vertical-align: top;\n",
       "    }\n",
       "\n",
       "    .dataframe thead th {\n",
       "        text-align: right;\n",
       "    }\n",
       "</style>\n",
       "<table border=\"1\" class=\"dataframe\">\n",
       "  <thead>\n",
       "    <tr style=\"text-align: right;\">\n",
       "      <th></th>\n",
       "      <th>leaderChanges</th>\n",
       "      <th>raceId</th>\n",
       "    </tr>\n",
       "  </thead>\n",
       "  <tbody>\n",
       "    <tr>\n",
       "      <th>18.0</th>\n",
       "      <td>4.0</td>\n",
       "      <td>18.0</td>\n",
       "    </tr>\n",
       "    <tr>\n",
       "      <th>19.0</th>\n",
       "      <td>5.0</td>\n",
       "      <td>19.0</td>\n",
       "    </tr>\n",
       "    <tr>\n",
       "      <th>20.0</th>\n",
       "      <td>3.0</td>\n",
       "      <td>20.0</td>\n",
       "    </tr>\n",
       "    <tr>\n",
       "      <th>21.0</th>\n",
       "      <td>3.0</td>\n",
       "      <td>21.0</td>\n",
       "    </tr>\n",
       "    <tr>\n",
       "      <th>22.0</th>\n",
       "      <td>7.0</td>\n",
       "      <td>22.0</td>\n",
       "    </tr>\n",
       "    <tr>\n",
       "      <th>...</th>\n",
       "      <td>...</td>\n",
       "      <td>...</td>\n",
       "    </tr>\n",
       "    <tr>\n",
       "      <th>794.0</th>\n",
       "      <td>-1.0</td>\n",
       "      <td>794.0</td>\n",
       "    </tr>\n",
       "    <tr>\n",
       "      <th>800.0</th>\n",
       "      <td>-1.0</td>\n",
       "      <td>800.0</td>\n",
       "    </tr>\n",
       "    <tr>\n",
       "      <th>1120.0</th>\n",
       "      <td>-1.0</td>\n",
       "      <td>1120.0</td>\n",
       "    </tr>\n",
       "    <tr>\n",
       "      <th>1119.0</th>\n",
       "      <td>-1.0</td>\n",
       "      <td>1119.0</td>\n",
       "    </tr>\n",
       "    <tr>\n",
       "      <th>NaN</th>\n",
       "      <td>NaN</td>\n",
       "      <td>NaN</td>\n",
       "    </tr>\n",
       "  </tbody>\n",
       "</table>\n",
       "<p>1102 rows × 2 columns</p>\n",
       "</div>"
      ],
      "text/plain": [
       "        leaderChanges  raceId\n",
       "18.0              4.0    18.0\n",
       "19.0              5.0    19.0\n",
       "20.0              3.0    20.0\n",
       "21.0              3.0    21.0\n",
       "22.0              7.0    22.0\n",
       "...               ...     ...\n",
       "794.0            -1.0   794.0\n",
       "800.0            -1.0   800.0\n",
       "1120.0           -1.0  1120.0\n",
       "1119.0           -1.0  1119.0\n",
       "NaN               NaN     NaN\n",
       "\n",
       "[1102 rows x 2 columns]"
      ]
     },
     "execution_count": 309,
     "metadata": {},
     "output_type": "execute_result"
    }
   ],
   "source": [
    "leaderChanges"
   ]
  },
  {
   "cell_type": "code",
   "execution_count": 310,
   "id": "1d2f359c",
   "metadata": {},
   "outputs": [],
   "source": [
    "results = results.merge(leaderChanges, on='raceId')"
   ]
  },
  {
   "cell_type": "code",
   "execution_count": 311,
   "id": "e6500d8e",
   "metadata": {},
   "outputs": [],
   "source": [
    "results['leaderChanges'] = pd.to_numeric(results['leaderChanges'])"
   ]
  },
  {
   "cell_type": "code",
   "execution_count": 312,
   "id": "3280ec4e",
   "metadata": {},
   "outputs": [
    {
     "data": {
      "text/plain": [
       "year    gp                   \n",
       "2008.0  Japanese Grand Prix      10.0\n",
       "2011.0  Japanese Grand Prix      10.0\n",
       "2013.0  Australian Grand Prix    10.0\n",
       "2002.0  French Grand Prix         9.0\n",
       "2005.0  Japanese Grand Prix       9.0\n",
       "2011.0  Belgian Grand Prix        9.0\n",
       "        German Grand Prix         9.0\n",
       "        Hungarian Grand Prix      9.0\n",
       "2013.0  Chinese Grand Prix        9.0\n",
       "        Malaysian Grand Prix      9.0\n",
       "2022.0  British Grand Prix        9.0\n",
       "2003.0  Monaco Grand Prix         8.0\n",
       "2004.0  Belgian Grand Prix        8.0\n",
       "        Brazilian Grand Prix      8.0\n",
       "        German Grand Prix         8.0\n",
       "2005.0  European Grand Prix       8.0\n",
       "2008.0  German Grand Prix         8.0\n",
       "2011.0  Brazilian Grand Prix      8.0\n",
       "        Chinese Grand Prix        8.0\n",
       "        Spanish Grand Prix        8.0\n",
       "Name: leaderChanges, dtype: float64"
      ]
     },
     "execution_count": 312,
     "metadata": {},
     "output_type": "execute_result"
    }
   ],
   "source": [
    "results.groupby(['year','gp'])['leaderChanges'].mean().nlargest(20)"
   ]
  },
  {
   "cell_type": "code",
   "execution_count": 313,
   "id": "3d484498",
   "metadata": {},
   "outputs": [
    {
     "data": {
      "text/plain": [
       "Index(['resultId', 'raceId', 'driverId', 'constructorId', 'number', 'grid',\n",
       "       'position', 'positionText', 'positionOrder', 'points', 'laps', 'time',\n",
       "       'milliseconds', 'fastestLap', 'rank', 'fastestLapTime',\n",
       "       'fastestLapSpeed', 'statusId', 'driverRef', 'code', 'forename',\n",
       "       'surname', 'dob', 'nationality', 'driverUrl', 'year', 'round', 'date',\n",
       "       'quali_date', 'quali_time', 'location', 'country', 'gp', 'status',\n",
       "       'constructor', 'constructorNationality', 'constructorRef', 'name',\n",
       "       'age', 'leaderChanges'],\n",
       "      dtype='object')"
      ]
     },
     "execution_count": 313,
     "metadata": {},
     "output_type": "execute_result"
    }
   ],
   "source": [
    "results.columns"
   ]
  },
  {
   "cell_type": "code",
   "execution_count": 314,
   "id": "36d46334",
   "metadata": {},
   "outputs": [],
   "source": [
    "threetimers = results[results['year'] >= 1996].groupby('location')['raceId'].nunique()\n",
    "threetimers = threetimers[threetimers >= 3]\n",
    "threetimers = threetimers.index.to_list()"
   ]
  },
  {
   "cell_type": "code",
   "execution_count": 315,
   "id": "c5fd5b8b",
   "metadata": {},
   "outputs": [
    {
     "data": {
      "text/plain": [
       "location\n",
       "Kuala Lumpur      4.150485\n",
       "Austin            3.902655\n",
       "Sakhir            3.528571\n",
       "Istanbul          3.447917\n",
       "Shanghai          3.315789\n",
       "Jeddah            3.000000\n",
       "Melbourne         2.956989\n",
       "Montmeló          2.638701\n",
       "Baku              2.535211\n",
       "Valencia          2.428571\n",
       "Abu Dhabi         2.353535\n",
       "Magny Cours       2.042857\n",
       "Budapest          1.960718\n",
       "São Paulo         1.957470\n",
       "Suzuka            1.674449\n",
       "Marina Bay        1.637584\n",
       "Sochi             1.595092\n",
       "Uttar Pradesh     1.571429\n",
       "Montreal          1.133721\n",
       "Yeongam County    0.765957\n",
       "Nürburg           0.739754\n",
       "Spielberg         0.713961\n",
       "Silverstone       0.607345\n",
       "Spa               0.579968\n",
       "Hockenheim        0.549733\n",
       "Indianapolis      0.462478\n",
       "Imola             0.255629\n",
       "Monza             0.230176\n",
       "Mexico City       0.018587\n",
       "Monte-Carlo      -0.066910\n",
       "Le Castellet     -0.501040\n",
       "Buenos Aires     -0.607143\n",
       "Zandvoort        -0.678715\n",
       "Name: leaderChanges, dtype: float64"
      ]
     },
     "execution_count": 315,
     "metadata": {},
     "output_type": "execute_result"
    }
   ],
   "source": [
    "results[results['location'].isin(threetimers)].groupby(['location'])['leaderChanges'].mean().dropna().sort_values(ascending=False)"
   ]
  },
  {
   "cell_type": "code",
   "execution_count": 316,
   "id": "b4ef3b92",
   "metadata": {},
   "outputs": [
    {
     "data": {
      "text/plain": [
       "year\n",
       "2019.0    2.333333\n",
       "2020.0    1.823529\n",
       "2021.0    2.590909\n",
       "2022.0    3.454545\n",
       "2023.0    1.835821\n",
       "Name: leaderChanges, dtype: float64"
      ]
     },
     "execution_count": 316,
     "metadata": {},
     "output_type": "execute_result"
    }
   ],
   "source": [
    "results[results['year'] >= 1996].groupby('year')['leaderChanges'].mean().tail()"
   ]
  },
  {
   "cell_type": "code",
   "execution_count": 317,
   "id": "dc46d09a",
   "metadata": {},
   "outputs": [
    {
     "data": {
      "text/plain": [
       "<Axes: xlabel='year'>"
      ]
     },
     "execution_count": 317,
     "metadata": {},
     "output_type": "execute_result"
    },
    {
     "data": {
      "image/png": "[encoded data removed]",
      "text/plain": [
       "<Figure size 1800x360 with 1 Axes>"
      ]
     },
     "metadata": {
      "needs_background": "light"
     },
     "output_type": "display_data"
    }
   ],
   "source": [
    "results[results['year'] >= 1996].groupby('year')['leaderChanges'].mean().plot.bar(figsize=(25,5))"
   ]
  },
  {
   "cell_type": "code",
   "execution_count": 318,
   "id": "66ec633d",
   "metadata": {},
   "outputs": [
    {
     "data": {
      "text/plain": [
       "'24 seasons larger than 2023, 3 seasons smaller than 2023, 0 seasons equal to 2023'"
      ]
     },
     "execution_count": 318,
     "metadata": {},
     "output_type": "execute_result"
    }
   ],
   "source": [
    "rank23(results[results['year'] >= 1996].groupby('year')['leaderChanges'].mean())"
   ]
  },
  {
   "cell_type": "code",
   "execution_count": 319,
   "id": "919fbbea",
   "metadata": {},
   "outputs": [
    {
     "data": {
      "text/plain": [
       "<Axes: xlabel='year'>"
      ]
     },
     "execution_count": 319,
     "metadata": {},
     "output_type": "execute_result"
    },
    {
     "data": {
      "image/png": "[encoded data removed]",
      "text/plain": [
       "<Figure size 1440x360 with 1 Axes>"
      ]
     },
     "metadata": {
      "needs_background": "light"
     },
     "output_type": "display_data"
    }
   ],
   "source": [
    "(results[results['leaderChanges'] == 0].groupby('year')['raceId'].nunique() / results.groupby('year')['raceId'].nunique()).plot.bar(figsize=(20,5))"
   ]
  },
  {
   "cell_type": "code",
   "execution_count": 320,
   "id": "b703307b",
   "metadata": {},
   "outputs": [
    {
     "data": {
      "text/plain": [
       "'5 seasons larger than 2023, 22 seasons smaller than 2023, 0 seasons equal to 2023'"
      ]
     },
     "execution_count": 320,
     "metadata": {},
     "output_type": "execute_result"
    }
   ],
   "source": [
    "rank23(results[results['leaderChanges'] == 0].groupby('year')['raceId'].nunique() / results.groupby('year')['raceId'].nunique())"
   ]
  },
  {
   "cell_type": "code",
   "execution_count": 403,
   "id": "9f7c68d0",
   "metadata": {},
   "outputs": [
    {
     "data": {
      "text/plain": [
       "<Axes: xlabel='year'>"
      ]
     },
     "execution_count": 403,
     "metadata": {},
     "output_type": "execute_result"
    },
    {
     "data": {
      "image/png": "[encoded data removed]",
      "text/plain": [
       "<Figure size 1440x360 with 1 Axes>"
      ]
     },
     "metadata": {
      "needs_background": "light"
     },
     "output_type": "display_data"
    }
   ],
   "source": [
    "results[(results['leaderChanges'] == 0) & (results['position'] == 1)].groupby('year')['raceId'].nunique().plot.bar(figsize=(20,5))"
   ]
  },
  {
   "cell_type": "code",
   "execution_count": 405,
   "id": "c9e88129",
   "metadata": {},
   "outputs": [
    {
     "data": {
      "text/plain": [
       "'0 seasons larger than 2023, 20 seasons smaller than 2023, 4 seasons equal to 2023'"
      ]
     },
     "execution_count": 405,
     "metadata": {},
     "output_type": "execute_result"
    }
   ],
   "source": [
    "rank23(results[(results['leaderChanges'] == 0) & (results['position'] == 1)].groupby('year')['raceId'].nunique())"
   ]
  },
  {
   "cell_type": "markdown",
   "id": "dbc02b6c",
   "metadata": {},
   "source": [
    "## The gap between the deciding race and the end of the season"
   ]
  },
  {
   "cell_type": "code",
   "execution_count": 323,
   "id": "091e073a",
   "metadata": {},
   "outputs": [],
   "source": [
    "titles = pd.read_csv(os.path.join(\"data_raw\",\"titles.csv\"))"
   ]
  },
  {
   "cell_type": "code",
   "execution_count": 324,
   "id": "450e8018",
   "metadata": {},
   "outputs": [],
   "source": [
    "titles['year'] = titles['date'].apply(lambda x: int(x[0:4]))"
   ]
  },
  {
   "cell_type": "code",
   "execution_count": 325,
   "id": "82a7f3ca",
   "metadata": {},
   "outputs": [
    {
     "data": {
      "text/html": [
       "<div>\n",
       "<style scoped>\n",
       "    .dataframe tbody tr th:only-of-type {\n",
       "        vertical-align: middle;\n",
       "    }\n",
       "\n",
       "    .dataframe tbody tr th {\n",
       "        vertical-align: top;\n",
       "    }\n",
       "\n",
       "    .dataframe thead th {\n",
       "        text-align: right;\n",
       "    }\n",
       "</style>\n",
       "<table border=\"1\" class=\"dataframe\">\n",
       "  <thead>\n",
       "    <tr style=\"text-align: right;\">\n",
       "      <th></th>\n",
       "      <th>date</th>\n",
       "      <th>champion</th>\n",
       "      <th>year</th>\n",
       "    </tr>\n",
       "  </thead>\n",
       "  <tbody>\n",
       "    <tr>\n",
       "      <th>0</th>\n",
       "      <td>1950-09-03</td>\n",
       "      <td>Nino Farina</td>\n",
       "      <td>1950</td>\n",
       "    </tr>\n",
       "    <tr>\n",
       "      <th>1</th>\n",
       "      <td>1951-10-28</td>\n",
       "      <td>Juan Fangio</td>\n",
       "      <td>1951</td>\n",
       "    </tr>\n",
       "    <tr>\n",
       "      <th>2</th>\n",
       "      <td>1952-08-03</td>\n",
       "      <td>Alberto Ascari</td>\n",
       "      <td>1952</td>\n",
       "    </tr>\n",
       "    <tr>\n",
       "      <th>3</th>\n",
       "      <td>1953-08-23</td>\n",
       "      <td>Alberto Ascari</td>\n",
       "      <td>1953</td>\n",
       "    </tr>\n",
       "    <tr>\n",
       "      <th>4</th>\n",
       "      <td>1954-08-22</td>\n",
       "      <td>Juan Fangio</td>\n",
       "      <td>1954</td>\n",
       "    </tr>\n",
       "    <tr>\n",
       "      <th>...</th>\n",
       "      <td>...</td>\n",
       "      <td>...</td>\n",
       "      <td>...</td>\n",
       "    </tr>\n",
       "    <tr>\n",
       "      <th>69</th>\n",
       "      <td>2019-11-03</td>\n",
       "      <td>Lewis Hamilton</td>\n",
       "      <td>2019</td>\n",
       "    </tr>\n",
       "    <tr>\n",
       "      <th>70</th>\n",
       "      <td>2020-11-15</td>\n",
       "      <td>Lewis Hamilton</td>\n",
       "      <td>2020</td>\n",
       "    </tr>\n",
       "    <tr>\n",
       "      <th>71</th>\n",
       "      <td>2021-12-12</td>\n",
       "      <td>Max Verstappen</td>\n",
       "      <td>2021</td>\n",
       "    </tr>\n",
       "    <tr>\n",
       "      <th>72</th>\n",
       "      <td>2022-10-09</td>\n",
       "      <td>Max Verstappen</td>\n",
       "      <td>2022</td>\n",
       "    </tr>\n",
       "    <tr>\n",
       "      <th>73</th>\n",
       "      <td>2023-10-07</td>\n",
       "      <td>Max Verstappen</td>\n",
       "      <td>2023</td>\n",
       "    </tr>\n",
       "  </tbody>\n",
       "</table>\n",
       "<p>74 rows × 3 columns</p>\n",
       "</div>"
      ],
      "text/plain": [
       "          date        champion  year\n",
       "0   1950-09-03     Nino Farina  1950\n",
       "1   1951-10-28     Juan Fangio  1951\n",
       "2   1952-08-03  Alberto Ascari  1952\n",
       "3   1953-08-23  Alberto Ascari  1953\n",
       "4   1954-08-22     Juan Fangio  1954\n",
       "..         ...             ...   ...\n",
       "69  2019-11-03  Lewis Hamilton  2019\n",
       "70  2020-11-15  Lewis Hamilton  2020\n",
       "71  2021-12-12  Max Verstappen  2021\n",
       "72  2022-10-09  Max Verstappen  2022\n",
       "73  2023-10-07  Max Verstappen  2023\n",
       "\n",
       "[74 rows x 3 columns]"
      ]
     },
     "execution_count": 325,
     "metadata": {},
     "output_type": "execute_result"
    }
   ],
   "source": [
    "titles"
   ]
  },
  {
   "cell_type": "code",
   "execution_count": 326,
   "id": "2247670a",
   "metadata": {},
   "outputs": [],
   "source": [
    "races_raw = pd.read_csv(os.path.join('data_raw','races.csv'))"
   ]
  },
  {
   "cell_type": "code",
   "execution_count": 327,
   "id": "62ae603e",
   "metadata": {},
   "outputs": [],
   "source": [
    "races_raw = races_raw[['year','date']]"
   ]
  },
  {
   "cell_type": "code",
   "execution_count": 328,
   "id": "380f9a59",
   "metadata": {},
   "outputs": [],
   "source": [
    "seasonEnds = pd.DataFrame(races_raw.groupby('year')['date'].max())"
   ]
  },
  {
   "cell_type": "code",
   "execution_count": 329,
   "id": "bf802669",
   "metadata": {},
   "outputs": [],
   "source": [
    "seasonEnds['year'] = seasonEnds.index"
   ]
  },
  {
   "cell_type": "code",
   "execution_count": 330,
   "id": "6106e70e",
   "metadata": {},
   "outputs": [],
   "source": [
    "seasonEnds['year'] = seasonEnds['year'].astype(int)\n",
    "seasonEnds = seasonEnds.reset_index(drop=True)"
   ]
  },
  {
   "cell_type": "code",
   "execution_count": 331,
   "id": "63545b01",
   "metadata": {},
   "outputs": [
    {
     "data": {
      "text/html": [
       "<div>\n",
       "<style scoped>\n",
       "    .dataframe tbody tr th:only-of-type {\n",
       "        vertical-align: middle;\n",
       "    }\n",
       "\n",
       "    .dataframe tbody tr th {\n",
       "        vertical-align: top;\n",
       "    }\n",
       "\n",
       "    .dataframe thead th {\n",
       "        text-align: right;\n",
       "    }\n",
       "</style>\n",
       "<table border=\"1\" class=\"dataframe\">\n",
       "  <thead>\n",
       "    <tr style=\"text-align: right;\">\n",
       "      <th></th>\n",
       "      <th>date</th>\n",
       "      <th>year</th>\n",
       "    </tr>\n",
       "  </thead>\n",
       "  <tbody>\n",
       "    <tr>\n",
       "      <th>0</th>\n",
       "      <td>1950-09-03</td>\n",
       "      <td>1950</td>\n",
       "    </tr>\n",
       "    <tr>\n",
       "      <th>1</th>\n",
       "      <td>1951-10-28</td>\n",
       "      <td>1951</td>\n",
       "    </tr>\n",
       "    <tr>\n",
       "      <th>2</th>\n",
       "      <td>1952-09-07</td>\n",
       "      <td>1952</td>\n",
       "    </tr>\n",
       "    <tr>\n",
       "      <th>3</th>\n",
       "      <td>1953-09-13</td>\n",
       "      <td>1953</td>\n",
       "    </tr>\n",
       "    <tr>\n",
       "      <th>4</th>\n",
       "      <td>1954-10-24</td>\n",
       "      <td>1954</td>\n",
       "    </tr>\n",
       "    <tr>\n",
       "      <th>...</th>\n",
       "      <td>...</td>\n",
       "      <td>...</td>\n",
       "    </tr>\n",
       "    <tr>\n",
       "      <th>69</th>\n",
       "      <td>2019-12-01</td>\n",
       "      <td>2019</td>\n",
       "    </tr>\n",
       "    <tr>\n",
       "      <th>70</th>\n",
       "      <td>2020-12-13</td>\n",
       "      <td>2020</td>\n",
       "    </tr>\n",
       "    <tr>\n",
       "      <th>71</th>\n",
       "      <td>2021-12-12</td>\n",
       "      <td>2021</td>\n",
       "    </tr>\n",
       "    <tr>\n",
       "      <th>72</th>\n",
       "      <td>2022-11-20</td>\n",
       "      <td>2022</td>\n",
       "    </tr>\n",
       "    <tr>\n",
       "      <th>73</th>\n",
       "      <td>2023-11-26</td>\n",
       "      <td>2023</td>\n",
       "    </tr>\n",
       "  </tbody>\n",
       "</table>\n",
       "<p>74 rows × 2 columns</p>\n",
       "</div>"
      ],
      "text/plain": [
       "          date  year\n",
       "0   1950-09-03  1950\n",
       "1   1951-10-28  1951\n",
       "2   1952-09-07  1952\n",
       "3   1953-09-13  1953\n",
       "4   1954-10-24  1954\n",
       "..         ...   ...\n",
       "69  2019-12-01  2019\n",
       "70  2020-12-13  2020\n",
       "71  2021-12-12  2021\n",
       "72  2022-11-20  2022\n",
       "73  2023-11-26  2023\n",
       "\n",
       "[74 rows x 2 columns]"
      ]
     },
     "execution_count": 331,
     "metadata": {},
     "output_type": "execute_result"
    }
   ],
   "source": [
    "seasonEnds"
   ]
  },
  {
   "cell_type": "code",
   "execution_count": 332,
   "id": "e4d42b82",
   "metadata": {},
   "outputs": [],
   "source": [
    "titles['decidingDate'] = titles['date']\n",
    "titles = titles.drop(columns = ['date'])"
   ]
  },
  {
   "cell_type": "code",
   "execution_count": 333,
   "id": "5c5a8cf5",
   "metadata": {},
   "outputs": [],
   "source": [
    "titles = titles.merge(seasonEnds, on='year')"
   ]
  },
  {
   "cell_type": "code",
   "execution_count": 334,
   "id": "b34229d8",
   "metadata": {},
   "outputs": [],
   "source": [
    "titles = titles.rename(columns = {'date': 'lastDate'})"
   ]
  },
  {
   "cell_type": "code",
   "execution_count": 335,
   "id": "62c031fe",
   "metadata": {},
   "outputs": [],
   "source": [
    "titles['decidingDate'] = pd.to_datetime(titles['decidingDate'])"
   ]
  },
  {
   "cell_type": "code",
   "execution_count": 336,
   "id": "cbecd806",
   "metadata": {},
   "outputs": [],
   "source": [
    "titles['lastDate'] = pd.to_datetime(titles['lastDate'])"
   ]
  },
  {
   "cell_type": "code",
   "execution_count": 337,
   "id": "9ca87896",
   "metadata": {},
   "outputs": [
    {
     "data": {
      "text/html": [
       "<div>\n",
       "<style scoped>\n",
       "    .dataframe tbody tr th:only-of-type {\n",
       "        vertical-align: middle;\n",
       "    }\n",
       "\n",
       "    .dataframe tbody tr th {\n",
       "        vertical-align: top;\n",
       "    }\n",
       "\n",
       "    .dataframe thead th {\n",
       "        text-align: right;\n",
       "    }\n",
       "</style>\n",
       "<table border=\"1\" class=\"dataframe\">\n",
       "  <thead>\n",
       "    <tr style=\"text-align: right;\">\n",
       "      <th></th>\n",
       "      <th>champion</th>\n",
       "      <th>year</th>\n",
       "      <th>decidingDate</th>\n",
       "      <th>lastDate</th>\n",
       "    </tr>\n",
       "  </thead>\n",
       "  <tbody>\n",
       "    <tr>\n",
       "      <th>0</th>\n",
       "      <td>Nino Farina</td>\n",
       "      <td>1950</td>\n",
       "      <td>1950-09-03</td>\n",
       "      <td>1950-09-03</td>\n",
       "    </tr>\n",
       "    <tr>\n",
       "      <th>1</th>\n",
       "      <td>Juan Fangio</td>\n",
       "      <td>1951</td>\n",
       "      <td>1951-10-28</td>\n",
       "      <td>1951-10-28</td>\n",
       "    </tr>\n",
       "    <tr>\n",
       "      <th>2</th>\n",
       "      <td>Alberto Ascari</td>\n",
       "      <td>1952</td>\n",
       "      <td>1952-08-03</td>\n",
       "      <td>1952-09-07</td>\n",
       "    </tr>\n",
       "    <tr>\n",
       "      <th>3</th>\n",
       "      <td>Alberto Ascari</td>\n",
       "      <td>1953</td>\n",
       "      <td>1953-08-23</td>\n",
       "      <td>1953-09-13</td>\n",
       "    </tr>\n",
       "    <tr>\n",
       "      <th>4</th>\n",
       "      <td>Juan Fangio</td>\n",
       "      <td>1954</td>\n",
       "      <td>1954-08-22</td>\n",
       "      <td>1954-10-24</td>\n",
       "    </tr>\n",
       "    <tr>\n",
       "      <th>...</th>\n",
       "      <td>...</td>\n",
       "      <td>...</td>\n",
       "      <td>...</td>\n",
       "      <td>...</td>\n",
       "    </tr>\n",
       "    <tr>\n",
       "      <th>69</th>\n",
       "      <td>Lewis Hamilton</td>\n",
       "      <td>2019</td>\n",
       "      <td>2019-11-03</td>\n",
       "      <td>2019-12-01</td>\n",
       "    </tr>\n",
       "    <tr>\n",
       "      <th>70</th>\n",
       "      <td>Lewis Hamilton</td>\n",
       "      <td>2020</td>\n",
       "      <td>2020-11-15</td>\n",
       "      <td>2020-12-13</td>\n",
       "    </tr>\n",
       "    <tr>\n",
       "      <th>71</th>\n",
       "      <td>Max Verstappen</td>\n",
       "      <td>2021</td>\n",
       "      <td>2021-12-12</td>\n",
       "      <td>2021-12-12</td>\n",
       "    </tr>\n",
       "    <tr>\n",
       "      <th>72</th>\n",
       "      <td>Max Verstappen</td>\n",
       "      <td>2022</td>\n",
       "      <td>2022-10-09</td>\n",
       "      <td>2022-11-20</td>\n",
       "    </tr>\n",
       "    <tr>\n",
       "      <th>73</th>\n",
       "      <td>Max Verstappen</td>\n",
       "      <td>2023</td>\n",
       "      <td>2023-10-07</td>\n",
       "      <td>2023-11-26</td>\n",
       "    </tr>\n",
       "  </tbody>\n",
       "</table>\n",
       "<p>74 rows × 4 columns</p>\n",
       "</div>"
      ],
      "text/plain": [
       "          champion  year decidingDate   lastDate\n",
       "0      Nino Farina  1950   1950-09-03 1950-09-03\n",
       "1      Juan Fangio  1951   1951-10-28 1951-10-28\n",
       "2   Alberto Ascari  1952   1952-08-03 1952-09-07\n",
       "3   Alberto Ascari  1953   1953-08-23 1953-09-13\n",
       "4      Juan Fangio  1954   1954-08-22 1954-10-24\n",
       "..             ...   ...          ...        ...\n",
       "69  Lewis Hamilton  2019   2019-11-03 2019-12-01\n",
       "70  Lewis Hamilton  2020   2020-11-15 2020-12-13\n",
       "71  Max Verstappen  2021   2021-12-12 2021-12-12\n",
       "72  Max Verstappen  2022   2022-10-09 2022-11-20\n",
       "73  Max Verstappen  2023   2023-10-07 2023-11-26\n",
       "\n",
       "[74 rows x 4 columns]"
      ]
     },
     "execution_count": 337,
     "metadata": {},
     "output_type": "execute_result"
    }
   ],
   "source": [
    "titles"
   ]
  },
  {
   "cell_type": "code",
   "execution_count": 338,
   "id": "a48f15c7",
   "metadata": {},
   "outputs": [],
   "source": [
    "titles['gap'] = titles['lastDate'] - titles['decidingDate']"
   ]
  },
  {
   "cell_type": "code",
   "execution_count": 339,
   "id": "c6e58376",
   "metadata": {},
   "outputs": [
    {
     "data": {
      "text/plain": [
       "0     0 days\n",
       "1     0 days\n",
       "2    35 days\n",
       "3    21 days\n",
       "4    63 days\n",
       "       ...  \n",
       "69   28 days\n",
       "70   28 days\n",
       "71    0 days\n",
       "72   42 days\n",
       "73   50 days\n",
       "Name: gap, Length: 74, dtype: timedelta64[ns]"
      ]
     },
     "execution_count": 339,
     "metadata": {},
     "output_type": "execute_result"
    }
   ],
   "source": [
    "titles['gap']"
   ]
  },
  {
   "cell_type": "code",
   "execution_count": 340,
   "id": "98a62dc6",
   "metadata": {},
   "outputs": [
    {
     "data": {
      "text/html": [
       "<div>\n",
       "<style scoped>\n",
       "    .dataframe tbody tr th:only-of-type {\n",
       "        vertical-align: middle;\n",
       "    }\n",
       "\n",
       "    .dataframe tbody tr th {\n",
       "        vertical-align: top;\n",
       "    }\n",
       "\n",
       "    .dataframe thead th {\n",
       "        text-align: right;\n",
       "    }\n",
       "</style>\n",
       "<table border=\"1\" class=\"dataframe\">\n",
       "  <thead>\n",
       "    <tr style=\"text-align: right;\">\n",
       "      <th></th>\n",
       "      <th>champion</th>\n",
       "      <th>year</th>\n",
       "      <th>decidingDate</th>\n",
       "      <th>lastDate</th>\n",
       "      <th>gap</th>\n",
       "    </tr>\n",
       "  </thead>\n",
       "  <tbody>\n",
       "    <tr>\n",
       "      <th>0</th>\n",
       "      <td>Nino Farina</td>\n",
       "      <td>1950</td>\n",
       "      <td>1950-09-03</td>\n",
       "      <td>1950-09-03</td>\n",
       "      <td>0 days</td>\n",
       "    </tr>\n",
       "    <tr>\n",
       "      <th>1</th>\n",
       "      <td>Juan Fangio</td>\n",
       "      <td>1951</td>\n",
       "      <td>1951-10-28</td>\n",
       "      <td>1951-10-28</td>\n",
       "      <td>0 days</td>\n",
       "    </tr>\n",
       "    <tr>\n",
       "      <th>6</th>\n",
       "      <td>Juan Fangio</td>\n",
       "      <td>1956</td>\n",
       "      <td>1956-09-02</td>\n",
       "      <td>1956-09-02</td>\n",
       "      <td>0 days</td>\n",
       "    </tr>\n",
       "    <tr>\n",
       "      <th>8</th>\n",
       "      <td>Mike Hawthorn</td>\n",
       "      <td>1958</td>\n",
       "      <td>1958-10-19</td>\n",
       "      <td>1958-10-19</td>\n",
       "      <td>0 days</td>\n",
       "    </tr>\n",
       "    <tr>\n",
       "      <th>9</th>\n",
       "      <td>Jack Brabham</td>\n",
       "      <td>1959</td>\n",
       "      <td>1959-12-12</td>\n",
       "      <td>1959-12-12</td>\n",
       "      <td>0 days</td>\n",
       "    </tr>\n",
       "    <tr>\n",
       "      <th>12</th>\n",
       "      <td>Graham Hill</td>\n",
       "      <td>1962</td>\n",
       "      <td>1962-12-29</td>\n",
       "      <td>1962-12-29</td>\n",
       "      <td>0 days</td>\n",
       "    </tr>\n",
       "    <tr>\n",
       "      <th>14</th>\n",
       "      <td>John Surtees</td>\n",
       "      <td>1964</td>\n",
       "      <td>1964-10-25</td>\n",
       "      <td>1964-10-25</td>\n",
       "      <td>0 days</td>\n",
       "    </tr>\n",
       "    <tr>\n",
       "      <th>17</th>\n",
       "      <td>Denny Hulme</td>\n",
       "      <td>1967</td>\n",
       "      <td>1967-10-22</td>\n",
       "      <td>1967-10-22</td>\n",
       "      <td>0 days</td>\n",
       "    </tr>\n",
       "    <tr>\n",
       "      <th>18</th>\n",
       "      <td>Graham Hill</td>\n",
       "      <td>1968</td>\n",
       "      <td>1968-11-03</td>\n",
       "      <td>1968-11-03</td>\n",
       "      <td>0 days</td>\n",
       "    </tr>\n",
       "    <tr>\n",
       "      <th>24</th>\n",
       "      <td>Emerson Fittipaldi</td>\n",
       "      <td>1974</td>\n",
       "      <td>1974-10-06</td>\n",
       "      <td>1974-10-06</td>\n",
       "      <td>0 days</td>\n",
       "    </tr>\n",
       "    <tr>\n",
       "      <th>26</th>\n",
       "      <td>James Hunt</td>\n",
       "      <td>1976</td>\n",
       "      <td>1976-10-24</td>\n",
       "      <td>1976-10-24</td>\n",
       "      <td>0 days</td>\n",
       "    </tr>\n",
       "    <tr>\n",
       "      <th>31</th>\n",
       "      <td>Nelson Piquet</td>\n",
       "      <td>1981</td>\n",
       "      <td>1981-10-17</td>\n",
       "      <td>1981-10-17</td>\n",
       "      <td>0 days</td>\n",
       "    </tr>\n",
       "    <tr>\n",
       "      <th>32</th>\n",
       "      <td>Keke Rosberg</td>\n",
       "      <td>1982</td>\n",
       "      <td>1982-09-25</td>\n",
       "      <td>1982-09-25</td>\n",
       "      <td>0 days</td>\n",
       "    </tr>\n",
       "    <tr>\n",
       "      <th>33</th>\n",
       "      <td>Nelson Piquet</td>\n",
       "      <td>1983</td>\n",
       "      <td>1983-10-15</td>\n",
       "      <td>1983-10-15</td>\n",
       "      <td>0 days</td>\n",
       "    </tr>\n",
       "    <tr>\n",
       "      <th>34</th>\n",
       "      <td>Niki Lauda</td>\n",
       "      <td>1984</td>\n",
       "      <td>1984-10-21</td>\n",
       "      <td>1984-10-21</td>\n",
       "      <td>0 days</td>\n",
       "    </tr>\n",
       "    <tr>\n",
       "      <th>36</th>\n",
       "      <td>Alain Prost</td>\n",
       "      <td>1986</td>\n",
       "      <td>1986-10-26</td>\n",
       "      <td>1986-10-26</td>\n",
       "      <td>0 days</td>\n",
       "    </tr>\n",
       "    <tr>\n",
       "      <th>44</th>\n",
       "      <td>Michael Schumacher</td>\n",
       "      <td>1994</td>\n",
       "      <td>1994-11-13</td>\n",
       "      <td>1994-11-13</td>\n",
       "      <td>0 days</td>\n",
       "    </tr>\n",
       "    <tr>\n",
       "      <th>46</th>\n",
       "      <td>Damon Hill</td>\n",
       "      <td>1996</td>\n",
       "      <td>1996-10-13</td>\n",
       "      <td>1996-10-13</td>\n",
       "      <td>0 days</td>\n",
       "    </tr>\n",
       "    <tr>\n",
       "      <th>47</th>\n",
       "      <td>Jacques Villeneuve</td>\n",
       "      <td>1997</td>\n",
       "      <td>1997-10-26</td>\n",
       "      <td>1997-10-26</td>\n",
       "      <td>0 days</td>\n",
       "    </tr>\n",
       "    <tr>\n",
       "      <th>48</th>\n",
       "      <td>Mika Häkkinen</td>\n",
       "      <td>1998</td>\n",
       "      <td>1998-11-01</td>\n",
       "      <td>1998-11-01</td>\n",
       "      <td>0 days</td>\n",
       "    </tr>\n",
       "    <tr>\n",
       "      <th>49</th>\n",
       "      <td>Mika Häkkinen</td>\n",
       "      <td>1999</td>\n",
       "      <td>1999-10-31</td>\n",
       "      <td>1999-10-31</td>\n",
       "      <td>0 days</td>\n",
       "    </tr>\n",
       "    <tr>\n",
       "      <th>53</th>\n",
       "      <td>Michael Schumacher</td>\n",
       "      <td>2003</td>\n",
       "      <td>2003-10-12</td>\n",
       "      <td>2003-10-12</td>\n",
       "      <td>0 days</td>\n",
       "    </tr>\n",
       "    <tr>\n",
       "      <th>56</th>\n",
       "      <td>Fernando Alonso</td>\n",
       "      <td>2006</td>\n",
       "      <td>2006-10-22</td>\n",
       "      <td>2006-10-22</td>\n",
       "      <td>0 days</td>\n",
       "    </tr>\n",
       "    <tr>\n",
       "      <th>57</th>\n",
       "      <td>Kimi Räikkönen</td>\n",
       "      <td>2007</td>\n",
       "      <td>2007-10-21</td>\n",
       "      <td>2007-10-21</td>\n",
       "      <td>0 days</td>\n",
       "    </tr>\n",
       "    <tr>\n",
       "      <th>58</th>\n",
       "      <td>Lewis Hamilton</td>\n",
       "      <td>2008</td>\n",
       "      <td>2008-11-02</td>\n",
       "      <td>2008-11-02</td>\n",
       "      <td>0 days</td>\n",
       "    </tr>\n",
       "    <tr>\n",
       "      <th>60</th>\n",
       "      <td>Sebastian Vettel</td>\n",
       "      <td>2010</td>\n",
       "      <td>2010-11-14</td>\n",
       "      <td>2010-11-14</td>\n",
       "      <td>0 days</td>\n",
       "    </tr>\n",
       "    <tr>\n",
       "      <th>62</th>\n",
       "      <td>Sebastian Vettel</td>\n",
       "      <td>2012</td>\n",
       "      <td>2012-11-25</td>\n",
       "      <td>2012-11-25</td>\n",
       "      <td>0 days</td>\n",
       "    </tr>\n",
       "    <tr>\n",
       "      <th>64</th>\n",
       "      <td>Lewis Hamilton</td>\n",
       "      <td>2014</td>\n",
       "      <td>2014-11-23</td>\n",
       "      <td>2014-11-23</td>\n",
       "      <td>0 days</td>\n",
       "    </tr>\n",
       "    <tr>\n",
       "      <th>66</th>\n",
       "      <td>Nico Rosberg</td>\n",
       "      <td>2016</td>\n",
       "      <td>2016-11-27</td>\n",
       "      <td>2016-11-27</td>\n",
       "      <td>0 days</td>\n",
       "    </tr>\n",
       "    <tr>\n",
       "      <th>71</th>\n",
       "      <td>Max Verstappen</td>\n",
       "      <td>2021</td>\n",
       "      <td>2021-12-12</td>\n",
       "      <td>2021-12-12</td>\n",
       "      <td>0 days</td>\n",
       "    </tr>\n",
       "    <tr>\n",
       "      <th>30</th>\n",
       "      <td>Alan Jones</td>\n",
       "      <td>1980</td>\n",
       "      <td>1980-09-28</td>\n",
       "      <td>1980-10-05</td>\n",
       "      <td>7 days</td>\n",
       "    </tr>\n",
       "    <tr>\n",
       "      <th>37</th>\n",
       "      <td>Nelson Piquet</td>\n",
       "      <td>1987</td>\n",
       "      <td>1987-11-01</td>\n",
       "      <td>1987-11-15</td>\n",
       "      <td>14 days</td>\n",
       "    </tr>\n",
       "    <tr>\n",
       "      <th>38</th>\n",
       "      <td>Ayrton Senna</td>\n",
       "      <td>1988</td>\n",
       "      <td>1988-10-30</td>\n",
       "      <td>1988-11-13</td>\n",
       "      <td>14 days</td>\n",
       "    </tr>\n",
       "    <tr>\n",
       "      <th>39</th>\n",
       "      <td>Alain Prost</td>\n",
       "      <td>1989</td>\n",
       "      <td>1989-10-22</td>\n",
       "      <td>1989-11-05</td>\n",
       "      <td>14 days</td>\n",
       "    </tr>\n",
       "    <tr>\n",
       "      <th>40</th>\n",
       "      <td>Ayrton Senna</td>\n",
       "      <td>1990</td>\n",
       "      <td>1990-10-21</td>\n",
       "      <td>1990-11-04</td>\n",
       "      <td>14 days</td>\n",
       "    </tr>\n",
       "  </tbody>\n",
       "</table>\n",
       "</div>"
      ],
      "text/plain": [
       "              champion  year decidingDate   lastDate     gap\n",
       "0          Nino Farina  1950   1950-09-03 1950-09-03  0 days\n",
       "1          Juan Fangio  1951   1951-10-28 1951-10-28  0 days\n",
       "6          Juan Fangio  1956   1956-09-02 1956-09-02  0 days\n",
       "8        Mike Hawthorn  1958   1958-10-19 1958-10-19  0 days\n",
       "9         Jack Brabham  1959   1959-12-12 1959-12-12  0 days\n",
       "12         Graham Hill  1962   1962-12-29 1962-12-29  0 days\n",
       "14        John Surtees  1964   1964-10-25 1964-10-25  0 days\n",
       "17         Denny Hulme  1967   1967-10-22 1967-10-22  0 days\n",
       "18         Graham Hill  1968   1968-11-03 1968-11-03  0 days\n",
       "24  Emerson Fittipaldi  1974   1974-10-06 1974-10-06  0 days\n",
       "26          James Hunt  1976   1976-10-24 1976-10-24  0 days\n",
       "31       Nelson Piquet  1981   1981-10-17 1981-10-17  0 days\n",
       "32        Keke Rosberg  1982   1982-09-25 1982-09-25  0 days\n",
       "33       Nelson Piquet  1983   1983-10-15 1983-10-15  0 days\n",
       "34          Niki Lauda  1984   1984-10-21 1984-10-21  0 days\n",
       "36         Alain Prost  1986   1986-10-26 1986-10-26  0 days\n",
       "44  Michael Schumacher  1994   1994-11-13 1994-11-13  0 days\n",
       "46          Damon Hill  1996   1996-10-13 1996-10-13  0 days\n",
       "47  Jacques Villeneuve  1997   1997-10-26 1997-10-26  0 days\n",
       "48       Mika Häkkinen  1998   1998-11-01 1998-11-01  0 days\n",
       "49       Mika Häkkinen  1999   1999-10-31 1999-10-31  0 days\n",
       "53  Michael Schumacher  2003   2003-10-12 2003-10-12  0 days\n",
       "56     Fernando Alonso  2006   2006-10-22 2006-10-22  0 days\n",
       "57      Kimi Räikkönen  2007   2007-10-21 2007-10-21  0 days\n",
       "58      Lewis Hamilton  2008   2008-11-02 2008-11-02  0 days\n",
       "60    Sebastian Vettel  2010   2010-11-14 2010-11-14  0 days\n",
       "62    Sebastian Vettel  2012   2012-11-25 2012-11-25  0 days\n",
       "64      Lewis Hamilton  2014   2014-11-23 2014-11-23  0 days\n",
       "66        Nico Rosberg  2016   2016-11-27 2016-11-27  0 days\n",
       "71      Max Verstappen  2021   2021-12-12 2021-12-12  0 days\n",
       "30          Alan Jones  1980   1980-09-28 1980-10-05  7 days\n",
       "37       Nelson Piquet  1987   1987-11-01 1987-11-15 14 days\n",
       "38        Ayrton Senna  1988   1988-10-30 1988-11-13 14 days\n",
       "39         Alain Prost  1989   1989-10-22 1989-11-05 14 days\n",
       "40        Ayrton Senna  1990   1990-10-21 1990-11-04 14 days"
      ]
     },
     "execution_count": 340,
     "metadata": {},
     "output_type": "execute_result"
    }
   ],
   "source": [
    "titles.sort_values(by=['gap','year']).head(35)"
   ]
  },
  {
   "cell_type": "code",
   "execution_count": 341,
   "id": "92861884",
   "metadata": {
    "scrolled": true
   },
   "outputs": [
    {
     "data": {
      "text/html": [
       "<div>\n",
       "<style scoped>\n",
       "    .dataframe tbody tr th:only-of-type {\n",
       "        vertical-align: middle;\n",
       "    }\n",
       "\n",
       "    .dataframe tbody tr th {\n",
       "        vertical-align: top;\n",
       "    }\n",
       "\n",
       "    .dataframe thead th {\n",
       "        text-align: right;\n",
       "    }\n",
       "</style>\n",
       "<table border=\"1\" class=\"dataframe\">\n",
       "  <thead>\n",
       "    <tr style=\"text-align: right;\">\n",
       "      <th></th>\n",
       "      <th>champion</th>\n",
       "      <th>year</th>\n",
       "      <th>decidingDate</th>\n",
       "      <th>lastDate</th>\n",
       "      <th>gap</th>\n",
       "    </tr>\n",
       "  </thead>\n",
       "  <tbody>\n",
       "    <tr>\n",
       "      <th>20</th>\n",
       "      <td>Jochen Rindt</td>\n",
       "      <td>1970</td>\n",
       "      <td>1970-10-04</td>\n",
       "      <td>1970-10-25</td>\n",
       "      <td>21 days</td>\n",
       "    </tr>\n",
       "    <tr>\n",
       "      <th>27</th>\n",
       "      <td>Niki Lauda</td>\n",
       "      <td>1977</td>\n",
       "      <td>1977-10-02</td>\n",
       "      <td>1977-10-23</td>\n",
       "      <td>21 days</td>\n",
       "    </tr>\n",
       "    <tr>\n",
       "      <th>45</th>\n",
       "      <td>Michael Schumacher</td>\n",
       "      <td>1995</td>\n",
       "      <td>1995-10-22</td>\n",
       "      <td>1995-11-12</td>\n",
       "      <td>21 days</td>\n",
       "    </tr>\n",
       "    <tr>\n",
       "      <th>55</th>\n",
       "      <td>Fernando Alonso</td>\n",
       "      <td>2005</td>\n",
       "      <td>2005-09-25</td>\n",
       "      <td>2005-10-16</td>\n",
       "      <td>21 days</td>\n",
       "    </tr>\n",
       "    <tr>\n",
       "      <th>11</th>\n",
       "      <td>Phil Hill</td>\n",
       "      <td>1961</td>\n",
       "      <td>1961-09-10</td>\n",
       "      <td>1961-10-08</td>\n",
       "      <td>28 days</td>\n",
       "    </tr>\n",
       "    <tr>\n",
       "      <th>22</th>\n",
       "      <td>Emerson Fittipaldi</td>\n",
       "      <td>1972</td>\n",
       "      <td>1972-09-10</td>\n",
       "      <td>1972-10-08</td>\n",
       "      <td>28 days</td>\n",
       "    </tr>\n",
       "    <tr>\n",
       "      <th>23</th>\n",
       "      <td>Jackie Stewart</td>\n",
       "      <td>1973</td>\n",
       "      <td>1973-09-09</td>\n",
       "      <td>1973-10-07</td>\n",
       "      <td>28 days</td>\n",
       "    </tr>\n",
       "    <tr>\n",
       "      <th>25</th>\n",
       "      <td>Niki Lauda</td>\n",
       "      <td>1975</td>\n",
       "      <td>1975-09-07</td>\n",
       "      <td>1975-10-05</td>\n",
       "      <td>28 days</td>\n",
       "    </tr>\n",
       "    <tr>\n",
       "      <th>28</th>\n",
       "      <td>Mario Andretti</td>\n",
       "      <td>1978</td>\n",
       "      <td>1978-09-10</td>\n",
       "      <td>1978-10-08</td>\n",
       "      <td>28 days</td>\n",
       "    </tr>\n",
       "    <tr>\n",
       "      <th>29</th>\n",
       "      <td>Jody Scheckter</td>\n",
       "      <td>1979</td>\n",
       "      <td>1979-09-09</td>\n",
       "      <td>1979-10-07</td>\n",
       "      <td>28 days</td>\n",
       "    </tr>\n",
       "    <tr>\n",
       "      <th>35</th>\n",
       "      <td>Alain Prost</td>\n",
       "      <td>1985</td>\n",
       "      <td>1985-10-06</td>\n",
       "      <td>1985-11-03</td>\n",
       "      <td>28 days</td>\n",
       "    </tr>\n",
       "    <tr>\n",
       "      <th>63</th>\n",
       "      <td>Sebastian Vettel</td>\n",
       "      <td>2013</td>\n",
       "      <td>2013-10-27</td>\n",
       "      <td>2013-11-24</td>\n",
       "      <td>28 days</td>\n",
       "    </tr>\n",
       "    <tr>\n",
       "      <th>67</th>\n",
       "      <td>Lewis Hamilton</td>\n",
       "      <td>2017</td>\n",
       "      <td>2017-10-29</td>\n",
       "      <td>2017-11-26</td>\n",
       "      <td>28 days</td>\n",
       "    </tr>\n",
       "    <tr>\n",
       "      <th>68</th>\n",
       "      <td>Lewis Hamilton</td>\n",
       "      <td>2018</td>\n",
       "      <td>2018-10-28</td>\n",
       "      <td>2018-11-25</td>\n",
       "      <td>28 days</td>\n",
       "    </tr>\n",
       "    <tr>\n",
       "      <th>69</th>\n",
       "      <td>Lewis Hamilton</td>\n",
       "      <td>2019</td>\n",
       "      <td>2019-11-03</td>\n",
       "      <td>2019-12-01</td>\n",
       "      <td>28 days</td>\n",
       "    </tr>\n",
       "    <tr>\n",
       "      <th>70</th>\n",
       "      <td>Lewis Hamilton</td>\n",
       "      <td>2020</td>\n",
       "      <td>2020-11-15</td>\n",
       "      <td>2020-12-13</td>\n",
       "      <td>28 days</td>\n",
       "    </tr>\n",
       "    <tr>\n",
       "      <th>2</th>\n",
       "      <td>Alberto Ascari</td>\n",
       "      <td>1952</td>\n",
       "      <td>1952-08-03</td>\n",
       "      <td>1952-09-07</td>\n",
       "      <td>35 days</td>\n",
       "    </tr>\n",
       "    <tr>\n",
       "      <th>7</th>\n",
       "      <td>Juan Fangio</td>\n",
       "      <td>1957</td>\n",
       "      <td>1957-08-04</td>\n",
       "      <td>1957-09-08</td>\n",
       "      <td>35 days</td>\n",
       "    </tr>\n",
       "    <tr>\n",
       "      <th>65</th>\n",
       "      <td>Lewis Hamilton</td>\n",
       "      <td>2015</td>\n",
       "      <td>2015-10-25</td>\n",
       "      <td>2015-11-29</td>\n",
       "      <td>35 days</td>\n",
       "    </tr>\n",
       "    <tr>\n",
       "      <th>19</th>\n",
       "      <td>Jackie Stewart</td>\n",
       "      <td>1969</td>\n",
       "      <td>1969-09-07</td>\n",
       "      <td>1969-10-19</td>\n",
       "      <td>42 days</td>\n",
       "    </tr>\n",
       "    <tr>\n",
       "      <th>43</th>\n",
       "      <td>Alain Prost</td>\n",
       "      <td>1993</td>\n",
       "      <td>1993-09-26</td>\n",
       "      <td>1993-11-07</td>\n",
       "      <td>42 days</td>\n",
       "    </tr>\n",
       "    <tr>\n",
       "      <th>72</th>\n",
       "      <td>Max Verstappen</td>\n",
       "      <td>2022</td>\n",
       "      <td>2022-10-09</td>\n",
       "      <td>2022-11-20</td>\n",
       "      <td>42 days</td>\n",
       "    </tr>\n",
       "    <tr>\n",
       "      <th>16</th>\n",
       "      <td>Jack Brabham</td>\n",
       "      <td>1966</td>\n",
       "      <td>1966-09-04</td>\n",
       "      <td>1966-10-23</td>\n",
       "      <td>49 days</td>\n",
       "    </tr>\n",
       "    <tr>\n",
       "      <th>21</th>\n",
       "      <td>Jackie Stewart</td>\n",
       "      <td>1971</td>\n",
       "      <td>1971-08-15</td>\n",
       "      <td>1971-10-03</td>\n",
       "      <td>49 days</td>\n",
       "    </tr>\n",
       "    <tr>\n",
       "      <th>61</th>\n",
       "      <td>Sebastian Vettel</td>\n",
       "      <td>2011</td>\n",
       "      <td>2011-10-09</td>\n",
       "      <td>2011-11-27</td>\n",
       "      <td>49 days</td>\n",
       "    </tr>\n",
       "    <tr>\n",
       "      <th>73</th>\n",
       "      <td>Max Verstappen</td>\n",
       "      <td>2023</td>\n",
       "      <td>2023-10-07</td>\n",
       "      <td>2023-11-26</td>\n",
       "      <td>50 days</td>\n",
       "    </tr>\n",
       "    <tr>\n",
       "      <th>51</th>\n",
       "      <td>Michael Schumacher</td>\n",
       "      <td>2001</td>\n",
       "      <td>2001-08-19</td>\n",
       "      <td>2001-10-14</td>\n",
       "      <td>56 days</td>\n",
       "    </tr>\n",
       "    <tr>\n",
       "      <th>54</th>\n",
       "      <td>Michael Schumacher</td>\n",
       "      <td>2004</td>\n",
       "      <td>2004-08-29</td>\n",
       "      <td>2004-10-24</td>\n",
       "      <td>56 days</td>\n",
       "    </tr>\n",
       "    <tr>\n",
       "      <th>5</th>\n",
       "      <td>Juan Fangio</td>\n",
       "      <td>1955</td>\n",
       "      <td>1955-07-16</td>\n",
       "      <td>1955-09-11</td>\n",
       "      <td>57 days</td>\n",
       "    </tr>\n",
       "    <tr>\n",
       "      <th>4</th>\n",
       "      <td>Juan Fangio</td>\n",
       "      <td>1954</td>\n",
       "      <td>1954-08-22</td>\n",
       "      <td>1954-10-24</td>\n",
       "      <td>63 days</td>\n",
       "    </tr>\n",
       "    <tr>\n",
       "      <th>10</th>\n",
       "      <td>Jack Brabham</td>\n",
       "      <td>1960</td>\n",
       "      <td>1960-09-04</td>\n",
       "      <td>1960-11-20</td>\n",
       "      <td>77 days</td>\n",
       "    </tr>\n",
       "    <tr>\n",
       "      <th>15</th>\n",
       "      <td>Jim Clark</td>\n",
       "      <td>1965</td>\n",
       "      <td>1965-08-01</td>\n",
       "      <td>1965-10-24</td>\n",
       "      <td>84 days</td>\n",
       "    </tr>\n",
       "    <tr>\n",
       "      <th>42</th>\n",
       "      <td>Nigel Mansell</td>\n",
       "      <td>1992</td>\n",
       "      <td>1992-08-16</td>\n",
       "      <td>1992-11-08</td>\n",
       "      <td>84 days</td>\n",
       "    </tr>\n",
       "    <tr>\n",
       "      <th>52</th>\n",
       "      <td>Michael Schumacher</td>\n",
       "      <td>2002</td>\n",
       "      <td>2002-07-21</td>\n",
       "      <td>2002-10-13</td>\n",
       "      <td>84 days</td>\n",
       "    </tr>\n",
       "    <tr>\n",
       "      <th>13</th>\n",
       "      <td>Jim Clark</td>\n",
       "      <td>1963</td>\n",
       "      <td>1963-09-08</td>\n",
       "      <td>1963-12-28</td>\n",
       "      <td>111 days</td>\n",
       "    </tr>\n",
       "  </tbody>\n",
       "</table>\n",
       "</div>"
      ],
      "text/plain": [
       "              champion  year decidingDate   lastDate      gap\n",
       "20        Jochen Rindt  1970   1970-10-04 1970-10-25  21 days\n",
       "27          Niki Lauda  1977   1977-10-02 1977-10-23  21 days\n",
       "45  Michael Schumacher  1995   1995-10-22 1995-11-12  21 days\n",
       "55     Fernando Alonso  2005   2005-09-25 2005-10-16  21 days\n",
       "11           Phil Hill  1961   1961-09-10 1961-10-08  28 days\n",
       "22  Emerson Fittipaldi  1972   1972-09-10 1972-10-08  28 days\n",
       "23      Jackie Stewart  1973   1973-09-09 1973-10-07  28 days\n",
       "25          Niki Lauda  1975   1975-09-07 1975-10-05  28 days\n",
       "28      Mario Andretti  1978   1978-09-10 1978-10-08  28 days\n",
       "29      Jody Scheckter  1979   1979-09-09 1979-10-07  28 days\n",
       "35         Alain Prost  1985   1985-10-06 1985-11-03  28 days\n",
       "63    Sebastian Vettel  2013   2013-10-27 2013-11-24  28 days\n",
       "67      Lewis Hamilton  2017   2017-10-29 2017-11-26  28 days\n",
       "68      Lewis Hamilton  2018   2018-10-28 2018-11-25  28 days\n",
       "69      Lewis Hamilton  2019   2019-11-03 2019-12-01  28 days\n",
       "70      Lewis Hamilton  2020   2020-11-15 2020-12-13  28 days\n",
       "2       Alberto Ascari  1952   1952-08-03 1952-09-07  35 days\n",
       "7          Juan Fangio  1957   1957-08-04 1957-09-08  35 days\n",
       "65      Lewis Hamilton  2015   2015-10-25 2015-11-29  35 days\n",
       "19      Jackie Stewart  1969   1969-09-07 1969-10-19  42 days\n",
       "43         Alain Prost  1993   1993-09-26 1993-11-07  42 days\n",
       "72      Max Verstappen  2022   2022-10-09 2022-11-20  42 days\n",
       "16        Jack Brabham  1966   1966-09-04 1966-10-23  49 days\n",
       "21      Jackie Stewart  1971   1971-08-15 1971-10-03  49 days\n",
       "61    Sebastian Vettel  2011   2011-10-09 2011-11-27  49 days\n",
       "73      Max Verstappen  2023   2023-10-07 2023-11-26  50 days\n",
       "51  Michael Schumacher  2001   2001-08-19 2001-10-14  56 days\n",
       "54  Michael Schumacher  2004   2004-08-29 2004-10-24  56 days\n",
       "5          Juan Fangio  1955   1955-07-16 1955-09-11  57 days\n",
       "4          Juan Fangio  1954   1954-08-22 1954-10-24  63 days\n",
       "10        Jack Brabham  1960   1960-09-04 1960-11-20  77 days\n",
       "15           Jim Clark  1965   1965-08-01 1965-10-24  84 days\n",
       "42       Nigel Mansell  1992   1992-08-16 1992-11-08  84 days\n",
       "52  Michael Schumacher  2002   2002-07-21 2002-10-13  84 days\n",
       "13           Jim Clark  1963   1963-09-08 1963-12-28 111 days"
      ]
     },
     "execution_count": 341,
     "metadata": {},
     "output_type": "execute_result"
    }
   ],
   "source": [
    "titles.sort_values(by=['gap','year']).tail(35)"
   ]
  },
  {
   "cell_type": "code",
   "execution_count": 342,
   "id": "4d596f9b",
   "metadata": {},
   "outputs": [],
   "source": [
    "titles.index = titles['year']"
   ]
  },
  {
   "cell_type": "code",
   "execution_count": 343,
   "id": "da58c406",
   "metadata": {},
   "outputs": [],
   "source": [
    "titles['days'] = titles['gap'].dt.days"
   ]
  },
  {
   "cell_type": "code",
   "execution_count": 344,
   "id": "801d57f0",
   "metadata": {
    "scrolled": true
   },
   "outputs": [
    {
     "data": {
      "text/plain": [
       "<Axes: xlabel='year'>"
      ]
     },
     "execution_count": 344,
     "metadata": {},
     "output_type": "execute_result"
    },
    {
     "data": {
      "image/png": "[encoded data removed]",
      "text/plain": [
       "<Figure size 1440x360 with 1 Axes>"
      ]
     },
     "metadata": {
      "needs_background": "light"
     },
     "output_type": "display_data"
    }
   ],
   "source": [
    "titles['days'].plot.bar(figsize=(20,5))"
   ]
  },
  {
   "cell_type": "code",
   "execution_count": 345,
   "id": "b04f810f",
   "metadata": {},
   "outputs": [],
   "source": [
    "races_raw['date'] = pd.to_datetime(races_raw['date'])"
   ]
  },
  {
   "cell_type": "code",
   "execution_count": 346,
   "id": "83ca2077",
   "metadata": {},
   "outputs": [
    {
     "data": {
      "text/plain": [
       "0      2009-03-29\n",
       "1      2009-04-05\n",
       "2      2009-04-19\n",
       "3      2009-04-26\n",
       "4      2009-05-10\n",
       "          ...    \n",
       "1096   2023-10-22\n",
       "1097   2023-10-29\n",
       "1098   2023-11-05\n",
       "1099   2023-11-19\n",
       "1100   2023-11-26\n",
       "Name: date, Length: 1101, dtype: datetime64[ns]"
      ]
     },
     "execution_count": 346,
     "metadata": {},
     "output_type": "execute_result"
    }
   ],
   "source": [
    "races_raw['date']"
   ]
  },
  {
   "cell_type": "code",
   "execution_count": 347,
   "id": "d505a8fe",
   "metadata": {},
   "outputs": [],
   "source": [
    "def howmanyleft(date1, date2):\n",
    "    w2df = races_raw[(races_raw['date'] > pd.to_datetime(date1)) & (races_raw['date'] <= pd.to_datetime(date2))]\n",
    "    return len(w2df['date'].drop_duplicates())"
   ]
  },
  {
   "cell_type": "code",
   "execution_count": 348,
   "id": "9e28acad",
   "metadata": {},
   "outputs": [],
   "source": [
    "titles['racesLeft'] = titles.apply(lambda row: howmanyleft(row['decidingDate'], row['lastDate']), axis = 1)"
   ]
  },
  {
   "cell_type": "code",
   "execution_count": 408,
   "id": "ded5f36c",
   "metadata": {},
   "outputs": [],
   "source": [
    "races_total = pd.Series(results.groupby('year')['raceId'].nunique(), name='racesTotal')"
   ]
  },
  {
   "cell_type": "code",
   "execution_count": 419,
   "id": "d27a0ee2",
   "metadata": {},
   "outputs": [],
   "source": [
    "titles = titles.reset_index(drop=True).merge(races_total, on='year')"
   ]
  },
  {
   "cell_type": "code",
   "execution_count": 420,
   "id": "fac55c38",
   "metadata": {},
   "outputs": [],
   "source": [
    "titles['ratio'] = titles['racesLeft'] / titles['racesTotal']"
   ]
  },
  {
   "cell_type": "code",
   "execution_count": 422,
   "id": "b5cf880f",
   "metadata": {},
   "outputs": [
    {
     "data": {
      "text/html": [
       "<div>\n",
       "<style scoped>\n",
       "    .dataframe tbody tr th:only-of-type {\n",
       "        vertical-align: middle;\n",
       "    }\n",
       "\n",
       "    .dataframe tbody tr th {\n",
       "        vertical-align: top;\n",
       "    }\n",
       "\n",
       "    .dataframe thead th {\n",
       "        text-align: right;\n",
       "    }\n",
       "</style>\n",
       "<table border=\"1\" class=\"dataframe\">\n",
       "  <thead>\n",
       "    <tr style=\"text-align: right;\">\n",
       "      <th></th>\n",
       "      <th>champion</th>\n",
       "      <th>year</th>\n",
       "      <th>decidingDate</th>\n",
       "      <th>lastDate</th>\n",
       "      <th>gap</th>\n",
       "      <th>days</th>\n",
       "      <th>racesLeft</th>\n",
       "      <th>racesTotal</th>\n",
       "      <th>ratio</th>\n",
       "    </tr>\n",
       "  </thead>\n",
       "  <tbody>\n",
       "    <tr>\n",
       "      <th>52</th>\n",
       "      <td>Michael Schumacher</td>\n",
       "      <td>2002</td>\n",
       "      <td>2002-07-21</td>\n",
       "      <td>2002-10-13</td>\n",
       "      <td>84 days</td>\n",
       "      <td>84</td>\n",
       "      <td>6</td>\n",
       "      <td>17</td>\n",
       "      <td>0.352941</td>\n",
       "    </tr>\n",
       "    <tr>\n",
       "      <th>42</th>\n",
       "      <td>Nigel Mansell</td>\n",
       "      <td>1992</td>\n",
       "      <td>1992-08-16</td>\n",
       "      <td>1992-11-08</td>\n",
       "      <td>84 days</td>\n",
       "      <td>84</td>\n",
       "      <td>5</td>\n",
       "      <td>16</td>\n",
       "      <td>0.312500</td>\n",
       "    </tr>\n",
       "    <tr>\n",
       "      <th>13</th>\n",
       "      <td>Jim Clark</td>\n",
       "      <td>1963</td>\n",
       "      <td>1963-09-08</td>\n",
       "      <td>1963-12-28</td>\n",
       "      <td>111 days</td>\n",
       "      <td>111</td>\n",
       "      <td>3</td>\n",
       "      <td>10</td>\n",
       "      <td>0.300000</td>\n",
       "    </tr>\n",
       "    <tr>\n",
       "      <th>15</th>\n",
       "      <td>Jim Clark</td>\n",
       "      <td>1965</td>\n",
       "      <td>1965-08-01</td>\n",
       "      <td>1965-10-24</td>\n",
       "      <td>84 days</td>\n",
       "      <td>84</td>\n",
       "      <td>3</td>\n",
       "      <td>10</td>\n",
       "      <td>0.300000</td>\n",
       "    </tr>\n",
       "    <tr>\n",
       "      <th>73</th>\n",
       "      <td>Max Verstappen</td>\n",
       "      <td>2023</td>\n",
       "      <td>2023-10-07</td>\n",
       "      <td>2023-11-26</td>\n",
       "      <td>50 days</td>\n",
       "      <td>50</td>\n",
       "      <td>6</td>\n",
       "      <td>22</td>\n",
       "      <td>0.272727</td>\n",
       "    </tr>\n",
       "    <tr>\n",
       "      <th>...</th>\n",
       "      <td>...</td>\n",
       "      <td>...</td>\n",
       "      <td>...</td>\n",
       "      <td>...</td>\n",
       "      <td>...</td>\n",
       "      <td>...</td>\n",
       "      <td>...</td>\n",
       "      <td>...</td>\n",
       "      <td>...</td>\n",
       "    </tr>\n",
       "    <tr>\n",
       "      <th>34</th>\n",
       "      <td>Niki Lauda</td>\n",
       "      <td>1984</td>\n",
       "      <td>1984-10-21</td>\n",
       "      <td>1984-10-21</td>\n",
       "      <td>0 days</td>\n",
       "      <td>0</td>\n",
       "      <td>0</td>\n",
       "      <td>16</td>\n",
       "      <td>0.000000</td>\n",
       "    </tr>\n",
       "    <tr>\n",
       "      <th>44</th>\n",
       "      <td>Michael Schumacher</td>\n",
       "      <td>1994</td>\n",
       "      <td>1994-11-13</td>\n",
       "      <td>1994-11-13</td>\n",
       "      <td>0 days</td>\n",
       "      <td>0</td>\n",
       "      <td>0</td>\n",
       "      <td>16</td>\n",
       "      <td>0.000000</td>\n",
       "    </tr>\n",
       "    <tr>\n",
       "      <th>36</th>\n",
       "      <td>Alain Prost</td>\n",
       "      <td>1986</td>\n",
       "      <td>1986-10-26</td>\n",
       "      <td>1986-10-26</td>\n",
       "      <td>0 days</td>\n",
       "      <td>0</td>\n",
       "      <td>0</td>\n",
       "      <td>16</td>\n",
       "      <td>0.000000</td>\n",
       "    </tr>\n",
       "    <tr>\n",
       "      <th>1</th>\n",
       "      <td>Juan Fangio</td>\n",
       "      <td>1951</td>\n",
       "      <td>1951-10-28</td>\n",
       "      <td>1951-10-28</td>\n",
       "      <td>0 days</td>\n",
       "      <td>0</td>\n",
       "      <td>0</td>\n",
       "      <td>8</td>\n",
       "      <td>0.000000</td>\n",
       "    </tr>\n",
       "    <tr>\n",
       "      <th>0</th>\n",
       "      <td>Nino Farina</td>\n",
       "      <td>1950</td>\n",
       "      <td>1950-09-03</td>\n",
       "      <td>1950-09-03</td>\n",
       "      <td>0 days</td>\n",
       "      <td>0</td>\n",
       "      <td>0</td>\n",
       "      <td>7</td>\n",
       "      <td>0.000000</td>\n",
       "    </tr>\n",
       "  </tbody>\n",
       "</table>\n",
       "<p>74 rows × 9 columns</p>\n",
       "</div>"
      ],
      "text/plain": [
       "              champion  year decidingDate   lastDate      gap  days  \\\n",
       "52  Michael Schumacher  2002   2002-07-21 2002-10-13  84 days    84   \n",
       "42       Nigel Mansell  1992   1992-08-16 1992-11-08  84 days    84   \n",
       "13           Jim Clark  1963   1963-09-08 1963-12-28 111 days   111   \n",
       "15           Jim Clark  1965   1965-08-01 1965-10-24  84 days    84   \n",
       "73      Max Verstappen  2023   2023-10-07 2023-11-26  50 days    50   \n",
       "..                 ...   ...          ...        ...      ...   ...   \n",
       "34          Niki Lauda  1984   1984-10-21 1984-10-21   0 days     0   \n",
       "44  Michael Schumacher  1994   1994-11-13 1994-11-13   0 days     0   \n",
       "36         Alain Prost  1986   1986-10-26 1986-10-26   0 days     0   \n",
       "1          Juan Fangio  1951   1951-10-28 1951-10-28   0 days     0   \n",
       "0          Nino Farina  1950   1950-09-03 1950-09-03   0 days     0   \n",
       "\n",
       "    racesLeft  racesTotal     ratio  \n",
       "52          6          17  0.352941  \n",
       "42          5          16  0.312500  \n",
       "13          3          10  0.300000  \n",
       "15          3          10  0.300000  \n",
       "73          6          22  0.272727  \n",
       "..        ...         ...       ...  \n",
       "34          0          16  0.000000  \n",
       "44          0          16  0.000000  \n",
       "36          0          16  0.000000  \n",
       "1           0           8  0.000000  \n",
       "0           0           7  0.000000  \n",
       "\n",
       "[74 rows x 9 columns]"
      ]
     },
     "execution_count": 422,
     "metadata": {},
     "output_type": "execute_result"
    }
   ],
   "source": [
    "titles.sort_values(by='ratio',ascending=False)"
   ]
  },
  {
   "cell_type": "code",
   "execution_count": 349,
   "id": "806b424a",
   "metadata": {
    "scrolled": true
   },
   "outputs": [
    {
     "data": {
      "text/plain": [
       "<Axes: xlabel='year'>"
      ]
     },
     "execution_count": 349,
     "metadata": {},
     "output_type": "execute_result"
    },
    {
     "data": {
      "image/png": "[encoded data removed]",
      "text/plain": [
       "<Figure size 1656x360 with 1 Axes>"
      ]
     },
     "metadata": {
      "needs_background": "light"
     },
     "output_type": "display_data"
    }
   ],
   "source": [
    "titles['racesLeft'].plot.bar(figsize=(23,5))"
   ]
  },
  {
   "cell_type": "code",
   "execution_count": 350,
   "id": "d8dceebb",
   "metadata": {},
   "outputs": [
    {
     "data": {
      "text/plain": [
       "'0 seasons larger than 2023, 72 seasons smaller than 2023, 1 seasons equal to 2023'"
      ]
     },
     "execution_count": 350,
     "metadata": {},
     "output_type": "execute_result"
    }
   ],
   "source": [
    "rank23(titles['racesLeft'])"
   ]
  },
  {
   "cell_type": "markdown",
   "id": "0d2852fe",
   "metadata": {},
   "source": [
    "## Maiden wins, podiums and points"
   ]
  },
  {
   "cell_type": "code",
   "execution_count": 427,
   "id": "312c7345",
   "metadata": {},
   "outputs": [],
   "source": [
    "years = results['year'].sort_values().dropna().drop_duplicates().to_list()"
   ]
  },
  {
   "cell_type": "code",
   "execution_count": 428,
   "id": "413363d5",
   "metadata": {},
   "outputs": [
    {
     "data": {
      "text/plain": [
       "<Axes: xlabel='year'>"
      ]
     },
     "execution_count": 428,
     "metadata": {},
     "output_type": "execute_result"
    },
    {
     "data": {
      "image/png": "[encoded data removed]",
      "text/plain": [
       "<Figure size 1800x360 with 1 Axes>"
      ]
     },
     "metadata": {
      "needs_background": "light"
     },
     "output_type": "display_data"
    }
   ],
   "source": [
    "pd.DataFrame(results[results['position'] == 1].groupby('name')['year'].min()).groupby('year').size().reindex(index=years).plot.bar(figsize=(25,5))"
   ]
  },
  {
   "cell_type": "code",
   "execution_count": 429,
   "id": "4cee971b",
   "metadata": {},
   "outputs": [
    {
     "data": {
      "text/plain": [
       "name\n",
       "Carlos Sainz        2022.0\n",
       "George Russell      2022.0\n",
       "Esteban Ocon        2021.0\n",
       "Pierre Gasly        2020.0\n",
       "Sergio Pérez        2020.0\n",
       "Charles Leclerc     2019.0\n",
       "Valtteri Bottas     2017.0\n",
       "Max Verstappen      2016.0\n",
       "Daniel Ricciardo    2014.0\n",
       "Nico Rosberg        2012.0\n",
       "Name: year, dtype: float64"
      ]
     },
     "execution_count": 429,
     "metadata": {},
     "output_type": "execute_result"
    }
   ],
   "source": [
    "results[results['position'] == 1].groupby('name')['year'].min().nlargest(10)"
   ]
  },
  {
   "cell_type": "code",
   "execution_count": 430,
   "id": "bb8ce216",
   "metadata": {},
   "outputs": [
    {
     "data": {
      "text/plain": [
       "<Axes: xlabel='year'>"
      ]
     },
     "execution_count": 430,
     "metadata": {},
     "output_type": "execute_result"
    },
    {
     "data": {
      "image/png": "[encoded data removed]",
      "text/plain": [
       "<Figure size 1800x360 with 1 Axes>"
      ]
     },
     "metadata": {
      "needs_background": "light"
     },
     "output_type": "display_data"
    }
   ],
   "source": [
    "pd.DataFrame(results[results['position'] <= 3].groupby('name')['year'].min()).groupby('year').size().reindex(index=years).plot.bar(figsize=(25,5))"
   ]
  },
  {
   "cell_type": "code",
   "execution_count": 431,
   "id": "e209b3d9",
   "metadata": {},
   "outputs": [
    {
     "data": {
      "text/plain": [
       "<Axes: xlabel='year'>"
      ]
     },
     "execution_count": 431,
     "metadata": {},
     "output_type": "execute_result"
    },
    {
     "data": {
      "image/png": "[encoded data removed]",
      "text/plain": [
       "<Figure size 1800x360 with 1 Axes>"
      ]
     },
     "metadata": {
      "needs_background": "light"
     },
     "output_type": "display_data"
    }
   ],
   "source": [
    "pd.DataFrame(results[results['position'] <= 6].groupby('name')['year'].min()).groupby('year').size().reindex(index=years).plot.bar(figsize=(25,5))"
   ]
  },
  {
   "cell_type": "code",
   "execution_count": 356,
   "id": "30f569ca",
   "metadata": {},
   "outputs": [
    {
     "data": {
      "text/plain": [
       "'63 seasons larger than 2023, 2 seasons smaller than 2023, 8 seasons equal to 2023'"
      ]
     },
     "execution_count": 356,
     "metadata": {},
     "output_type": "execute_result"
    }
   ],
   "source": [
    "rank23(pd.DataFrame(results[results['position'] <= 6].groupby('name')['year'].min()).groupby('year').size().reindex(index=years))"
   ]
  },
  {
   "cell_type": "code",
   "execution_count": 432,
   "id": "4a562963",
   "metadata": {},
   "outputs": [
    {
     "data": {
      "text/plain": [
       "<Axes: xlabel='year'>"
      ]
     },
     "execution_count": 432,
     "metadata": {},
     "output_type": "execute_result"
    },
    {
     "data": {
      "image/png": "[encoded data removed]",
      "text/plain": [
       "<Figure size 1800x360 with 1 Axes>"
      ]
     },
     "metadata": {
      "needs_background": "light"
     },
     "output_type": "display_data"
    }
   ],
   "source": [
    "pd.DataFrame(results[results['position'] <= 10].groupby('name')['year'].min()).groupby('year').size().reindex(index=years).plot.bar(figsize=(25,5))"
   ]
  },
  {
   "cell_type": "code",
   "execution_count": 359,
   "id": "f0b68cb8",
   "metadata": {},
   "outputs": [
    {
     "data": {
      "text/plain": [
       "<Axes: xlabel='year'>"
      ]
     },
     "execution_count": 359,
     "metadata": {},
     "output_type": "execute_result"
    },
    {
     "data": {
      "image/png": "[encoded data removed]",
      "text/plain": [
       "<Figure size 1800x360 with 1 Axes>"
      ]
     },
     "metadata": {
      "needs_background": "light"
     },
     "output_type": "display_data"
    }
   ],
   "source": [
    "pd.DataFrame(results[results['points'] >= 0].groupby('name')['year'].min()).groupby('year').size().reindex(index=years).plot.bar(figsize=(25,5))"
   ]
  },
  {
   "cell_type": "code",
   "execution_count": 360,
   "id": "a6473b3a",
   "metadata": {},
   "outputs": [
    {
     "data": {
      "text/plain": [
       "year\n",
       "1950.0    81.0\n",
       "1951.0    32.0\n",
       "1952.0    53.0\n",
       "1953.0    33.0\n",
       "1954.0    21.0\n",
       "          ... \n",
       "2020.0     3.0\n",
       "2021.0     3.0\n",
       "2022.0     2.0\n",
       "2023.0     3.0\n",
       "NaN        NaN\n",
       "Length: 75, dtype: float64"
      ]
     },
     "execution_count": 360,
     "metadata": {},
     "output_type": "execute_result"
    }
   ],
   "source": [
    "pd.DataFrame(results[results['points'] >= 0].groupby('name')['year'].min()).groupby('year').size().reindex(index=years)"
   ]
  },
  {
   "cell_type": "code",
   "execution_count": 361,
   "id": "8d3c7ebc",
   "metadata": {},
   "outputs": [
    {
     "data": {
      "text/html": [
       "<div>\n",
       "<style scoped>\n",
       "    .dataframe tbody tr th:only-of-type {\n",
       "        vertical-align: middle;\n",
       "    }\n",
       "\n",
       "    .dataframe tbody tr th {\n",
       "        vertical-align: top;\n",
       "    }\n",
       "\n",
       "    .dataframe thead th {\n",
       "        text-align: right;\n",
       "    }\n",
       "</style>\n",
       "<table border=\"1\" class=\"dataframe\">\n",
       "  <thead>\n",
       "    <tr style=\"text-align: right;\">\n",
       "      <th></th>\n",
       "      <th>year</th>\n",
       "    </tr>\n",
       "    <tr>\n",
       "      <th>name</th>\n",
       "      <th></th>\n",
       "    </tr>\n",
       "  </thead>\n",
       "  <tbody>\n",
       "    <tr>\n",
       "      <th>Lee Wallard</th>\n",
       "      <td>1950.0</td>\n",
       "    </tr>\n",
       "    <tr>\n",
       "      <th>Jimmy Davies</th>\n",
       "      <td>1950.0</td>\n",
       "    </tr>\n",
       "    <tr>\n",
       "      <th>Jim Rathmann</th>\n",
       "      <td>1950.0</td>\n",
       "    </tr>\n",
       "    <tr>\n",
       "      <th>Jerry Hoyt</th>\n",
       "      <td>1950.0</td>\n",
       "    </tr>\n",
       "    <tr>\n",
       "      <th>Bill Schindler</th>\n",
       "      <td>1950.0</td>\n",
       "    </tr>\n",
       "    <tr>\n",
       "      <th>...</th>\n",
       "      <td>...</td>\n",
       "    </tr>\n",
       "    <tr>\n",
       "      <th>Nyck de Vries</th>\n",
       "      <td>2022.0</td>\n",
       "    </tr>\n",
       "    <tr>\n",
       "      <th>Guanyu Zhou</th>\n",
       "      <td>2022.0</td>\n",
       "    </tr>\n",
       "    <tr>\n",
       "      <th>Logan Sargeant</th>\n",
       "      <td>2023.0</td>\n",
       "    </tr>\n",
       "    <tr>\n",
       "      <th>Liam Lawson</th>\n",
       "      <td>2023.0</td>\n",
       "    </tr>\n",
       "    <tr>\n",
       "      <th>Oscar Piastri</th>\n",
       "      <td>2023.0</td>\n",
       "    </tr>\n",
       "  </tbody>\n",
       "</table>\n",
       "<p>858 rows × 1 columns</p>\n",
       "</div>"
      ],
      "text/plain": [
       "                  year\n",
       "name                  \n",
       "Lee Wallard     1950.0\n",
       "Jimmy Davies    1950.0\n",
       "Jim Rathmann    1950.0\n",
       "Jerry Hoyt      1950.0\n",
       "Bill Schindler  1950.0\n",
       "...                ...\n",
       "Nyck de Vries   2022.0\n",
       "Guanyu Zhou     2022.0\n",
       "Logan Sargeant  2023.0\n",
       "Liam Lawson     2023.0\n",
       "Oscar Piastri   2023.0\n",
       "\n",
       "[858 rows x 1 columns]"
      ]
     },
     "execution_count": 361,
     "metadata": {},
     "output_type": "execute_result"
    }
   ],
   "source": [
    "pd.DataFrame(results[results['points'] >= 0].groupby('name')['year'].min()).sort_values(by='year')"
   ]
  },
  {
   "cell_type": "markdown",
   "id": "c76624cd",
   "metadata": {},
   "source": [
    "## Outstanding rookies"
   ]
  },
  {
   "cell_type": "code",
   "execution_count": 362,
   "id": "d41dc178",
   "metadata": {},
   "outputs": [],
   "source": [
    "wpoints = {}\n",
    "for y in range(1950, 2024):\n",
    "    if y <= 1960:\n",
    "        wpoints[y] = 8\n",
    "    if y >= 1961 and y <= 1990:\n",
    "        wpoints[y] = 9\n",
    "    if y >= 1991 and y <= 2009:\n",
    "        wpoints[y] = 10\n",
    "    if y >= 2010:\n",
    "        wpoints[y] = 25"
   ]
  },
  {
   "cell_type": "code",
   "execution_count": 363,
   "id": "3b01f324",
   "metadata": {},
   "outputs": [],
   "source": [
    "winningpoints = pd.DataFrame([wpoints]).transpose().rename(columns={0:'wpoints'})\n",
    "winningpoints['year'] = winningpoints.index\n",
    "winningpoints = winningpoints.reset_index(drop=True)"
   ]
  },
  {
   "cell_type": "code",
   "execution_count": 364,
   "id": "7ff65172",
   "metadata": {},
   "outputs": [],
   "source": [
    "racesperseason = pd.DataFrame(results.groupby('year')['raceId'].nunique())"
   ]
  },
  {
   "cell_type": "code",
   "execution_count": 365,
   "id": "9ffe4e2a",
   "metadata": {},
   "outputs": [],
   "source": [
    "racesperseason['year'] = racesperseason.index.astype(int)\n",
    "racesperseason = racesperseason.reset_index(drop=True)"
   ]
  },
  {
   "cell_type": "code",
   "execution_count": 366,
   "id": "4d9a59d8",
   "metadata": {},
   "outputs": [],
   "source": [
    "racesperseason = racesperseason.merge(winningpoints, on='year')"
   ]
  },
  {
   "cell_type": "code",
   "execution_count": 367,
   "id": "210f97e9",
   "metadata": {},
   "outputs": [
    {
     "data": {
      "text/html": [
       "<div>\n",
       "<style scoped>\n",
       "    .dataframe tbody tr th:only-of-type {\n",
       "        vertical-align: middle;\n",
       "    }\n",
       "\n",
       "    .dataframe tbody tr th {\n",
       "        vertical-align: top;\n",
       "    }\n",
       "\n",
       "    .dataframe thead th {\n",
       "        text-align: right;\n",
       "    }\n",
       "</style>\n",
       "<table border=\"1\" class=\"dataframe\">\n",
       "  <thead>\n",
       "    <tr style=\"text-align: right;\">\n",
       "      <th></th>\n",
       "      <th>raceId</th>\n",
       "      <th>year</th>\n",
       "      <th>wpoints</th>\n",
       "    </tr>\n",
       "  </thead>\n",
       "  <tbody>\n",
       "    <tr>\n",
       "      <th>0</th>\n",
       "      <td>7</td>\n",
       "      <td>1950</td>\n",
       "      <td>8</td>\n",
       "    </tr>\n",
       "    <tr>\n",
       "      <th>1</th>\n",
       "      <td>8</td>\n",
       "      <td>1951</td>\n",
       "      <td>8</td>\n",
       "    </tr>\n",
       "    <tr>\n",
       "      <th>2</th>\n",
       "      <td>8</td>\n",
       "      <td>1952</td>\n",
       "      <td>8</td>\n",
       "    </tr>\n",
       "    <tr>\n",
       "      <th>3</th>\n",
       "      <td>9</td>\n",
       "      <td>1953</td>\n",
       "      <td>8</td>\n",
       "    </tr>\n",
       "    <tr>\n",
       "      <th>4</th>\n",
       "      <td>9</td>\n",
       "      <td>1954</td>\n",
       "      <td>8</td>\n",
       "    </tr>\n",
       "    <tr>\n",
       "      <th>...</th>\n",
       "      <td>...</td>\n",
       "      <td>...</td>\n",
       "      <td>...</td>\n",
       "    </tr>\n",
       "    <tr>\n",
       "      <th>69</th>\n",
       "      <td>21</td>\n",
       "      <td>2019</td>\n",
       "      <td>25</td>\n",
       "    </tr>\n",
       "    <tr>\n",
       "      <th>70</th>\n",
       "      <td>17</td>\n",
       "      <td>2020</td>\n",
       "      <td>25</td>\n",
       "    </tr>\n",
       "    <tr>\n",
       "      <th>71</th>\n",
       "      <td>22</td>\n",
       "      <td>2021</td>\n",
       "      <td>25</td>\n",
       "    </tr>\n",
       "    <tr>\n",
       "      <th>72</th>\n",
       "      <td>22</td>\n",
       "      <td>2022</td>\n",
       "      <td>25</td>\n",
       "    </tr>\n",
       "    <tr>\n",
       "      <th>73</th>\n",
       "      <td>22</td>\n",
       "      <td>2023</td>\n",
       "      <td>25</td>\n",
       "    </tr>\n",
       "  </tbody>\n",
       "</table>\n",
       "<p>74 rows × 3 columns</p>\n",
       "</div>"
      ],
      "text/plain": [
       "    raceId  year  wpoints\n",
       "0        7  1950        8\n",
       "1        8  1951        8\n",
       "2        8  1952        8\n",
       "3        9  1953        8\n",
       "4        9  1954        8\n",
       "..     ...   ...      ...\n",
       "69      21  2019       25\n",
       "70      17  2020       25\n",
       "71      22  2021       25\n",
       "72      22  2022       25\n",
       "73      22  2023       25\n",
       "\n",
       "[74 rows x 3 columns]"
      ]
     },
     "execution_count": 367,
     "metadata": {},
     "output_type": "execute_result"
    }
   ],
   "source": [
    "racesperseason"
   ]
  },
  {
   "cell_type": "code",
   "execution_count": 368,
   "id": "b6ac6acf",
   "metadata": {},
   "outputs": [],
   "source": [
    "racesperseason['possiblePoints'] = racesperseason['raceId'] * racesperseason['wpoints']"
   ]
  },
  {
   "cell_type": "code",
   "execution_count": 369,
   "id": "5e3ca86c",
   "metadata": {},
   "outputs": [
    {
     "data": {
      "text/html": [
       "<div>\n",
       "<style scoped>\n",
       "    .dataframe tbody tr th:only-of-type {\n",
       "        vertical-align: middle;\n",
       "    }\n",
       "\n",
       "    .dataframe tbody tr th {\n",
       "        vertical-align: top;\n",
       "    }\n",
       "\n",
       "    .dataframe thead th {\n",
       "        text-align: right;\n",
       "    }\n",
       "</style>\n",
       "<table border=\"1\" class=\"dataframe\">\n",
       "  <thead>\n",
       "    <tr style=\"text-align: right;\">\n",
       "      <th></th>\n",
       "      <th>raceId</th>\n",
       "      <th>year</th>\n",
       "      <th>wpoints</th>\n",
       "      <th>possiblePoints</th>\n",
       "    </tr>\n",
       "  </thead>\n",
       "  <tbody>\n",
       "    <tr>\n",
       "      <th>0</th>\n",
       "      <td>7</td>\n",
       "      <td>1950</td>\n",
       "      <td>8</td>\n",
       "      <td>56</td>\n",
       "    </tr>\n",
       "    <tr>\n",
       "      <th>1</th>\n",
       "      <td>8</td>\n",
       "      <td>1951</td>\n",
       "      <td>8</td>\n",
       "      <td>64</td>\n",
       "    </tr>\n",
       "    <tr>\n",
       "      <th>2</th>\n",
       "      <td>8</td>\n",
       "      <td>1952</td>\n",
       "      <td>8</td>\n",
       "      <td>64</td>\n",
       "    </tr>\n",
       "    <tr>\n",
       "      <th>3</th>\n",
       "      <td>9</td>\n",
       "      <td>1953</td>\n",
       "      <td>8</td>\n",
       "      <td>72</td>\n",
       "    </tr>\n",
       "    <tr>\n",
       "      <th>4</th>\n",
       "      <td>9</td>\n",
       "      <td>1954</td>\n",
       "      <td>8</td>\n",
       "      <td>72</td>\n",
       "    </tr>\n",
       "    <tr>\n",
       "      <th>...</th>\n",
       "      <td>...</td>\n",
       "      <td>...</td>\n",
       "      <td>...</td>\n",
       "      <td>...</td>\n",
       "    </tr>\n",
       "    <tr>\n",
       "      <th>69</th>\n",
       "      <td>21</td>\n",
       "      <td>2019</td>\n",
       "      <td>25</td>\n",
       "      <td>525</td>\n",
       "    </tr>\n",
       "    <tr>\n",
       "      <th>70</th>\n",
       "      <td>17</td>\n",
       "      <td>2020</td>\n",
       "      <td>25</td>\n",
       "      <td>425</td>\n",
       "    </tr>\n",
       "    <tr>\n",
       "      <th>71</th>\n",
       "      <td>22</td>\n",
       "      <td>2021</td>\n",
       "      <td>25</td>\n",
       "      <td>550</td>\n",
       "    </tr>\n",
       "    <tr>\n",
       "      <th>72</th>\n",
       "      <td>22</td>\n",
       "      <td>2022</td>\n",
       "      <td>25</td>\n",
       "      <td>550</td>\n",
       "    </tr>\n",
       "    <tr>\n",
       "      <th>73</th>\n",
       "      <td>22</td>\n",
       "      <td>2023</td>\n",
       "      <td>25</td>\n",
       "      <td>550</td>\n",
       "    </tr>\n",
       "  </tbody>\n",
       "</table>\n",
       "<p>74 rows × 4 columns</p>\n",
       "</div>"
      ],
      "text/plain": [
       "    raceId  year  wpoints  possiblePoints\n",
       "0        7  1950        8              56\n",
       "1        8  1951        8              64\n",
       "2        8  1952        8              64\n",
       "3        9  1953        8              72\n",
       "4        9  1954        8              72\n",
       "..     ...   ...      ...             ...\n",
       "69      21  2019       25             525\n",
       "70      17  2020       25             425\n",
       "71      22  2021       25             550\n",
       "72      22  2022       25             550\n",
       "73      22  2023       25             550\n",
       "\n",
       "[74 rows x 4 columns]"
      ]
     },
     "execution_count": 369,
     "metadata": {},
     "output_type": "execute_result"
    }
   ],
   "source": [
    "racesperseason"
   ]
  },
  {
   "cell_type": "code",
   "execution_count": 370,
   "id": "d480ac5f",
   "metadata": {},
   "outputs": [],
   "source": [
    "rookies = pd.DataFrame(results.groupby('name')['year'].min())\n",
    "rookies['name'] = rookies.index\n",
    "rookies = rookies.reset_index(drop = True)"
   ]
  },
  {
   "cell_type": "code",
   "execution_count": 371,
   "id": "e414ba16",
   "metadata": {},
   "outputs": [
    {
     "data": {
      "text/html": [
       "<div>\n",
       "<style scoped>\n",
       "    .dataframe tbody tr th:only-of-type {\n",
       "        vertical-align: middle;\n",
       "    }\n",
       "\n",
       "    .dataframe tbody tr th {\n",
       "        vertical-align: top;\n",
       "    }\n",
       "\n",
       "    .dataframe thead th {\n",
       "        text-align: right;\n",
       "    }\n",
       "</style>\n",
       "<table border=\"1\" class=\"dataframe\">\n",
       "  <thead>\n",
       "    <tr style=\"text-align: right;\">\n",
       "      <th></th>\n",
       "      <th>year</th>\n",
       "      <th>name</th>\n",
       "    </tr>\n",
       "  </thead>\n",
       "  <tbody>\n",
       "    <tr>\n",
       "      <th>0</th>\n",
       "      <td>1952.0</td>\n",
       "      <td>Adolf Brudes</td>\n",
       "    </tr>\n",
       "    <tr>\n",
       "      <th>1</th>\n",
       "      <td>1953.0</td>\n",
       "      <td>Adolfo Cruz</td>\n",
       "    </tr>\n",
       "    <tr>\n",
       "      <th>2</th>\n",
       "      <td>2007.0</td>\n",
       "      <td>Adrian Sutil</td>\n",
       "    </tr>\n",
       "    <tr>\n",
       "      <th>3</th>\n",
       "      <td>1987.0</td>\n",
       "      <td>Adrián Campos</td>\n",
       "    </tr>\n",
       "    <tr>\n",
       "      <th>4</th>\n",
       "      <td>1988.0</td>\n",
       "      <td>Aguri Suzuki</td>\n",
       "    </tr>\n",
       "    <tr>\n",
       "      <th>...</th>\n",
       "      <td>...</td>\n",
       "      <td>...</td>\n",
       "    </tr>\n",
       "    <tr>\n",
       "      <th>853</th>\n",
       "      <td>2003.0</td>\n",
       "      <td>Zsolt Baumgartner</td>\n",
       "    </tr>\n",
       "    <tr>\n",
       "      <th>854</th>\n",
       "      <td>1952.0</td>\n",
       "      <td>Élie Bayol</td>\n",
       "    </tr>\n",
       "    <tr>\n",
       "      <th>855</th>\n",
       "      <td>1989.0</td>\n",
       "      <td>Éric Bernard</td>\n",
       "    </tr>\n",
       "    <tr>\n",
       "      <th>856</th>\n",
       "      <td>1991.0</td>\n",
       "      <td>Érik Comas</td>\n",
       "    </tr>\n",
       "    <tr>\n",
       "      <th>857</th>\n",
       "      <td>1956.0</td>\n",
       "      <td>Óscar González</td>\n",
       "    </tr>\n",
       "  </tbody>\n",
       "</table>\n",
       "<p>858 rows × 2 columns</p>\n",
       "</div>"
      ],
      "text/plain": [
       "       year               name\n",
       "0    1952.0       Adolf Brudes\n",
       "1    1953.0        Adolfo Cruz\n",
       "2    2007.0       Adrian Sutil\n",
       "3    1987.0      Adrián Campos\n",
       "4    1988.0       Aguri Suzuki\n",
       "..      ...                ...\n",
       "853  2003.0  Zsolt Baumgartner\n",
       "854  1952.0         Élie Bayol\n",
       "855  1989.0       Éric Bernard\n",
       "856  1991.0         Érik Comas\n",
       "857  1956.0     Óscar González\n",
       "\n",
       "[858 rows x 2 columns]"
      ]
     },
     "execution_count": 371,
     "metadata": {},
     "output_type": "execute_result"
    }
   ],
   "source": [
    "rookies"
   ]
  },
  {
   "cell_type": "code",
   "execution_count": 372,
   "id": "db32cefb",
   "metadata": {},
   "outputs": [],
   "source": [
    "def points(year, name):\n",
    "    return results[(results['year'] == year) & (results['name'] == name)]['points'].sum()"
   ]
  },
  {
   "cell_type": "code",
   "execution_count": 373,
   "id": "deb72610",
   "metadata": {},
   "outputs": [],
   "source": [
    "rookies = rookies.merge(racesperseason[['year','possiblePoints']], on='year')"
   ]
  },
  {
   "cell_type": "code",
   "execution_count": 374,
   "id": "cc7899a4",
   "metadata": {},
   "outputs": [],
   "source": [
    "rookies['pointsWon'] = rookies.apply(lambda row: points(row['year'], row['name']), axis = 1)"
   ]
  },
  {
   "cell_type": "code",
   "execution_count": 375,
   "id": "caefd08f",
   "metadata": {},
   "outputs": [],
   "source": [
    "rookies['ratio'] = rookies['pointsWon'] / rookies['possiblePoints']"
   ]
  },
  {
   "cell_type": "code",
   "execution_count": 376,
   "id": "a0e52840",
   "metadata": {},
   "outputs": [
    {
     "data": {
      "text/plain": [
       "<Axes: xlabel='year'>"
      ]
     },
     "execution_count": 376,
     "metadata": {},
     "output_type": "execute_result"
    },
    {
     "data": {
      "image/png": "[encoded data removed]",
      "text/plain": [
       "<Figure size 1800x360 with 1 Axes>"
      ]
     },
     "metadata": {
      "needs_background": "light"
     },
     "output_type": "display_data"
    }
   ],
   "source": [
    "rookies[rookies['year'] > 1950].groupby('year')['ratio'].max().plot.bar(figsize=(25,5))"
   ]
  },
  {
   "cell_type": "code",
   "execution_count": 377,
   "id": "e4918aca",
   "metadata": {},
   "outputs": [
    {
     "data": {
      "text/plain": [
       "'11 seasons larger than 2023, 61 seasons smaller than 2023, 0 seasons equal to 2023'"
      ]
     },
     "execution_count": 377,
     "metadata": {},
     "output_type": "execute_result"
    }
   ],
   "source": [
    "rank23(rookies[rookies['year'] > 1950].groupby('year')['ratio'].max())"
   ]
  },
  {
   "cell_type": "code",
   "execution_count": 378,
   "id": "760ee87b",
   "metadata": {},
   "outputs": [
    {
     "data": {
      "text/html": [
       "<div>\n",
       "<style scoped>\n",
       "    .dataframe tbody tr th:only-of-type {\n",
       "        vertical-align: middle;\n",
       "    }\n",
       "\n",
       "    .dataframe tbody tr th {\n",
       "        vertical-align: top;\n",
       "    }\n",
       "\n",
       "    .dataframe thead th {\n",
       "        text-align: right;\n",
       "    }\n",
       "</style>\n",
       "<table border=\"1\" class=\"dataframe\">\n",
       "  <thead>\n",
       "    <tr style=\"text-align: right;\">\n",
       "      <th></th>\n",
       "      <th>year</th>\n",
       "      <th>name</th>\n",
       "      <th>possiblePoints</th>\n",
       "      <th>pointsWon</th>\n",
       "      <th>ratio</th>\n",
       "    </tr>\n",
       "  </thead>\n",
       "  <tbody>\n",
       "    <tr>\n",
       "      <th>89</th>\n",
       "      <td>2007.0</td>\n",
       "      <td>Lewis Hamilton</td>\n",
       "      <td>170</td>\n",
       "      <td>109.0</td>\n",
       "      <td>0.641176</td>\n",
       "    </tr>\n",
       "    <tr>\n",
       "      <th>299</th>\n",
       "      <td>1950.0</td>\n",
       "      <td>Nino Farina</td>\n",
       "      <td>56</td>\n",
       "      <td>30.0</td>\n",
       "      <td>0.535714</td>\n",
       "    </tr>\n",
       "    <tr>\n",
       "      <th>292</th>\n",
       "      <td>1950.0</td>\n",
       "      <td>Luigi Fagioli</td>\n",
       "      <td>56</td>\n",
       "      <td>28.0</td>\n",
       "      <td>0.500000</td>\n",
       "    </tr>\n",
       "    <tr>\n",
       "      <th>822</th>\n",
       "      <td>1996.0</td>\n",
       "      <td>Jacques Villeneuve</td>\n",
       "      <td>160</td>\n",
       "      <td>78.0</td>\n",
       "      <td>0.487500</td>\n",
       "    </tr>\n",
       "    <tr>\n",
       "      <th>287</th>\n",
       "      <td>1950.0</td>\n",
       "      <td>Juan Fangio</td>\n",
       "      <td>56</td>\n",
       "      <td>27.0</td>\n",
       "      <td>0.482143</td>\n",
       "    </tr>\n",
       "    <tr>\n",
       "      <th>211</th>\n",
       "      <td>1965.0</td>\n",
       "      <td>Jackie Stewart</td>\n",
       "      <td>90</td>\n",
       "      <td>34.0</td>\n",
       "      <td>0.377778</td>\n",
       "    </tr>\n",
       "    <tr>\n",
       "      <th>439</th>\n",
       "      <td>1970.0</td>\n",
       "      <td>Clay Regazzoni</td>\n",
       "      <td>117</td>\n",
       "      <td>33.0</td>\n",
       "      <td>0.282051</td>\n",
       "    </tr>\n",
       "    <tr>\n",
       "      <th>291</th>\n",
       "      <td>1950.0</td>\n",
       "      <td>Louis Rosier</td>\n",
       "      <td>56</td>\n",
       "      <td>13.0</td>\n",
       "      <td>0.232143</td>\n",
       "    </tr>\n",
       "    <tr>\n",
       "      <th>113</th>\n",
       "      <td>1955.0</td>\n",
       "      <td>Eugenio Castellotti</td>\n",
       "      <td>56</td>\n",
       "      <td>12.0</td>\n",
       "      <td>0.214286</td>\n",
       "    </tr>\n",
       "    <tr>\n",
       "      <th>242</th>\n",
       "      <td>1950.0</td>\n",
       "      <td>Alberto Ascari</td>\n",
       "      <td>56</td>\n",
       "      <td>11.0</td>\n",
       "      <td>0.196429</td>\n",
       "    </tr>\n",
       "    <tr>\n",
       "      <th>454</th>\n",
       "      <td>2001.0</td>\n",
       "      <td>Juan Pablo Montoya</td>\n",
       "      <td>170</td>\n",
       "      <td>31.0</td>\n",
       "      <td>0.182353</td>\n",
       "    </tr>\n",
       "    <tr>\n",
       "      <th>162</th>\n",
       "      <td>1959.0</td>\n",
       "      <td>Dan Gurney</td>\n",
       "      <td>72</td>\n",
       "      <td>13.0</td>\n",
       "      <td>0.180556</td>\n",
       "    </tr>\n",
       "    <tr>\n",
       "      <th>87</th>\n",
       "      <td>2007.0</td>\n",
       "      <td>Heikki Kovalainen</td>\n",
       "      <td>170</td>\n",
       "      <td>30.0</td>\n",
       "      <td>0.176471</td>\n",
       "    </tr>\n",
       "    <tr>\n",
       "      <th>457</th>\n",
       "      <td>2019.0</td>\n",
       "      <td>Alexander Albon</td>\n",
       "      <td>525</td>\n",
       "      <td>92.0</td>\n",
       "      <td>0.175238</td>\n",
       "    </tr>\n",
       "    <tr>\n",
       "      <th>673</th>\n",
       "      <td>1954.0</td>\n",
       "      <td>Karl Kling</td>\n",
       "      <td>72</td>\n",
       "      <td>12.0</td>\n",
       "      <td>0.166667</td>\n",
       "    </tr>\n",
       "    <tr>\n",
       "      <th>282</th>\n",
       "      <td>1950.0</td>\n",
       "      <td>Johnnie Parsons</td>\n",
       "      <td>56</td>\n",
       "      <td>9.0</td>\n",
       "      <td>0.160714</td>\n",
       "    </tr>\n",
       "    <tr>\n",
       "      <th>432</th>\n",
       "      <td>1957.0</td>\n",
       "      <td>Masten Gregory</td>\n",
       "      <td>64</td>\n",
       "      <td>10.0</td>\n",
       "      <td>0.156250</td>\n",
       "    </tr>\n",
       "    <tr>\n",
       "      <th>36</th>\n",
       "      <td>1952.0</td>\n",
       "      <td>Mike Hawthorn</td>\n",
       "      <td>64</td>\n",
       "      <td>10.0</td>\n",
       "      <td>0.156250</td>\n",
       "    </tr>\n",
       "    <tr>\n",
       "      <th>841</th>\n",
       "      <td>2023.0</td>\n",
       "      <td>Oscar Piastri</td>\n",
       "      <td>550</td>\n",
       "      <td>72.0</td>\n",
       "      <td>0.130909</td>\n",
       "    </tr>\n",
       "    <tr>\n",
       "      <th>605</th>\n",
       "      <td>1961.0</td>\n",
       "      <td>Giancarlo Baghetti</td>\n",
       "      <td>72</td>\n",
       "      <td>9.0</td>\n",
       "      <td>0.125000</td>\n",
       "    </tr>\n",
       "    <tr>\n",
       "      <th>531</th>\n",
       "      <td>2014.0</td>\n",
       "      <td>Kevin Magnussen</td>\n",
       "      <td>475</td>\n",
       "      <td>55.0</td>\n",
       "      <td>0.115789</td>\n",
       "    </tr>\n",
       "    <tr>\n",
       "      <th>246</th>\n",
       "      <td>1950.0</td>\n",
       "      <td>Bill Holland</td>\n",
       "      <td>56</td>\n",
       "      <td>6.0</td>\n",
       "      <td>0.107143</td>\n",
       "    </tr>\n",
       "    <tr>\n",
       "      <th>856</th>\n",
       "      <td>2008.0</td>\n",
       "      <td>Nelson Piquet Jr.</td>\n",
       "      <td>180</td>\n",
       "      <td>19.0</td>\n",
       "      <td>0.105556</td>\n",
       "    </tr>\n",
       "    <tr>\n",
       "      <th>769</th>\n",
       "      <td>1973.0</td>\n",
       "      <td>James Hunt</td>\n",
       "      <td>135</td>\n",
       "      <td>14.0</td>\n",
       "      <td>0.103704</td>\n",
       "    </tr>\n",
       "    <tr>\n",
       "      <th>463</th>\n",
       "      <td>2015.0</td>\n",
       "      <td>Max Verstappen</td>\n",
       "      <td>475</td>\n",
       "      <td>49.0</td>\n",
       "      <td>0.103158</td>\n",
       "    </tr>\n",
       "    <tr>\n",
       "      <th>440</th>\n",
       "      <td>1970.0</td>\n",
       "      <td>Emerson Fittipaldi</td>\n",
       "      <td>117</td>\n",
       "      <td>12.0</td>\n",
       "      <td>0.102564</td>\n",
       "    </tr>\n",
       "    <tr>\n",
       "      <th>239</th>\n",
       "      <td>1958.0</td>\n",
       "      <td>Phil Hill</td>\n",
       "      <td>88</td>\n",
       "      <td>9.0</td>\n",
       "      <td>0.102273</td>\n",
       "    </tr>\n",
       "    <tr>\n",
       "      <th>352</th>\n",
       "      <td>1960.0</td>\n",
       "      <td>Richie Ginther</td>\n",
       "      <td>80</td>\n",
       "      <td>8.0</td>\n",
       "      <td>0.100000</td>\n",
       "    </tr>\n",
       "    <tr>\n",
       "      <th>344</th>\n",
       "      <td>1960.0</td>\n",
       "      <td>Jim Clark</td>\n",
       "      <td>80</td>\n",
       "      <td>8.0</td>\n",
       "      <td>0.100000</td>\n",
       "    </tr>\n",
       "    <tr>\n",
       "      <th>381</th>\n",
       "      <td>1951.0</td>\n",
       "      <td>Mike Nazaruk</td>\n",
       "      <td>64</td>\n",
       "      <td>6.0</td>\n",
       "      <td>0.093750</td>\n",
       "    </tr>\n",
       "  </tbody>\n",
       "</table>\n",
       "</div>"
      ],
      "text/plain": [
       "       year                 name  possiblePoints  pointsWon     ratio\n",
       "89   2007.0       Lewis Hamilton             170      109.0  0.641176\n",
       "299  1950.0          Nino Farina              56       30.0  0.535714\n",
       "292  1950.0        Luigi Fagioli              56       28.0  0.500000\n",
       "822  1996.0   Jacques Villeneuve             160       78.0  0.487500\n",
       "287  1950.0          Juan Fangio              56       27.0  0.482143\n",
       "211  1965.0       Jackie Stewart              90       34.0  0.377778\n",
       "439  1970.0       Clay Regazzoni             117       33.0  0.282051\n",
       "291  1950.0         Louis Rosier              56       13.0  0.232143\n",
       "113  1955.0  Eugenio Castellotti              56       12.0  0.214286\n",
       "242  1950.0       Alberto Ascari              56       11.0  0.196429\n",
       "454  2001.0   Juan Pablo Montoya             170       31.0  0.182353\n",
       "162  1959.0           Dan Gurney              72       13.0  0.180556\n",
       "87   2007.0    Heikki Kovalainen             170       30.0  0.176471\n",
       "457  2019.0      Alexander Albon             525       92.0  0.175238\n",
       "673  1954.0           Karl Kling              72       12.0  0.166667\n",
       "282  1950.0      Johnnie Parsons              56        9.0  0.160714\n",
       "432  1957.0       Masten Gregory              64       10.0  0.156250\n",
       "36   1952.0        Mike Hawthorn              64       10.0  0.156250\n",
       "841  2023.0        Oscar Piastri             550       72.0  0.130909\n",
       "605  1961.0   Giancarlo Baghetti              72        9.0  0.125000\n",
       "531  2014.0      Kevin Magnussen             475       55.0  0.115789\n",
       "246  1950.0         Bill Holland              56        6.0  0.107143\n",
       "856  2008.0    Nelson Piquet Jr.             180       19.0  0.105556\n",
       "769  1973.0           James Hunt             135       14.0  0.103704\n",
       "463  2015.0       Max Verstappen             475       49.0  0.103158\n",
       "440  1970.0   Emerson Fittipaldi             117       12.0  0.102564\n",
       "239  1958.0            Phil Hill              88        9.0  0.102273\n",
       "352  1960.0       Richie Ginther              80        8.0  0.100000\n",
       "344  1960.0            Jim Clark              80        8.0  0.100000\n",
       "381  1951.0         Mike Nazaruk              64        6.0  0.093750"
      ]
     },
     "execution_count": 378,
     "metadata": {},
     "output_type": "execute_result"
    }
   ],
   "source": [
    "rookies.sort_values(by='ratio',ascending=False).head(30)"
   ]
  },
  {
   "cell_type": "code",
   "execution_count": 379,
   "id": "3539dccb",
   "metadata": {},
   "outputs": [
    {
     "data": {
      "text/html": [
       "<div>\n",
       "<style scoped>\n",
       "    .dataframe tbody tr th:only-of-type {\n",
       "        vertical-align: middle;\n",
       "    }\n",
       "\n",
       "    .dataframe tbody tr th {\n",
       "        vertical-align: top;\n",
       "    }\n",
       "\n",
       "    .dataframe thead th {\n",
       "        text-align: right;\n",
       "    }\n",
       "</style>\n",
       "<table border=\"1\" class=\"dataframe\">\n",
       "  <thead>\n",
       "    <tr style=\"text-align: right;\">\n",
       "      <th></th>\n",
       "      <th>index</th>\n",
       "      <th>year</th>\n",
       "      <th>name</th>\n",
       "      <th>ratio</th>\n",
       "    </tr>\n",
       "  </thead>\n",
       "  <tbody>\n",
       "    <tr>\n",
       "      <th>0</th>\n",
       "      <td>89</td>\n",
       "      <td>2007.0</td>\n",
       "      <td>Lewis Hamilton</td>\n",
       "      <td>0.641176</td>\n",
       "    </tr>\n",
       "    <tr>\n",
       "      <th>1</th>\n",
       "      <td>822</td>\n",
       "      <td>1996.0</td>\n",
       "      <td>Jacques Villeneuve</td>\n",
       "      <td>0.487500</td>\n",
       "    </tr>\n",
       "    <tr>\n",
       "      <th>2</th>\n",
       "      <td>211</td>\n",
       "      <td>1965.0</td>\n",
       "      <td>Jackie Stewart</td>\n",
       "      <td>0.377778</td>\n",
       "    </tr>\n",
       "    <tr>\n",
       "      <th>3</th>\n",
       "      <td>439</td>\n",
       "      <td>1970.0</td>\n",
       "      <td>Clay Regazzoni</td>\n",
       "      <td>0.282051</td>\n",
       "    </tr>\n",
       "    <tr>\n",
       "      <th>4</th>\n",
       "      <td>113</td>\n",
       "      <td>1955.0</td>\n",
       "      <td>Eugenio Castellotti</td>\n",
       "      <td>0.214286</td>\n",
       "    </tr>\n",
       "    <tr>\n",
       "      <th>5</th>\n",
       "      <td>454</td>\n",
       "      <td>2001.0</td>\n",
       "      <td>Juan Pablo Montoya</td>\n",
       "      <td>0.182353</td>\n",
       "    </tr>\n",
       "    <tr>\n",
       "      <th>6</th>\n",
       "      <td>162</td>\n",
       "      <td>1959.0</td>\n",
       "      <td>Dan Gurney</td>\n",
       "      <td>0.180556</td>\n",
       "    </tr>\n",
       "    <tr>\n",
       "      <th>7</th>\n",
       "      <td>87</td>\n",
       "      <td>2007.0</td>\n",
       "      <td>Heikki Kovalainen</td>\n",
       "      <td>0.176471</td>\n",
       "    </tr>\n",
       "    <tr>\n",
       "      <th>8</th>\n",
       "      <td>457</td>\n",
       "      <td>2019.0</td>\n",
       "      <td>Alexander Albon</td>\n",
       "      <td>0.175238</td>\n",
       "    </tr>\n",
       "    <tr>\n",
       "      <th>9</th>\n",
       "      <td>673</td>\n",
       "      <td>1954.0</td>\n",
       "      <td>Karl Kling</td>\n",
       "      <td>0.166667</td>\n",
       "    </tr>\n",
       "    <tr>\n",
       "      <th>10</th>\n",
       "      <td>36</td>\n",
       "      <td>1952.0</td>\n",
       "      <td>Mike Hawthorn</td>\n",
       "      <td>0.156250</td>\n",
       "    </tr>\n",
       "    <tr>\n",
       "      <th>11</th>\n",
       "      <td>432</td>\n",
       "      <td>1957.0</td>\n",
       "      <td>Masten Gregory</td>\n",
       "      <td>0.156250</td>\n",
       "    </tr>\n",
       "    <tr>\n",
       "      <th>12</th>\n",
       "      <td>841</td>\n",
       "      <td>2023.0</td>\n",
       "      <td>Oscar Piastri</td>\n",
       "      <td>0.130909</td>\n",
       "    </tr>\n",
       "    <tr>\n",
       "      <th>13</th>\n",
       "      <td>605</td>\n",
       "      <td>1961.0</td>\n",
       "      <td>Giancarlo Baghetti</td>\n",
       "      <td>0.125000</td>\n",
       "    </tr>\n",
       "    <tr>\n",
       "      <th>14</th>\n",
       "      <td>531</td>\n",
       "      <td>2014.0</td>\n",
       "      <td>Kevin Magnussen</td>\n",
       "      <td>0.115789</td>\n",
       "    </tr>\n",
       "    <tr>\n",
       "      <th>15</th>\n",
       "      <td>856</td>\n",
       "      <td>2008.0</td>\n",
       "      <td>Nelson Piquet Jr.</td>\n",
       "      <td>0.105556</td>\n",
       "    </tr>\n",
       "    <tr>\n",
       "      <th>16</th>\n",
       "      <td>769</td>\n",
       "      <td>1973.0</td>\n",
       "      <td>James Hunt</td>\n",
       "      <td>0.103704</td>\n",
       "    </tr>\n",
       "    <tr>\n",
       "      <th>17</th>\n",
       "      <td>463</td>\n",
       "      <td>2015.0</td>\n",
       "      <td>Max Verstappen</td>\n",
       "      <td>0.103158</td>\n",
       "    </tr>\n",
       "    <tr>\n",
       "      <th>18</th>\n",
       "      <td>440</td>\n",
       "      <td>1970.0</td>\n",
       "      <td>Emerson Fittipaldi</td>\n",
       "      <td>0.102564</td>\n",
       "    </tr>\n",
       "    <tr>\n",
       "      <th>19</th>\n",
       "      <td>239</td>\n",
       "      <td>1958.0</td>\n",
       "      <td>Phil Hill</td>\n",
       "      <td>0.102273</td>\n",
       "    </tr>\n",
       "    <tr>\n",
       "      <th>20</th>\n",
       "      <td>344</td>\n",
       "      <td>1960.0</td>\n",
       "      <td>Jim Clark</td>\n",
       "      <td>0.100000</td>\n",
       "    </tr>\n",
       "    <tr>\n",
       "      <th>21</th>\n",
       "      <td>352</td>\n",
       "      <td>1960.0</td>\n",
       "      <td>Richie Ginther</td>\n",
       "      <td>0.100000</td>\n",
       "    </tr>\n",
       "    <tr>\n",
       "      <th>22</th>\n",
       "      <td>25</td>\n",
       "      <td>1952.0</td>\n",
       "      <td>Jean Behra</td>\n",
       "      <td>0.093750</td>\n",
       "    </tr>\n",
       "    <tr>\n",
       "      <th>23</th>\n",
       "      <td>381</td>\n",
       "      <td>1951.0</td>\n",
       "      <td>Mike Nazaruk</td>\n",
       "      <td>0.093750</td>\n",
       "    </tr>\n",
       "    <tr>\n",
       "      <th>24</th>\n",
       "      <td>459</td>\n",
       "      <td>2019.0</td>\n",
       "      <td>Lando Norris</td>\n",
       "      <td>0.093333</td>\n",
       "    </tr>\n",
       "    <tr>\n",
       "      <th>25</th>\n",
       "      <td>567</td>\n",
       "      <td>1984.0</td>\n",
       "      <td>Ayrton Senna</td>\n",
       "      <td>0.090278</td>\n",
       "    </tr>\n",
       "    <tr>\n",
       "      <th>26</th>\n",
       "      <td>506</td>\n",
       "      <td>1994.0</td>\n",
       "      <td>David Coulthard</td>\n",
       "      <td>0.087500</td>\n",
       "    </tr>\n",
       "    <tr>\n",
       "      <th>27</th>\n",
       "      <td>448</td>\n",
       "      <td>1970.0</td>\n",
       "      <td>Rolf Stommelen</td>\n",
       "      <td>0.085470</td>\n",
       "    </tr>\n",
       "    <tr>\n",
       "      <th>28</th>\n",
       "      <td>552</td>\n",
       "      <td>2017.0</td>\n",
       "      <td>Lance Stroll</td>\n",
       "      <td>0.080000</td>\n",
       "    </tr>\n",
       "    <tr>\n",
       "      <th>29</th>\n",
       "      <td>436</td>\n",
       "      <td>1957.0</td>\n",
       "      <td>Stuart Lewis-Evans</td>\n",
       "      <td>0.078125</td>\n",
       "    </tr>\n",
       "    <tr>\n",
       "      <th>30</th>\n",
       "      <td>468</td>\n",
       "      <td>1997.0</td>\n",
       "      <td>Ralf Schumacher</td>\n",
       "      <td>0.076471</td>\n",
       "    </tr>\n",
       "    <tr>\n",
       "      <th>31</th>\n",
       "      <td>400</td>\n",
       "      <td>1976.0</td>\n",
       "      <td>Gunnar Nilsson</td>\n",
       "      <td>0.076389</td>\n",
       "    </tr>\n",
       "    <tr>\n",
       "      <th>32</th>\n",
       "      <td>347</td>\n",
       "      <td>1960.0</td>\n",
       "      <td>John Surtees</td>\n",
       "      <td>0.075000</td>\n",
       "    </tr>\n",
       "    <tr>\n",
       "      <th>33</th>\n",
       "      <td>706</td>\n",
       "      <td>2018.0</td>\n",
       "      <td>Charles Leclerc</td>\n",
       "      <td>0.074286</td>\n",
       "    </tr>\n",
       "    <tr>\n",
       "      <th>34</th>\n",
       "      <td>815</td>\n",
       "      <td>2000.0</td>\n",
       "      <td>Jenson Button</td>\n",
       "      <td>0.070588</td>\n",
       "    </tr>\n",
       "    <tr>\n",
       "      <th>35</th>\n",
       "      <td>170</td>\n",
       "      <td>1959.0</td>\n",
       "      <td>Innes Ireland</td>\n",
       "      <td>0.069444</td>\n",
       "    </tr>\n",
       "    <tr>\n",
       "      <th>36</th>\n",
       "      <td>228</td>\n",
       "      <td>1958.0</td>\n",
       "      <td>George Amick</td>\n",
       "      <td>0.068182</td>\n",
       "    </tr>\n",
       "    <tr>\n",
       "      <th>37</th>\n",
       "      <td>555</td>\n",
       "      <td>2003.0</td>\n",
       "      <td>Cristiano da Matta</td>\n",
       "      <td>0.062500</td>\n",
       "    </tr>\n",
       "    <tr>\n",
       "      <th>38</th>\n",
       "      <td>512</td>\n",
       "      <td>1994.0</td>\n",
       "      <td>Jos Verstappen</td>\n",
       "      <td>0.062500</td>\n",
       "    </tr>\n",
       "    <tr>\n",
       "      <th>39</th>\n",
       "      <td>855</td>\n",
       "      <td>2021.0</td>\n",
       "      <td>Yuki Tsunoda</td>\n",
       "      <td>0.058182</td>\n",
       "    </tr>\n",
       "    <tr>\n",
       "      <th>40</th>\n",
       "      <td>763</td>\n",
       "      <td>2011.0</td>\n",
       "      <td>Paul di Resta</td>\n",
       "      <td>0.056842</td>\n",
       "    </tr>\n",
       "    <tr>\n",
       "      <th>41</th>\n",
       "      <td>462</td>\n",
       "      <td>2015.0</td>\n",
       "      <td>Felipe Nasr</td>\n",
       "      <td>0.056842</td>\n",
       "    </tr>\n",
       "    <tr>\n",
       "      <th>42</th>\n",
       "      <td>705</td>\n",
       "      <td>2010.0</td>\n",
       "      <td>Vitaly Petrov</td>\n",
       "      <td>0.056842</td>\n",
       "    </tr>\n",
       "    <tr>\n",
       "      <th>43</th>\n",
       "      <td>515</td>\n",
       "      <td>1994.0</td>\n",
       "      <td>Olivier Panis</td>\n",
       "      <td>0.056250</td>\n",
       "    </tr>\n",
       "    <tr>\n",
       "      <th>44</th>\n",
       "      <td>652</td>\n",
       "      <td>1989.0</td>\n",
       "      <td>Jean Alesi</td>\n",
       "      <td>0.055556</td>\n",
       "    </tr>\n",
       "    <tr>\n",
       "      <th>45</th>\n",
       "      <td>208</td>\n",
       "      <td>1965.0</td>\n",
       "      <td>Denny Hulme</td>\n",
       "      <td>0.055556</td>\n",
       "    </tr>\n",
       "    <tr>\n",
       "      <th>46</th>\n",
       "      <td>455</td>\n",
       "      <td>2001.0</td>\n",
       "      <td>Kimi Räikkönen</td>\n",
       "      <td>0.052941</td>\n",
       "    </tr>\n",
       "    <tr>\n",
       "      <th>47</th>\n",
       "      <td>725</td>\n",
       "      <td>1971.0</td>\n",
       "      <td>Howden Ganley</td>\n",
       "      <td>0.050505</td>\n",
       "    </tr>\n",
       "    <tr>\n",
       "      <th>48</th>\n",
       "      <td>356</td>\n",
       "      <td>1960.0</td>\n",
       "      <td>Willy Mairesse</td>\n",
       "      <td>0.050000</td>\n",
       "    </tr>\n",
       "    <tr>\n",
       "      <th>49</th>\n",
       "      <td>328</td>\n",
       "      <td>1978.0</td>\n",
       "      <td>Didier Pironi</td>\n",
       "      <td>0.048611</td>\n",
       "    </tr>\n",
       "  </tbody>\n",
       "</table>\n",
       "</div>"
      ],
      "text/plain": [
       "    index    year                 name     ratio\n",
       "0      89  2007.0       Lewis Hamilton  0.641176\n",
       "1     822  1996.0   Jacques Villeneuve  0.487500\n",
       "2     211  1965.0       Jackie Stewart  0.377778\n",
       "3     439  1970.0       Clay Regazzoni  0.282051\n",
       "4     113  1955.0  Eugenio Castellotti  0.214286\n",
       "5     454  2001.0   Juan Pablo Montoya  0.182353\n",
       "6     162  1959.0           Dan Gurney  0.180556\n",
       "7      87  2007.0    Heikki Kovalainen  0.176471\n",
       "8     457  2019.0      Alexander Albon  0.175238\n",
       "9     673  1954.0           Karl Kling  0.166667\n",
       "10     36  1952.0        Mike Hawthorn  0.156250\n",
       "11    432  1957.0       Masten Gregory  0.156250\n",
       "12    841  2023.0        Oscar Piastri  0.130909\n",
       "13    605  1961.0   Giancarlo Baghetti  0.125000\n",
       "14    531  2014.0      Kevin Magnussen  0.115789\n",
       "15    856  2008.0    Nelson Piquet Jr.  0.105556\n",
       "16    769  1973.0           James Hunt  0.103704\n",
       "17    463  2015.0       Max Verstappen  0.103158\n",
       "18    440  1970.0   Emerson Fittipaldi  0.102564\n",
       "19    239  1958.0            Phil Hill  0.102273\n",
       "20    344  1960.0            Jim Clark  0.100000\n",
       "21    352  1960.0       Richie Ginther  0.100000\n",
       "22     25  1952.0           Jean Behra  0.093750\n",
       "23    381  1951.0         Mike Nazaruk  0.093750\n",
       "24    459  2019.0         Lando Norris  0.093333\n",
       "25    567  1984.0         Ayrton Senna  0.090278\n",
       "26    506  1994.0      David Coulthard  0.087500\n",
       "27    448  1970.0       Rolf Stommelen  0.085470\n",
       "28    552  2017.0         Lance Stroll  0.080000\n",
       "29    436  1957.0   Stuart Lewis-Evans  0.078125\n",
       "30    468  1997.0      Ralf Schumacher  0.076471\n",
       "31    400  1976.0       Gunnar Nilsson  0.076389\n",
       "32    347  1960.0         John Surtees  0.075000\n",
       "33    706  2018.0      Charles Leclerc  0.074286\n",
       "34    815  2000.0        Jenson Button  0.070588\n",
       "35    170  1959.0        Innes Ireland  0.069444\n",
       "36    228  1958.0         George Amick  0.068182\n",
       "37    555  2003.0   Cristiano da Matta  0.062500\n",
       "38    512  1994.0       Jos Verstappen  0.062500\n",
       "39    855  2021.0         Yuki Tsunoda  0.058182\n",
       "40    763  2011.0        Paul di Resta  0.056842\n",
       "41    462  2015.0          Felipe Nasr  0.056842\n",
       "42    705  2010.0        Vitaly Petrov  0.056842\n",
       "43    515  1994.0        Olivier Panis  0.056250\n",
       "44    652  1989.0           Jean Alesi  0.055556\n",
       "45    208  1965.0          Denny Hulme  0.055556\n",
       "46    455  2001.0       Kimi Räikkönen  0.052941\n",
       "47    725  1971.0        Howden Ganley  0.050505\n",
       "48    356  1960.0       Willy Mairesse  0.050000\n",
       "49    328  1978.0        Didier Pironi  0.048611"
      ]
     },
     "execution_count": 379,
     "metadata": {},
     "output_type": "execute_result"
    }
   ],
   "source": [
    "rookies[rookies['year'] > 1950][['year','name','ratio']].sort_values(by='ratio',ascending=False).head(50).reset_index()"
   ]
  },
  {
   "cell_type": "markdown",
   "id": "c6e849ce",
   "metadata": {},
   "source": [
    "## Point differences"
   ]
  },
  {
   "cell_type": "code",
   "execution_count": 380,
   "id": "962d197c",
   "metadata": {},
   "outputs": [
    {
     "data": {
      "text/plain": [
       "year\n",
       "1950.0     30.00\n",
       "1951.0     37.00\n",
       "1952.0     53.50\n",
       "1953.0     46.50\n",
       "1954.0     57.14\n",
       "           ...  \n",
       "2019.0    413.00\n",
       "2020.0    347.00\n",
       "2021.0    388.50\n",
       "2022.0    433.00\n",
       "2023.0    479.00\n",
       "Name: points, Length: 74, dtype: float64"
      ]
     },
     "execution_count": 380,
     "metadata": {},
     "output_type": "execute_result"
    }
   ],
   "source": [
    "pd.DataFrame(results.groupby(['year','name'])['points'].sum()).sort_values(by=['year','points'], ascending=[True, False]).groupby('year')['points'].max()"
   ]
  },
  {
   "cell_type": "code",
   "execution_count": 381,
   "id": "b92001e5",
   "metadata": {},
   "outputs": [
    {
     "data": {
      "text/plain": [
       "year\n",
       "1950.0     27.00\n",
       "1951.0     27.00\n",
       "1952.0     22.00\n",
       "1953.0     29.50\n",
       "1954.0     24.64\n",
       "           ...  \n",
       "2019.0    278.00\n",
       "2020.0    214.00\n",
       "2021.0    219.00\n",
       "2022.0    291.00\n",
       "2023.0    209.00\n",
       "Name: points, Length: 74, dtype: float64"
      ]
     },
     "execution_count": 381,
     "metadata": {},
     "output_type": "execute_result"
    }
   ],
   "source": [
    "pd.DataFrame(results.groupby(['year','name'])['points'].sum()).sort_values(by=['year','points'], ascending=[True, False]).groupby('year')['points'].apply(lambda x: x.nlargest(3).iloc[2])"
   ]
  },
  {
   "cell_type": "code",
   "execution_count": 382,
   "id": "47e201a3",
   "metadata": {},
   "outputs": [
    {
     "data": {
      "text/plain": [
       "<Axes: xlabel='year'>"
      ]
     },
     "execution_count": 382,
     "metadata": {},
     "output_type": "execute_result"
    },
    {
     "data": {
      "image/png": "[encoded data removed]",
      "text/plain": [
       "<Figure size 1440x360 with 1 Axes>"
      ]
     },
     "metadata": {
      "needs_background": "light"
     },
     "output_type": "display_data"
    }
   ],
   "source": [
    "(pd.DataFrame(results.groupby(['year','name'])['points'].sum()).sort_values(by=['year','points'], ascending=[True, False]).groupby('year')['points'].apply(lambda x: x.nlargest(3).iloc[1]) / pd.DataFrame(results.groupby(['year','name'])['points'].sum()).sort_values(by=['year','points'], ascending=[True, False]).groupby('year')['points'].max()).plot.bar(figsize=(20,5))"
   ]
  },
  {
   "cell_type": "code",
   "execution_count": 424,
   "id": "b253bd14",
   "metadata": {},
   "outputs": [
    {
     "data": {
      "text/plain": [
       "year\n",
       "1963.0    0.465753\n",
       "1954.0    0.466223\n",
       "2023.0    0.486430\n",
       "1952.0    0.504673\n",
       "1992.0    0.518519\n",
       "Name: points, dtype: float64"
      ]
     },
     "execution_count": 424,
     "metadata": {},
     "output_type": "execute_result"
    }
   ],
   "source": [
    "(pd.DataFrame(results.groupby(['year','name'])['points'].sum()).sort_values(by=['year','points'], ascending=[True, False]).groupby('year')['points'].apply(lambda x: x.nlargest(3).iloc[1]) / pd.DataFrame(results.groupby(['year','name'])['points'].sum()).sort_values(by=['year','points'], ascending=[True, False]).groupby('year')['points'].max()).nsmallest()"
   ]
  },
  {
   "cell_type": "code",
   "execution_count": 383,
   "id": "7d451a17",
   "metadata": {},
   "outputs": [
    {
     "data": {
      "text/plain": [
       "'71 seasons larger than 2023, 2 seasons smaller than 2023, 0 seasons equal to 2023'"
      ]
     },
     "execution_count": 383,
     "metadata": {},
     "output_type": "execute_result"
    }
   ],
   "source": [
    "rank23((pd.DataFrame(results.groupby(['year','name'])['points'].sum()).sort_values(by=['year','points'], ascending=[True, False]).groupby('year')['points'].apply(lambda x: x.nlargest(3).iloc[1]) / pd.DataFrame(results.groupby(['year','name'])['points'].sum()).sort_values(by=['year','points'], ascending=[True, False]).groupby('year')['points'].max()))"
   ]
  },
  {
   "cell_type": "code",
   "execution_count": 384,
   "id": "fa5c93fa",
   "metadata": {
    "scrolled": true
   },
   "outputs": [
    {
     "data": {
      "text/plain": [
       "<Axes: xlabel='year'>"
      ]
     },
     "execution_count": 384,
     "metadata": {},
     "output_type": "execute_result"
    },
    {
     "data": {
      "image/png": "[encoded data removed]",
      "text/plain": [
       "<Figure size 1440x360 with 1 Axes>"
      ]
     },
     "metadata": {
      "needs_background": "light"
     },
     "output_type": "display_data"
    }
   ],
   "source": [
    "(pd.DataFrame(results.groupby(['year','name'])['points'].sum()).sort_values(by=['year','points'], ascending=[True, False]).groupby('year')['points'].apply(lambda x: x.nlargest(3).iloc[2]) / pd.DataFrame(results.groupby(['year','name'])['points'].sum()).sort_values(by=['year','points'], ascending=[True, False]).groupby('year')['points'].max()).plot.bar(figsize=(20,5))"
   ]
  },
  {
   "cell_type": "code",
   "execution_count": 423,
   "id": "d0a1ffd3",
   "metadata": {},
   "outputs": [
    {
     "data": {
      "text/plain": [
       "'64 seasons larger than 2023, 9 seasons smaller than 2023, 0 seasons equal to 2023'"
      ]
     },
     "execution_count": 423,
     "metadata": {},
     "output_type": "execute_result"
    }
   ],
   "source": [
    "rank23((pd.DataFrame(results.groupby(['year','name'])['points'].sum()).sort_values(by=['year','points'], ascending=[True, False]).groupby('year')['points'].apply(lambda x: x.nlargest(3).iloc[2]) / pd.DataFrame(results.groupby(['year','name'])['points'].sum()).sort_values(by=['year','points'], ascending=[True, False]).groupby('year')['points'].max()))"
   ]
  },
  {
   "cell_type": "code",
   "execution_count": 426,
   "id": "b3a12232",
   "metadata": {},
   "outputs": [
    {
     "data": {
      "text/plain": [
       "year\n",
       "2007.0    0.990909\n",
       "2010.0    0.945312\n",
       "1986.0    0.932432\n",
       "1981.0    0.920000\n",
       "1950.0    0.900000\n",
       "Name: points, dtype: float64"
      ]
     },
     "execution_count": 426,
     "metadata": {},
     "output_type": "execute_result"
    }
   ],
   "source": [
    "(pd.DataFrame(results.groupby(['year','name'])['points'].sum()).sort_values(by=['year','points'], ascending=[True, False]).groupby('year')['points'].apply(lambda x: x.nlargest(3).iloc[2]) / pd.DataFrame(results.groupby(['year','name'])['points'].sum()).sort_values(by=['year','points'], ascending=[True, False]).groupby('year')['points'].max()).nlargest()"
   ]
  },
  {
   "cell_type": "code",
   "execution_count": 385,
   "id": "711edbcd",
   "metadata": {},
   "outputs": [
    {
     "data": {
      "text/plain": [
       "<Axes: xlabel='year'>"
      ]
     },
     "execution_count": 385,
     "metadata": {},
     "output_type": "execute_result"
    },
    {
     "data": {
      "image/png": "[encoded data removed]",
      "text/plain": [
       "<Figure size 1440x360 with 1 Axes>"
      ]
     },
     "metadata": {
      "needs_background": "light"
     },
     "output_type": "display_data"
    }
   ],
   "source": [
    "(pd.DataFrame(results.groupby(['year','name'])['points'].sum()).sort_values(by=['year','points'], ascending=[True, False]).groupby('year')['points'].apply(lambda x: x.nlargest().iloc[3]) / pd.DataFrame(results.groupby(['year','name'])['points'].sum()).sort_values(by=['year','points'], ascending=[True, False]).groupby('year')['points'].max()).plot.bar(figsize=(20,5))"
   ]
  },
  {
   "cell_type": "code",
   "execution_count": 386,
   "id": "a031bd7d",
   "metadata": {},
   "outputs": [
    {
     "data": {
      "text/plain": [
       "<Axes: xlabel='year'>"
      ]
     },
     "execution_count": 386,
     "metadata": {},
     "output_type": "execute_result"
    },
    {
     "data": {
      "image/png": "[encoded data removed]",
      "text/plain": [
       "<Figure size 1440x360 with 1 Axes>"
      ]
     },
     "metadata": {
      "needs_background": "light"
     },
     "output_type": "display_data"
    }
   ],
   "source": [
    "(pd.DataFrame(results.groupby(['year','name'])['points'].sum()).sort_values(by=['year','points'], ascending=[True, False]).groupby('year')['points'].apply(lambda x: x.nlargest().iloc[3]) / pd.DataFrame(results.groupby(['year','name'])['points'].sum()).sort_values(by=['year','points'], ascending=[True, False]).groupby('year')['points'].max()).plot.bar(figsize=(20,5))"
   ]
  },
  {
   "cell_type": "code",
   "execution_count": 387,
   "id": "a2501a4c",
   "metadata": {},
   "outputs": [
    {
     "data": {
      "text/html": [
       "<div>\n",
       "<style scoped>\n",
       "    .dataframe tbody tr th:only-of-type {\n",
       "        vertical-align: middle;\n",
       "    }\n",
       "\n",
       "    .dataframe tbody tr th {\n",
       "        vertical-align: top;\n",
       "    }\n",
       "\n",
       "    .dataframe thead th {\n",
       "        text-align: right;\n",
       "    }\n",
       "</style>\n",
       "<table border=\"1\" class=\"dataframe\">\n",
       "  <thead>\n",
       "    <tr style=\"text-align: right;\">\n",
       "      <th></th>\n",
       "      <th></th>\n",
       "      <th>points</th>\n",
       "    </tr>\n",
       "    <tr>\n",
       "      <th>year</th>\n",
       "      <th>constructor</th>\n",
       "      <th></th>\n",
       "    </tr>\n",
       "  </thead>\n",
       "  <tbody>\n",
       "    <tr>\n",
       "      <th rowspan=\"10\" valign=\"top\">2022.0</th>\n",
       "      <th>Red Bull</th>\n",
       "      <td>433.0</td>\n",
       "    </tr>\n",
       "    <tr>\n",
       "      <th>Ferrari</th>\n",
       "      <td>291.0</td>\n",
       "    </tr>\n",
       "    <tr>\n",
       "      <th>Mercedes</th>\n",
       "      <td>262.0</td>\n",
       "    </tr>\n",
       "    <tr>\n",
       "      <th>McLaren</th>\n",
       "      <td>116.0</td>\n",
       "    </tr>\n",
       "    <tr>\n",
       "      <th>Alpine F1 Team</th>\n",
       "      <td>89.0</td>\n",
       "    </tr>\n",
       "    <tr>\n",
       "      <th>Alfa Romeo</th>\n",
       "      <td>47.0</td>\n",
       "    </tr>\n",
       "    <tr>\n",
       "      <th>Aston Martin</th>\n",
       "      <td>37.0</td>\n",
       "    </tr>\n",
       "    <tr>\n",
       "      <th>AlphaTauri</th>\n",
       "      <td>23.0</td>\n",
       "    </tr>\n",
       "    <tr>\n",
       "      <th>Haas F1 Team</th>\n",
       "      <td>21.0</td>\n",
       "    </tr>\n",
       "    <tr>\n",
       "      <th>Williams</th>\n",
       "      <td>4.0</td>\n",
       "    </tr>\n",
       "    <tr>\n",
       "      <th rowspan=\"10\" valign=\"top\">2023.0</th>\n",
       "      <th>Red Bull</th>\n",
       "      <td>479.0</td>\n",
       "    </tr>\n",
       "    <tr>\n",
       "      <th>Mercedes</th>\n",
       "      <td>209.0</td>\n",
       "    </tr>\n",
       "    <tr>\n",
       "      <th>Aston Martin</th>\n",
       "      <td>190.0</td>\n",
       "    </tr>\n",
       "    <tr>\n",
       "      <th>McLaren</th>\n",
       "      <td>174.0</td>\n",
       "    </tr>\n",
       "    <tr>\n",
       "      <th>Ferrari</th>\n",
       "      <td>170.0</td>\n",
       "    </tr>\n",
       "    <tr>\n",
       "      <th>Alpine F1 Team</th>\n",
       "      <td>54.0</td>\n",
       "    </tr>\n",
       "    <tr>\n",
       "      <th>Williams</th>\n",
       "      <td>25.0</td>\n",
       "    </tr>\n",
       "    <tr>\n",
       "      <th>Alfa Romeo</th>\n",
       "      <td>10.0</td>\n",
       "    </tr>\n",
       "    <tr>\n",
       "      <th>AlphaTauri</th>\n",
       "      <td>10.0</td>\n",
       "    </tr>\n",
       "    <tr>\n",
       "      <th>Haas F1 Team</th>\n",
       "      <td>6.0</td>\n",
       "    </tr>\n",
       "  </tbody>\n",
       "</table>\n",
       "</div>"
      ],
      "text/plain": [
       "                       points\n",
       "year   constructor           \n",
       "2022.0 Red Bull         433.0\n",
       "       Ferrari          291.0\n",
       "       Mercedes         262.0\n",
       "       McLaren          116.0\n",
       "       Alpine F1 Team    89.0\n",
       "       Alfa Romeo        47.0\n",
       "       Aston Martin      37.0\n",
       "       AlphaTauri        23.0\n",
       "       Haas F1 Team      21.0\n",
       "       Williams           4.0\n",
       "2023.0 Red Bull         479.0\n",
       "       Mercedes         209.0\n",
       "       Aston Martin     190.0\n",
       "       McLaren          174.0\n",
       "       Ferrari          170.0\n",
       "       Alpine F1 Team    54.0\n",
       "       Williams          25.0\n",
       "       Alfa Romeo        10.0\n",
       "       AlphaTauri        10.0\n",
       "       Haas F1 Team       6.0"
      ]
     },
     "execution_count": 387,
     "metadata": {},
     "output_type": "execute_result"
    }
   ],
   "source": [
    "pd.DataFrame((pd.DataFrame(results.groupby(['year','constructor','name'])['points'].sum())).sort_values(by=['year','points'], ascending=[True, False]).groupby(['year','constructor'])['points'].max()).sort_values(by=['year','points'], ascending=[True,False]).tail(20)"
   ]
  },
  {
   "cell_type": "code",
   "execution_count": 388,
   "id": "2ba1e303",
   "metadata": {},
   "outputs": [],
   "source": [
    "constructorChamps = pd.DataFrame((pd.DataFrame(results.groupby(['year','constructor','name'])['points'].sum())).sort_values(by=['year','points'], ascending=[True, False]).groupby(['year','constructor'])['points'].max()).reset_index()"
   ]
  },
  {
   "cell_type": "code",
   "execution_count": 389,
   "id": "47e32b4c",
   "metadata": {},
   "outputs": [
    {
     "data": {
      "text/plain": [
       "year\n",
       "1950.0     30.00\n",
       "1951.0     37.00\n",
       "1952.0     53.50\n",
       "1953.0     46.50\n",
       "1954.0     40.14\n",
       "           ...  \n",
       "2019.0    413.00\n",
       "2020.0    347.00\n",
       "2021.0    388.50\n",
       "2022.0    433.00\n",
       "2023.0    479.00\n",
       "Name: points, Length: 74, dtype: float64"
      ]
     },
     "execution_count": 389,
     "metadata": {},
     "output_type": "execute_result"
    }
   ],
   "source": [
    "constructorChamps.groupby('year')['points'].apply(lambda x: x.nlargest(3).iloc[0])"
   ]
  },
  {
   "cell_type": "code",
   "execution_count": 390,
   "id": "b0ffbc51",
   "metadata": {},
   "outputs": [
    {
     "data": {
      "text/plain": [
       "year\n",
       "1950.0     13.00\n",
       "1951.0     28.00\n",
       "1952.0     10.00\n",
       "1953.0     29.50\n",
       "1954.0     26.64\n",
       "           ...  \n",
       "2019.0    278.00\n",
       "2020.0    214.00\n",
       "2021.0    385.50\n",
       "2022.0    291.00\n",
       "2023.0    209.00\n",
       "Name: points, Length: 74, dtype: float64"
      ]
     },
     "execution_count": 390,
     "metadata": {},
     "output_type": "execute_result"
    }
   ],
   "source": [
    "constructorChamps.groupby('year')['points'].apply(lambda x: x.nlargest(3).iloc[1])"
   ]
  },
  {
   "cell_type": "code",
   "execution_count": 391,
   "id": "4d3e7fd3",
   "metadata": {},
   "outputs": [
    {
     "data": {
      "text/plain": [
       "<Axes: xlabel='year'>"
      ]
     },
     "execution_count": 391,
     "metadata": {},
     "output_type": "execute_result"
    },
    {
     "data": {
      "image/png": "[encoded data removed]",
      "text/plain": [
       "<Figure size 1800x360 with 1 Axes>"
      ]
     },
     "metadata": {
      "needs_background": "light"
     },
     "output_type": "display_data"
    }
   ],
   "source": [
    "(constructorChamps.groupby('year')['points'].apply(lambda x: x.nlargest(3).iloc[1]) / constructorChamps.groupby('year')['points'].apply(lambda x: x.nlargest(3).iloc[0])).plot.bar(figsize=(25,5))"
   ]
  },
  {
   "cell_type": "code",
   "execution_count": 392,
   "id": "234e9499",
   "metadata": {},
   "outputs": [],
   "source": [
    "newey = [1992, 1993, 1994, 1995, 1996, 1997, 1998, 1999, 2010, 2011, 2012, 2013, 2021, 2022, 2023]"
   ]
  },
  {
   "cell_type": "code",
   "execution_count": 393,
   "id": "aa25aef4",
   "metadata": {},
   "outputs": [],
   "source": [
    "constructorChamps2 = constructorChamps.groupby('year')['points'].apply(lambda x: x.nlargest(3).iloc[1]) / constructorChamps.groupby('year')['points'].apply(lambda x: x.nlargest(3).iloc[0])"
   ]
  },
  {
   "cell_type": "code",
   "execution_count": 394,
   "id": "1d57c641",
   "metadata": {},
   "outputs": [
    {
     "data": {
      "text/plain": [
       "0.778087689157481"
      ]
     },
     "execution_count": 394,
     "metadata": {},
     "output_type": "execute_result"
    }
   ],
   "source": [
    "constructorChamps2[constructorChamps2.index.isin(newey)].mean()"
   ]
  },
  {
   "cell_type": "code",
   "execution_count": 395,
   "id": "7a07ca3c",
   "metadata": {},
   "outputs": [
    {
     "data": {
      "text/plain": [
       "0.7255771931253822"
      ]
     },
     "execution_count": 395,
     "metadata": {},
     "output_type": "execute_result"
    }
   ],
   "source": [
    "(constructorChamps.groupby('year')['points'].apply(lambda x: x.nlargest(3).iloc[1]) / constructorChamps.groupby('year')['points'].apply(lambda x: x.nlargest(3).iloc[0])).mean()"
   ]
  },
  {
   "cell_type": "code",
   "execution_count": 396,
   "id": "ce2cf021",
   "metadata": {},
   "outputs": [
    {
     "data": {
      "text/plain": [
       "year\n",
       "1952.0    0.186916\n",
       "1955.0    0.276341\n",
       "2002.0    0.347222\n",
       "1988.0    0.390476\n",
       "1950.0    0.433333\n",
       "2023.0    0.436326\n",
       "1960.0    0.441860\n",
       "1963.0    0.465753\n",
       "1984.0    0.472222\n",
       "1992.0    0.490741\n",
       "1989.0    0.493827\n",
       "1957.0    0.521739\n",
       "2001.0    0.528455\n",
       "1971.0    0.532258\n",
       "1966.0    0.533333\n",
       "1961.0    0.552632\n",
       "2004.0    0.574324\n",
       "1969.0    0.587302\n",
       "1996.0    0.608247\n",
       "2013.0    0.609572\n",
       "Name: points, dtype: float64"
      ]
     },
     "execution_count": 396,
     "metadata": {},
     "output_type": "execute_result"
    }
   ],
   "source": [
    "(constructorChamps.groupby('year')['points'].apply(lambda x: x.nlargest(3).iloc[1]) / constructorChamps.groupby('year')['points'].apply(lambda x: x.nlargest(3).iloc[0])).nsmallest(20)"
   ]
  },
  {
   "cell_type": "code",
   "execution_count": 397,
   "id": "11ab267e",
   "metadata": {},
   "outputs": [
    {
     "data": {
      "text/plain": [
       "year\n",
       "2021.0    0.992278\n",
       "2007.0    0.990909\n",
       "2008.0    0.989796\n",
       "2012.0    0.989324\n",
       "1994.0    0.989130\n",
       "1976.0    0.985507\n",
       "2010.0    0.984375\n",
       "1981.0    0.980000\n",
       "2003.0    0.978495\n",
       "1964.0    0.975610\n",
       "Name: points, dtype: float64"
      ]
     },
     "execution_count": 397,
     "metadata": {},
     "output_type": "execute_result"
    }
   ],
   "source": [
    "(constructorChamps.groupby('year')['points'].apply(lambda x: x.nlargest(3).iloc[1]) / constructorChamps.groupby('year')['points'].apply(lambda x: x.nlargest(3).iloc[0])).nlargest(10)"
   ]
  },
  {
   "cell_type": "markdown",
   "id": "3f80d05a",
   "metadata": {},
   "source": [
    "## Teams on podiums"
   ]
  },
  {
   "cell_type": "code",
   "execution_count": 398,
   "id": "d0d656f1",
   "metadata": {},
   "outputs": [
    {
     "data": {
      "text/plain": [
       "<Axes: xlabel='year'>"
      ]
     },
     "execution_count": 398,
     "metadata": {},
     "output_type": "execute_result"
    },
    {
     "data": {
      "image/png": "[encoded data removed]",
      "text/plain": [
       "<Figure size 1800x360 with 1 Axes>"
      ]
     },
     "metadata": {
      "needs_background": "light"
     },
     "output_type": "display_data"
    }
   ],
   "source": [
    "results[results['position'] == 1].groupby('year')['constructor'].nunique().plot.bar(figsize=(25,5))"
   ]
  },
  {
   "cell_type": "code",
   "execution_count": 399,
   "id": "d104c8c3",
   "metadata": {},
   "outputs": [
    {
     "data": {
      "text/plain": [
       "<Axes: xlabel='year'>"
      ]
     },
     "execution_count": 399,
     "metadata": {},
     "output_type": "execute_result"
    },
    {
     "data": {
      "image/png": "[encoded data removed]",
      "text/plain": [
       "<Figure size 1800x360 with 1 Axes>"
      ]
     },
     "metadata": {
      "needs_background": "light"
     },
     "output_type": "display_data"
    }
   ],
   "source": [
    "results[results['position'] <= 3].groupby('year')['constructor'].nunique().plot.bar(figsize=(25,5))"
   ]
  },
  {
   "cell_type": "code",
   "execution_count": 400,
   "id": "2e33a5a7",
   "metadata": {},
   "outputs": [
    {
     "data": {
      "text/plain": [
       "<Axes: xlabel='year'>"
      ]
     },
     "execution_count": 400,
     "metadata": {},
     "output_type": "execute_result"
    },
    {
     "data": {
      "image/png": "[encoded data removed]",
      "text/plain": [
       "<Figure size 1800x360 with 1 Axes>"
      ]
     },
     "metadata": {
      "needs_background": "light"
     },
     "output_type": "display_data"
    }
   ],
   "source": [
    "results[results['position'] <= 6].groupby('year')['constructor'].nunique().plot.bar(figsize=(25,5))"
   ]
  },
  {
   "cell_type": "code",
   "execution_count": 401,
   "id": "b79fbdc3",
   "metadata": {},
   "outputs": [
    {
     "data": {
      "text/plain": [
       "'68 seasons larger than 2023, 2 seasons smaller than 2023, 3 seasons equal to 2023'"
      ]
     },
     "execution_count": 401,
     "metadata": {},
     "output_type": "execute_result"
    }
   ],
   "source": [
    "rank23(results[results['position'] <= 6].groupby('year')['constructor'].nunique())"
   ]
  },
  {
   "cell_type": "code",
   "execution_count": 402,
   "id": "78069b45",
   "metadata": {},
   "outputs": [
    {
     "data": {
      "text/plain": [
       "year\n",
       "1953.0    5\n",
       "1961.0    5\n",
       "1954.0    6\n",
       "1955.0    6\n",
       "1969.0    6\n",
       "2023.0    6\n",
       "2011.0    7\n",
       "2014.0    7\n",
       "2020.0    7\n",
       "1957.0    8\n",
       "Name: constructor, dtype: int64"
      ]
     },
     "execution_count": 402,
     "metadata": {},
     "output_type": "execute_result"
    }
   ],
   "source": [
    "results[results['position'] <= 6].groupby('year')['constructor'].nunique().nsmallest(10)"
   ]
  },
  {
   "cell_type": "code",
   "execution_count": 475,
   "id": "e6db0ba0",
   "metadata": {},
   "outputs": [
    {
     "data": {
      "text/plain": [
       "<Axes: xlabel='year'>"
      ]
     },
     "execution_count": 475,
     "metadata": {},
     "output_type": "execute_result"
    },
    {
     "data": {
      "image/png": "[encoded data removed]",
      "text/plain": [
       "<Figure size 1800x360 with 1 Axes>"
      ]
     },
     "metadata": {
      "needs_background": "light"
     },
     "output_type": "display_data"
    }
   ],
   "source": [
    "results[results['position'] <= 10].groupby('year')['constructor'].nunique().plot.bar(figsize=(25,5))"
   ]
  }
 ],
 "metadata": {
  "kernelspec": {
   "display_name": "Python 3 (ipykernel)",
   "language": "python",
   "name": "python3"
  },
  "language_info": {
   "codemirror_mode": {
    "name": "ipython",
    "version": 3
   },
   "file_extension": ".py",
   "mimetype": "text/x-python",
   "name": "python",
   "nbconvert_exporter": "python",
   "pygments_lexer": "ipython3",
   "version": "3.10.8"
  }
 },
 "nbformat": 4,
 "nbformat_minor": 5
}
