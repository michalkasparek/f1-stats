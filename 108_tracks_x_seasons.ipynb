{
 "cells": [
  {
   "cell_type": "code",
   "execution_count": 1,
   "id": "7e4d7dc7-71fc-4b04-9d75-4e92166b725a",
   "metadata": {},
   "outputs": [],
   "source": [
    "import os\n",
    "import pandas as pd"
   ]
  },
  {
   "cell_type": "code",
   "execution_count": 3,
   "id": "14075064-cd8f-4caf-9b90-94d9c940f378",
   "metadata": {},
   "outputs": [],
   "source": [
    "results = pd.read_json(os.path.join('data','ergast-results.json'))"
   ]
  },
  {
   "cell_type": "code",
   "execution_count": null,
   "id": "302ce69b-ebdf-4628-ae70-a867e78d59e9",
   "metadata": {},
   "outputs": [],
   "source": [
    "results.columns"
   ]
  },
  {
   "cell_type": "code",
   "execution_count": 10,
   "id": "a98a889b-44af-4b8f-9250-249b2ee8dc07",
   "metadata": {},
   "outputs": [
    {
     "data": {
      "text/plain": [
       "location\n",
       "Monza             74\n",
       "Monte-Carlo       70\n",
       "Silverstone       58\n",
       "Spa               57\n",
       "Montreal          43\n",
       "Nürburg           41\n",
       "São Paulo         41\n",
       "Budapest          39\n",
       "Hockenheim        37\n",
       "Spielberg         36\n",
       "Montmeló          34\n",
       "Suzuka            34\n",
       "Zandvoort         34\n",
       "Imola             31\n",
       "Melbourne         27\n",
       "Mexico City       24\n",
       "Buenos Aires      20\n",
       "Midrand           20\n",
       "New York State    20\n",
       "Sakhir            20\n",
       "Indianapolis      19\n",
       "Kuala Lumpur      19\n",
       "Le Castellet      18\n",
       "Magny Cours       18\n",
       "Shanghai          17\n",
       "Name: year, dtype: int64"
      ]
     },
     "execution_count": 10,
     "metadata": {},
     "output_type": "execute_result"
    }
   ],
   "source": [
    "results.groupby('location')['year'].nunique().nlargest(25)"
   ]
  }
 ],
 "metadata": {
  "kernelspec": {
   "display_name": "Python 3 (ipykernel)",
   "language": "python",
   "name": "python3"
  },
  "language_info": {
   "codemirror_mode": {
    "name": "ipython",
    "version": 3
   },
   "file_extension": ".py",
   "mimetype": "text/x-python",
   "name": "python",
   "nbconvert_exporter": "python",
   "pygments_lexer": "ipython3",
   "version": "3.12.3"
  }
 },
 "nbformat": 4,
 "nbformat_minor": 5
}
