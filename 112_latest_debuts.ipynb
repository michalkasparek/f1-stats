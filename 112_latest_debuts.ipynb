{
 "cells": [
  {
   "cell_type": "code",
   "execution_count": 1,
   "id": "d3b5f8f2-0aa4-4cf6-95bb-a91fb93877f0",
   "metadata": {},
   "outputs": [],
   "source": [
    "import pandas as pd"
   ]
  },
  {
   "cell_type": "code",
   "execution_count": 3,
   "id": "98016693-40a7-4f3a-9cde-f1f2dd65a5ab",
   "metadata": {},
   "outputs": [],
   "source": [
    "df = pd.read_json(\"data/ergast-results.json\")\n",
    "df['dob'] = pd.to_datetime(df['dob'])\n",
    "df['age'] = df['date'] - df['dob']"
   ]
  },
  {
   "cell_type": "code",
   "execution_count": 5,
   "id": "b6cf6d61-0750-419c-a851-86b129d162bf",
   "metadata": {},
   "outputs": [],
   "source": [
    "df = df.sort_values(by=\"date\")"
   ]
  },
  {
   "cell_type": "code",
   "execution_count": 7,
   "id": "58a7030b-87e6-47ae-939c-9a212a424db4",
   "metadata": {},
   "outputs": [],
   "source": [
    "df = df.drop_duplicates(subset=[\"driverId\"])"
   ]
  },
  {
   "cell_type": "code",
   "execution_count": 13,
   "id": "c46f5c5e-f638-4a31-a794-5713321e1a7d",
   "metadata": {},
   "outputs": [],
   "source": [
    "df['age_years'] = df['age'].dt.days / 365.25"
   ]
  },
  {
   "cell_type": "code",
   "execution_count": 57,
   "id": "d7995aae-aa16-4fa5-9d2c-0418368877f5",
   "metadata": {},
   "outputs": [
    {
     "data": {
      "text/plain": [
       "<Axes: ylabel='Frequency'>"
      ]
     },
     "execution_count": 57,
     "metadata": {},
     "output_type": "execute_result"
    },
    {
     "data": {
      "image/png": "[encoded data removed]",
      "text/plain": [
       "<Figure size 640x480 with 1 Axes>"
      ]
     },
     "metadata": {},
     "output_type": "display_data"
    }
   ],
   "source": [
    "df[(df['date'] > '1995-01-01')]['age_years'].plot.hist(bins=12)"
   ]
  },
  {
   "cell_type": "code",
   "execution_count": 59,
   "id": "ed99db73-b545-45a8-a0ba-1b4b2dc31e1d",
   "metadata": {},
   "outputs": [
    {
     "data": {
      "text/html": [
       "<div>\n",
       "<style scoped>\n",
       "    .dataframe tbody tr th:only-of-type {\n",
       "        vertical-align: middle;\n",
       "    }\n",
       "\n",
       "    .dataframe tbody tr th {\n",
       "        vertical-align: top;\n",
       "    }\n",
       "\n",
       "    .dataframe thead th {\n",
       "        text-align: right;\n",
       "    }\n",
       "</style>\n",
       "<table border=\"1\" class=\"dataframe\">\n",
       "  <thead>\n",
       "    <tr style=\"text-align: right;\">\n",
       "      <th></th>\n",
       "      <th>age_years</th>\n",
       "      <th>year</th>\n",
       "      <th>location</th>\n",
       "      <th>position</th>\n",
       "      <th>status</th>\n",
       "    </tr>\n",
       "    <tr>\n",
       "      <th>name</th>\n",
       "      <th></th>\n",
       "      <th></th>\n",
       "      <th></th>\n",
       "      <th></th>\n",
       "      <th></th>\n",
       "    </tr>\n",
       "  </thead>\n",
       "  <tbody>\n",
       "    <tr>\n",
       "      <th>Toshio Suzuki</th>\n",
       "      <td>38.625599</td>\n",
       "      <td>1993.0</td>\n",
       "      <td>Suzuka</td>\n",
       "      <td>12.0</td>\n",
       "      <td>+2 Laps</td>\n",
       "    </tr>\n",
       "    <tr>\n",
       "      <th>Giovanni Lavaggi</th>\n",
       "      <td>37.442847</td>\n",
       "      <td>1995.0</td>\n",
       "      <td>Hockenheim</td>\n",
       "      <td>NaN</td>\n",
       "      <td>Gearbox</td>\n",
       "    </tr>\n",
       "    <tr>\n",
       "      <th>Roland Ratzenberger</th>\n",
       "      <td>33.727584</td>\n",
       "      <td>1994.0</td>\n",
       "      <td>São Paulo</td>\n",
       "      <td>NaN</td>\n",
       "      <td>Did not qualify</td>\n",
       "    </tr>\n",
       "    <tr>\n",
       "      <th>André Lotterer</th>\n",
       "      <td>32.761123</td>\n",
       "      <td>2014.0</td>\n",
       "      <td>Spa</td>\n",
       "      <td>NaN</td>\n",
       "      <td>Power Unit</td>\n",
       "    </tr>\n",
       "    <tr>\n",
       "      <th>Giovanna Amati</th>\n",
       "      <td>32.616016</td>\n",
       "      <td>1992.0</td>\n",
       "      <td>Midrand</td>\n",
       "      <td>NaN</td>\n",
       "      <td>Did not qualify</td>\n",
       "    </tr>\n",
       "    <tr>\n",
       "      <th>Allan McNish</th>\n",
       "      <td>32.175222</td>\n",
       "      <td>2002.0</td>\n",
       "      <td>Melbourne</td>\n",
       "      <td>NaN</td>\n",
       "      <td>Collision</td>\n",
       "    </tr>\n",
       "  </tbody>\n",
       "</table>\n",
       "</div>"
      ],
      "text/plain": [
       "                     age_years    year    location  position           status\n",
       "name                                                                         \n",
       "Toshio Suzuki        38.625599  1993.0      Suzuka      12.0          +2 Laps\n",
       "Giovanni Lavaggi     37.442847  1995.0  Hockenheim       NaN          Gearbox\n",
       "Roland Ratzenberger  33.727584  1994.0   São Paulo       NaN  Did not qualify\n",
       "André Lotterer       32.761123  2014.0         Spa       NaN       Power Unit\n",
       "Giovanna Amati       32.616016  1992.0     Midrand       NaN  Did not qualify\n",
       "Allan McNish         32.175222  2002.0   Melbourne       NaN        Collision"
      ]
     },
     "execution_count": 59,
     "metadata": {},
     "output_type": "execute_result"
    }
   ],
   "source": [
    "df[(df['date'] > '1990-01-01') & (df['age_years'] >= 32)][['name','age_years','year','location','position','status']].sort_values(by='age_years', ascending=False).set_index(\"name\")"
   ]
  },
  {
   "cell_type": "code",
   "execution_count": 37,
   "id": "427af958-a27b-43f0-9dc2-0cbedc20b451",
   "metadata": {},
   "outputs": [
    {
     "data": {
      "text/html": [
       "<div>\n",
       "<style scoped>\n",
       "    .dataframe tbody tr th:only-of-type {\n",
       "        vertical-align: middle;\n",
       "    }\n",
       "\n",
       "    .dataframe tbody tr th {\n",
       "        vertical-align: top;\n",
       "    }\n",
       "\n",
       "    .dataframe thead th {\n",
       "        text-align: right;\n",
       "    }\n",
       "</style>\n",
       "<table border=\"1\" class=\"dataframe\">\n",
       "  <thead>\n",
       "    <tr style=\"text-align: right;\">\n",
       "      <th></th>\n",
       "      <th>age_years</th>\n",
       "      <th>year</th>\n",
       "      <th>location</th>\n",
       "      <th>position</th>\n",
       "      <th>status</th>\n",
       "    </tr>\n",
       "    <tr>\n",
       "      <th>name</th>\n",
       "      <th></th>\n",
       "      <th></th>\n",
       "      <th></th>\n",
       "      <th></th>\n",
       "      <th></th>\n",
       "    </tr>\n",
       "  </thead>\n",
       "  <tbody>\n",
       "    <tr>\n",
       "      <th>Sebastian Vettel</th>\n",
       "      <td>19.956194</td>\n",
       "      <td>2007.0</td>\n",
       "      <td>Indianapolis</td>\n",
       "      <td>8.0</td>\n",
       "      <td>Finished</td>\n",
       "    </tr>\n",
       "    <tr>\n",
       "      <th>Esteban Ocon</th>\n",
       "      <td>19.945243</td>\n",
       "      <td>2016.0</td>\n",
       "      <td>Spa</td>\n",
       "      <td>16.0</td>\n",
       "      <td>+1 Lap</td>\n",
       "    </tr>\n",
       "    <tr>\n",
       "      <th>Daniil Kvyat</th>\n",
       "      <td>19.887748</td>\n",
       "      <td>2014.0</td>\n",
       "      <td>Melbourne</td>\n",
       "      <td>9.0</td>\n",
       "      <td>Finished</td>\n",
       "    </tr>\n",
       "    <tr>\n",
       "      <th>Esteban Tuero</th>\n",
       "      <td>19.876797</td>\n",
       "      <td>1998.0</td>\n",
       "      <td>Melbourne</td>\n",
       "      <td>NaN</td>\n",
       "      <td>Engine</td>\n",
       "    </tr>\n",
       "    <tr>\n",
       "      <th>Fernando Alonso</th>\n",
       "      <td>19.597536</td>\n",
       "      <td>2001.0</td>\n",
       "      <td>Melbourne</td>\n",
       "      <td>12.0</td>\n",
       "      <td>+2 Laps</td>\n",
       "    </tr>\n",
       "    <tr>\n",
       "      <th>Mike Thackwell</th>\n",
       "      <td>19.422313</td>\n",
       "      <td>1980.0</td>\n",
       "      <td>Zandvoort</td>\n",
       "      <td>NaN</td>\n",
       "      <td>Did not qualify</td>\n",
       "    </tr>\n",
       "    <tr>\n",
       "      <th>Jaime Alguersuari</th>\n",
       "      <td>19.342916</td>\n",
       "      <td>2009.0</td>\n",
       "      <td>Budapest</td>\n",
       "      <td>15.0</td>\n",
       "      <td>+1 Lap</td>\n",
       "    </tr>\n",
       "    <tr>\n",
       "      <th>Lando Norris</th>\n",
       "      <td>19.340178</td>\n",
       "      <td>2019.0</td>\n",
       "      <td>Melbourne</td>\n",
       "      <td>12.0</td>\n",
       "      <td>+1 Lap</td>\n",
       "    </tr>\n",
       "    <tr>\n",
       "      <th>Oliver Bearman</th>\n",
       "      <td>18.836413</td>\n",
       "      <td>2024.0</td>\n",
       "      <td>Jeddah</td>\n",
       "      <td>7.0</td>\n",
       "      <td>Finished</td>\n",
       "    </tr>\n",
       "    <tr>\n",
       "      <th>Lance Stroll</th>\n",
       "      <td>18.406571</td>\n",
       "      <td>2017.0</td>\n",
       "      <td>Melbourne</td>\n",
       "      <td>NaN</td>\n",
       "      <td>Brakes</td>\n",
       "    </tr>\n",
       "    <tr>\n",
       "      <th>Max Verstappen</th>\n",
       "      <td>17.453799</td>\n",
       "      <td>2015.0</td>\n",
       "      <td>Melbourne</td>\n",
       "      <td>NaN</td>\n",
       "      <td>Engine</td>\n",
       "    </tr>\n",
       "  </tbody>\n",
       "</table>\n",
       "</div>"
      ],
      "text/plain": [
       "                   age_years    year      location  position           status\n",
       "name                                                                         \n",
       "Sebastian Vettel   19.956194  2007.0  Indianapolis       8.0         Finished\n",
       "Esteban Ocon       19.945243  2016.0           Spa      16.0           +1 Lap\n",
       "Daniil Kvyat       19.887748  2014.0     Melbourne       9.0         Finished\n",
       "Esteban Tuero      19.876797  1998.0     Melbourne       NaN           Engine\n",
       "Fernando Alonso    19.597536  2001.0     Melbourne      12.0          +2 Laps\n",
       "Mike Thackwell     19.422313  1980.0     Zandvoort       NaN  Did not qualify\n",
       "Jaime Alguersuari  19.342916  2009.0      Budapest      15.0           +1 Lap\n",
       "Lando Norris       19.340178  2019.0     Melbourne      12.0           +1 Lap\n",
       "Oliver Bearman     18.836413  2024.0        Jeddah       7.0         Finished\n",
       "Lance Stroll       18.406571  2017.0     Melbourne       NaN           Brakes\n",
       "Max Verstappen     17.453799  2015.0     Melbourne       NaN           Engine"
      ]
     },
     "execution_count": 37,
     "metadata": {},
     "output_type": "execute_result"
    }
   ],
   "source": [
    "df[(df['date'] > '1980-01-01') & (df['age_years'] <= 20)][['name','age_years','year','location','position','status']].sort_values(by='age_years', ascending=False).set_index(\"name\")"
   ]
  }
 ],
 "metadata": {
  "kernelspec": {
   "display_name": "Python 3 (ipykernel)",
   "language": "python",
   "name": "python3"
  },
  "language_info": {
   "codemirror_mode": {
    "name": "ipython",
    "version": 3
   },
   "file_extension": ".py",
   "mimetype": "text/x-python",
   "name": "python",
   "nbconvert_exporter": "python",
   "pygments_lexer": "ipython3",
   "version": "3.12.3"
  }
 },
 "nbformat": 4,
 "nbformat_minor": 5
}
